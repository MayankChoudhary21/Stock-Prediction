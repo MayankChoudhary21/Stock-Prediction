{
 "cells": [
  {
   "cell_type": "code",
   "execution_count": null,
   "metadata": {},
   "outputs": [],
   "source": [
    "import pandas as pd\n",
    "url = 'https://en.wikipedia.org/wiki/List_of_S%26P_500_companies'\n",
    "table = pd.read_html(url)\n",
    "sp500_df = table[0]\n",
    "sp500_tickers = sp500_df['Symbol'].tolist()\n"
   ]
  },
  {
   "cell_type": "code",
   "execution_count": null,
   "metadata": {},
   "outputs": [
    {
     "name": "stderr",
     "output_type": "stream",
     "text": [
      "[*********************100%***********************]  1 of 1 completed"
     ]
    },
    {
     "name": "stdout",
     "output_type": "stream",
     "text": [
      "\n",
      "📈 Downloading data for MMM...\n",
      "Training shape for MMM - X_train: (2571, 100, 1), X_test: (1102, 100, 1)\n"
     ]
    },
    {
     "name": "stderr",
     "output_type": "stream",
     "text": [
      "\n"
     ]
    },
    {
     "name": "stdout",
     "output_type": "stream",
     "text": [
      "Epoch 1/10\n",
      "81/81 [==============================] - 7s 64ms/step - loss: 0.0144 - val_loss: 4.8695e-04\n",
      "Epoch 2/10\n",
      "81/81 [==============================] - 6s 69ms/step - loss: 0.0028 - val_loss: 5.1909e-04\n",
      "Epoch 3/10\n",
      "81/81 [==============================] - 7s 90ms/step - loss: 0.0023 - val_loss: 4.4144e-04\n",
      "Epoch 4/10\n",
      "81/81 [==============================] - 8s 104ms/step - loss: 0.0022 - val_loss: 3.6399e-04\n",
      "Epoch 5/10\n",
      "81/81 [==============================] - 6s 76ms/step - loss: 0.0019 - val_loss: 3.5791e-04\n",
      "Epoch 6/10\n",
      "81/81 [==============================] - 5s 67ms/step - loss: 0.0018 - val_loss: 6.7120e-04\n",
      "Epoch 7/10\n",
      "81/81 [==============================] - 5s 64ms/step - loss: 0.0017 - val_loss: 4.7773e-04\n",
      "Epoch 8/10\n",
      "81/81 [==============================] - 5s 64ms/step - loss: 0.0017 - val_loss: 4.4571e-04\n",
      "Epoch 9/10\n",
      "81/81 [==============================] - 5s 64ms/step - loss: 0.0015 - val_loss: 3.4570e-04\n",
      "Epoch 10/10\n",
      "81/81 [==============================] - 5s 64ms/step - loss: 0.0015 - val_loss: 3.9618e-04\n",
      "✅ Saved model to MMM_gru_model.h5\n",
      "\n",
      "📈 Downloading data for AOS...\n"
     ]
    },
    {
     "name": "stderr",
     "output_type": "stream",
     "text": [
      "[*********************100%***********************]  1 of 1 completed\n"
     ]
    },
    {
     "name": "stdout",
     "output_type": "stream",
     "text": [
      "Training shape for AOS - X_train: (2571, 100, 1), X_test: (1102, 100, 1)\n",
      "Epoch 1/10\n",
      "81/81 [==============================] - 14s 132ms/step - loss: 0.0061 - val_loss: 7.2041e-04\n",
      "Epoch 2/10\n",
      "81/81 [==============================] - 7s 87ms/step - loss: 0.0012 - val_loss: 6.4049e-04\n",
      "Epoch 3/10\n",
      "81/81 [==============================] - 8s 95ms/step - loss: 0.0011 - val_loss: 5.8686e-04\n",
      "Epoch 4/10\n",
      "81/81 [==============================] - 10s 122ms/step - loss: 9.6978e-04 - val_loss: 6.2629e-04\n",
      "Epoch 5/10\n",
      "81/81 [==============================] - 9s 116ms/step - loss: 9.6381e-04 - val_loss: 6.5581e-04\n",
      "Epoch 6/10\n",
      "81/81 [==============================] - 8s 97ms/step - loss: 8.5112e-04 - val_loss: 6.3406e-04\n",
      "Epoch 7/10\n",
      "81/81 [==============================] - 8s 94ms/step - loss: 7.9344e-04 - val_loss: 5.7636e-04\n",
      "Epoch 8/10\n",
      "81/81 [==============================] - 6s 76ms/step - loss: 7.6191e-04 - val_loss: 7.7957e-04\n",
      "Epoch 9/10\n",
      "81/81 [==============================] - 6s 71ms/step - loss: 7.4641e-04 - val_loss: 8.1232e-04\n",
      "Epoch 10/10\n",
      "81/81 [==============================] - 5s 67ms/step - loss: 6.7245e-04 - val_loss: 5.7053e-04\n",
      "✅ Saved model to AOS_gru_model.h5\n",
      "\n",
      "📈 Downloading data for ABT...\n"
     ]
    },
    {
     "name": "stderr",
     "output_type": "stream",
     "text": [
      "[*********************100%***********************]  1 of 1 completed\n"
     ]
    },
    {
     "name": "stdout",
     "output_type": "stream",
     "text": [
      "Training shape for ABT - X_train: (2571, 100, 1), X_test: (1102, 100, 1)\n",
      "Epoch 1/10\n",
      "81/81 [==============================] - 8s 71ms/step - loss: 0.0055 - val_loss: 4.6753e-04\n",
      "Epoch 2/10\n",
      "81/81 [==============================] - 5s 67ms/step - loss: 9.6871e-04 - val_loss: 5.6766e-04\n",
      "Epoch 3/10\n",
      "81/81 [==============================] - 7s 91ms/step - loss: 7.7225e-04 - val_loss: 5.7548e-04\n",
      "Epoch 4/10\n",
      "81/81 [==============================] - 11s 131ms/step - loss: 6.3678e-04 - val_loss: 5.3805e-04\n",
      "Epoch 5/10\n",
      "81/81 [==============================] - 7s 86ms/step - loss: 6.1145e-04 - val_loss: 4.8217e-04\n",
      "Epoch 6/10\n",
      "81/81 [==============================] - 7s 86ms/step - loss: 5.9409e-04 - val_loss: 4.3580e-04\n",
      "Epoch 7/10\n",
      "81/81 [==============================] - 8s 95ms/step - loss: 5.2112e-04 - val_loss: 7.9150e-04\n",
      "Epoch 8/10\n",
      "81/81 [==============================] - 6s 76ms/step - loss: 5.2844e-04 - val_loss: 5.4232e-04\n",
      "Epoch 9/10\n",
      "81/81 [==============================] - 8s 99ms/step - loss: 4.6854e-04 - val_loss: 4.3146e-04\n",
      "Epoch 10/10\n",
      "81/81 [==============================] - 7s 92ms/step - loss: 4.7796e-04 - val_loss: 5.2059e-04\n",
      "✅ Saved model to ABT_gru_model.h5\n",
      "\n",
      "📈 Downloading data for ABBV...\n"
     ]
    },
    {
     "name": "stderr",
     "output_type": "stream",
     "text": [
      "[*********************100%***********************]  1 of 1 completed\n"
     ]
    },
    {
     "name": "stdout",
     "output_type": "stream",
     "text": [
      "Training shape for ABBV - X_train: (2043, 100, 1), X_test: (876, 100, 1)\n",
      "Epoch 1/10\n",
      "64/64 [==============================] - 8s 80ms/step - loss: 0.0067 - val_loss: 0.0018\n",
      "Epoch 2/10\n",
      "64/64 [==============================] - 5s 72ms/step - loss: 5.5421e-04 - val_loss: 5.4131e-04\n",
      "Epoch 3/10\n",
      "64/64 [==============================] - 6s 101ms/step - loss: 5.1905e-04 - val_loss: 5.4418e-04\n",
      "Epoch 4/10\n",
      "64/64 [==============================] - 7s 117ms/step - loss: 4.7699e-04 - val_loss: 8.3594e-04\n",
      "Epoch 5/10\n",
      "64/64 [==============================] - 6s 92ms/step - loss: 4.1804e-04 - val_loss: 4.0459e-04\n",
      "Epoch 6/10\n",
      "64/64 [==============================] - 8s 125ms/step - loss: 3.7281e-04 - val_loss: 6.0871e-04\n",
      "Epoch 7/10\n",
      "64/64 [==============================] - 7s 117ms/step - loss: 3.7260e-04 - val_loss: 5.5123e-04\n",
      "Epoch 8/10\n",
      "64/64 [==============================] - 6s 95ms/step - loss: 3.9338e-04 - val_loss: 0.0012\n",
      "Epoch 9/10\n",
      "64/64 [==============================] - 6s 100ms/step - loss: 3.2231e-04 - val_loss: 6.2945e-04\n",
      "Epoch 10/10\n",
      "64/64 [==============================] - 6s 91ms/step - loss: 3.4116e-04 - val_loss: 5.9618e-04\n",
      "✅ Saved model to ABBV_gru_model.h5\n",
      "\n",
      "📈 Downloading data for ACN...\n"
     ]
    },
    {
     "name": "stderr",
     "output_type": "stream",
     "text": [
      "[*********************100%***********************]  1 of 1 completed\n"
     ]
    },
    {
     "name": "stdout",
     "output_type": "stream",
     "text": [
      "Training shape for ACN - X_train: (2571, 100, 1), X_test: (1102, 100, 1)\n",
      "Epoch 1/10\n",
      "81/81 [==============================] - 13s 111ms/step - loss: 0.0062 - val_loss: 4.5677e-04\n",
      "Epoch 2/10\n",
      "81/81 [==============================] - 7s 91ms/step - loss: 6.4242e-04 - val_loss: 7.1250e-04\n",
      "Epoch 3/10\n",
      "81/81 [==============================] - 5s 68ms/step - loss: 5.3834e-04 - val_loss: 4.9661e-04\n",
      "Epoch 4/10\n",
      "81/81 [==============================] - 5s 68ms/step - loss: 4.9209e-04 - val_loss: 4.7488e-04\n",
      "Epoch 5/10\n",
      "81/81 [==============================] - 6s 76ms/step - loss: 4.1514e-04 - val_loss: 5.3041e-04\n",
      "Epoch 6/10\n",
      "81/81 [==============================] - 6s 79ms/step - loss: 4.2696e-04 - val_loss: 0.0013\n",
      "Epoch 7/10\n",
      "81/81 [==============================] - 8s 97ms/step - loss: 3.6089e-04 - val_loss: 5.6394e-04\n",
      "Epoch 8/10\n",
      "81/81 [==============================] - 8s 95ms/step - loss: 3.7040e-04 - val_loss: 6.3319e-04\n",
      "Epoch 9/10\n",
      "81/81 [==============================] - 7s 91ms/step - loss: 3.0407e-04 - val_loss: 4.6543e-04\n",
      "Epoch 10/10\n",
      "81/81 [==============================] - 8s 99ms/step - loss: 2.9609e-04 - val_loss: 4.5038e-04\n",
      "✅ Saved model to ACN_gru_model.h5\n",
      "\n",
      "📈 Downloading data for ADBE...\n"
     ]
    },
    {
     "name": "stderr",
     "output_type": "stream",
     "text": [
      "[*********************100%***********************]  1 of 1 completed\n"
     ]
    },
    {
     "name": "stdout",
     "output_type": "stream",
     "text": [
      "Training shape for ADBE - X_train: (2571, 100, 1), X_test: (1102, 100, 1)\n",
      "Epoch 1/10\n",
      "81/81 [==============================] - 14s 114ms/step - loss: 0.0027 - val_loss: 7.5115e-04\n",
      "Epoch 2/10\n",
      "81/81 [==============================] - 8s 93ms/step - loss: 6.0491e-04 - val_loss: 0.0010\n",
      "Epoch 3/10\n",
      "81/81 [==============================] - 6s 79ms/step - loss: 5.1092e-04 - val_loss: 6.5225e-04\n",
      "Epoch 4/10\n",
      "81/81 [==============================] - 7s 84ms/step - loss: 4.4776e-04 - val_loss: 6.3072e-04\n",
      "Epoch 5/10\n",
      "81/81 [==============================] - 9s 105ms/step - loss: 3.7778e-04 - val_loss: 9.0445e-04\n",
      "Epoch 6/10\n",
      "81/81 [==============================] - 7s 82ms/step - loss: 3.4405e-04 - val_loss: 6.7468e-04\n",
      "Epoch 7/10\n",
      "81/81 [==============================] - 7s 82ms/step - loss: 3.6849e-04 - val_loss: 6.4085e-04\n",
      "Epoch 8/10\n",
      "81/81 [==============================] - 8s 97ms/step - loss: 3.3248e-04 - val_loss: 8.4557e-04\n",
      "Epoch 9/10\n",
      "81/81 [==============================] - 8s 104ms/step - loss: 3.4658e-04 - val_loss: 7.9023e-04\n",
      "Epoch 10/10\n",
      "81/81 [==============================] - 6s 79ms/step - loss: 3.5278e-04 - val_loss: 7.0756e-04\n",
      "✅ Saved model to ADBE_gru_model.h5\n",
      "\n",
      "📈 Downloading data for AMD...\n"
     ]
    },
    {
     "name": "stderr",
     "output_type": "stream",
     "text": [
      "[*********************100%***********************]  1 of 1 completed\n"
     ]
    },
    {
     "name": "stdout",
     "output_type": "stream",
     "text": [
      "Training shape for AMD - X_train: (2571, 100, 1), X_test: (1102, 100, 1)\n",
      "Epoch 1/10\n",
      "81/81 [==============================] - 9s 80ms/step - loss: 6.9647e-04 - val_loss: 7.0342e-04\n",
      "Epoch 2/10\n",
      "81/81 [==============================] - 6s 77ms/step - loss: 1.2052e-04 - val_loss: 8.3320e-04\n",
      "Epoch 3/10\n",
      "81/81 [==============================] - 7s 85ms/step - loss: 1.0692e-04 - val_loss: 0.0016\n",
      "Epoch 4/10\n",
      "81/81 [==============================] - 6s 77ms/step - loss: 1.0368e-04 - val_loss: 7.2120e-04\n",
      "Epoch 5/10\n",
      "81/81 [==============================] - 7s 84ms/step - loss: 1.0293e-04 - val_loss: 6.2330e-04\n",
      "Epoch 6/10\n",
      "81/81 [==============================] - 6s 74ms/step - loss: 1.1857e-04 - val_loss: 6.6869e-04\n",
      "Epoch 7/10\n",
      "81/81 [==============================] - 7s 87ms/step - loss: 8.5135e-05 - val_loss: 0.0011\n",
      "Epoch 8/10\n",
      "81/81 [==============================] - 6s 80ms/step - loss: 7.7996e-05 - val_loss: 5.5448e-04\n",
      "Epoch 9/10\n",
      "81/81 [==============================] - 8s 100ms/step - loss: 6.5536e-05 - val_loss: 5.1160e-04\n",
      "Epoch 10/10\n",
      "81/81 [==============================] - 8s 103ms/step - loss: 7.7645e-05 - val_loss: 5.4598e-04\n",
      "✅ Saved model to AMD_gru_model.h5\n",
      "\n",
      "📈 Downloading data for AES...\n"
     ]
    },
    {
     "name": "stderr",
     "output_type": "stream",
     "text": [
      "[*********************100%***********************]  1 of 1 completed\n"
     ]
    },
    {
     "name": "stdout",
     "output_type": "stream",
     "text": [
      "Training shape for AES - X_train: (2571, 100, 1), X_test: (1102, 100, 1)\n",
      "Epoch 1/10\n",
      "81/81 [==============================] - 13s 99ms/step - loss: 0.0029 - val_loss: 0.0016\n",
      "Epoch 2/10\n",
      "81/81 [==============================] - 7s 91ms/step - loss: 6.5281e-04 - val_loss: 0.0010\n",
      "Epoch 3/10\n",
      "81/81 [==============================] - 9s 113ms/step - loss: 5.5316e-04 - val_loss: 0.0011\n",
      "Epoch 4/10\n",
      "81/81 [==============================] - 9s 110ms/step - loss: 5.4005e-04 - val_loss: 0.0018\n",
      "Epoch 5/10\n",
      "81/81 [==============================] - 9s 112ms/step - loss: 4.4887e-04 - val_loss: 8.0419e-04\n",
      "Epoch 6/10\n",
      "81/81 [==============================] - 8s 100ms/step - loss: 4.4233e-04 - val_loss: 0.0014\n",
      "Epoch 7/10\n",
      "81/81 [==============================] - 8s 101ms/step - loss: 3.8973e-04 - val_loss: 6.9500e-04\n",
      "Epoch 8/10\n",
      "81/81 [==============================] - 8s 99ms/step - loss: 3.6420e-04 - val_loss: 6.6004e-04\n",
      "Epoch 9/10\n",
      "81/81 [==============================] - 7s 89ms/step - loss: 3.4934e-04 - val_loss: 0.0010\n",
      "Epoch 10/10\n",
      "81/81 [==============================] - 7s 92ms/step - loss: 3.4327e-04 - val_loss: 0.0012\n",
      "✅ Saved model to AES_gru_model.h5\n",
      "\n",
      "📈 Downloading data for AFL...\n"
     ]
    },
    {
     "name": "stderr",
     "output_type": "stream",
     "text": [
      "[*********************100%***********************]  1 of 1 completed\n"
     ]
    },
    {
     "name": "stdout",
     "output_type": "stream",
     "text": [
      "Training shape for AFL - X_train: (2571, 100, 1), X_test: (1102, 100, 1)\n",
      "Epoch 1/10\n",
      "81/81 [==============================] - 12s 86ms/step - loss: 0.0043 - val_loss: 4.2818e-04\n",
      "Epoch 2/10\n",
      "81/81 [==============================] - 8s 100ms/step - loss: 3.8743e-04 - val_loss: 3.1169e-04\n",
      "Epoch 3/10\n",
      "81/81 [==============================] - 8s 100ms/step - loss: 3.3393e-04 - val_loss: 2.9568e-04\n",
      "Epoch 4/10\n",
      "81/81 [==============================] - 7s 91ms/step - loss: 2.7314e-04 - val_loss: 1.7795e-04\n",
      "Epoch 5/10\n",
      "81/81 [==============================] - 8s 97ms/step - loss: 2.5462e-04 - val_loss: 1.6811e-04\n",
      "Epoch 6/10\n",
      "81/81 [==============================] - 8s 93ms/step - loss: 2.3543e-04 - val_loss: 2.6357e-04\n",
      "Epoch 7/10\n",
      "81/81 [==============================] - 8s 97ms/step - loss: 2.5535e-04 - val_loss: 4.3412e-04\n",
      "Epoch 8/10\n",
      "81/81 [==============================] - 8s 95ms/step - loss: 2.3672e-04 - val_loss: 1.8625e-04\n",
      "Epoch 9/10\n",
      "81/81 [==============================] - 8s 94ms/step - loss: 2.0717e-04 - val_loss: 1.5663e-04\n",
      "Epoch 10/10\n",
      "81/81 [==============================] - 8s 95ms/step - loss: 1.9361e-04 - val_loss: 3.9066e-04\n",
      "✅ Saved model to AFL_gru_model.h5\n",
      "\n",
      "📈 Downloading data for A...\n"
     ]
    },
    {
     "name": "stderr",
     "output_type": "stream",
     "text": [
      "[*********************100%***********************]  1 of 1 completed\n"
     ]
    },
    {
     "name": "stdout",
     "output_type": "stream",
     "text": [
      "Training shape for A - X_train: (2571, 100, 1), X_test: (1102, 100, 1)\n",
      "Epoch 1/10\n",
      "81/81 [==============================] - 10s 74ms/step - loss: 0.0031 - val_loss: 5.4511e-04\n",
      "Epoch 2/10\n",
      "81/81 [==============================] - 6s 74ms/step - loss: 5.2352e-04 - val_loss: 6.9869e-04\n",
      "Epoch 3/10\n",
      "81/81 [==============================] - 6s 74ms/step - loss: 4.6306e-04 - val_loss: 6.1285e-04\n",
      "Epoch 4/10\n",
      "81/81 [==============================] - 7s 82ms/step - loss: 4.2402e-04 - val_loss: 0.0013\n",
      "Epoch 5/10\n",
      "81/81 [==============================] - 6s 74ms/step - loss: 4.1972e-04 - val_loss: 5.3608e-04\n",
      "Epoch 6/10\n",
      "81/81 [==============================] - 7s 84ms/step - loss: 3.1798e-04 - val_loss: 9.7602e-04\n",
      "Epoch 7/10\n",
      "81/81 [==============================] - 8s 105ms/step - loss: 3.0717e-04 - val_loss: 6.5223e-04\n",
      "Epoch 8/10\n",
      "81/81 [==============================] - 7s 82ms/step - loss: 3.0195e-04 - val_loss: 5.6322e-04\n",
      "Epoch 9/10\n",
      "81/81 [==============================] - 5s 66ms/step - loss: 2.8115e-04 - val_loss: 4.2545e-04\n",
      "Epoch 10/10\n",
      "81/81 [==============================] - 6s 76ms/step - loss: 2.7078e-04 - val_loss: 5.2128e-04\n",
      "✅ Saved model to A_gru_model.h5\n",
      "\n",
      "📈 Downloading data for APD...\n"
     ]
    },
    {
     "name": "stderr",
     "output_type": "stream",
     "text": [
      "[*********************100%***********************]  1 of 1 completed\n"
     ]
    },
    {
     "name": "stdout",
     "output_type": "stream",
     "text": [
      "Training shape for APD - X_train: (2571, 100, 1), X_test: (1102, 100, 1)\n",
      "Epoch 1/10\n",
      "81/81 [==============================] - 8s 71ms/step - loss: 0.0034 - val_loss: 0.0011\n",
      "Epoch 2/10\n",
      "81/81 [==============================] - 5s 63ms/step - loss: 7.8092e-04 - val_loss: 0.0016\n",
      "Epoch 3/10\n",
      "81/81 [==============================] - 6s 70ms/step - loss: 7.9136e-04 - val_loss: 7.0225e-04\n",
      "Epoch 4/10\n",
      "81/81 [==============================] - 7s 80ms/step - loss: 5.8866e-04 - val_loss: 0.0016\n",
      "Epoch 5/10\n",
      "81/81 [==============================] - 6s 68ms/step - loss: 6.3588e-04 - val_loss: 4.9852e-04\n",
      "Epoch 6/10\n",
      "81/81 [==============================] - 6s 75ms/step - loss: 5.9624e-04 - val_loss: 4.6721e-04\n",
      "Epoch 7/10\n",
      "81/81 [==============================] - 8s 102ms/step - loss: 5.7106e-04 - val_loss: 4.6849e-04\n",
      "Epoch 8/10\n",
      "81/81 [==============================] - 6s 70ms/step - loss: 6.0647e-04 - val_loss: 5.2501e-04\n",
      "Epoch 9/10\n",
      "81/81 [==============================] - 6s 70ms/step - loss: 4.7429e-04 - val_loss: 4.8289e-04\n",
      "Epoch 10/10\n",
      "81/81 [==============================] - 5s 63ms/step - loss: 4.8303e-04 - val_loss: 0.0011\n",
      "✅ Saved model to APD_gru_model.h5\n",
      "\n",
      "📈 Downloading data for ABNB...\n"
     ]
    },
    {
     "name": "stderr",
     "output_type": "stream",
     "text": [
      "[*********************100%***********************]  1 of 1 completed\n"
     ]
    },
    {
     "name": "stdout",
     "output_type": "stream",
     "text": [
      "Training shape for ABNB - X_train: (643, 100, 1), X_test: (276, 100, 1)\n",
      "Epoch 1/10\n",
      "21/21 [==============================] - 4s 106ms/step - loss: 0.0345 - val_loss: 0.0073\n",
      "Epoch 2/10\n",
      "21/21 [==============================] - 1s 60ms/step - loss: 0.0076 - val_loss: 0.0015\n",
      "Epoch 3/10\n",
      "21/21 [==============================] - 1s 69ms/step - loss: 0.0053 - val_loss: 8.8281e-04\n",
      "Epoch 4/10\n",
      "21/21 [==============================] - 1s 63ms/step - loss: 0.0044 - val_loss: 8.3407e-04\n",
      "Epoch 5/10\n",
      "21/21 [==============================] - 1s 61ms/step - loss: 0.0044 - val_loss: 8.5101e-04\n",
      "Epoch 6/10\n",
      "21/21 [==============================] - 1s 68ms/step - loss: 0.0048 - val_loss: 7.8526e-04\n",
      "Epoch 7/10\n",
      "21/21 [==============================] - 1s 63ms/step - loss: 0.0039 - val_loss: 9.7920e-04\n",
      "Epoch 8/10\n",
      "21/21 [==============================] - 1s 60ms/step - loss: 0.0043 - val_loss: 0.0011\n",
      "Epoch 9/10\n",
      "21/21 [==============================] - 1s 63ms/step - loss: 0.0044 - val_loss: 0.0010\n",
      "Epoch 10/10\n",
      "21/21 [==============================] - 1s 65ms/step - loss: 0.0037 - val_loss: 7.1371e-04\n",
      "✅ Saved model to ABNB_gru_model.h5\n",
      "\n",
      "📈 Downloading data for AKAM...\n"
     ]
    },
    {
     "name": "stderr",
     "output_type": "stream",
     "text": [
      "[*********************100%***********************]  1 of 1 completed\n"
     ]
    },
    {
     "name": "stdout",
     "output_type": "stream",
     "text": [
      "Training shape for AKAM - X_train: (2571, 100, 1), X_test: (1102, 100, 1)\n",
      "Epoch 1/10\n",
      "81/81 [==============================] - 8s 67ms/step - loss: 0.0128 - val_loss: 0.0011\n",
      "Epoch 2/10\n",
      "81/81 [==============================] - 5s 62ms/step - loss: 0.0019 - val_loss: 9.3724e-04\n",
      "Epoch 3/10\n",
      "81/81 [==============================] - 6s 72ms/step - loss: 0.0018 - val_loss: 8.7980e-04\n",
      "Epoch 4/10\n",
      "81/81 [==============================] - 5s 67ms/step - loss: 0.0015 - val_loss: 0.0011\n",
      "Epoch 5/10\n",
      "81/81 [==============================] - 5s 64ms/step - loss: 0.0015 - val_loss: 0.0014\n",
      "Epoch 6/10\n",
      "81/81 [==============================] - 5s 63ms/step - loss: 0.0014 - val_loss: 0.0011\n",
      "Epoch 7/10\n",
      "81/81 [==============================] - 5s 66ms/step - loss: 0.0012 - val_loss: 9.7984e-04\n",
      "Epoch 8/10\n",
      "81/81 [==============================] - 6s 80ms/step - loss: 0.0013 - val_loss: 0.0012\n",
      "Epoch 9/10\n",
      "81/81 [==============================] - 6s 68ms/step - loss: 0.0012 - val_loss: 0.0012\n",
      "Epoch 10/10\n",
      "81/81 [==============================] - 6s 79ms/step - loss: 0.0012 - val_loss: 7.9749e-04\n",
      "✅ Saved model to AKAM_gru_model.h5\n",
      "\n",
      "📈 Downloading data for ALB...\n"
     ]
    },
    {
     "name": "stderr",
     "output_type": "stream",
     "text": [
      "[*********************100%***********************]  1 of 1 completed\n"
     ]
    },
    {
     "name": "stdout",
     "output_type": "stream",
     "text": [
      "Training shape for ALB - X_train: (2571, 100, 1), X_test: (1102, 100, 1)\n",
      "Epoch 1/10\n",
      "81/81 [==============================] - 11s 86ms/step - loss: 9.4759e-04 - val_loss: 9.4925e-04\n",
      "Epoch 2/10\n",
      "81/81 [==============================] - 6s 71ms/step - loss: 2.5908e-04 - val_loss: 9.2094e-04\n",
      "Epoch 3/10\n",
      "81/81 [==============================] - 6s 75ms/step - loss: 2.3021e-04 - val_loss: 9.0647e-04\n",
      "Epoch 4/10\n",
      "81/81 [==============================] - 6s 70ms/step - loss: 1.9150e-04 - val_loss: 9.7102e-04\n",
      "Epoch 5/10\n",
      "81/81 [==============================] - 8s 103ms/step - loss: 1.7485e-04 - val_loss: 8.4923e-04\n",
      "Epoch 6/10\n",
      "81/81 [==============================] - 7s 81ms/step - loss: 1.5919e-04 - val_loss: 8.7944e-04\n",
      "Epoch 7/10\n",
      "81/81 [==============================] - 7s 83ms/step - loss: 1.5730e-04 - val_loss: 7.4976e-04\n",
      "Epoch 8/10\n",
      "81/81 [==============================] - 7s 86ms/step - loss: 1.3488e-04 - val_loss: 9.9000e-04\n",
      "Epoch 9/10\n",
      "81/81 [==============================] - 5s 66ms/step - loss: 1.3675e-04 - val_loss: 0.0015\n",
      "Epoch 10/10\n",
      "81/81 [==============================] - 5s 66ms/step - loss: 1.3217e-04 - val_loss: 7.1343e-04\n",
      "✅ Saved model to ALB_gru_model.h5\n",
      "\n",
      "📈 Downloading data for ARE...\n"
     ]
    },
    {
     "name": "stderr",
     "output_type": "stream",
     "text": [
      "[*********************100%***********************]  1 of 1 completed\n"
     ]
    },
    {
     "name": "stdout",
     "output_type": "stream",
     "text": [
      "Training shape for ARE - X_train: (2571, 100, 1), X_test: (1102, 100, 1)\n",
      "Epoch 1/10\n",
      "81/81 [==============================] - 10s 80ms/step - loss: 0.0052 - val_loss: 9.2004e-04\n",
      "Epoch 2/10\n",
      "81/81 [==============================] - 6s 74ms/step - loss: 0.0010 - val_loss: 8.1318e-04\n",
      "Epoch 3/10\n",
      "81/81 [==============================] - 6s 71ms/step - loss: 9.0970e-04 - val_loss: 4.9943e-04\n",
      "Epoch 4/10\n",
      "81/81 [==============================] - 6s 71ms/step - loss: 8.6210e-04 - val_loss: 7.6424e-04\n",
      "Epoch 5/10\n",
      "81/81 [==============================] - 7s 87ms/step - loss: 7.3328e-04 - val_loss: 8.5318e-04\n",
      "Epoch 6/10\n",
      "81/81 [==============================] - 7s 88ms/step - loss: 7.6776e-04 - val_loss: 4.5124e-04\n",
      "Epoch 7/10\n",
      "81/81 [==============================] - 6s 70ms/step - loss: 7.2680e-04 - val_loss: 6.3955e-04\n",
      "Epoch 8/10\n",
      "81/81 [==============================] - 7s 82ms/step - loss: 6.2997e-04 - val_loss: 0.0011\n",
      "Epoch 9/10\n",
      "81/81 [==============================] - 7s 87ms/step - loss: 6.3046e-04 - val_loss: 5.7843e-04\n",
      "Epoch 10/10\n",
      "81/81 [==============================] - 8s 93ms/step - loss: 6.8469e-04 - val_loss: 6.4838e-04\n",
      "✅ Saved model to ARE_gru_model.h5\n",
      "\n",
      "📈 Downloading data for ALGN...\n"
     ]
    },
    {
     "name": "stderr",
     "output_type": "stream",
     "text": [
      "[*********************100%***********************]  1 of 1 completed\n"
     ]
    },
    {
     "name": "stdout",
     "output_type": "stream",
     "text": [
      "Training shape for ALGN - X_train: (2571, 100, 1), X_test: (1102, 100, 1)\n",
      "Epoch 1/10\n",
      "81/81 [==============================] - 10s 76ms/step - loss: 0.0024 - val_loss: 6.7508e-04\n",
      "Epoch 2/10\n",
      "81/81 [==============================] - 6s 73ms/step - loss: 5.3549e-04 - val_loss: 6.3308e-04\n",
      "Epoch 3/10\n",
      "81/81 [==============================] - 7s 91ms/step - loss: 4.3120e-04 - val_loss: 6.6053e-04\n",
      "Epoch 4/10\n",
      "81/81 [==============================] - 6s 73ms/step - loss: 4.3768e-04 - val_loss: 7.1641e-04\n",
      "Epoch 5/10\n",
      "81/81 [==============================] - 6s 69ms/step - loss: 4.0157e-04 - val_loss: 0.0011\n",
      "Epoch 6/10\n",
      "81/81 [==============================] - 5s 66ms/step - loss: 3.6315e-04 - val_loss: 8.5919e-04\n",
      "Epoch 7/10\n",
      "81/81 [==============================] - 6s 70ms/step - loss: 3.4172e-04 - val_loss: 7.8021e-04\n",
      "Epoch 8/10\n",
      "81/81 [==============================] - 5s 67ms/step - loss: 3.6292e-04 - val_loss: 5.4459e-04\n",
      "Epoch 9/10\n",
      "81/81 [==============================] - 5s 65ms/step - loss: 3.4496e-04 - val_loss: 4.9074e-04\n",
      "Epoch 10/10\n",
      "81/81 [==============================] - 6s 80ms/step - loss: 3.3036e-04 - val_loss: 5.6261e-04\n",
      "✅ Saved model to ALGN_gru_model.h5\n",
      "\n",
      "📈 Downloading data for ALLE...\n"
     ]
    },
    {
     "name": "stderr",
     "output_type": "stream",
     "text": [
      "[*********************100%***********************]  1 of 1 completed\n"
     ]
    },
    {
     "name": "stdout",
     "output_type": "stream",
     "text": [
      "Training shape for ALLE - X_train: (1887, 100, 1), X_test: (810, 100, 1)\n",
      "Epoch 1/10\n",
      "59/59 [==============================] - 12s 118ms/step - loss: 0.0112 - val_loss: 0.0018\n",
      "Epoch 2/10\n",
      "59/59 [==============================] - 6s 96ms/step - loss: 0.0024 - val_loss: 8.8493e-04\n",
      "Epoch 3/10\n",
      "59/59 [==============================] - 4s 74ms/step - loss: 0.0023 - val_loss: 6.2378e-04\n",
      "Epoch 4/10\n",
      "59/59 [==============================] - 6s 95ms/step - loss: 0.0018 - val_loss: 6.6629e-04\n",
      "Epoch 5/10\n",
      "59/59 [==============================] - 4s 68ms/step - loss: 0.0016 - val_loss: 8.3313e-04\n",
      "Epoch 6/10\n",
      "59/59 [==============================] - 4s 70ms/step - loss: 0.0016 - val_loss: 0.0014\n",
      "Epoch 7/10\n",
      "59/59 [==============================] - 4s 75ms/step - loss: 0.0015 - val_loss: 6.8838e-04\n",
      "Epoch 8/10\n",
      "59/59 [==============================] - 5s 77ms/step - loss: 0.0013 - val_loss: 0.0013\n",
      "Epoch 9/10\n",
      "59/59 [==============================] - 4s 73ms/step - loss: 0.0014 - val_loss: 7.3091e-04\n",
      "Epoch 10/10\n",
      "59/59 [==============================] - 4s 68ms/step - loss: 0.0014 - val_loss: 5.3373e-04\n",
      "✅ Saved model to ALLE_gru_model.h5\n",
      "\n",
      "📈 Downloading data for LNT...\n"
     ]
    },
    {
     "name": "stderr",
     "output_type": "stream",
     "text": [
      "[*********************100%***********************]  1 of 1 completed\n"
     ]
    },
    {
     "name": "stdout",
     "output_type": "stream",
     "text": [
      "Training shape for LNT - X_train: (2571, 100, 1), X_test: (1102, 100, 1)\n",
      "Epoch 1/10\n",
      "81/81 [==============================] - 9s 76ms/step - loss: 0.0119 - val_loss: 6.8647e-04\n",
      "Epoch 2/10\n",
      "81/81 [==============================] - 6s 70ms/step - loss: 0.0014 - val_loss: 5.9231e-04\n",
      "Epoch 3/10\n",
      "81/81 [==============================] - 6s 71ms/step - loss: 0.0012 - val_loss: 4.3336e-04\n",
      "Epoch 4/10\n",
      "81/81 [==============================] - 5s 64ms/step - loss: 0.0012 - val_loss: 4.2058e-04\n",
      "Epoch 5/10\n",
      "81/81 [==============================] - 6s 73ms/step - loss: 9.6475e-04 - val_loss: 3.6908e-04\n",
      "Epoch 6/10\n",
      "81/81 [==============================] - 6s 74ms/step - loss: 0.0010 - val_loss: 9.8309e-04\n",
      "Epoch 7/10\n",
      "81/81 [==============================] - 5s 66ms/step - loss: 9.2959e-04 - val_loss: 8.5712e-04\n",
      "Epoch 8/10\n",
      "81/81 [==============================] - 6s 70ms/step - loss: 0.0010 - val_loss: 0.0014\n",
      "Epoch 9/10\n",
      "81/81 [==============================] - 6s 69ms/step - loss: 8.6915e-04 - val_loss: 3.3604e-04\n",
      "Epoch 10/10\n",
      "81/81 [==============================] - 8s 97ms/step - loss: 8.4336e-04 - val_loss: 0.0010\n",
      "✅ Saved model to LNT_gru_model.h5\n",
      "\n",
      "📈 Downloading data for ALL...\n"
     ]
    },
    {
     "name": "stderr",
     "output_type": "stream",
     "text": [
      "[*********************100%***********************]  1 of 1 completed\n"
     ]
    },
    {
     "name": "stdout",
     "output_type": "stream",
     "text": [
      "Training shape for ALL - X_train: (2571, 100, 1), X_test: (1102, 100, 1)\n",
      "Epoch 1/10\n",
      "81/81 [==============================] - 9s 74ms/step - loss: 0.0027 - val_loss: 7.1216e-04\n",
      "Epoch 2/10\n",
      "81/81 [==============================] - 6s 75ms/step - loss: 6.0636e-04 - val_loss: 3.2975e-04\n",
      "Epoch 3/10\n",
      "81/81 [==============================] - 8s 96ms/step - loss: 5.4985e-04 - val_loss: 5.6371e-04\n",
      "Epoch 4/10\n",
      "81/81 [==============================] - 7s 90ms/step - loss: 4.5976e-04 - val_loss: 2.7747e-04\n",
      "Epoch 5/10\n",
      "81/81 [==============================] - 6s 74ms/step - loss: 4.0466e-04 - val_loss: 5.4616e-04\n",
      "Epoch 6/10\n",
      "81/81 [==============================] - 6s 68ms/step - loss: 3.8833e-04 - val_loss: 4.5358e-04\n",
      "Epoch 7/10\n",
      "81/81 [==============================] - 5s 66ms/step - loss: 3.6687e-04 - val_loss: 3.5042e-04\n",
      "Epoch 8/10\n",
      "81/81 [==============================] - 8s 97ms/step - loss: 3.4086e-04 - val_loss: 3.9175e-04\n",
      "Epoch 9/10\n",
      "81/81 [==============================] - 9s 115ms/step - loss: 3.3701e-04 - val_loss: 7.7772e-04\n",
      "Epoch 10/10\n",
      "81/81 [==============================] - 8s 99ms/step - loss: 3.1559e-04 - val_loss: 5.2580e-04\n",
      "✅ Saved model to ALL_gru_model.h5\n",
      "\n",
      "📈 Downloading data for GOOGL...\n"
     ]
    },
    {
     "name": "stderr",
     "output_type": "stream",
     "text": [
      "[*********************100%***********************]  1 of 1 completed\n"
     ]
    },
    {
     "name": "stdout",
     "output_type": "stream",
     "text": [
      "Training shape for GOOGL - X_train: (2571, 100, 1), X_test: (1102, 100, 1)\n",
      "Epoch 1/10\n",
      "81/81 [==============================] - 16s 122ms/step - loss: 0.0024 - val_loss: 4.9488e-04\n",
      "Epoch 2/10\n",
      "81/81 [==============================] - 8s 96ms/step - loss: 2.9986e-04 - val_loss: 3.8845e-04\n",
      "Epoch 3/10\n",
      "81/81 [==============================] - 8s 97ms/step - loss: 2.4466e-04 - val_loss: 4.0177e-04\n",
      "Epoch 4/10\n",
      "81/81 [==============================] - 7s 90ms/step - loss: 2.3724e-04 - val_loss: 3.5998e-04\n",
      "Epoch 5/10\n",
      "81/81 [==============================] - 8s 102ms/step - loss: 2.3130e-04 - val_loss: 6.1323e-04\n",
      "Epoch 6/10\n",
      "81/81 [==============================] - 7s 90ms/step - loss: 1.9308e-04 - val_loss: 5.3015e-04\n",
      "Epoch 7/10\n",
      "81/81 [==============================] - 7s 92ms/step - loss: 1.7277e-04 - val_loss: 6.9623e-04\n",
      "Epoch 8/10\n",
      "81/81 [==============================] - 7s 84ms/step - loss: 1.7852e-04 - val_loss: 0.0022\n",
      "Epoch 9/10\n",
      "81/81 [==============================] - 8s 103ms/step - loss: 1.5933e-04 - val_loss: 0.0011\n",
      "Epoch 10/10\n",
      "81/81 [==============================] - 9s 106ms/step - loss: 1.6895e-04 - val_loss: 5.3139e-04\n",
      "✅ Saved model to GOOGL_gru_model.h5\n",
      "\n",
      "📈 Downloading data for GOOG...\n"
     ]
    },
    {
     "name": "stderr",
     "output_type": "stream",
     "text": [
      "[*********************100%***********************]  1 of 1 completed\n"
     ]
    },
    {
     "name": "stdout",
     "output_type": "stream",
     "text": [
      "Training shape for GOOG - X_train: (2571, 100, 1), X_test: (1102, 100, 1)\n",
      "Epoch 1/10\n",
      "81/81 [==============================] - 18s 107ms/step - loss: 0.0016 - val_loss: 5.8384e-04\n",
      "Epoch 2/10\n",
      "81/81 [==============================] - 7s 90ms/step - loss: 3.0858e-04 - val_loss: 3.9372e-04\n",
      "Epoch 3/10\n",
      "81/81 [==============================] - 7s 91ms/step - loss: 2.3116e-04 - val_loss: 4.1012e-04\n",
      "Epoch 4/10\n",
      "81/81 [==============================] - 7s 92ms/step - loss: 2.2539e-04 - val_loss: 3.6157e-04\n",
      "Epoch 5/10\n",
      "81/81 [==============================] - 7s 93ms/step - loss: 2.2673e-04 - val_loss: 7.6830e-04\n",
      "Epoch 6/10\n",
      "81/81 [==============================] - 7s 92ms/step - loss: 1.8967e-04 - val_loss: 3.4889e-04\n",
      "Epoch 7/10\n",
      "81/81 [==============================] - 7s 82ms/step - loss: 1.7730e-04 - val_loss: 4.3703e-04\n",
      "Epoch 8/10\n",
      "81/81 [==============================] - 6s 79ms/step - loss: 1.8114e-04 - val_loss: 3.9869e-04\n",
      "Epoch 9/10\n",
      "81/81 [==============================] - 8s 95ms/step - loss: 1.5180e-04 - val_loss: 7.0286e-04\n",
      "Epoch 10/10\n",
      "81/81 [==============================] - 7s 83ms/step - loss: 1.5594e-04 - val_loss: 3.6286e-04\n",
      "✅ Saved model to GOOG_gru_model.h5\n",
      "\n",
      "📈 Downloading data for MO...\n"
     ]
    },
    {
     "name": "stderr",
     "output_type": "stream",
     "text": [
      "[*********************100%***********************]  1 of 1 completed\n"
     ]
    },
    {
     "name": "stdout",
     "output_type": "stream",
     "text": [
      "Training shape for MO - X_train: (2571, 100, 1), X_test: (1102, 100, 1)\n",
      "Epoch 1/10\n",
      "81/81 [==============================] - 10s 83ms/step - loss: 0.0187 - val_loss: 3.6235e-04\n",
      "Epoch 2/10\n",
      "81/81 [==============================] - 6s 79ms/step - loss: 0.0022 - val_loss: 2.7281e-04\n",
      "Epoch 3/10\n",
      "81/81 [==============================] - 6s 75ms/step - loss: 0.0017 - val_loss: 2.6511e-04\n",
      "Epoch 4/10\n",
      "81/81 [==============================] - 7s 81ms/step - loss: 0.0017 - val_loss: 9.6230e-04\n",
      "Epoch 5/10\n",
      "81/81 [==============================] - 6s 74ms/step - loss: 0.0014 - val_loss: 4.6631e-04\n",
      "Epoch 6/10\n",
      "81/81 [==============================] - 6s 74ms/step - loss: 0.0014 - val_loss: 2.6549e-04\n",
      "Epoch 7/10\n",
      "81/81 [==============================] - 6s 73ms/step - loss: 0.0013 - val_loss: 2.7431e-04\n",
      "Epoch 8/10\n",
      "81/81 [==============================] - 6s 80ms/step - loss: 0.0013 - val_loss: 5.4201e-04\n",
      "Epoch 9/10\n",
      "81/81 [==============================] - 6s 76ms/step - loss: 0.0012 - val_loss: 2.6681e-04\n",
      "Epoch 10/10\n",
      "81/81 [==============================] - 6s 77ms/step - loss: 0.0012 - val_loss: 2.8304e-04\n",
      "✅ Saved model to MO_gru_model.h5\n",
      "\n",
      "📈 Downloading data for AMZN...\n"
     ]
    },
    {
     "name": "stderr",
     "output_type": "stream",
     "text": [
      "[*********************100%***********************]  1 of 1 completed\n"
     ]
    },
    {
     "name": "stdout",
     "output_type": "stream",
     "text": [
      "Training shape for AMZN - X_train: (2571, 100, 1), X_test: (1102, 100, 1)\n",
      "Epoch 1/10\n",
      "81/81 [==============================] - 10s 82ms/step - loss: 0.0036 - val_loss: 6.0371e-04\n",
      "Epoch 2/10\n",
      "81/81 [==============================] - 6s 76ms/step - loss: 5.5784e-04 - val_loss: 4.4940e-04\n",
      "Epoch 3/10\n",
      "81/81 [==============================] - 6s 77ms/step - loss: 4.7940e-04 - val_loss: 0.0013\n",
      "Epoch 4/10\n",
      "81/81 [==============================] - 6s 72ms/step - loss: 4.0803e-04 - val_loss: 6.0956e-04\n",
      "Epoch 5/10\n",
      "81/81 [==============================] - 6s 72ms/step - loss: 4.1008e-04 - val_loss: 7.5713e-04\n",
      "Epoch 6/10\n",
      "81/81 [==============================] - 6s 74ms/step - loss: 4.1559e-04 - val_loss: 4.5716e-04\n",
      "Epoch 7/10\n",
      "81/81 [==============================] - 6s 75ms/step - loss: 3.4794e-04 - val_loss: 5.0222e-04\n",
      "Epoch 8/10\n",
      "81/81 [==============================] - 6s 76ms/step - loss: 3.2885e-04 - val_loss: 6.3482e-04\n",
      "Epoch 9/10\n",
      "81/81 [==============================] - 6s 72ms/step - loss: 3.5976e-04 - val_loss: 7.3340e-04\n",
      "Epoch 10/10\n",
      "81/81 [==============================] - 6s 73ms/step - loss: 3.6646e-04 - val_loss: 4.9501e-04\n",
      "✅ Saved model to AMZN_gru_model.h5\n",
      "\n",
      "📈 Downloading data for AMCR...\n"
     ]
    },
    {
     "name": "stderr",
     "output_type": "stream",
     "text": [
      "[*********************100%***********************]  1 of 1 completed\n"
     ]
    },
    {
     "name": "stdout",
     "output_type": "stream",
     "text": [
      "Training shape for AMCR - X_train: (2153, 100, 1), X_test: (924, 100, 1)\n",
      "Epoch 1/10\n",
      "68/68 [==============================] - 9s 79ms/step - loss: 0.0191 - val_loss: 9.8793e-04\n",
      "Epoch 2/10\n",
      "68/68 [==============================] - 5s 78ms/step - loss: 0.0024 - val_loss: 0.0013\n",
      "Epoch 3/10\n",
      "68/68 [==============================] - 5s 72ms/step - loss: 0.0021 - val_loss: 8.4822e-04\n",
      "Epoch 4/10\n",
      "68/68 [==============================] - 5s 73ms/step - loss: 0.0020 - val_loss: 7.8602e-04\n",
      "Epoch 5/10\n",
      "68/68 [==============================] - 5s 74ms/step - loss: 0.0017 - val_loss: 0.0021\n",
      "Epoch 6/10\n",
      "68/68 [==============================] - 5s 72ms/step - loss: 0.0017 - val_loss: 7.4367e-04\n",
      "Epoch 7/10\n",
      "68/68 [==============================] - 5s 75ms/step - loss: 0.0017 - val_loss: 7.1344e-04\n",
      "Epoch 8/10\n",
      "68/68 [==============================] - 5s 77ms/step - loss: 0.0015 - val_loss: 0.0014\n",
      "Epoch 9/10\n",
      "68/68 [==============================] - 5s 73ms/step - loss: 0.0015 - val_loss: 6.5614e-04\n",
      "Epoch 10/10\n",
      "68/68 [==============================] - 5s 74ms/step - loss: 0.0015 - val_loss: 7.1019e-04\n",
      "✅ Saved model to AMCR_gru_model.h5\n",
      "\n",
      "📈 Downloading data for AEE...\n"
     ]
    },
    {
     "name": "stderr",
     "output_type": "stream",
     "text": [
      "[*********************100%***********************]  1 of 1 completed\n"
     ]
    },
    {
     "name": "stdout",
     "output_type": "stream",
     "text": [
      "Training shape for AEE - X_train: (2571, 100, 1), X_test: (1102, 100, 1)\n",
      "Epoch 1/10\n",
      "81/81 [==============================] - 9s 77ms/step - loss: 0.0099 - val_loss: 3.8400e-04\n",
      "Epoch 2/10\n",
      "81/81 [==============================] - 6s 73ms/step - loss: 0.0013 - val_loss: 5.5640e-04\n",
      "Epoch 3/10\n",
      "81/81 [==============================] - 6s 74ms/step - loss: 0.0011 - val_loss: 3.7007e-04\n",
      "Epoch 4/10\n",
      "81/81 [==============================] - 6s 73ms/step - loss: 9.6252e-04 - val_loss: 4.0454e-04\n",
      "Epoch 5/10\n",
      "81/81 [==============================] - 6s 73ms/step - loss: 0.0010 - val_loss: 3.5720e-04\n",
      "Epoch 6/10\n",
      "81/81 [==============================] - 6s 72ms/step - loss: 8.7714e-04 - val_loss: 6.8894e-04\n",
      "Epoch 7/10\n",
      "81/81 [==============================] - 6s 74ms/step - loss: 8.5303e-04 - val_loss: 3.6772e-04\n",
      "Epoch 8/10\n",
      "81/81 [==============================] - 6s 77ms/step - loss: 8.4959e-04 - val_loss: 7.0110e-04\n",
      "Epoch 9/10\n",
      "81/81 [==============================] - 6s 73ms/step - loss: 8.4544e-04 - val_loss: 4.9454e-04\n",
      "Epoch 10/10\n",
      "81/81 [==============================] - 6s 72ms/step - loss: 7.1490e-04 - val_loss: 7.0478e-04\n",
      "✅ Saved model to AEE_gru_model.h5\n",
      "\n",
      "📈 Downloading data for AEP...\n"
     ]
    },
    {
     "name": "stderr",
     "output_type": "stream",
     "text": [
      "[*********************100%***********************]  1 of 1 completed\n"
     ]
    },
    {
     "name": "stdout",
     "output_type": "stream",
     "text": [
      "Training shape for AEP - X_train: (2571, 100, 1), X_test: (1102, 100, 1)\n",
      "Epoch 1/10\n",
      "81/81 [==============================] - 9s 79ms/step - loss: 0.0057 - val_loss: 8.1330e-04\n",
      "Epoch 2/10\n",
      "81/81 [==============================] - 6s 77ms/step - loss: 0.0013 - val_loss: 0.0010\n",
      "Epoch 3/10\n",
      "81/81 [==============================] - 6s 72ms/step - loss: 0.0014 - val_loss: 3.4444e-04\n",
      "Epoch 4/10\n",
      "81/81 [==============================] - 6s 72ms/step - loss: 0.0011 - val_loss: 3.8115e-04\n",
      "Epoch 5/10\n",
      "81/81 [==============================] - 6s 73ms/step - loss: 0.0010 - val_loss: 3.3989e-04\n",
      "Epoch 6/10\n",
      "81/81 [==============================] - 6s 73ms/step - loss: 9.9812e-04 - val_loss: 8.4687e-04\n",
      "Epoch 7/10\n",
      "81/81 [==============================] - 6s 77ms/step - loss: 0.0010 - val_loss: 3.4194e-04\n",
      "Epoch 8/10\n",
      "81/81 [==============================] - 6s 73ms/step - loss: 8.5303e-04 - val_loss: 3.5808e-04\n",
      "Epoch 9/10\n",
      "81/81 [==============================] - 6s 72ms/step - loss: 9.2852e-04 - val_loss: 4.1407e-04\n",
      "Epoch 10/10\n",
      "81/81 [==============================] - 6s 73ms/step - loss: 7.8829e-04 - val_loss: 5.6270e-04\n",
      "✅ Saved model to AEP_gru_model.h5\n",
      "\n",
      "📈 Downloading data for AXP...\n"
     ]
    },
    {
     "name": "stderr",
     "output_type": "stream",
     "text": [
      "[*********************100%***********************]  1 of 1 completed\n"
     ]
    },
    {
     "name": "stdout",
     "output_type": "stream",
     "text": [
      "Training shape for AXP - X_train: (2571, 100, 1), X_test: (1102, 100, 1)\n",
      "Epoch 1/10\n",
      "81/81 [==============================] - 9s 82ms/step - loss: 0.0020 - val_loss: 3.8401e-04\n",
      "Epoch 2/10\n",
      "81/81 [==============================] - 6s 75ms/step - loss: 3.2634e-04 - val_loss: 5.8028e-04\n",
      "Epoch 3/10\n",
      "81/81 [==============================] - 6s 72ms/step - loss: 2.7135e-04 - val_loss: 6.0400e-04\n",
      "Epoch 4/10\n",
      "81/81 [==============================] - 6s 72ms/step - loss: 2.7055e-04 - val_loss: 6.4991e-04\n",
      "Epoch 5/10\n",
      "81/81 [==============================] - 6s 74ms/step - loss: 2.4613e-04 - val_loss: 3.2374e-04\n",
      "Epoch 6/10\n",
      "81/81 [==============================] - 6s 77ms/step - loss: 2.4538e-04 - val_loss: 6.0859e-04\n",
      "Epoch 7/10\n",
      "81/81 [==============================] - 6s 75ms/step - loss: 2.4222e-04 - val_loss: 2.9940e-04\n",
      "Epoch 8/10\n",
      "81/81 [==============================] - 6s 72ms/step - loss: 1.9735e-04 - val_loss: 2.9602e-04\n",
      "Epoch 9/10\n",
      "81/81 [==============================] - 6s 76ms/step - loss: 1.9754e-04 - val_loss: 2.8466e-04\n",
      "Epoch 10/10\n",
      "81/81 [==============================] - 6s 73ms/step - loss: 1.6686e-04 - val_loss: 8.4201e-04\n",
      "✅ Saved model to AXP_gru_model.h5\n",
      "\n",
      "📈 Downloading data for AIG...\n"
     ]
    },
    {
     "name": "stderr",
     "output_type": "stream",
     "text": [
      "[*********************100%***********************]  1 of 1 completed\n"
     ]
    },
    {
     "name": "stdout",
     "output_type": "stream",
     "text": [
      "Training shape for AIG - X_train: (2571, 100, 1), X_test: (1102, 100, 1)\n",
      "Epoch 1/10\n",
      "81/81 [==============================] - 11s 87ms/step - loss: 0.0101 - val_loss: 4.4989e-04\n",
      "Epoch 2/10\n",
      "81/81 [==============================] - 6s 74ms/step - loss: 0.0020 - val_loss: 6.9838e-04\n",
      "Epoch 3/10\n",
      "81/81 [==============================] - 6s 75ms/step - loss: 0.0016 - val_loss: 7.1626e-04\n",
      "Epoch 4/10\n",
      "81/81 [==============================] - 6s 74ms/step - loss: 0.0014 - val_loss: 5.5570e-04\n",
      "Epoch 5/10\n",
      "81/81 [==============================] - 6s 77ms/step - loss: 0.0015 - val_loss: 7.5785e-04\n",
      "Epoch 6/10\n",
      "81/81 [==============================] - 6s 78ms/step - loss: 0.0013 - val_loss: 4.2302e-04\n",
      "Epoch 7/10\n",
      "81/81 [==============================] - 6s 77ms/step - loss: 0.0012 - val_loss: 4.7907e-04\n",
      "Epoch 8/10\n",
      "81/81 [==============================] - 6s 78ms/step - loss: 0.0012 - val_loss: 5.2786e-04\n",
      "Epoch 9/10\n",
      "81/81 [==============================] - 6s 77ms/step - loss: 0.0011 - val_loss: 4.0804e-04\n",
      "Epoch 10/10\n",
      "81/81 [==============================] - 7s 86ms/step - loss: 0.0010 - val_loss: 4.1685e-04\n",
      "✅ Saved model to AIG_gru_model.h5\n",
      "\n",
      "📈 Downloading data for AMT...\n"
     ]
    },
    {
     "name": "stderr",
     "output_type": "stream",
     "text": [
      "[*********************100%***********************]  1 of 1 completed\n"
     ]
    },
    {
     "name": "stdout",
     "output_type": "stream",
     "text": [
      "Training shape for AMT - X_train: (2571, 100, 1), X_test: (1102, 100, 1)\n",
      "Epoch 1/10\n",
      "81/81 [==============================] - 9s 79ms/step - loss: 0.0139 - val_loss: 0.0022\n",
      "Epoch 2/10\n",
      "81/81 [==============================] - 6s 73ms/step - loss: 0.0014 - val_loss: 5.6152e-04\n",
      "Epoch 3/10\n",
      "81/81 [==============================] - 6s 74ms/step - loss: 0.0011 - val_loss: 5.3914e-04\n",
      "Epoch 4/10\n",
      "81/81 [==============================] - 6s 75ms/step - loss: 0.0012 - val_loss: 9.7838e-04\n",
      "Epoch 5/10\n",
      "81/81 [==============================] - 6s 76ms/step - loss: 0.0010 - val_loss: 9.3413e-04\n",
      "Epoch 6/10\n",
      "81/81 [==============================] - 6s 73ms/step - loss: 0.0010 - val_loss: 6.6210e-04\n",
      "Epoch 7/10\n",
      "81/81 [==============================] - 6s 75ms/step - loss: 8.0011e-04 - val_loss: 5.6440e-04\n",
      "Epoch 8/10\n",
      "81/81 [==============================] - 6s 74ms/step - loss: 8.5767e-04 - val_loss: 6.7583e-04\n",
      "Epoch 9/10\n",
      "81/81 [==============================] - 6s 77ms/step - loss: 8.0818e-04 - val_loss: 8.0639e-04\n",
      "Epoch 10/10\n",
      "81/81 [==============================] - 6s 77ms/step - loss: 7.7702e-04 - val_loss: 9.7190e-04\n",
      "✅ Saved model to AMT_gru_model.h5\n",
      "\n",
      "📈 Downloading data for AWK...\n"
     ]
    },
    {
     "name": "stderr",
     "output_type": "stream",
     "text": [
      "[*********************100%***********************]  1 of 1 completed\n"
     ]
    },
    {
     "name": "stdout",
     "output_type": "stream",
     "text": [
      "Training shape for AWK - X_train: (2571, 100, 1), X_test: (1102, 100, 1)\n",
      "Epoch 1/10\n",
      "81/81 [==============================] - 9s 77ms/step - loss: 0.0066 - val_loss: 6.5034e-04\n",
      "Epoch 2/10\n",
      "81/81 [==============================] - 6s 72ms/step - loss: 0.0012 - val_loss: 0.0011\n",
      "Epoch 3/10\n",
      "81/81 [==============================] - 6s 73ms/step - loss: 9.9112e-04 - val_loss: 5.5854e-04\n",
      "Epoch 4/10\n",
      "81/81 [==============================] - 6s 78ms/step - loss: 8.4636e-04 - val_loss: 4.2492e-04\n",
      "Epoch 5/10\n",
      "81/81 [==============================] - 6s 72ms/step - loss: 7.4120e-04 - val_loss: 4.6758e-04\n",
      "Epoch 6/10\n",
      "81/81 [==============================] - 6s 73ms/step - loss: 7.2789e-04 - val_loss: 0.0012\n",
      "Epoch 7/10\n",
      "81/81 [==============================] - 6s 73ms/step - loss: 6.7778e-04 - val_loss: 4.1831e-04\n",
      "Epoch 8/10\n",
      "81/81 [==============================] - 6s 74ms/step - loss: 6.9566e-04 - val_loss: 5.1599e-04\n",
      "Epoch 9/10\n",
      "81/81 [==============================] - 6s 77ms/step - loss: 7.4656e-04 - val_loss: 4.2889e-04\n",
      "Epoch 10/10\n",
      "81/81 [==============================] - 6s 78ms/step - loss: 6.3332e-04 - val_loss: 4.5981e-04\n",
      "✅ Saved model to AWK_gru_model.h5\n",
      "\n",
      "📈 Downloading data for AMP...\n"
     ]
    },
    {
     "name": "stderr",
     "output_type": "stream",
     "text": [
      "[*********************100%***********************]  1 of 1 completed\n"
     ]
    },
    {
     "name": "stdout",
     "output_type": "stream",
     "text": [
      "Training shape for AMP - X_train: (2571, 100, 1), X_test: (1102, 100, 1)\n",
      "Epoch 1/10\n",
      "81/81 [==============================] - 9s 76ms/step - loss: 8.8744e-04 - val_loss: 2.1657e-04\n",
      "Epoch 2/10\n",
      "81/81 [==============================] - 6s 76ms/step - loss: 1.7344e-04 - val_loss: 3.3329e-04\n",
      "Epoch 3/10\n",
      "81/81 [==============================] - 6s 76ms/step - loss: 1.4537e-04 - val_loss: 5.5484e-04\n",
      "Epoch 4/10\n",
      "81/81 [==============================] - 6s 73ms/step - loss: 1.2958e-04 - val_loss: 2.3238e-04\n",
      "Epoch 5/10\n",
      "81/81 [==============================] - 6s 72ms/step - loss: 1.2068e-04 - val_loss: 1.9396e-04\n",
      "Epoch 6/10\n",
      "81/81 [==============================] - 6s 73ms/step - loss: 1.2859e-04 - val_loss: 4.8839e-04\n",
      "Epoch 7/10\n",
      "81/81 [==============================] - 6s 72ms/step - loss: 1.0153e-04 - val_loss: 1.7445e-04\n",
      "Epoch 8/10\n",
      "81/81 [==============================] - 6s 77ms/step - loss: 9.9225e-05 - val_loss: 1.9451e-04\n",
      "Epoch 9/10\n",
      "81/81 [==============================] - 6s 73ms/step - loss: 9.1920e-05 - val_loss: 3.1296e-04\n",
      "Epoch 10/10\n",
      "81/81 [==============================] - 6s 72ms/step - loss: 8.7101e-05 - val_loss: 1.6106e-04\n",
      "✅ Saved model to AMP_gru_model.h5\n",
      "\n",
      "📈 Downloading data for AME...\n"
     ]
    },
    {
     "name": "stderr",
     "output_type": "stream",
     "text": [
      "[*********************100%***********************]  1 of 1 completed\n"
     ]
    },
    {
     "name": "stdout",
     "output_type": "stream",
     "text": [
      "Training shape for AME - X_train: (2571, 100, 1), X_test: (1102, 100, 1)\n",
      "Epoch 1/10\n",
      "81/81 [==============================] - 9s 77ms/step - loss: 0.0027 - val_loss: 8.1555e-04\n",
      "Epoch 2/10\n",
      "81/81 [==============================] - 6s 74ms/step - loss: 5.8758e-04 - val_loss: 7.1064e-04\n",
      "Epoch 3/10\n",
      "81/81 [==============================] - 6s 74ms/step - loss: 4.6940e-04 - val_loss: 2.4173e-04\n",
      "Epoch 4/10\n",
      "81/81 [==============================] - 6s 72ms/step - loss: 4.2102e-04 - val_loss: 2.4970e-04\n",
      "Epoch 5/10\n",
      "81/81 [==============================] - 6s 72ms/step - loss: 4.1463e-04 - val_loss: 6.7790e-04\n",
      "Epoch 6/10\n",
      "81/81 [==============================] - 6s 74ms/step - loss: 3.3793e-04 - val_loss: 3.6049e-04\n",
      "Epoch 7/10\n",
      "81/81 [==============================] - 6s 74ms/step - loss: 3.3058e-04 - val_loss: 3.1587e-04\n",
      "Epoch 8/10\n",
      "81/81 [==============================] - 6s 78ms/step - loss: 3.0289e-04 - val_loss: 7.7143e-04\n",
      "Epoch 9/10\n",
      "81/81 [==============================] - 6s 71ms/step - loss: 3.2543e-04 - val_loss: 2.1501e-04\n",
      "Epoch 10/10\n",
      "81/81 [==============================] - 6s 72ms/step - loss: 2.8627e-04 - val_loss: 8.5323e-04\n",
      "✅ Saved model to AME_gru_model.h5\n",
      "\n",
      "📈 Downloading data for AMGN...\n"
     ]
    },
    {
     "name": "stderr",
     "output_type": "stream",
     "text": [
      "[*********************100%***********************]  1 of 1 completed\n"
     ]
    },
    {
     "name": "stdout",
     "output_type": "stream",
     "text": [
      "Training shape for AMGN - X_train: (2571, 100, 1), X_test: (1102, 100, 1)\n",
      "Epoch 1/10\n",
      "81/81 [==============================] - 9s 79ms/step - loss: 0.0059 - val_loss: 9.1051e-04\n",
      "Epoch 2/10\n",
      "81/81 [==============================] - 6s 79ms/step - loss: 0.0010 - val_loss: 8.7962e-04\n",
      "Epoch 3/10\n",
      "81/81 [==============================] - 6s 72ms/step - loss: 8.2272e-04 - val_loss: 3.8605e-04\n",
      "Epoch 4/10\n",
      "81/81 [==============================] - 6s 72ms/step - loss: 8.1505e-04 - val_loss: 5.4096e-04\n",
      "Epoch 5/10\n",
      "81/81 [==============================] - 6s 76ms/step - loss: 7.5508e-04 - val_loss: 3.9096e-04\n",
      "Epoch 6/10\n",
      "81/81 [==============================] - 6s 74ms/step - loss: 6.4232e-04 - val_loss: 4.3671e-04\n",
      "Epoch 7/10\n",
      "81/81 [==============================] - 7s 81ms/step - loss: 6.5847e-04 - val_loss: 3.4499e-04\n",
      "Epoch 8/10\n",
      "81/81 [==============================] - 6s 74ms/step - loss: 6.0876e-04 - val_loss: 3.6709e-04\n",
      "Epoch 9/10\n",
      "81/81 [==============================] - 6s 74ms/step - loss: 5.6877e-04 - val_loss: 3.7731e-04\n",
      "Epoch 10/10\n",
      "81/81 [==============================] - 6s 75ms/step - loss: 5.5248e-04 - val_loss: 7.6791e-04\n",
      "✅ Saved model to AMGN_gru_model.h5\n",
      "\n",
      "📈 Downloading data for APH...\n"
     ]
    },
    {
     "name": "stderr",
     "output_type": "stream",
     "text": [
      "[*********************100%***********************]  1 of 1 completed\n"
     ]
    },
    {
     "name": "stdout",
     "output_type": "stream",
     "text": [
      "Training shape for APH - X_train: (2571, 100, 1), X_test: (1102, 100, 1)\n",
      "Epoch 1/10\n",
      "81/81 [==============================] - 10s 86ms/step - loss: 0.0016 - val_loss: 2.3361e-04\n",
      "Epoch 2/10\n",
      "81/81 [==============================] - 6s 71ms/step - loss: 2.5578e-04 - val_loss: 4.0328e-04\n",
      "Epoch 3/10\n",
      "81/81 [==============================] - 6s 73ms/step - loss: 2.3603e-04 - val_loss: 4.5035e-04\n",
      "Epoch 4/10\n",
      "81/81 [==============================] - 6s 72ms/step - loss: 2.1663e-04 - val_loss: 3.7672e-04\n",
      "Epoch 5/10\n",
      "81/81 [==============================] - 6s 72ms/step - loss: 1.7685e-04 - val_loss: 2.5727e-04\n",
      "Epoch 6/10\n",
      "81/81 [==============================] - 6s 78ms/step - loss: 1.7696e-04 - val_loss: 2.5586e-04\n",
      "Epoch 7/10\n",
      "81/81 [==============================] - 6s 73ms/step - loss: 1.6808e-04 - val_loss: 3.0240e-04\n",
      "Epoch 8/10\n",
      "81/81 [==============================] - 6s 72ms/step - loss: 1.4095e-04 - val_loss: 7.0363e-04\n",
      "Epoch 9/10\n",
      "81/81 [==============================] - 6s 72ms/step - loss: 1.3359e-04 - val_loss: 4.1678e-04\n",
      "Epoch 10/10\n",
      "81/81 [==============================] - 6s 73ms/step - loss: 1.4936e-04 - val_loss: 6.1467e-04\n",
      "✅ Saved model to APH_gru_model.h5\n",
      "\n",
      "📈 Downloading data for ADI...\n"
     ]
    },
    {
     "name": "stderr",
     "output_type": "stream",
     "text": [
      "[*********************100%***********************]  1 of 1 completed\n"
     ]
    },
    {
     "name": "stdout",
     "output_type": "stream",
     "text": [
      "Training shape for ADI - X_train: (2571, 100, 1), X_test: (1102, 100, 1)\n",
      "Epoch 1/10\n",
      "81/81 [==============================] - 11s 84ms/step - loss: 0.0031 - val_loss: 7.2731e-04\n",
      "Epoch 2/10\n",
      "81/81 [==============================] - 6s 73ms/step - loss: 4.6463e-04 - val_loss: 6.1306e-04\n",
      "Epoch 3/10\n",
      "81/81 [==============================] - 6s 80ms/step - loss: 3.9662e-04 - val_loss: 7.2178e-04\n",
      "Epoch 4/10\n",
      "81/81 [==============================] - 6s 74ms/step - loss: 3.5508e-04 - val_loss: 0.0011\n",
      "Epoch 5/10\n",
      "81/81 [==============================] - 6s 77ms/step - loss: 3.2764e-04 - val_loss: 4.2904e-04\n",
      "Epoch 6/10\n",
      "81/81 [==============================] - 6s 72ms/step - loss: 3.1144e-04 - val_loss: 4.3617e-04\n",
      "Epoch 7/10\n",
      "81/81 [==============================] - 6s 72ms/step - loss: 2.8062e-04 - val_loss: 4.0114e-04\n",
      "Epoch 8/10\n",
      "81/81 [==============================] - 6s 75ms/step - loss: 2.9816e-04 - val_loss: 5.3744e-04\n",
      "Epoch 9/10\n",
      "81/81 [==============================] - 6s 72ms/step - loss: 2.8284e-04 - val_loss: 0.0011\n",
      "Epoch 10/10\n",
      "81/81 [==============================] - 6s 80ms/step - loss: 2.8444e-04 - val_loss: 4.3600e-04\n",
      "✅ Saved model to ADI_gru_model.h5\n",
      "\n",
      "📈 Downloading data for ANSS...\n"
     ]
    },
    {
     "name": "stderr",
     "output_type": "stream",
     "text": [
      "[*********************100%***********************]  1 of 1 completed\n"
     ]
    },
    {
     "name": "stdout",
     "output_type": "stream",
     "text": [
      "Training shape for ANSS - X_train: (2571, 100, 1), X_test: (1102, 100, 1)\n",
      "Epoch 1/10\n",
      "81/81 [==============================] - 10s 81ms/step - loss: 0.0043 - val_loss: 7.2614e-04\n",
      "Epoch 2/10\n",
      "81/81 [==============================] - 6s 74ms/step - loss: 7.8022e-04 - val_loss: 9.6460e-04\n",
      "Epoch 3/10\n",
      "81/81 [==============================] - 6s 76ms/step - loss: 6.4136e-04 - val_loss: 6.6001e-04\n",
      "Epoch 4/10\n",
      "81/81 [==============================] - 7s 83ms/step - loss: 5.7016e-04 - val_loss: 6.3410e-04\n",
      "Epoch 5/10\n",
      "81/81 [==============================] - 6s 72ms/step - loss: 5.3882e-04 - val_loss: 6.5862e-04\n",
      "Epoch 6/10\n",
      "81/81 [==============================] - 6s 76ms/step - loss: 5.3110e-04 - val_loss: 0.0015\n",
      "Epoch 7/10\n",
      "81/81 [==============================] - 6s 75ms/step - loss: 5.5353e-04 - val_loss: 6.3197e-04\n",
      "Epoch 8/10\n",
      "81/81 [==============================] - 6s 76ms/step - loss: 4.8397e-04 - val_loss: 0.0012\n",
      "Epoch 9/10\n",
      "81/81 [==============================] - 6s 80ms/step - loss: 4.7915e-04 - val_loss: 5.9877e-04\n",
      "Epoch 10/10\n",
      "81/81 [==============================] - 6s 75ms/step - loss: 4.6572e-04 - val_loss: 0.0012\n",
      "✅ Saved model to ANSS_gru_model.h5\n",
      "\n",
      "📈 Downloading data for AON...\n"
     ]
    },
    {
     "name": "stderr",
     "output_type": "stream",
     "text": [
      "[*********************100%***********************]  1 of 1 completed\n"
     ]
    },
    {
     "name": "stdout",
     "output_type": "stream",
     "text": [
      "Training shape for AON - X_train: (2571, 100, 1), X_test: (1102, 100, 1)\n",
      "Epoch 1/10\n",
      "81/81 [==============================] - 9s 82ms/step - loss: 0.0049 - val_loss: 3.5095e-04\n",
      "Epoch 2/10\n",
      "81/81 [==============================] - 6s 75ms/step - loss: 6.4254e-04 - val_loss: 6.4215e-04\n",
      "Epoch 3/10\n",
      "81/81 [==============================] - 6s 79ms/step - loss: 5.1364e-04 - val_loss: 5.4976e-04\n",
      "Epoch 4/10\n",
      "81/81 [==============================] - 6s 73ms/step - loss: 4.9807e-04 - val_loss: 0.0012\n",
      "Epoch 5/10\n",
      "81/81 [==============================] - 6s 72ms/step - loss: 4.4845e-04 - val_loss: 6.6421e-04\n",
      "Epoch 6/10\n",
      "81/81 [==============================] - 6s 72ms/step - loss: 4.0021e-04 - val_loss: 0.0013\n",
      "Epoch 7/10\n",
      "81/81 [==============================] - 6s 74ms/step - loss: 4.2217e-04 - val_loss: 0.0016\n",
      "Epoch 8/10\n",
      "81/81 [==============================] - 6s 77ms/step - loss: 3.3260e-04 - val_loss: 3.7843e-04\n",
      "Epoch 9/10\n",
      "81/81 [==============================] - 6s 74ms/step - loss: 3.4527e-04 - val_loss: 7.4704e-04\n",
      "Epoch 10/10\n",
      "81/81 [==============================] - 6s 73ms/step - loss: 3.2371e-04 - val_loss: 2.7448e-04\n",
      "✅ Saved model to AON_gru_model.h5\n",
      "\n",
      "📈 Downloading data for APA...\n"
     ]
    },
    {
     "name": "stderr",
     "output_type": "stream",
     "text": [
      "[*********************100%***********************]  1 of 1 completed\n"
     ]
    },
    {
     "name": "stdout",
     "output_type": "stream",
     "text": [
      "Training shape for APA - X_train: (2571, 100, 1), X_test: (1102, 100, 1)\n",
      "Epoch 1/10\n",
      "81/81 [==============================] - 9s 80ms/step - loss: 0.0324 - val_loss: 2.3488e-04\n",
      "Epoch 2/10\n",
      "81/81 [==============================] - 6s 77ms/step - loss: 0.0029 - val_loss: 2.0850e-04\n",
      "Epoch 3/10\n",
      "81/81 [==============================] - 6s 75ms/step - loss: 0.0027 - val_loss: 2.8597e-04\n",
      "Epoch 4/10\n",
      "81/81 [==============================] - 6s 70ms/step - loss: 0.0027 - val_loss: 3.1479e-04\n",
      "Epoch 5/10\n",
      "81/81 [==============================] - 6s 73ms/step - loss: 0.0024 - val_loss: 1.9605e-04\n",
      "Epoch 6/10\n",
      "81/81 [==============================] - 6s 72ms/step - loss: 0.0021 - val_loss: 1.8100e-04\n",
      "Epoch 7/10\n",
      "81/81 [==============================] - 6s 76ms/step - loss: 0.0022 - val_loss: 2.2344e-04\n",
      "Epoch 8/10\n",
      "81/81 [==============================] - 6s 75ms/step - loss: 0.0020 - val_loss: 1.7184e-04\n",
      "Epoch 9/10\n",
      "81/81 [==============================] - 6s 72ms/step - loss: 0.0019 - val_loss: 2.6003e-04\n",
      "Epoch 10/10\n",
      "81/81 [==============================] - 6s 73ms/step - loss: 0.0019 - val_loss: 1.6696e-04\n",
      "✅ Saved model to APA_gru_model.h5\n",
      "\n",
      "📈 Downloading data for APO...\n"
     ]
    },
    {
     "name": "stderr",
     "output_type": "stream",
     "text": [
      "[*********************100%***********************]  1 of 1 completed\n"
     ]
    },
    {
     "name": "stdout",
     "output_type": "stream",
     "text": [
      "Training shape for APO - X_train: (2352, 100, 1), X_test: (1009, 100, 1)\n",
      "Epoch 1/10\n",
      "74/74 [==============================] - 9s 78ms/step - loss: 9.3524e-04 - val_loss: 2.5203e-04\n",
      "Epoch 2/10\n",
      "74/74 [==============================] - 6s 79ms/step - loss: 1.1993e-04 - val_loss: 3.4119e-04\n",
      "Epoch 3/10\n",
      "74/74 [==============================] - 5s 74ms/step - loss: 1.1676e-04 - val_loss: 2.1897e-04\n",
      "Epoch 4/10\n",
      "74/74 [==============================] - 5s 73ms/step - loss: 9.8463e-05 - val_loss: 2.1176e-04\n",
      "Epoch 5/10\n",
      "74/74 [==============================] - 5s 71ms/step - loss: 8.5305e-05 - val_loss: 2.3075e-04\n",
      "Epoch 6/10\n",
      "74/74 [==============================] - 5s 73ms/step - loss: 9.1681e-05 - val_loss: 2.2014e-04\n",
      "Epoch 7/10\n",
      "74/74 [==============================] - 6s 79ms/step - loss: 7.9151e-05 - val_loss: 4.5065e-04\n",
      "Epoch 8/10\n",
      "74/74 [==============================] - 5s 74ms/step - loss: 6.9577e-05 - val_loss: 2.1386e-04\n",
      "Epoch 9/10\n",
      "74/74 [==============================] - 5s 72ms/step - loss: 6.8701e-05 - val_loss: 7.4853e-04\n",
      "Epoch 10/10\n",
      "74/74 [==============================] - 5s 74ms/step - loss: 7.4109e-05 - val_loss: 2.2914e-04\n",
      "✅ Saved model to APO_gru_model.h5\n",
      "\n",
      "📈 Downloading data for AAPL...\n"
     ]
    },
    {
     "name": "stderr",
     "output_type": "stream",
     "text": [
      "[*********************100%***********************]  1 of 1 completed\n"
     ]
    },
    {
     "name": "stdout",
     "output_type": "stream",
     "text": [
      "Training shape for AAPL - X_train: (2571, 100, 1), X_test: (1102, 100, 1)\n",
      "Epoch 1/10\n",
      "81/81 [==============================] - 9s 78ms/step - loss: 0.0011 - val_loss: 3.1066e-04\n",
      "Epoch 2/10\n",
      "81/81 [==============================] - 6s 79ms/step - loss: 1.5287e-04 - val_loss: 2.9860e-04\n",
      "Epoch 3/10\n",
      "81/81 [==============================] - 6s 73ms/step - loss: 1.4891e-04 - val_loss: 0.0010\n",
      "Epoch 4/10\n",
      "81/81 [==============================] - 6s 72ms/step - loss: 1.2566e-04 - val_loss: 2.5972e-04\n",
      "Epoch 5/10\n",
      "81/81 [==============================] - 6s 73ms/step - loss: 1.1396e-04 - val_loss: 8.2864e-04\n",
      "Epoch 6/10\n",
      "81/81 [==============================] - 6s 73ms/step - loss: 9.8431e-05 - val_loss: 2.7613e-04\n",
      "Epoch 7/10\n",
      "81/81 [==============================] - 6s 79ms/step - loss: 9.5124e-05 - val_loss: 9.0269e-04\n",
      "Epoch 8/10\n",
      "81/81 [==============================] - 6s 72ms/step - loss: 8.9991e-05 - val_loss: 4.7349e-04\n",
      "Epoch 9/10\n",
      "81/81 [==============================] - 6s 74ms/step - loss: 8.1829e-05 - val_loss: 2.3338e-04\n",
      "Epoch 10/10\n",
      "81/81 [==============================] - 6s 78ms/step - loss: 9.0558e-05 - val_loss: 3.0984e-04\n",
      "✅ Saved model to AAPL_gru_model.h5\n",
      "\n",
      "📈 Downloading data for AMAT...\n"
     ]
    },
    {
     "name": "stderr",
     "output_type": "stream",
     "text": [
      "[*********************100%***********************]  1 of 1 completed\n"
     ]
    },
    {
     "name": "stdout",
     "output_type": "stream",
     "text": [
      "Training shape for AMAT - X_train: (2571, 100, 1), X_test: (1102, 100, 1)\n",
      "Epoch 1/10\n",
      "81/81 [==============================] - 10s 86ms/step - loss: 6.6629e-04 - val_loss: 5.1484e-04\n",
      "Epoch 2/10\n",
      "81/81 [==============================] - 6s 73ms/step - loss: 1.1358e-04 - val_loss: 5.0747e-04\n",
      "Epoch 3/10\n",
      "81/81 [==============================] - 6s 72ms/step - loss: 1.1391e-04 - val_loss: 0.0012\n",
      "Epoch 4/10\n",
      "81/81 [==============================] - 6s 72ms/step - loss: 9.2911e-05 - val_loss: 0.0011\n",
      "Epoch 5/10\n",
      "81/81 [==============================] - 6s 74ms/step - loss: 9.1020e-05 - val_loss: 4.5198e-04\n",
      "Epoch 6/10\n",
      "81/81 [==============================] - 6s 78ms/step - loss: 7.6712e-05 - val_loss: 4.4385e-04\n",
      "Epoch 7/10\n",
      "81/81 [==============================] - 6s 73ms/step - loss: 6.9024e-05 - val_loss: 4.3767e-04\n",
      "Epoch 8/10\n",
      "81/81 [==============================] - 6s 72ms/step - loss: 6.5907e-05 - val_loss: 7.0452e-04\n",
      "Epoch 9/10\n",
      "81/81 [==============================] - 6s 74ms/step - loss: 7.1401e-05 - val_loss: 5.1045e-04\n",
      "Epoch 10/10\n",
      "81/81 [==============================] - 6s 73ms/step - loss: 7.5112e-05 - val_loss: 5.5093e-04\n",
      "✅ Saved model to AMAT_gru_model.h5\n",
      "\n",
      "📈 Downloading data for APTV...\n"
     ]
    },
    {
     "name": "stderr",
     "output_type": "stream",
     "text": [
      "[*********************100%***********************]  1 of 1 completed\n"
     ]
    },
    {
     "name": "stdout",
     "output_type": "stream",
     "text": [
      "Training shape for APTV - X_train: (2239, 100, 1), X_test: (960, 100, 1)\n",
      "Epoch 1/10\n",
      "70/70 [==============================] - 9s 85ms/step - loss: 0.0110 - val_loss: 6.5003e-04\n",
      "Epoch 2/10\n",
      "70/70 [==============================] - 5s 73ms/step - loss: 0.0015 - val_loss: 6.5706e-04\n",
      "Epoch 3/10\n",
      "70/70 [==============================] - 5s 72ms/step - loss: 0.0012 - val_loss: 6.9163e-04\n",
      "Epoch 4/10\n",
      "70/70 [==============================] - 5s 72ms/step - loss: 0.0012 - val_loss: 0.0012\n",
      "Epoch 5/10\n",
      "70/70 [==============================] - 5s 74ms/step - loss: 0.0010 - val_loss: 6.2051e-04\n",
      "Epoch 6/10\n",
      "70/70 [==============================] - 6s 81ms/step - loss: 9.9682e-04 - val_loss: 8.5080e-04\n",
      "Epoch 7/10\n",
      "70/70 [==============================] - 5s 71ms/step - loss: 9.5723e-04 - val_loss: 7.3640e-04\n",
      "Epoch 8/10\n",
      "70/70 [==============================] - 5s 73ms/step - loss: 9.1309e-04 - val_loss: 5.8080e-04\n",
      "Epoch 9/10\n",
      "70/70 [==============================] - 5s 73ms/step - loss: 8.0876e-04 - val_loss: 5.6264e-04\n",
      "Epoch 10/10\n",
      "70/70 [==============================] - 5s 76ms/step - loss: 8.6834e-04 - val_loss: 6.9204e-04\n",
      "✅ Saved model to APTV_gru_model.h5\n",
      "\n",
      "📈 Downloading data for ACGL...\n"
     ]
    },
    {
     "name": "stderr",
     "output_type": "stream",
     "text": [
      "[*********************100%***********************]  1 of 1 completed\n"
     ]
    },
    {
     "name": "stdout",
     "output_type": "stream",
     "text": [
      "Training shape for ACGL - X_train: (2571, 100, 1), X_test: (1102, 100, 1)\n",
      "Epoch 1/10\n",
      "81/81 [==============================] - 9s 85ms/step - loss: 0.0028 - val_loss: 3.7787e-04\n",
      "Epoch 2/10\n",
      "81/81 [==============================] - 6s 74ms/step - loss: 2.8614e-04 - val_loss: 0.0010\n",
      "Epoch 3/10\n",
      "81/81 [==============================] - 6s 71ms/step - loss: 2.3462e-04 - val_loss: 5.1468e-04\n",
      "Epoch 4/10\n",
      "81/81 [==============================] - 6s 73ms/step - loss: 2.2839e-04 - val_loss: 3.3095e-04\n",
      "Epoch 5/10\n",
      "81/81 [==============================] - 6s 73ms/step - loss: 2.1721e-04 - val_loss: 2.2875e-04\n",
      "Epoch 6/10\n",
      "81/81 [==============================] - 6s 78ms/step - loss: 2.0170e-04 - val_loss: 2.1444e-04\n",
      "Epoch 7/10\n",
      "81/81 [==============================] - 6s 73ms/step - loss: 1.7985e-04 - val_loss: 4.6750e-04\n",
      "Epoch 8/10\n",
      "81/81 [==============================] - 6s 73ms/step - loss: 1.8041e-04 - val_loss: 3.3015e-04\n",
      "Epoch 9/10\n",
      "81/81 [==============================] - 6s 74ms/step - loss: 1.6091e-04 - val_loss: 1.8123e-04\n",
      "Epoch 10/10\n",
      "81/81 [==============================] - 6s 72ms/step - loss: 1.5608e-04 - val_loss: 3.8367e-04\n",
      "✅ Saved model to ACGL_gru_model.h5\n",
      "\n",
      "📈 Downloading data for ADM...\n"
     ]
    },
    {
     "name": "stderr",
     "output_type": "stream",
     "text": [
      "[*********************100%***********************]  1 of 1 completed\n"
     ]
    },
    {
     "name": "stdout",
     "output_type": "stream",
     "text": [
      "Training shape for ADM - X_train: (2571, 100, 1), X_test: (1102, 100, 1)\n",
      "Epoch 1/10\n",
      "81/81 [==============================] - 10s 80ms/step - loss: 0.0037 - val_loss: 5.8704e-04\n",
      "Epoch 2/10\n",
      "81/81 [==============================] - 6s 74ms/step - loss: 4.7860e-04 - val_loss: 5.1847e-04\n",
      "Epoch 3/10\n",
      "81/81 [==============================] - 6s 73ms/step - loss: 4.2687e-04 - val_loss: 7.6693e-04\n",
      "Epoch 4/10\n",
      "81/81 [==============================] - 6s 73ms/step - loss: 3.7215e-04 - val_loss: 6.8314e-04\n",
      "Epoch 5/10\n",
      "81/81 [==============================] - 6s 80ms/step - loss: 3.7284e-04 - val_loss: 4.5556e-04\n",
      "Epoch 6/10\n",
      "81/81 [==============================] - 6s 72ms/step - loss: 3.1601e-04 - val_loss: 0.0012\n",
      "Epoch 7/10\n",
      "81/81 [==============================] - 6s 76ms/step - loss: 3.1053e-04 - val_loss: 6.1933e-04\n",
      "Epoch 8/10\n",
      "81/81 [==============================] - 6s 78ms/step - loss: 2.6897e-04 - val_loss: 4.0732e-04\n",
      "Epoch 9/10\n",
      "81/81 [==============================] - 6s 75ms/step - loss: 2.6283e-04 - val_loss: 4.1035e-04\n",
      "Epoch 10/10\n",
      "81/81 [==============================] - 6s 80ms/step - loss: 2.5885e-04 - val_loss: 9.6967e-04\n",
      "✅ Saved model to ADM_gru_model.h5\n",
      "\n",
      "📈 Downloading data for ANET...\n"
     ]
    },
    {
     "name": "stderr",
     "output_type": "stream",
     "text": [
      "[*********************100%***********************]  1 of 1 completed\n"
     ]
    },
    {
     "name": "stdout",
     "output_type": "stream",
     "text": [
      "Training shape for ANET - X_train: (1792, 100, 1), X_test: (768, 100, 1)\n",
      "Epoch 1/10\n",
      "56/56 [==============================] - 6s 64ms/step - loss: 6.0143e-04 - val_loss: 5.2300e-04\n",
      "Epoch 2/10\n",
      "56/56 [==============================] - 3s 58ms/step - loss: 1.3195e-04 - val_loss: 3.8661e-04\n",
      "Epoch 3/10\n",
      "56/56 [==============================] - 3s 56ms/step - loss: 1.2391e-04 - val_loss: 0.0036\n",
      "Epoch 4/10\n",
      "56/56 [==============================] - 3s 58ms/step - loss: 1.4399e-04 - val_loss: 3.6695e-04\n",
      "Epoch 5/10\n",
      "56/56 [==============================] - 3s 55ms/step - loss: 9.2865e-05 - val_loss: 5.3115e-04\n",
      "Epoch 6/10\n",
      "56/56 [==============================] - 3s 58ms/step - loss: 8.3420e-05 - val_loss: 3.3611e-04\n",
      "Epoch 7/10\n",
      "56/56 [==============================] - 3s 56ms/step - loss: 8.1833e-05 - val_loss: 4.8642e-04\n",
      "Epoch 8/10\n",
      "56/56 [==============================] - 4s 64ms/step - loss: 8.4871e-05 - val_loss: 8.1163e-04\n",
      "Epoch 9/10\n",
      "56/56 [==============================] - 3s 56ms/step - loss: 6.9060e-05 - val_loss: 5.8842e-04\n",
      "Epoch 10/10\n",
      "56/56 [==============================] - 3s 56ms/step - loss: 7.0941e-05 - val_loss: 3.3851e-04\n",
      "✅ Saved model to ANET_gru_model.h5\n",
      "\n",
      "📈 Downloading data for AJG...\n"
     ]
    },
    {
     "name": "stderr",
     "output_type": "stream",
     "text": [
      "[*********************100%***********************]  1 of 1 completed\n"
     ]
    },
    {
     "name": "stdout",
     "output_type": "stream",
     "text": [
      "Training shape for AJG - X_train: (2571, 100, 1), X_test: (1102, 100, 1)\n",
      "Epoch 1/10\n",
      "81/81 [==============================] - 10s 79ms/step - loss: 0.0013 - val_loss: 3.9783e-04\n",
      "Epoch 2/10\n",
      "81/81 [==============================] - 6s 75ms/step - loss: 1.4297e-04 - val_loss: 4.0959e-04\n",
      "Epoch 3/10\n",
      "81/81 [==============================] - 7s 81ms/step - loss: 1.5075e-04 - val_loss: 1.9206e-04\n",
      "Epoch 4/10\n",
      "81/81 [==============================] - 6s 76ms/step - loss: 1.2653e-04 - val_loss: 5.3663e-04\n",
      "Epoch 5/10\n",
      "81/81 [==============================] - 6s 75ms/step - loss: 1.1012e-04 - val_loss: 5.1501e-04\n",
      "Epoch 6/10\n",
      "81/81 [==============================] - 6s 76ms/step - loss: 1.0802e-04 - val_loss: 1.5656e-04\n",
      "Epoch 7/10\n",
      "81/81 [==============================] - 6s 74ms/step - loss: 1.0012e-04 - val_loss: 1.3845e-04\n",
      "Epoch 8/10\n",
      "81/81 [==============================] - 7s 81ms/step - loss: 8.9857e-05 - val_loss: 1.2986e-04\n",
      "Epoch 9/10\n",
      "81/81 [==============================] - 6s 75ms/step - loss: 9.1806e-05 - val_loss: 4.6181e-04\n",
      "Epoch 10/10\n",
      "81/81 [==============================] - 6s 75ms/step - loss: 7.6826e-05 - val_loss: 1.2515e-04\n",
      "✅ Saved model to AJG_gru_model.h5\n",
      "\n",
      "📈 Downloading data for AIZ...\n"
     ]
    },
    {
     "name": "stderr",
     "output_type": "stream",
     "text": [
      "[*********************100%***********************]  1 of 1 completed\n"
     ]
    },
    {
     "name": "stdout",
     "output_type": "stream",
     "text": [
      "Training shape for AIZ - X_train: (2571, 100, 1), X_test: (1102, 100, 1)\n",
      "Epoch 1/10\n",
      "81/81 [==============================] - 9s 79ms/step - loss: 0.0025 - val_loss: 4.1085e-04\n",
      "Epoch 2/10\n",
      "81/81 [==============================] - 6s 80ms/step - loss: 6.5567e-04 - val_loss: 2.6122e-04\n",
      "Epoch 3/10\n",
      "81/81 [==============================] - 6s 74ms/step - loss: 5.6532e-04 - val_loss: 5.5236e-04\n",
      "Epoch 4/10\n",
      "81/81 [==============================] - 6s 74ms/step - loss: 5.2134e-04 - val_loss: 5.6021e-04\n",
      "Epoch 5/10\n",
      "81/81 [==============================] - 6s 74ms/step - loss: 4.7337e-04 - val_loss: 5.2293e-04\n",
      "Epoch 6/10\n",
      "81/81 [==============================] - 6s 75ms/step - loss: 3.9711e-04 - val_loss: 9.1250e-04\n",
      "Epoch 7/10\n",
      "81/81 [==============================] - 6s 79ms/step - loss: 3.6584e-04 - val_loss: 3.3862e-04\n",
      "Epoch 8/10\n",
      "81/81 [==============================] - 6s 75ms/step - loss: 4.0123e-04 - val_loss: 3.4588e-04\n",
      "Epoch 9/10\n",
      "81/81 [==============================] - 6s 73ms/step - loss: 4.1210e-04 - val_loss: 0.0013\n",
      "Epoch 10/10\n",
      "81/81 [==============================] - 6s 75ms/step - loss: 3.4986e-04 - val_loss: 2.2042e-04\n",
      "✅ Saved model to AIZ_gru_model.h5\n",
      "\n",
      "📈 Downloading data for T...\n"
     ]
    },
    {
     "name": "stderr",
     "output_type": "stream",
     "text": [
      "[*********************100%***********************]  1 of 1 completed\n"
     ]
    },
    {
     "name": "stdout",
     "output_type": "stream",
     "text": [
      "Training shape for T - X_train: (2571, 100, 1), X_test: (1102, 100, 1)\n",
      "Epoch 1/10\n",
      "81/81 [==============================] - 9s 85ms/step - loss: 0.0137 - val_loss: 4.5146e-04\n",
      "Epoch 2/10\n",
      "81/81 [==============================] - 6s 75ms/step - loss: 0.0020 - val_loss: 6.8859e-04\n",
      "Epoch 3/10\n",
      "81/81 [==============================] - 6s 72ms/step - loss: 0.0018 - val_loss: 5.1027e-04\n",
      "Epoch 4/10\n",
      "81/81 [==============================] - 6s 73ms/step - loss: 0.0017 - val_loss: 4.5478e-04\n",
      "Epoch 5/10\n",
      "81/81 [==============================] - 6s 73ms/step - loss: 0.0016 - val_loss: 4.6239e-04\n",
      "Epoch 6/10\n",
      "81/81 [==============================] - 6s 76ms/step - loss: 0.0015 - val_loss: 4.5966e-04\n",
      "Epoch 7/10\n",
      "81/81 [==============================] - 6s 76ms/step - loss: 0.0013 - val_loss: 5.4501e-04\n",
      "Epoch 8/10\n",
      "81/81 [==============================] - 6s 72ms/step - loss: 0.0013 - val_loss: 4.2243e-04\n",
      "Epoch 9/10\n",
      "81/81 [==============================] - 6s 74ms/step - loss: 0.0012 - val_loss: 4.1624e-04\n",
      "Epoch 10/10\n",
      "81/81 [==============================] - 6s 73ms/step - loss: 0.0012 - val_loss: 5.1295e-04\n",
      "✅ Saved model to T_gru_model.h5\n",
      "\n",
      "📈 Downloading data for ATO...\n"
     ]
    },
    {
     "name": "stderr",
     "output_type": "stream",
     "text": [
      "[*********************100%***********************]  1 of 1 completed\n"
     ]
    },
    {
     "name": "stdout",
     "output_type": "stream",
     "text": [
      "Training shape for ATO - X_train: (2571, 100, 1), X_test: (1102, 100, 1)\n",
      "Epoch 1/10\n",
      "81/81 [==============================] - 10s 84ms/step - loss: 0.0095 - val_loss: 2.9798e-04\n",
      "Epoch 2/10\n",
      "81/81 [==============================] - 6s 73ms/step - loss: 0.0012 - val_loss: 2.8612e-04\n",
      "Epoch 3/10\n",
      "81/81 [==============================] - 6s 73ms/step - loss: 0.0010 - val_loss: 2.6869e-04\n",
      "Epoch 4/10\n",
      "81/81 [==============================] - 6s 72ms/step - loss: 8.5139e-04 - val_loss: 7.8968e-04\n",
      "Epoch 5/10\n",
      "81/81 [==============================] - 6s 73ms/step - loss: 7.9312e-04 - val_loss: 3.4661e-04\n",
      "Epoch 6/10\n",
      "81/81 [==============================] - 6s 79ms/step - loss: 7.5195e-04 - val_loss: 2.3050e-04\n",
      "Epoch 7/10\n",
      "81/81 [==============================] - 6s 73ms/step - loss: 7.0171e-04 - val_loss: 5.7616e-04\n",
      "Epoch 8/10\n",
      "81/81 [==============================] - 6s 74ms/step - loss: 6.9536e-04 - val_loss: 3.5542e-04\n",
      "Epoch 9/10\n",
      "81/81 [==============================] - 6s 73ms/step - loss: 6.8426e-04 - val_loss: 3.7359e-04\n",
      "Epoch 10/10\n",
      "81/81 [==============================] - 6s 74ms/step - loss: 5.9256e-04 - val_loss: 3.9193e-04\n",
      "✅ Saved model to ATO_gru_model.h5\n",
      "\n",
      "📈 Downloading data for ADSK...\n"
     ]
    },
    {
     "name": "stderr",
     "output_type": "stream",
     "text": [
      "[*********************100%***********************]  1 of 1 completed\n"
     ]
    },
    {
     "name": "stdout",
     "output_type": "stream",
     "text": [
      "Training shape for ADSK - X_train: (2571, 100, 1), X_test: (1102, 100, 1)\n",
      "Epoch 1/10\n",
      "81/81 [==============================] - 10s 80ms/step - loss: 0.0038 - val_loss: 6.5127e-04\n",
      "Epoch 2/10\n",
      "81/81 [==============================] - 6s 72ms/step - loss: 7.6224e-04 - val_loss: 0.0012\n",
      "Epoch 3/10\n",
      "81/81 [==============================] - 6s 73ms/step - loss: 6.8753e-04 - val_loss: 7.8238e-04\n",
      "Epoch 4/10\n",
      "81/81 [==============================] - 6s 72ms/step - loss: 5.8862e-04 - val_loss: 6.8634e-04\n",
      "Epoch 5/10\n",
      "81/81 [==============================] - 6s 79ms/step - loss: 5.1192e-04 - val_loss: 7.3116e-04\n",
      "Epoch 6/10\n",
      "81/81 [==============================] - 6s 72ms/step - loss: 5.7232e-04 - val_loss: 6.9432e-04\n",
      "Epoch 7/10\n",
      "81/81 [==============================] - 7s 81ms/step - loss: 5.2552e-04 - val_loss: 6.2593e-04\n",
      "Epoch 8/10\n",
      "81/81 [==============================] - 6s 74ms/step - loss: 5.0469e-04 - val_loss: 6.2777e-04\n",
      "Epoch 9/10\n",
      "81/81 [==============================] - 6s 76ms/step - loss: 4.7154e-04 - val_loss: 0.0011\n",
      "Epoch 10/10\n",
      "81/81 [==============================] - 6s 78ms/step - loss: 4.0859e-04 - val_loss: 6.4638e-04\n",
      "✅ Saved model to ADSK_gru_model.h5\n",
      "\n",
      "📈 Downloading data for ADP...\n"
     ]
    },
    {
     "name": "stderr",
     "output_type": "stream",
     "text": [
      "[*********************100%***********************]  1 of 1 completed\n"
     ]
    },
    {
     "name": "stdout",
     "output_type": "stream",
     "text": [
      "Training shape for ADP - X_train: (2571, 100, 1), X_test: (1102, 100, 1)\n",
      "Epoch 1/10\n",
      "81/81 [==============================] - 9s 78ms/step - loss: 0.0030 - val_loss: 4.6136e-04\n",
      "Epoch 2/10\n",
      "81/81 [==============================] - 6s 73ms/step - loss: 5.3003e-04 - val_loss: 0.0011\n",
      "Epoch 3/10\n",
      "81/81 [==============================] - 6s 73ms/step - loss: 4.9226e-04 - val_loss: 7.0725e-04\n",
      "Epoch 4/10\n",
      "81/81 [==============================] - 6s 77ms/step - loss: 4.2580e-04 - val_loss: 2.8174e-04\n",
      "Epoch 5/10\n",
      "81/81 [==============================] - 6s 74ms/step - loss: 3.8957e-04 - val_loss: 8.9511e-04\n",
      "Epoch 6/10\n",
      "81/81 [==============================] - 6s 73ms/step - loss: 3.9299e-04 - val_loss: 3.5426e-04\n",
      "Epoch 7/10\n",
      "81/81 [==============================] - 6s 73ms/step - loss: 3.9224e-04 - val_loss: 3.8362e-04\n",
      "Epoch 8/10\n",
      "81/81 [==============================] - 6s 72ms/step - loss: 3.0394e-04 - val_loss: 2.9864e-04\n",
      "Epoch 9/10\n",
      "81/81 [==============================] - 6s 79ms/step - loss: 3.2623e-04 - val_loss: 2.1720e-04\n",
      "Epoch 10/10\n",
      "81/81 [==============================] - 6s 73ms/step - loss: 2.7390e-04 - val_loss: 8.1085e-04\n",
      "✅ Saved model to ADP_gru_model.h5\n",
      "\n",
      "📈 Downloading data for AZO...\n"
     ]
    },
    {
     "name": "stderr",
     "output_type": "stream",
     "text": [
      "[*********************100%***********************]  1 of 1 completed\n"
     ]
    },
    {
     "name": "stdout",
     "output_type": "stream",
     "text": [
      "Training shape for AZO - X_train: (2571, 100, 1), X_test: (1102, 100, 1)\n",
      "Epoch 1/10\n",
      "81/81 [==============================] - 9s 77ms/step - loss: 0.0017 - val_loss: 3.6269e-04\n",
      "Epoch 2/10\n",
      "81/81 [==============================] - 6s 74ms/step - loss: 2.8206e-04 - val_loss: 2.7621e-04\n",
      "Epoch 3/10\n",
      "81/81 [==============================] - 6s 77ms/step - loss: 2.6748e-04 - val_loss: 7.9291e-04\n",
      "Epoch 4/10\n",
      "81/81 [==============================] - 6s 74ms/step - loss: 2.2329e-04 - val_loss: 3.7683e-04\n",
      "Epoch 5/10\n",
      "81/81 [==============================] - 6s 73ms/step - loss: 2.1613e-04 - val_loss: 5.1533e-04\n",
      "Epoch 6/10\n",
      "81/81 [==============================] - 6s 76ms/step - loss: 1.7950e-04 - val_loss: 5.2037e-04\n",
      "Epoch 7/10\n",
      "81/81 [==============================] - 6s 73ms/step - loss: 1.7096e-04 - val_loss: 5.5807e-04\n",
      "Epoch 8/10\n",
      "81/81 [==============================] - 6s 78ms/step - loss: 1.4510e-04 - val_loss: 2.4418e-04\n",
      "Epoch 9/10\n",
      "81/81 [==============================] - 6s 74ms/step - loss: 1.4579e-04 - val_loss: 2.4921e-04\n",
      "Epoch 10/10\n",
      "81/81 [==============================] - 6s 73ms/step - loss: 1.3122e-04 - val_loss: 5.9321e-04\n",
      "✅ Saved model to AZO_gru_model.h5\n",
      "\n",
      "📈 Downloading data for AVB...\n"
     ]
    },
    {
     "name": "stderr",
     "output_type": "stream",
     "text": [
      "[*********************100%***********************]  1 of 1 completed\n"
     ]
    },
    {
     "name": "stdout",
     "output_type": "stream",
     "text": [
      "Training shape for AVB - X_train: (2571, 100, 1), X_test: (1102, 100, 1)\n",
      "Epoch 1/10\n",
      "81/81 [==============================] - 9s 79ms/step - loss: 0.0090 - val_loss: 0.0012\n",
      "Epoch 2/10\n",
      "81/81 [==============================] - 6s 73ms/step - loss: 0.0019 - val_loss: 0.0011\n",
      "Epoch 3/10\n",
      "81/81 [==============================] - 6s 75ms/step - loss: 0.0016 - val_loss: 9.6798e-04\n",
      "Epoch 4/10\n",
      "81/81 [==============================] - 6s 76ms/step - loss: 0.0015 - val_loss: 6.8143e-04\n",
      "Epoch 5/10\n",
      "81/81 [==============================] - 6s 73ms/step - loss: 0.0013 - val_loss: 3.9250e-04\n",
      "Epoch 6/10\n",
      "81/81 [==============================] - 6s 72ms/step - loss: 0.0012 - val_loss: 9.0747e-04\n",
      "Epoch 7/10\n",
      "81/81 [==============================] - 6s 74ms/step - loss: 0.0012 - val_loss: 6.6679e-04\n",
      "Epoch 8/10\n",
      "81/81 [==============================] - 6s 76ms/step - loss: 0.0012 - val_loss: 4.8014e-04\n",
      "Epoch 9/10\n",
      "81/81 [==============================] - 6s 72ms/step - loss: 0.0012 - val_loss: 3.7050e-04\n",
      "Epoch 10/10\n",
      "81/81 [==============================] - 6s 74ms/step - loss: 0.0010 - val_loss: 3.6092e-04\n",
      "✅ Saved model to AVB_gru_model.h5\n",
      "\n",
      "📈 Downloading data for AVY...\n"
     ]
    },
    {
     "name": "stderr",
     "output_type": "stream",
     "text": [
      "[*********************100%***********************]  1 of 1 completed\n"
     ]
    },
    {
     "name": "stdout",
     "output_type": "stream",
     "text": [
      "Training shape for AVY - X_train: (2571, 100, 1), X_test: (1102, 100, 1)\n",
      "Epoch 1/10\n",
      "81/81 [==============================] - 9s 81ms/step - loss: 0.0053 - val_loss: 4.5604e-04\n",
      "Epoch 2/10\n",
      "81/81 [==============================] - 6s 77ms/step - loss: 6.9725e-04 - val_loss: 3.7714e-04\n",
      "Epoch 3/10\n",
      "81/81 [==============================] - 6s 73ms/step - loss: 5.8381e-04 - val_loss: 4.3453e-04\n",
      "Epoch 4/10\n",
      "81/81 [==============================] - 6s 74ms/step - loss: 5.2439e-04 - val_loss: 9.4059e-04\n",
      "Epoch 5/10\n",
      "81/81 [==============================] - 6s 72ms/step - loss: 5.0754e-04 - val_loss: 3.4994e-04\n",
      "Epoch 6/10\n",
      "81/81 [==============================] - 6s 75ms/step - loss: 4.7908e-04 - val_loss: 7.8828e-04\n",
      "Epoch 7/10\n",
      "81/81 [==============================] - 6s 76ms/step - loss: 4.4753e-04 - val_loss: 8.0259e-04\n",
      "Epoch 8/10\n",
      "81/81 [==============================] - 6s 73ms/step - loss: 4.4814e-04 - val_loss: 3.5043e-04\n",
      "Epoch 9/10\n",
      "81/81 [==============================] - 6s 73ms/step - loss: 3.8807e-04 - val_loss: 4.4788e-04\n",
      "Epoch 10/10\n",
      "81/81 [==============================] - 6s 74ms/step - loss: 3.6640e-04 - val_loss: 3.9151e-04\n",
      "✅ Saved model to AVY_gru_model.h5\n",
      "\n",
      "📈 Downloading data for AXON...\n"
     ]
    },
    {
     "name": "stderr",
     "output_type": "stream",
     "text": [
      "[*********************100%***********************]  1 of 1 completed\n"
     ]
    },
    {
     "name": "stdout",
     "output_type": "stream",
     "text": [
      "Training shape for AXON - X_train: (2571, 100, 1), X_test: (1102, 100, 1)\n",
      "Epoch 1/10\n",
      "81/81 [==============================] - 10s 93ms/step - loss: 2.9293e-04 - val_loss: 4.1217e-04\n",
      "Epoch 2/10\n",
      "81/81 [==============================] - 6s 73ms/step - loss: 3.5504e-05 - val_loss: 3.1717e-04\n",
      "Epoch 3/10\n",
      "81/81 [==============================] - 6s 73ms/step - loss: 3.0368e-05 - val_loss: 5.1521e-04\n",
      "Epoch 4/10\n",
      "81/81 [==============================] - 6s 74ms/step - loss: 3.2942e-05 - val_loss: 2.6980e-04\n",
      "Epoch 5/10\n",
      "81/81 [==============================] - 6s 72ms/step - loss: 2.3421e-05 - val_loss: 3.5907e-04\n",
      "Epoch 6/10\n",
      "81/81 [==============================] - 6s 79ms/step - loss: 2.5492e-05 - val_loss: 2.5008e-04\n",
      "Epoch 7/10\n",
      "81/81 [==============================] - 6s 71ms/step - loss: 2.3775e-05 - val_loss: 2.5304e-04\n",
      "Epoch 8/10\n",
      "81/81 [==============================] - 6s 73ms/step - loss: 2.3751e-05 - val_loss: 2.9541e-04\n",
      "Epoch 9/10\n",
      "81/81 [==============================] - 6s 73ms/step - loss: 1.9866e-05 - val_loss: 2.2824e-04\n",
      "Epoch 10/10\n",
      "81/81 [==============================] - 6s 73ms/step - loss: 2.0490e-05 - val_loss: 3.9015e-04\n",
      "✅ Saved model to AXON_gru_model.h5\n",
      "\n",
      "📈 Downloading data for BKR...\n"
     ]
    },
    {
     "name": "stderr",
     "output_type": "stream",
     "text": [
      "[*********************100%***********************]  1 of 1 completed\n"
     ]
    },
    {
     "name": "stdout",
     "output_type": "stream",
     "text": [
      "Training shape for BKR - X_train: (2571, 100, 1), X_test: (1102, 100, 1)\n",
      "Epoch 1/10\n",
      "81/81 [==============================] - 10s 82ms/step - loss: 0.0188 - val_loss: 0.0011\n",
      "Epoch 2/10\n",
      "81/81 [==============================] - 6s 72ms/step - loss: 0.0039 - val_loss: 9.5489e-04\n",
      "Epoch 3/10\n",
      "81/81 [==============================] - 6s 74ms/step - loss: 0.0034 - val_loss: 7.2243e-04\n",
      "Epoch 4/10\n",
      "81/81 [==============================] - 6s 74ms/step - loss: 0.0029 - val_loss: 0.0013\n",
      "Epoch 5/10\n",
      "81/81 [==============================] - 6s 79ms/step - loss: 0.0028 - val_loss: 6.8145e-04\n",
      "Epoch 6/10\n",
      "81/81 [==============================] - 6s 74ms/step - loss: 0.0024 - val_loss: 9.6664e-04\n",
      "Epoch 7/10\n",
      "81/81 [==============================] - 6s 74ms/step - loss: 0.0024 - val_loss: 6.6829e-04\n",
      "Epoch 8/10\n",
      "81/81 [==============================] - 6s 73ms/step - loss: 0.0024 - val_loss: 5.6420e-04\n",
      "Epoch 9/10\n",
      "81/81 [==============================] - 6s 75ms/step - loss: 0.0022 - val_loss: 5.4304e-04\n",
      "Epoch 10/10\n",
      "81/81 [==============================] - 6s 78ms/step - loss: 0.0021 - val_loss: 7.9805e-04\n",
      "✅ Saved model to BKR_gru_model.h5\n",
      "\n",
      "📈 Downloading data for BALL...\n"
     ]
    },
    {
     "name": "stderr",
     "output_type": "stream",
     "text": [
      "[*********************100%***********************]  1 of 1 completed\n"
     ]
    },
    {
     "name": "stdout",
     "output_type": "stream",
     "text": [
      "Training shape for BALL - X_train: (2571, 100, 1), X_test: (1102, 100, 1)\n",
      "Epoch 1/10\n",
      "81/81 [==============================] - 11s 79ms/step - loss: 0.0103 - val_loss: 0.0014\n",
      "Epoch 2/10\n",
      "81/81 [==============================] - 6s 75ms/step - loss: 0.0015 - val_loss: 5.8108e-04\n",
      "Epoch 3/10\n",
      "81/81 [==============================] - 6s 76ms/step - loss: 0.0013 - val_loss: 6.8855e-04\n",
      "Epoch 4/10\n",
      "81/81 [==============================] - 7s 81ms/step - loss: 9.5885e-04 - val_loss: 5.5909e-04\n",
      "Epoch 5/10\n",
      "81/81 [==============================] - 6s 75ms/step - loss: 0.0011 - val_loss: 5.5405e-04\n",
      "Epoch 6/10\n",
      "81/81 [==============================] - 6s 73ms/step - loss: 8.0779e-04 - val_loss: 6.9033e-04\n",
      "Epoch 7/10\n",
      "81/81 [==============================] - 6s 75ms/step - loss: 8.7322e-04 - val_loss: 5.4428e-04\n",
      "Epoch 8/10\n",
      "81/81 [==============================] - 6s 74ms/step - loss: 7.9233e-04 - val_loss: 8.4465e-04\n",
      "Epoch 9/10\n",
      "81/81 [==============================] - 6s 79ms/step - loss: 7.4325e-04 - val_loss: 6.0667e-04\n",
      "Epoch 10/10\n",
      "81/81 [==============================] - 6s 74ms/step - loss: 7.1908e-04 - val_loss: 5.4534e-04\n",
      "✅ Saved model to BALL_gru_model.h5\n",
      "\n",
      "📈 Downloading data for BAC...\n"
     ]
    },
    {
     "name": "stderr",
     "output_type": "stream",
     "text": [
      "[*********************100%***********************]  1 of 1 completed\n"
     ]
    },
    {
     "name": "stdout",
     "output_type": "stream",
     "text": [
      "Training shape for BAC - X_train: (2571, 100, 1), X_test: (1102, 100, 1)\n",
      "Epoch 1/10\n",
      "81/81 [==============================] - 9s 83ms/step - loss: 0.0100 - val_loss: 5.9985e-04\n",
      "Epoch 2/10\n",
      "81/81 [==============================] - 6s 72ms/step - loss: 0.0012 - val_loss: 0.0011\n",
      "Epoch 3/10\n",
      "81/81 [==============================] - 6s 79ms/step - loss: 9.6925e-04 - val_loss: 5.0554e-04\n",
      "Epoch 4/10\n",
      "81/81 [==============================] - 6s 74ms/step - loss: 9.3519e-04 - val_loss: 5.6583e-04\n",
      "Epoch 5/10\n",
      "81/81 [==============================] - 6s 74ms/step - loss: 8.7949e-04 - val_loss: 7.9145e-04\n",
      "Epoch 6/10\n",
      "81/81 [==============================] - 6s 73ms/step - loss: 7.4787e-04 - val_loss: 0.0015\n",
      "Epoch 7/10\n",
      "81/81 [==============================] - 6s 74ms/step - loss: 6.7596e-04 - val_loss: 5.0608e-04\n",
      "Epoch 8/10\n",
      "81/81 [==============================] - 6s 78ms/step - loss: 6.9767e-04 - val_loss: 7.7923e-04\n",
      "Epoch 9/10\n",
      "81/81 [==============================] - 6s 73ms/step - loss: 6.2120e-04 - val_loss: 4.7732e-04\n",
      "Epoch 10/10\n",
      "81/81 [==============================] - 6s 78ms/step - loss: 6.2920e-04 - val_loss: 4.3380e-04\n",
      "✅ Saved model to BAC_gru_model.h5\n",
      "\n",
      "📈 Downloading data for BAX...\n"
     ]
    },
    {
     "name": "stderr",
     "output_type": "stream",
     "text": [
      "[*********************100%***********************]  1 of 1 completed\n"
     ]
    },
    {
     "name": "stdout",
     "output_type": "stream",
     "text": [
      "Training shape for BAX - X_train: (2571, 100, 1), X_test: (1102, 100, 1)\n",
      "Epoch 1/10\n",
      "81/81 [==============================] - 9s 78ms/step - loss: 0.0114 - val_loss: 4.1549e-04\n",
      "Epoch 2/10\n",
      "81/81 [==============================] - 6s 75ms/step - loss: 0.0023 - val_loss: 4.8669e-04\n",
      "Epoch 3/10\n",
      "81/81 [==============================] - 6s 76ms/step - loss: 0.0021 - val_loss: 3.9943e-04\n",
      "Epoch 4/10\n",
      "81/81 [==============================] - 6s 74ms/step - loss: 0.0018 - val_loss: 0.0010\n",
      "Epoch 5/10\n",
      "81/81 [==============================] - 6s 73ms/step - loss: 0.0018 - val_loss: 4.3803e-04\n",
      "Epoch 6/10\n",
      "81/81 [==============================] - 6s 74ms/step - loss: 0.0016 - val_loss: 4.4269e-04\n",
      "Epoch 7/10\n",
      "81/81 [==============================] - 6s 77ms/step - loss: 0.0017 - val_loss: 0.0020\n",
      "Epoch 8/10\n",
      "81/81 [==============================] - 6s 77ms/step - loss: 0.0018 - val_loss: 4.2315e-04\n",
      "Epoch 9/10\n",
      "81/81 [==============================] - 6s 74ms/step - loss: 0.0015 - val_loss: 4.1270e-04\n",
      "Epoch 10/10\n",
      "81/81 [==============================] - 6s 76ms/step - loss: 0.0014 - val_loss: 0.0019\n",
      "✅ Saved model to BAX_gru_model.h5\n",
      "\n",
      "📈 Downloading data for BDX...\n"
     ]
    },
    {
     "name": "stderr",
     "output_type": "stream",
     "text": [
      "[*********************100%***********************]  1 of 1 completed\n"
     ]
    },
    {
     "name": "stdout",
     "output_type": "stream",
     "text": [
      "Training shape for BDX - X_train: (2571, 100, 1), X_test: (1102, 100, 1)\n",
      "Epoch 1/10\n",
      "81/81 [==============================] - 9s 78ms/step - loss: 0.0136 - val_loss: 8.5604e-04\n",
      "Epoch 2/10\n",
      "81/81 [==============================] - 6s 78ms/step - loss: 0.0022 - val_loss: 7.7456e-04\n",
      "Epoch 3/10\n",
      "81/81 [==============================] - 6s 73ms/step - loss: 0.0019 - val_loss: 0.0012\n",
      "Epoch 4/10\n",
      "81/81 [==============================] - 6s 72ms/step - loss: 0.0017 - val_loss: 3.8767e-04\n",
      "Epoch 5/10\n",
      "81/81 [==============================] - 6s 74ms/step - loss: 0.0016 - val_loss: 3.8799e-04\n",
      "Epoch 6/10\n",
      "81/81 [==============================] - 6s 72ms/step - loss: 0.0014 - val_loss: 4.5167e-04\n",
      "Epoch 7/10\n",
      "81/81 [==============================] - 7s 80ms/step - loss: 0.0016 - val_loss: 3.7070e-04\n",
      "Epoch 8/10\n",
      "81/81 [==============================] - 6s 74ms/step - loss: 0.0014 - val_loss: 3.7957e-04\n",
      "Epoch 9/10\n",
      "81/81 [==============================] - 6s 73ms/step - loss: 0.0014 - val_loss: 5.2033e-04\n",
      "Epoch 10/10\n",
      "81/81 [==============================] - 6s 74ms/step - loss: 0.0013 - val_loss: 8.2545e-04\n",
      "✅ Saved model to BDX_gru_model.h5\n",
      "\n",
      "📈 Downloading data for BRK.B...\n"
     ]
    },
    {
     "name": "stderr",
     "output_type": "stream",
     "text": [
      "[*********************100%***********************]  1 of 1 completed\n",
      "\n",
      "1 Failed download:\n",
      "['BRK.B']: YFTzMissingError('possibly delisted; no timezone found')\n"
     ]
    },
    {
     "name": "stdout",
     "output_type": "stream",
     "text": [
      "Skipping BRK.B due to insufficient data.\n",
      "\n",
      "📈 Downloading data for BBY...\n"
     ]
    },
    {
     "name": "stderr",
     "output_type": "stream",
     "text": [
      "[*********************100%***********************]  1 of 1 completed\n"
     ]
    },
    {
     "name": "stdout",
     "output_type": "stream",
     "text": [
      "Training shape for BBY - X_train: (2571, 100, 1), X_test: (1102, 100, 1)\n",
      "Epoch 1/10\n",
      "81/81 [==============================] - 9s 82ms/step - loss: 0.0067 - val_loss: 6.1376e-04\n",
      "Epoch 2/10\n",
      "81/81 [==============================] - 6s 75ms/step - loss: 0.0011 - val_loss: 6.3565e-04\n",
      "Epoch 3/10\n",
      "81/81 [==============================] - 6s 74ms/step - loss: 8.1116e-04 - val_loss: 7.5523e-04\n",
      "Epoch 4/10\n",
      "81/81 [==============================] - 6s 75ms/step - loss: 8.4541e-04 - val_loss: 5.4787e-04\n",
      "Epoch 5/10\n",
      "81/81 [==============================] - 6s 77ms/step - loss: 7.1561e-04 - val_loss: 7.1603e-04\n",
      "Epoch 6/10\n",
      "81/81 [==============================] - 6s 77ms/step - loss: 6.3128e-04 - val_loss: 5.2185e-04\n",
      "Epoch 7/10\n",
      "81/81 [==============================] - 6s 74ms/step - loss: 6.7643e-04 - val_loss: 0.0019\n",
      "Epoch 8/10\n",
      "81/81 [==============================] - 6s 77ms/step - loss: 6.3035e-04 - val_loss: 5.3246e-04\n",
      "Epoch 9/10\n",
      "81/81 [==============================] - 6s 74ms/step - loss: 5.3202e-04 - val_loss: 5.1783e-04\n",
      "Epoch 10/10\n",
      "81/81 [==============================] - 6s 79ms/step - loss: 5.8243e-04 - val_loss: 4.8412e-04\n",
      "✅ Saved model to BBY_gru_model.h5\n",
      "\n",
      "📈 Downloading data for TECH...\n"
     ]
    },
    {
     "name": "stderr",
     "output_type": "stream",
     "text": [
      "[*********************100%***********************]  1 of 1 completed\n"
     ]
    },
    {
     "name": "stdout",
     "output_type": "stream",
     "text": [
      "Training shape for TECH - X_train: (2571, 100, 1), X_test: (1102, 100, 1)\n",
      "Epoch 1/10\n",
      "81/81 [==============================] - 10s 84ms/step - loss: 0.0016 - val_loss: 0.0018\n",
      "Epoch 2/10\n",
      "81/81 [==============================] - 6s 78ms/step - loss: 3.3185e-04 - val_loss: 6.9746e-04\n",
      "Epoch 3/10\n",
      "81/81 [==============================] - 6s 76ms/step - loss: 2.9573e-04 - val_loss: 6.4868e-04\n",
      "Epoch 4/10\n",
      "81/81 [==============================] - 6s 79ms/step - loss: 2.9040e-04 - val_loss: 8.0077e-04\n",
      "Epoch 5/10\n",
      "81/81 [==============================] - 6s 73ms/step - loss: 2.2678e-04 - val_loss: 5.8938e-04\n",
      "Epoch 6/10\n",
      "81/81 [==============================] - 6s 75ms/step - loss: 2.2985e-04 - val_loss: 6.9053e-04\n",
      "Epoch 7/10\n",
      "81/81 [==============================] - 6s 73ms/step - loss: 2.4245e-04 - val_loss: 5.6003e-04\n",
      "Epoch 8/10\n",
      "81/81 [==============================] - 6s 78ms/step - loss: 1.8747e-04 - val_loss: 5.2987e-04\n",
      "Epoch 9/10\n",
      "81/81 [==============================] - 7s 86ms/step - loss: 2.1100e-04 - val_loss: 6.3240e-04\n",
      "Epoch 10/10\n",
      "81/81 [==============================] - 6s 74ms/step - loss: 1.9583e-04 - val_loss: 5.1154e-04\n",
      "✅ Saved model to TECH_gru_model.h5\n",
      "\n",
      "📈 Downloading data for BIIB...\n"
     ]
    },
    {
     "name": "stderr",
     "output_type": "stream",
     "text": [
      "[*********************100%***********************]  1 of 1 completed\n"
     ]
    },
    {
     "name": "stdout",
     "output_type": "stream",
     "text": [
      "Training shape for BIIB - X_train: (2571, 100, 1), X_test: (1102, 100, 1)\n",
      "Epoch 1/10\n",
      "81/81 [==============================] - 9s 79ms/step - loss: 0.0357 - val_loss: 6.6849e-04\n",
      "Epoch 2/10\n",
      "81/81 [==============================] - 6s 72ms/step - loss: 0.0030 - val_loss: 6.4337e-04\n",
      "Epoch 3/10\n",
      "81/81 [==============================] - 6s 76ms/step - loss: 0.0028 - val_loss: 6.2642e-04\n",
      "Epoch 4/10\n",
      "81/81 [==============================] - 6s 76ms/step - loss: 0.0023 - val_loss: 6.6023e-04\n",
      "Epoch 5/10\n",
      "81/81 [==============================] - 6s 74ms/step - loss: 0.0023 - val_loss: 6.8136e-04\n",
      "Epoch 6/10\n",
      "81/81 [==============================] - 6s 76ms/step - loss: 0.0023 - val_loss: 6.8003e-04\n",
      "Epoch 7/10\n",
      "81/81 [==============================] - 6s 74ms/step - loss: 0.0022 - val_loss: 5.8815e-04\n",
      "Epoch 8/10\n",
      "81/81 [==============================] - 6s 79ms/step - loss: 0.0019 - val_loss: 9.1596e-04\n",
      "Epoch 9/10\n",
      "81/81 [==============================] - 6s 76ms/step - loss: 0.0020 - val_loss: 7.7849e-04\n",
      "Epoch 10/10\n",
      "81/81 [==============================] - 6s 76ms/step - loss: 0.0018 - val_loss: 6.0362e-04\n",
      "✅ Saved model to BIIB_gru_model.h5\n",
      "\n",
      "📈 Downloading data for BLK...\n"
     ]
    },
    {
     "name": "stderr",
     "output_type": "stream",
     "text": [
      "[*********************100%***********************]  1 of 1 completed\n"
     ]
    },
    {
     "name": "stdout",
     "output_type": "stream",
     "text": [
      "Training shape for BLK - X_train: (2571, 100, 1), X_test: (1102, 100, 1)\n",
      "Epoch 1/10\n",
      "81/81 [==============================] - 10s 83ms/step - loss: 0.0029 - val_loss: 3.6761e-04\n",
      "Epoch 2/10\n",
      "81/81 [==============================] - 6s 78ms/step - loss: 5.2937e-04 - val_loss: 5.4404e-04\n",
      "Epoch 3/10\n",
      "81/81 [==============================] - 6s 75ms/step - loss: 4.4716e-04 - val_loss: 8.6837e-04\n",
      "Epoch 4/10\n",
      "81/81 [==============================] - 6s 73ms/step - loss: 3.7465e-04 - val_loss: 5.7181e-04\n",
      "Epoch 5/10\n",
      "81/81 [==============================] - 6s 74ms/step - loss: 3.6734e-04 - val_loss: 5.8282e-04\n",
      "Epoch 6/10\n",
      "81/81 [==============================] - 6s 75ms/step - loss: 3.3051e-04 - val_loss: 3.1804e-04\n",
      "Epoch 7/10\n",
      "81/81 [==============================] - 6s 80ms/step - loss: 3.1867e-04 - val_loss: 3.4944e-04\n",
      "Epoch 8/10\n",
      "81/81 [==============================] - 6s 75ms/step - loss: 3.0236e-04 - val_loss: 0.0011\n",
      "Epoch 9/10\n",
      "81/81 [==============================] - 6s 73ms/step - loss: 2.8863e-04 - val_loss: 7.4954e-04\n",
      "Epoch 10/10\n",
      "81/81 [==============================] - 6s 73ms/step - loss: 2.8305e-04 - val_loss: 2.8978e-04\n",
      "✅ Saved model to BLK_gru_model.h5\n",
      "\n",
      "📈 Downloading data for BX...\n"
     ]
    },
    {
     "name": "stderr",
     "output_type": "stream",
     "text": [
      "[*********************100%***********************]  1 of 1 completed\n"
     ]
    },
    {
     "name": "stdout",
     "output_type": "stream",
     "text": [
      "Training shape for BX - X_train: (2571, 100, 1), X_test: (1102, 100, 1)\n",
      "Epoch 1/10\n",
      "81/81 [==============================] - 10s 82ms/step - loss: 5.8132e-04 - val_loss: 5.2259e-04\n",
      "Epoch 2/10\n",
      "81/81 [==============================] - 6s 78ms/step - loss: 1.2714e-04 - val_loss: 4.8502e-04\n",
      "Epoch 3/10\n",
      "81/81 [==============================] - 6s 74ms/step - loss: 1.0562e-04 - val_loss: 4.5991e-04\n",
      "Epoch 4/10\n",
      "81/81 [==============================] - 6s 73ms/step - loss: 8.0540e-05 - val_loss: 4.5334e-04\n",
      "Epoch 5/10\n",
      "81/81 [==============================] - 6s 72ms/step - loss: 8.4401e-05 - val_loss: 7.4996e-04\n",
      "Epoch 6/10\n",
      "81/81 [==============================] - 6s 73ms/step - loss: 7.3706e-05 - val_loss: 4.4205e-04\n",
      "Epoch 7/10\n",
      "81/81 [==============================] - 6s 77ms/step - loss: 6.2407e-05 - val_loss: 4.6008e-04\n",
      "Epoch 8/10\n",
      "81/81 [==============================] - 6s 73ms/step - loss: 6.7313e-05 - val_loss: 7.2567e-04\n",
      "Epoch 9/10\n",
      "81/81 [==============================] - 6s 74ms/step - loss: 5.6076e-05 - val_loss: 3.4742e-04\n",
      "Epoch 10/10\n",
      "81/81 [==============================] - 6s 74ms/step - loss: 5.6903e-05 - val_loss: 3.3961e-04\n",
      "✅ Saved model to BX_gru_model.h5\n",
      "\n",
      "📈 Downloading data for BK...\n"
     ]
    },
    {
     "name": "stderr",
     "output_type": "stream",
     "text": [
      "[*********************100%***********************]  1 of 1 completed\n"
     ]
    },
    {
     "name": "stdout",
     "output_type": "stream",
     "text": [
      "Training shape for BK - X_train: (2571, 100, 1), X_test: (1102, 100, 1)\n",
      "Epoch 1/10\n",
      "81/81 [==============================] - 10s 88ms/step - loss: 0.0054 - val_loss: 3.9640e-04\n",
      "Epoch 2/10\n",
      "81/81 [==============================] - 6s 72ms/step - loss: 8.9622e-04 - val_loss: 0.0015\n",
      "Epoch 3/10\n",
      "81/81 [==============================] - 6s 73ms/step - loss: 8.2133e-04 - val_loss: 3.0214e-04\n",
      "Epoch 4/10\n",
      "81/81 [==============================] - 6s 75ms/step - loss: 6.4556e-04 - val_loss: 2.6388e-04\n",
      "Epoch 5/10\n",
      "81/81 [==============================] - 6s 73ms/step - loss: 6.4333e-04 - val_loss: 2.7667e-04\n",
      "Epoch 6/10\n",
      "81/81 [==============================] - 6s 77ms/step - loss: 7.3343e-04 - val_loss: 2.5824e-04\n",
      "Epoch 7/10\n",
      "81/81 [==============================] - 6s 74ms/step - loss: 5.9678e-04 - val_loss: 9.1477e-04\n",
      "Epoch 8/10\n",
      "81/81 [==============================] - 6s 73ms/step - loss: 5.3272e-04 - val_loss: 5.3479e-04\n",
      "Epoch 9/10\n",
      "81/81 [==============================] - 6s 73ms/step - loss: 4.9958e-04 - val_loss: 5.1402e-04\n",
      "Epoch 10/10\n",
      "81/81 [==============================] - 6s 73ms/step - loss: 5.0541e-04 - val_loss: 3.1453e-04\n",
      "✅ Saved model to BK_gru_model.h5\n",
      "\n",
      "📈 Downloading data for BA...\n"
     ]
    },
    {
     "name": "stderr",
     "output_type": "stream",
     "text": [
      "[*********************100%***********************]  1 of 1 completed\n"
     ]
    },
    {
     "name": "stdout",
     "output_type": "stream",
     "text": [
      "Training shape for BA - X_train: (2571, 100, 1), X_test: (1102, 100, 1)\n",
      "Epoch 1/10\n",
      "81/81 [==============================] - 9s 79ms/step - loss: 0.0115 - val_loss: 3.2533e-04\n",
      "Epoch 2/10\n",
      "81/81 [==============================] - 6s 74ms/step - loss: 0.0021 - val_loss: 3.5830e-04\n",
      "Epoch 3/10\n",
      "81/81 [==============================] - 6s 74ms/step - loss: 0.0020 - val_loss: 2.9879e-04\n",
      "Epoch 4/10\n",
      "81/81 [==============================] - 6s 75ms/step - loss: 0.0018 - val_loss: 2.8851e-04\n",
      "Epoch 5/10\n",
      "81/81 [==============================] - 7s 81ms/step - loss: 0.0016 - val_loss: 2.9820e-04\n",
      "Epoch 6/10\n",
      "81/81 [==============================] - 6s 75ms/step - loss: 0.0016 - val_loss: 4.5190e-04\n",
      "Epoch 7/10\n",
      "81/81 [==============================] - 6s 73ms/step - loss: 0.0014 - val_loss: 3.3806e-04\n",
      "Epoch 8/10\n",
      "81/81 [==============================] - 6s 75ms/step - loss: 0.0014 - val_loss: 2.7252e-04\n",
      "Epoch 9/10\n",
      "81/81 [==============================] - 6s 74ms/step - loss: 0.0014 - val_loss: 2.8216e-04\n",
      "Epoch 10/10\n",
      "81/81 [==============================] - 7s 80ms/step - loss: 0.0012 - val_loss: 3.2601e-04\n",
      "✅ Saved model to BA_gru_model.h5\n",
      "\n",
      "📈 Downloading data for BKNG...\n"
     ]
    },
    {
     "name": "stderr",
     "output_type": "stream",
     "text": [
      "[*********************100%***********************]  1 of 1 completed\n"
     ]
    },
    {
     "name": "stdout",
     "output_type": "stream",
     "text": [
      "Training shape for BKNG - X_train: (2571, 100, 1), X_test: (1102, 100, 1)\n",
      "Epoch 1/10\n",
      "81/81 [==============================] - 9s 80ms/step - loss: 0.0037 - val_loss: 4.8300e-04\n",
      "Epoch 2/10\n",
      "81/81 [==============================] - 6s 75ms/step - loss: 5.7798e-04 - val_loss: 3.3944e-04\n",
      "Epoch 3/10\n",
      "81/81 [==============================] - 6s 72ms/step - loss: 4.7634e-04 - val_loss: 4.6277e-04\n",
      "Epoch 4/10\n",
      "81/81 [==============================] - 6s 80ms/step - loss: 4.6576e-04 - val_loss: 4.4887e-04\n",
      "Epoch 5/10\n",
      "81/81 [==============================] - 6s 71ms/step - loss: 4.2644e-04 - val_loss: 2.9125e-04\n",
      "Epoch 6/10\n",
      "81/81 [==============================] - 6s 72ms/step - loss: 3.6337e-04 - val_loss: 2.9552e-04\n",
      "Epoch 7/10\n",
      "81/81 [==============================] - 6s 75ms/step - loss: 3.2599e-04 - val_loss: 5.0964e-04\n",
      "Epoch 8/10\n",
      "81/81 [==============================] - 6s 72ms/step - loss: 3.1204e-04 - val_loss: 4.4121e-04\n",
      "Epoch 9/10\n",
      "81/81 [==============================] - 6s 79ms/step - loss: 3.0346e-04 - val_loss: 3.8610e-04\n",
      "Epoch 10/10\n",
      "81/81 [==============================] - 6s 73ms/step - loss: 2.9407e-04 - val_loss: 8.4723e-04\n",
      "✅ Saved model to BKNG_gru_model.h5\n",
      "\n",
      "📈 Downloading data for BSX...\n"
     ]
    },
    {
     "name": "stderr",
     "output_type": "stream",
     "text": [
      "[*********************100%***********************]  1 of 1 completed\n"
     ]
    },
    {
     "name": "stdout",
     "output_type": "stream",
     "text": [
      "Training shape for BSX - X_train: (2571, 100, 1), X_test: (1102, 100, 1)\n",
      "Epoch 1/10\n",
      "81/81 [==============================] - 11s 104ms/step - loss: 0.0037 - val_loss: 1.4580e-04\n",
      "Epoch 2/10\n",
      "81/81 [==============================] - 6s 74ms/step - loss: 5.2734e-04 - val_loss: 1.7897e-04\n",
      "Epoch 3/10\n",
      "81/81 [==============================] - 7s 82ms/step - loss: 4.7105e-04 - val_loss: 1.4042e-04\n",
      "Epoch 4/10\n",
      "81/81 [==============================] - 6s 76ms/step - loss: 4.0759e-04 - val_loss: 3.4438e-04\n",
      "Epoch 5/10\n",
      "81/81 [==============================] - 6s 76ms/step - loss: 3.8451e-04 - val_loss: 3.1221e-04\n",
      "Epoch 6/10\n",
      "81/81 [==============================] - 6s 77ms/step - loss: 4.0203e-04 - val_loss: 5.9265e-04\n",
      "Epoch 7/10\n",
      "81/81 [==============================] - 6s 79ms/step - loss: 3.4182e-04 - val_loss: 3.2990e-04\n",
      "Epoch 8/10\n",
      "81/81 [==============================] - 6s 78ms/step - loss: 3.1515e-04 - val_loss: 4.8319e-04\n",
      "Epoch 9/10\n",
      "81/81 [==============================] - 6s 77ms/step - loss: 3.0708e-04 - val_loss: 3.4704e-04\n",
      "Epoch 10/10\n",
      "81/81 [==============================] - 6s 76ms/step - loss: 3.0379e-04 - val_loss: 5.7540e-04\n",
      "✅ Saved model to BSX_gru_model.h5\n",
      "\n",
      "📈 Downloading data for BMY...\n"
     ]
    },
    {
     "name": "stderr",
     "output_type": "stream",
     "text": [
      "[*********************100%***********************]  1 of 1 completed\n"
     ]
    },
    {
     "name": "stdout",
     "output_type": "stream",
     "text": [
      "Training shape for BMY - X_train: (2571, 100, 1), X_test: (1102, 100, 1)\n",
      "Epoch 1/10\n",
      "81/81 [==============================] - 10s 83ms/step - loss: 0.0131 - val_loss: 3.8210e-04\n",
      "Epoch 2/10\n",
      "81/81 [==============================] - 6s 79ms/step - loss: 0.0021 - val_loss: 4.0821e-04\n",
      "Epoch 3/10\n",
      "81/81 [==============================] - 6s 75ms/step - loss: 0.0018 - val_loss: 5.1248e-04\n",
      "Epoch 4/10\n",
      "81/81 [==============================] - 6s 75ms/step - loss: 0.0017 - val_loss: 4.0885e-04\n",
      "Epoch 5/10\n",
      "81/81 [==============================] - 6s 73ms/step - loss: 0.0016 - val_loss: 0.0011\n",
      "Epoch 6/10\n",
      "81/81 [==============================] - 6s 79ms/step - loss: 0.0016 - val_loss: 3.4032e-04\n",
      "Epoch 7/10\n",
      "81/81 [==============================] - 6s 77ms/step - loss: 0.0014 - val_loss: 4.5885e-04\n",
      "Epoch 8/10\n",
      "81/81 [==============================] - 7s 86ms/step - loss: 0.0013 - val_loss: 4.3641e-04\n",
      "Epoch 9/10\n",
      "81/81 [==============================] - 7s 85ms/step - loss: 0.0015 - val_loss: 0.0013\n",
      "Epoch 10/10\n",
      "81/81 [==============================] - 6s 80ms/step - loss: 0.0013 - val_loss: 6.0575e-04\n",
      "✅ Saved model to BMY_gru_model.h5\n",
      "\n",
      "📈 Downloading data for AVGO...\n"
     ]
    },
    {
     "name": "stderr",
     "output_type": "stream",
     "text": [
      "[*********************100%***********************]  1 of 1 completed\n"
     ]
    },
    {
     "name": "stdout",
     "output_type": "stream",
     "text": [
      "Training shape for AVGO - X_train: (2571, 100, 1), X_test: (1102, 100, 1)\n",
      "Epoch 1/10\n",
      "81/81 [==============================] - 10s 80ms/step - loss: 1.9061e-04 - val_loss: 6.4818e-04\n",
      "Epoch 2/10\n",
      "81/81 [==============================] - 6s 75ms/step - loss: 3.1351e-05 - val_loss: 3.8789e-04\n",
      "Epoch 3/10\n",
      "81/81 [==============================] - 6s 74ms/step - loss: 2.5859e-05 - val_loss: 3.7248e-04\n",
      "Epoch 4/10\n",
      "81/81 [==============================] - 6s 74ms/step - loss: 2.4682e-05 - val_loss: 3.8664e-04\n",
      "Epoch 5/10\n",
      "81/81 [==============================] - 6s 78ms/step - loss: 2.0947e-05 - val_loss: 3.5232e-04\n",
      "Epoch 6/10\n",
      "81/81 [==============================] - 6s 74ms/step - loss: 1.8680e-05 - val_loss: 3.1025e-04\n",
      "Epoch 7/10\n",
      "81/81 [==============================] - 6s 75ms/step - loss: 1.8902e-05 - val_loss: 4.1323e-04\n",
      "Epoch 8/10\n",
      "81/81 [==============================] - 6s 74ms/step - loss: 1.7768e-05 - val_loss: 3.6791e-04\n",
      "Epoch 9/10\n",
      "81/81 [==============================] - 6s 74ms/step - loss: 1.8715e-05 - val_loss: 3.7886e-04\n",
      "Epoch 10/10\n",
      "81/81 [==============================] - 6s 79ms/step - loss: 1.9740e-05 - val_loss: 7.1365e-04\n",
      "✅ Saved model to AVGO_gru_model.h5\n",
      "\n",
      "📈 Downloading data for BR...\n"
     ]
    },
    {
     "name": "stderr",
     "output_type": "stream",
     "text": [
      "[*********************100%***********************]  1 of 1 completed\n"
     ]
    },
    {
     "name": "stdout",
     "output_type": "stream",
     "text": [
      "Training shape for BR - X_train: (2571, 100, 1), X_test: (1102, 100, 1)\n",
      "Epoch 1/10\n",
      "81/81 [==============================] - 9s 82ms/step - loss: 0.0041 - val_loss: 5.4967e-04\n",
      "Epoch 2/10\n",
      "81/81 [==============================] - 6s 72ms/step - loss: 6.0121e-04 - val_loss: 2.2733e-04\n",
      "Epoch 3/10\n",
      "81/81 [==============================] - 6s 75ms/step - loss: 5.1118e-04 - val_loss: 3.7568e-04\n",
      "Epoch 4/10\n",
      "81/81 [==============================] - 6s 77ms/step - loss: 4.6016e-04 - val_loss: 6.1059e-04\n",
      "Epoch 5/10\n",
      "81/81 [==============================] - 6s 75ms/step - loss: 4.4547e-04 - val_loss: 0.0013\n",
      "Epoch 6/10\n",
      "81/81 [==============================] - 7s 83ms/step - loss: 4.4381e-04 - val_loss: 0.0011\n",
      "Epoch 7/10\n",
      "81/81 [==============================] - 6s 80ms/step - loss: 3.9369e-04 - val_loss: 7.6584e-04\n",
      "Epoch 8/10\n",
      "81/81 [==============================] - 6s 73ms/step - loss: 3.7881e-04 - val_loss: 3.8984e-04\n",
      "Epoch 9/10\n",
      "81/81 [==============================] - 7s 82ms/step - loss: 3.4395e-04 - val_loss: 2.2263e-04\n",
      "Epoch 10/10\n",
      "81/81 [==============================] - 6s 76ms/step - loss: 3.6943e-04 - val_loss: 6.3589e-04\n",
      "✅ Saved model to BR_gru_model.h5\n",
      "\n",
      "📈 Downloading data for BRO...\n"
     ]
    },
    {
     "name": "stderr",
     "output_type": "stream",
     "text": [
      "[*********************100%***********************]  1 of 1 completed\n"
     ]
    },
    {
     "name": "stdout",
     "output_type": "stream",
     "text": [
      "Training shape for BRO - X_train: (2571, 100, 1), X_test: (1102, 100, 1)\n",
      "Epoch 1/10\n",
      "81/81 [==============================] - 10s 81ms/step - loss: 0.0010 - val_loss: 9.6220e-04\n",
      "Epoch 2/10\n",
      "81/81 [==============================] - 6s 73ms/step - loss: 2.1315e-04 - val_loss: 1.8297e-04\n",
      "Epoch 3/10\n",
      "81/81 [==============================] - 6s 79ms/step - loss: 1.7133e-04 - val_loss: 3.5354e-04\n",
      "Epoch 4/10\n",
      "81/81 [==============================] - 6s 73ms/step - loss: 1.5701e-04 - val_loss: 2.6006e-04\n",
      "Epoch 5/10\n",
      "81/81 [==============================] - 6s 76ms/step - loss: 1.5877e-04 - val_loss: 7.8683e-04\n",
      "Epoch 6/10\n",
      "81/81 [==============================] - 6s 73ms/step - loss: 1.3339e-04 - val_loss: 6.6319e-04\n",
      "Epoch 7/10\n",
      "81/81 [==============================] - 6s 76ms/step - loss: 1.3360e-04 - val_loss: 3.9443e-04\n",
      "Epoch 8/10\n",
      "81/81 [==============================] - 6s 79ms/step - loss: 1.3090e-04 - val_loss: 9.8658e-04\n",
      "Epoch 9/10\n",
      "81/81 [==============================] - 6s 74ms/step - loss: 1.2088e-04 - val_loss: 1.6617e-04\n",
      "Epoch 10/10\n",
      "81/81 [==============================] - 6s 73ms/step - loss: 1.4202e-04 - val_loss: 6.7956e-04\n",
      "✅ Saved model to BRO_gru_model.h5\n",
      "\n",
      "📈 Downloading data for BF.B...\n"
     ]
    },
    {
     "name": "stderr",
     "output_type": "stream",
     "text": [
      "[*********************100%***********************]  1 of 1 completed\n",
      "\n",
      "1 Failed download:\n",
      "['BF.B']: YFPricesMissingError('possibly delisted; no price data found  (1d 2010-01-01 -> 2024-12-31)')\n"
     ]
    },
    {
     "name": "stdout",
     "output_type": "stream",
     "text": [
      "Skipping BF.B due to insufficient data.\n",
      "\n",
      "📈 Downloading data for BLDR...\n"
     ]
    },
    {
     "name": "stderr",
     "output_type": "stream",
     "text": [
      "[*********************100%***********************]  1 of 1 completed\n"
     ]
    },
    {
     "name": "stdout",
     "output_type": "stream",
     "text": [
      "Training shape for BLDR - X_train: (2571, 100, 1), X_test: (1102, 100, 1)\n",
      "Epoch 1/10\n",
      "81/81 [==============================] - 9s 81ms/step - loss: 2.8765e-04 - val_loss: 5.6226e-04\n",
      "Epoch 2/10\n",
      "81/81 [==============================] - 6s 79ms/step - loss: 4.1067e-05 - val_loss: 4.8298e-04\n",
      "Epoch 3/10\n",
      "81/81 [==============================] - 6s 74ms/step - loss: 3.6761e-05 - val_loss: 4.3734e-04\n",
      "Epoch 4/10\n",
      "81/81 [==============================] - 6s 73ms/step - loss: 3.1060e-05 - val_loss: 8.0363e-04\n",
      "Epoch 5/10\n",
      "81/81 [==============================] - 6s 76ms/step - loss: 3.1289e-05 - val_loss: 4.0514e-04\n",
      "Epoch 6/10\n",
      "81/81 [==============================] - 6s 78ms/step - loss: 2.5193e-05 - val_loss: 5.8835e-04\n",
      "Epoch 7/10\n",
      "81/81 [==============================] - 7s 82ms/step - loss: 2.3856e-05 - val_loss: 4.9299e-04\n",
      "Epoch 8/10\n",
      "81/81 [==============================] - 6s 75ms/step - loss: 2.4080e-05 - val_loss: 7.2883e-04\n",
      "Epoch 9/10\n",
      "81/81 [==============================] - 6s 79ms/step - loss: 2.1372e-05 - val_loss: 3.8432e-04\n",
      "Epoch 10/10\n",
      "81/81 [==============================] - 6s 75ms/step - loss: 2.0787e-05 - val_loss: 4.5901e-04\n",
      "✅ Saved model to BLDR_gru_model.h5\n",
      "\n",
      "📈 Downloading data for BG...\n"
     ]
    },
    {
     "name": "stderr",
     "output_type": "stream",
     "text": [
      "[*********************100%***********************]  1 of 1 completed\n"
     ]
    },
    {
     "name": "stdout",
     "output_type": "stream",
     "text": [
      "Training shape for BG - X_train: (2571, 100, 1), X_test: (1102, 100, 1)\n",
      "Epoch 1/10\n",
      "81/81 [==============================] - 10s 88ms/step - loss: 0.0043 - val_loss: 0.0014\n",
      "Epoch 2/10\n",
      "81/81 [==============================] - 6s 74ms/step - loss: 0.0010 - val_loss: 0.0016\n",
      "Epoch 3/10\n",
      "81/81 [==============================] - 6s 74ms/step - loss: 8.9571e-04 - val_loss: 7.4070e-04\n",
      "Epoch 4/10\n",
      "81/81 [==============================] - 7s 90ms/step - loss: 8.0689e-04 - val_loss: 6.0756e-04\n",
      "Epoch 5/10\n",
      "81/81 [==============================] - 6s 74ms/step - loss: 7.3509e-04 - val_loss: 5.7563e-04\n",
      "Epoch 6/10\n",
      "81/81 [==============================] - 6s 77ms/step - loss: 7.0479e-04 - val_loss: 5.8094e-04\n",
      "Epoch 7/10\n",
      "81/81 [==============================] - 6s 73ms/step - loss: 6.1431e-04 - val_loss: 5.4256e-04\n",
      "Epoch 8/10\n",
      "81/81 [==============================] - 6s 72ms/step - loss: 5.9910e-04 - val_loss: 0.0010\n",
      "Epoch 9/10\n",
      "81/81 [==============================] - 6s 74ms/step - loss: 5.6340e-04 - val_loss: 5.7099e-04\n",
      "Epoch 10/10\n",
      "81/81 [==============================] - 6s 72ms/step - loss: 5.0101e-04 - val_loss: 6.6228e-04\n",
      "✅ Saved model to BG_gru_model.h5\n",
      "\n",
      "📈 Downloading data for BXP...\n"
     ]
    },
    {
     "name": "stderr",
     "output_type": "stream",
     "text": [
      "[*********************100%***********************]  1 of 1 completed\n"
     ]
    },
    {
     "name": "stdout",
     "output_type": "stream",
     "text": [
      "Training shape for BXP - X_train: (2571, 100, 1), X_test: (1102, 100, 1)\n",
      "Epoch 1/10\n",
      "81/81 [==============================] - 10s 79ms/step - loss: 0.0291 - val_loss: 0.0014\n",
      "Epoch 2/10\n",
      "81/81 [==============================] - 6s 74ms/step - loss: 0.0043 - val_loss: 0.0010\n",
      "Epoch 3/10\n",
      "81/81 [==============================] - 6s 75ms/step - loss: 0.0038 - val_loss: 9.0076e-04\n",
      "Epoch 4/10\n",
      "81/81 [==============================] - 6s 73ms/step - loss: 0.0031 - val_loss: 8.8245e-04\n",
      "Epoch 5/10\n",
      "81/81 [==============================] - 6s 79ms/step - loss: 0.0030 - val_loss: 8.6876e-04\n",
      "Epoch 6/10\n",
      "81/81 [==============================] - 6s 72ms/step - loss: 0.0028 - val_loss: 8.0542e-04\n",
      "Epoch 7/10\n",
      "81/81 [==============================] - 6s 72ms/step - loss: 0.0025 - val_loss: 9.4980e-04\n",
      "Epoch 8/10\n",
      "81/81 [==============================] - 6s 72ms/step - loss: 0.0026 - val_loss: 8.4648e-04\n",
      "Epoch 9/10\n",
      "81/81 [==============================] - 6s 73ms/step - loss: 0.0025 - val_loss: 0.0010\n",
      "Epoch 10/10\n",
      "81/81 [==============================] - 6s 79ms/step - loss: 0.0024 - val_loss: 0.0012\n",
      "✅ Saved model to BXP_gru_model.h5\n",
      "\n",
      "📈 Downloading data for CHRW...\n"
     ]
    },
    {
     "name": "stderr",
     "output_type": "stream",
     "text": [
      "[*********************100%***********************]  1 of 1 completed\n"
     ]
    },
    {
     "name": "stdout",
     "output_type": "stream",
     "text": [
      "Training shape for CHRW - X_train: (2571, 100, 1), X_test: (1102, 100, 1)\n",
      "Epoch 1/10\n",
      "81/81 [==============================] - 10s 82ms/step - loss: 0.0066 - val_loss: 0.0013\n",
      "Epoch 2/10\n",
      "81/81 [==============================] - 6s 74ms/step - loss: 0.0012 - val_loss: 8.8689e-04\n",
      "Epoch 3/10\n",
      "81/81 [==============================] - 6s 72ms/step - loss: 0.0012 - val_loss: 8.1133e-04\n",
      "Epoch 4/10\n",
      "81/81 [==============================] - 6s 78ms/step - loss: 9.7483e-04 - val_loss: 8.0572e-04\n",
      "Epoch 5/10\n",
      "81/81 [==============================] - 6s 73ms/step - loss: 9.3145e-04 - val_loss: 7.8215e-04\n",
      "Epoch 6/10\n",
      "81/81 [==============================] - 6s 73ms/step - loss: 8.4619e-04 - val_loss: 7.7113e-04\n",
      "Epoch 7/10\n",
      "81/81 [==============================] - 6s 73ms/step - loss: 8.1915e-04 - val_loss: 0.0011\n",
      "Epoch 8/10\n",
      "81/81 [==============================] - 6s 74ms/step - loss: 7.2897e-04 - val_loss: 7.0056e-04\n",
      "Epoch 9/10\n",
      "81/81 [==============================] - 6s 79ms/step - loss: 7.4717e-04 - val_loss: 9.1033e-04\n",
      "Epoch 10/10\n",
      "81/81 [==============================] - 7s 87ms/step - loss: 7.7777e-04 - val_loss: 7.3157e-04\n",
      "✅ Saved model to CHRW_gru_model.h5\n",
      "\n",
      "📈 Downloading data for CDNS...\n"
     ]
    },
    {
     "name": "stderr",
     "output_type": "stream",
     "text": [
      "[*********************100%***********************]  1 of 1 completed\n"
     ]
    },
    {
     "name": "stdout",
     "output_type": "stream",
     "text": [
      "Training shape for CDNS - X_train: (2571, 100, 1), X_test: (1102, 100, 1)\n",
      "Epoch 1/10\n",
      "81/81 [==============================] - 10s 81ms/step - loss: 8.2965e-04 - val_loss: 4.8880e-04\n",
      "Epoch 2/10\n",
      "81/81 [==============================] - 6s 73ms/step - loss: 1.2970e-04 - val_loss: 5.3715e-04\n",
      "Epoch 3/10\n",
      "81/81 [==============================] - 7s 82ms/step - loss: 9.2491e-05 - val_loss: 4.5266e-04\n",
      "Epoch 4/10\n",
      "81/81 [==============================] - 6s 74ms/step - loss: 9.3339e-05 - val_loss: 0.0011\n",
      "Epoch 5/10\n",
      "81/81 [==============================] - 6s 73ms/step - loss: 8.9491e-05 - val_loss: 8.2738e-04\n",
      "Epoch 6/10\n",
      "81/81 [==============================] - 6s 74ms/step - loss: 8.7129e-05 - val_loss: 6.4257e-04\n",
      "Epoch 7/10\n",
      "81/81 [==============================] - 6s 73ms/step - loss: 8.3181e-05 - val_loss: 9.1102e-04\n",
      "Epoch 8/10\n",
      "81/81 [==============================] - 6s 79ms/step - loss: 7.2689e-05 - val_loss: 0.0010\n",
      "Epoch 9/10\n",
      "81/81 [==============================] - 6s 78ms/step - loss: 7.1272e-05 - val_loss: 4.8527e-04\n",
      "Epoch 10/10\n",
      "81/81 [==============================] - 8s 94ms/step - loss: 6.0586e-05 - val_loss: 0.0025\n",
      "✅ Saved model to CDNS_gru_model.h5\n",
      "\n",
      "📈 Downloading data for CZR...\n"
     ]
    },
    {
     "name": "stderr",
     "output_type": "stream",
     "text": [
      "[*********************100%***********************]  1 of 1 completed\n"
     ]
    },
    {
     "name": "stdout",
     "output_type": "stream",
     "text": [
      "Training shape for CZR - X_train: (1740, 100, 1), X_test: (746, 100, 1)\n",
      "Epoch 1/10\n",
      "55/55 [==============================] - 10s 100ms/step - loss: 0.0141 - val_loss: 6.0015e-04\n",
      "Epoch 2/10\n",
      "55/55 [==============================] - 6s 106ms/step - loss: 0.0026 - val_loss: 5.2837e-04\n",
      "Epoch 3/10\n",
      "55/55 [==============================] - 4s 81ms/step - loss: 0.0023 - val_loss: 5.8410e-04\n",
      "Epoch 4/10\n",
      "55/55 [==============================] - 4s 75ms/step - loss: 0.0019 - val_loss: 4.9892e-04\n",
      "Epoch 5/10\n",
      "55/55 [==============================] - 4s 77ms/step - loss: 0.0019 - val_loss: 4.7738e-04\n",
      "Epoch 6/10\n",
      "55/55 [==============================] - 4s 75ms/step - loss: 0.0017 - val_loss: 6.3789e-04\n",
      "Epoch 7/10\n",
      "55/55 [==============================] - 4s 76ms/step - loss: 0.0018 - val_loss: 4.7769e-04\n",
      "Epoch 8/10\n",
      "55/55 [==============================] - 4s 76ms/step - loss: 0.0018 - val_loss: 0.0011\n",
      "Epoch 9/10\n",
      "55/55 [==============================] - 5s 83ms/step - loss: 0.0017 - val_loss: 4.0149e-04\n",
      "Epoch 10/10\n",
      "55/55 [==============================] - 4s 75ms/step - loss: 0.0014 - val_loss: 4.9230e-04\n",
      "✅ Saved model to CZR_gru_model.h5\n",
      "\n",
      "📈 Downloading data for CPT...\n"
     ]
    },
    {
     "name": "stderr",
     "output_type": "stream",
     "text": [
      "[*********************100%***********************]  1 of 1 completed\n"
     ]
    },
    {
     "name": "stdout",
     "output_type": "stream",
     "text": [
      "Training shape for CPT - X_train: (2571, 100, 1), X_test: (1102, 100, 1)\n",
      "Epoch 1/10\n",
      "81/81 [==============================] - 11s 85ms/step - loss: 0.0057 - val_loss: 3.4093e-04\n",
      "Epoch 2/10\n",
      "81/81 [==============================] - 6s 76ms/step - loss: 9.3603e-04 - val_loss: 0.0011\n",
      "Epoch 3/10\n",
      "81/81 [==============================] - 6s 80ms/step - loss: 7.9552e-04 - val_loss: 3.2753e-04\n",
      "Epoch 4/10\n",
      "81/81 [==============================] - 6s 75ms/step - loss: 7.7056e-04 - val_loss: 0.0010\n",
      "Epoch 5/10\n",
      "81/81 [==============================] - 6s 72ms/step - loss: 6.3030e-04 - val_loss: 3.9661e-04\n",
      "Epoch 6/10\n",
      "81/81 [==============================] - 6s 75ms/step - loss: 6.1842e-04 - val_loss: 7.0557e-04\n",
      "Epoch 7/10\n",
      "81/81 [==============================] - 6s 73ms/step - loss: 6.0292e-04 - val_loss: 3.8061e-04\n",
      "Epoch 8/10\n",
      "81/81 [==============================] - 6s 80ms/step - loss: 5.4540e-04 - val_loss: 3.4348e-04\n",
      "Epoch 9/10\n",
      "81/81 [==============================] - 6s 74ms/step - loss: 5.0807e-04 - val_loss: 3.9184e-04\n",
      "Epoch 10/10\n",
      "81/81 [==============================] - 6s 75ms/step - loss: 4.3715e-04 - val_loss: 5.5376e-04\n",
      "✅ Saved model to CPT_gru_model.h5\n",
      "\n",
      "📈 Downloading data for CPB...\n"
     ]
    },
    {
     "name": "stderr",
     "output_type": "stream",
     "text": [
      "[*********************100%***********************]  1 of 1 completed\n"
     ]
    },
    {
     "name": "stdout",
     "output_type": "stream",
     "text": [
      "Training shape for CPB - X_train: (2571, 100, 1), X_test: (1102, 100, 1)\n",
      "Epoch 1/10\n",
      "81/81 [==============================] - 11s 83ms/step - loss: 0.0187 - val_loss: 7.9322e-04\n",
      "Epoch 2/10\n",
      "81/81 [==============================] - 6s 80ms/step - loss: 0.0027 - val_loss: 7.9621e-04\n",
      "Epoch 3/10\n",
      "81/81 [==============================] - 6s 73ms/step - loss: 0.0023 - val_loss: 7.7149e-04\n",
      "Epoch 4/10\n",
      "81/81 [==============================] - 6s 73ms/step - loss: 0.0023 - val_loss: 0.0012\n",
      "Epoch 5/10\n",
      "81/81 [==============================] - 6s 73ms/step - loss: 0.0021 - val_loss: 7.3198e-04\n",
      "Epoch 6/10\n",
      "81/81 [==============================] - 6s 75ms/step - loss: 0.0018 - val_loss: 7.4739e-04\n",
      "Epoch 7/10\n",
      "81/81 [==============================] - 6s 80ms/step - loss: 0.0019 - val_loss: 7.2910e-04\n",
      "Epoch 8/10\n",
      "81/81 [==============================] - 6s 75ms/step - loss: 0.0017 - val_loss: 9.4220e-04\n",
      "Epoch 9/10\n",
      "81/81 [==============================] - 6s 76ms/step - loss: 0.0018 - val_loss: 6.6510e-04\n",
      "Epoch 10/10\n",
      "81/81 [==============================] - 6s 75ms/step - loss: 0.0017 - val_loss: 7.0256e-04\n",
      "✅ Saved model to CPB_gru_model.h5\n",
      "\n",
      "📈 Downloading data for COF...\n"
     ]
    },
    {
     "name": "stderr",
     "output_type": "stream",
     "text": [
      "[*********************100%***********************]  1 of 1 completed\n"
     ]
    },
    {
     "name": "stdout",
     "output_type": "stream",
     "text": [
      "Training shape for COF - X_train: (2571, 100, 1), X_test: (1102, 100, 1)\n",
      "Epoch 1/10\n",
      "81/81 [==============================] - 10s 87ms/step - loss: 0.0037 - val_loss: 9.1986e-04\n",
      "Epoch 2/10\n",
      "81/81 [==============================] - 6s 74ms/step - loss: 6.2620e-04 - val_loss: 6.4344e-04\n",
      "Epoch 3/10\n",
      "81/81 [==============================] - 6s 74ms/step - loss: 5.7270e-04 - val_loss: 6.3983e-04\n",
      "Epoch 4/10\n",
      "81/81 [==============================] - 6s 74ms/step - loss: 5.1990e-04 - val_loss: 7.6062e-04\n",
      "Epoch 5/10\n",
      "81/81 [==============================] - 6s 75ms/step - loss: 4.6923e-04 - val_loss: 5.4767e-04\n",
      "Epoch 6/10\n",
      "81/81 [==============================] - 6s 79ms/step - loss: 4.3125e-04 - val_loss: 5.0979e-04\n",
      "Epoch 7/10\n",
      "81/81 [==============================] - 6s 73ms/step - loss: 4.1697e-04 - val_loss: 6.1552e-04\n",
      "Epoch 8/10\n",
      "81/81 [==============================] - 6s 75ms/step - loss: 3.5126e-04 - val_loss: 4.9544e-04\n",
      "Epoch 9/10\n",
      "81/81 [==============================] - 6s 73ms/step - loss: 3.5127e-04 - val_loss: 5.7464e-04\n",
      "Epoch 10/10\n",
      "81/81 [==============================] - 6s 74ms/step - loss: 3.3804e-04 - val_loss: 6.8867e-04\n",
      "✅ Saved model to COF_gru_model.h5\n",
      "\n",
      "📈 Downloading data for CAH...\n"
     ]
    },
    {
     "name": "stderr",
     "output_type": "stream",
     "text": [
      "[*********************100%***********************]  1 of 1 completed\n"
     ]
    },
    {
     "name": "stdout",
     "output_type": "stream",
     "text": [
      "Training shape for CAH - X_train: (2571, 100, 1), X_test: (1102, 100, 1)\n",
      "Epoch 1/10\n",
      "81/81 [==============================] - 10s 84ms/step - loss: 0.0031 - val_loss: 8.6904e-04\n",
      "Epoch 2/10\n",
      "81/81 [==============================] - 6s 74ms/step - loss: 8.2880e-04 - val_loss: 2.7192e-04\n",
      "Epoch 3/10\n",
      "81/81 [==============================] - 6s 74ms/step - loss: 7.0970e-04 - val_loss: 8.7464e-04\n",
      "Epoch 4/10\n",
      "81/81 [==============================] - 6s 73ms/step - loss: 6.4308e-04 - val_loss: 6.5127e-04\n",
      "Epoch 5/10\n",
      "81/81 [==============================] - 6s 78ms/step - loss: 6.3798e-04 - val_loss: 2.7209e-04\n",
      "Epoch 6/10\n",
      "81/81 [==============================] - 6s 76ms/step - loss: 5.3293e-04 - val_loss: 2.4786e-04\n",
      "Epoch 7/10\n",
      "81/81 [==============================] - 6s 73ms/step - loss: 5.3663e-04 - val_loss: 3.3512e-04\n",
      "Epoch 8/10\n",
      "81/81 [==============================] - 6s 75ms/step - loss: 4.5224e-04 - val_loss: 2.2678e-04\n",
      "Epoch 9/10\n",
      "81/81 [==============================] - 6s 74ms/step - loss: 4.7881e-04 - val_loss: 2.7092e-04\n",
      "Epoch 10/10\n",
      "81/81 [==============================] - 6s 76ms/step - loss: 4.3676e-04 - val_loss: 2.1137e-04\n",
      "✅ Saved model to CAH_gru_model.h5\n",
      "\n",
      "📈 Downloading data for KMX...\n"
     ]
    },
    {
     "name": "stderr",
     "output_type": "stream",
     "text": [
      "[*********************100%***********************]  1 of 1 completed\n"
     ]
    },
    {
     "name": "stdout",
     "output_type": "stream",
     "text": [
      "Training shape for KMX - X_train: (2571, 100, 1), X_test: (1102, 100, 1)\n",
      "Epoch 1/10\n",
      "81/81 [==============================] - 10s 81ms/step - loss: 0.0058 - val_loss: 6.4095e-04\n",
      "Epoch 2/10\n",
      "81/81 [==============================] - 6s 73ms/step - loss: 0.0011 - val_loss: 6.9336e-04\n",
      "Epoch 3/10\n",
      "81/81 [==============================] - 6s 74ms/step - loss: 9.6763e-04 - val_loss: 6.3217e-04\n",
      "Epoch 4/10\n",
      "81/81 [==============================] - 6s 76ms/step - loss: 7.5744e-04 - val_loss: 5.8770e-04\n",
      "Epoch 5/10\n",
      "81/81 [==============================] - 6s 77ms/step - loss: 7.5800e-04 - val_loss: 8.1682e-04\n",
      "Epoch 6/10\n",
      "81/81 [==============================] - 6s 74ms/step - loss: 7.1385e-04 - val_loss: 5.8396e-04\n",
      "Epoch 7/10\n",
      "81/81 [==============================] - 6s 75ms/step - loss: 7.5134e-04 - val_loss: 0.0011\n",
      "Epoch 8/10\n",
      "81/81 [==============================] - 6s 74ms/step - loss: 6.0913e-04 - val_loss: 5.8943e-04\n",
      "Epoch 9/10\n",
      "81/81 [==============================] - 6s 75ms/step - loss: 6.3919e-04 - val_loss: 6.8392e-04\n",
      "Epoch 10/10\n",
      "81/81 [==============================] - 6s 76ms/step - loss: 6.3633e-04 - val_loss: 7.6708e-04\n",
      "✅ Saved model to KMX_gru_model.h5\n",
      "\n",
      "📈 Downloading data for CCL...\n"
     ]
    },
    {
     "name": "stderr",
     "output_type": "stream",
     "text": [
      "[*********************100%***********************]  1 of 1 completed\n"
     ]
    },
    {
     "name": "stdout",
     "output_type": "stream",
     "text": [
      "Training shape for CCL - X_train: (2571, 100, 1), X_test: (1102, 100, 1)\n",
      "Epoch 1/10\n",
      "81/81 [==============================] - 14s 86ms/step - loss: 0.0312 - val_loss: 0.0017\n",
      "Epoch 2/10\n",
      "81/81 [==============================] - 6s 77ms/step - loss: 0.0045 - val_loss: 2.7472e-04\n",
      "Epoch 3/10\n",
      "81/81 [==============================] - 7s 83ms/step - loss: 0.0035 - val_loss: 4.5030e-04\n",
      "Epoch 4/10\n",
      "81/81 [==============================] - 6s 78ms/step - loss: 0.0032 - val_loss: 2.5553e-04\n",
      "Epoch 5/10\n",
      "81/81 [==============================] - 6s 79ms/step - loss: 0.0029 - val_loss: 3.1752e-04\n",
      "Epoch 6/10\n",
      "81/81 [==============================] - 6s 79ms/step - loss: 0.0027 - val_loss: 2.6644e-04\n",
      "Epoch 7/10\n",
      "81/81 [==============================] - 7s 80ms/step - loss: 0.0025 - val_loss: 2.5247e-04\n",
      "Epoch 8/10\n",
      "81/81 [==============================] - 7s 83ms/step - loss: 0.0023 - val_loss: 2.5866e-04\n",
      "Epoch 9/10\n",
      "81/81 [==============================] - 6s 78ms/step - loss: 0.0026 - val_loss: 3.8692e-04\n",
      "Epoch 10/10\n",
      "81/81 [==============================] - 6s 79ms/step - loss: 0.0021 - val_loss: 3.0876e-04\n",
      "✅ Saved model to CCL_gru_model.h5\n",
      "\n",
      "📈 Downloading data for CARR...\n"
     ]
    },
    {
     "name": "stderr",
     "output_type": "stream",
     "text": [
      "[*********************100%***********************]  1 of 1 completed\n"
     ]
    },
    {
     "name": "stdout",
     "output_type": "stream",
     "text": [
      "Training shape for CARR - X_train: (772, 100, 1), X_test: (332, 100, 1)\n",
      "Epoch 1/10\n",
      "25/25 [==============================] - 6s 96ms/step - loss: 0.0236 - val_loss: 0.0221\n",
      "Epoch 2/10\n",
      "25/25 [==============================] - 2s 76ms/step - loss: 0.0044 - val_loss: 0.0112\n",
      "Epoch 3/10\n",
      "25/25 [==============================] - 2s 82ms/step - loss: 0.0035 - val_loss: 0.0055\n",
      "Epoch 4/10\n",
      "25/25 [==============================] - 2s 88ms/step - loss: 0.0030 - val_loss: 0.0029\n",
      "Epoch 5/10\n",
      "25/25 [==============================] - 2s 76ms/step - loss: 0.0023 - val_loss: 0.0020\n",
      "Epoch 6/10\n",
      "25/25 [==============================] - 2s 80ms/step - loss: 0.0024 - val_loss: 9.8054e-04\n",
      "Epoch 7/10\n",
      "25/25 [==============================] - 2s 78ms/step - loss: 0.0022 - val_loss: 0.0014\n",
      "Epoch 8/10\n",
      "25/25 [==============================] - 2s 83ms/step - loss: 0.0021 - val_loss: 0.0011\n",
      "Epoch 9/10\n",
      "25/25 [==============================] - 2s 90ms/step - loss: 0.0018 - val_loss: 9.9684e-04\n",
      "Epoch 10/10\n",
      "25/25 [==============================] - 2s 82ms/step - loss: 0.0018 - val_loss: 5.8299e-04\n",
      "✅ Saved model to CARR_gru_model.h5\n",
      "\n",
      "📈 Downloading data for CAT...\n"
     ]
    },
    {
     "name": "stderr",
     "output_type": "stream",
     "text": [
      "[*********************100%***********************]  1 of 1 completed\n"
     ]
    },
    {
     "name": "stdout",
     "output_type": "stream",
     "text": [
      "Training shape for CAT - X_train: (2571, 100, 1), X_test: (1102, 100, 1)\n",
      "Epoch 1/10\n",
      "81/81 [==============================] - 9s 81ms/step - loss: 0.0014 - val_loss: 7.4900e-04\n",
      "Epoch 2/10\n",
      "81/81 [==============================] - 6s 79ms/step - loss: 2.3620e-04 - val_loss: 3.8605e-04\n",
      "Epoch 3/10\n",
      "81/81 [==============================] - 6s 75ms/step - loss: 1.9101e-04 - val_loss: 4.6476e-04\n",
      "Epoch 4/10\n",
      "81/81 [==============================] - 6s 75ms/step - loss: 1.6550e-04 - val_loss: 3.3997e-04\n",
      "Epoch 5/10\n",
      "81/81 [==============================] - 6s 75ms/step - loss: 1.7727e-04 - val_loss: 0.0023\n",
      "Epoch 6/10\n",
      "81/81 [==============================] - 6s 76ms/step - loss: 1.4922e-04 - val_loss: 4.2106e-04\n",
      "Epoch 7/10\n",
      "81/81 [==============================] - 6s 78ms/step - loss: 1.3857e-04 - val_loss: 5.2533e-04\n",
      "Epoch 8/10\n",
      "81/81 [==============================] - 6s 76ms/step - loss: 1.2643e-04 - val_loss: 6.5548e-04\n",
      "Epoch 9/10\n",
      "81/81 [==============================] - 6s 76ms/step - loss: 1.2124e-04 - val_loss: 3.8952e-04\n",
      "Epoch 10/10\n",
      "81/81 [==============================] - 6s 75ms/step - loss: 1.2107e-04 - val_loss: 3.9818e-04\n",
      "✅ Saved model to CAT_gru_model.h5\n",
      "\n",
      "📈 Downloading data for CBOE...\n"
     ]
    },
    {
     "name": "stderr",
     "output_type": "stream",
     "text": [
      "[*********************100%***********************]  1 of 1 completed\n"
     ]
    },
    {
     "name": "stdout",
     "output_type": "stream",
     "text": [
      "Training shape for CBOE - X_train: (2492, 100, 1), X_test: (1069, 100, 1)\n",
      "Epoch 1/10\n",
      "78/78 [==============================] - 10s 88ms/step - loss: 0.0052 - val_loss: 2.1128e-04\n",
      "Epoch 2/10\n",
      "78/78 [==============================] - 6s 77ms/step - loss: 8.6978e-04 - val_loss: 2.2408e-04\n",
      "Epoch 3/10\n",
      "78/78 [==============================] - 6s 72ms/step - loss: 6.4245e-04 - val_loss: 2.0054e-04\n",
      "Epoch 4/10\n",
      "78/78 [==============================] - 6s 76ms/step - loss: 6.5793e-04 - val_loss: 5.9593e-04\n",
      "Epoch 5/10\n",
      "78/78 [==============================] - 6s 75ms/step - loss: 5.9618e-04 - val_loss: 2.3287e-04\n",
      "Epoch 6/10\n",
      "78/78 [==============================] - 6s 74ms/step - loss: 5.0817e-04 - val_loss: 3.6918e-04\n",
      "Epoch 7/10\n",
      "78/78 [==============================] - 6s 79ms/step - loss: 5.1893e-04 - val_loss: 2.4131e-04\n",
      "Epoch 8/10\n",
      "78/78 [==============================] - 6s 74ms/step - loss: 5.0485e-04 - val_loss: 2.3932e-04\n",
      "Epoch 9/10\n",
      "78/78 [==============================] - 6s 75ms/step - loss: 4.6155e-04 - val_loss: 3.5839e-04\n",
      "Epoch 10/10\n",
      "78/78 [==============================] - 6s 75ms/step - loss: 4.0726e-04 - val_loss: 2.4512e-04\n",
      "✅ Saved model to CBOE_gru_model.h5\n",
      "\n",
      "📈 Downloading data for CBRE...\n"
     ]
    },
    {
     "name": "stderr",
     "output_type": "stream",
     "text": [
      "[*********************100%***********************]  1 of 1 completed\n"
     ]
    },
    {
     "name": "stdout",
     "output_type": "stream",
     "text": [
      "Training shape for CBRE - X_train: (2571, 100, 1), X_test: (1102, 100, 1)\n",
      "Epoch 1/10\n",
      "81/81 [==============================] - 11s 93ms/step - loss: 0.0019 - val_loss: 5.2443e-04\n",
      "Epoch 2/10\n",
      "81/81 [==============================] - 6s 77ms/step - loss: 4.1481e-04 - val_loss: 4.4781e-04\n",
      "Epoch 3/10\n",
      "81/81 [==============================] - 6s 74ms/step - loss: 3.4955e-04 - val_loss: 3.2846e-04\n",
      "Epoch 4/10\n",
      "81/81 [==============================] - 6s 75ms/step - loss: 2.9934e-04 - val_loss: 3.1524e-04\n",
      "Epoch 5/10\n",
      "81/81 [==============================] - 6s 76ms/step - loss: 2.7938e-04 - val_loss: 3.2475e-04\n",
      "Epoch 6/10\n",
      "81/81 [==============================] - 6s 78ms/step - loss: 2.6997e-04 - val_loss: 3.1387e-04\n",
      "Epoch 7/10\n",
      "81/81 [==============================] - 6s 76ms/step - loss: 2.4276e-04 - val_loss: 2.9246e-04\n",
      "Epoch 8/10\n",
      "81/81 [==============================] - 6s 77ms/step - loss: 2.2300e-04 - val_loss: 3.5686e-04\n",
      "Epoch 9/10\n",
      "81/81 [==============================] - 6s 77ms/step - loss: 2.2168e-04 - val_loss: 0.0019\n",
      "Epoch 10/10\n",
      "81/81 [==============================] - 6s 78ms/step - loss: 2.3064e-04 - val_loss: 2.7874e-04\n",
      "✅ Saved model to CBRE_gru_model.h5\n",
      "\n",
      "📈 Downloading data for CDW...\n"
     ]
    },
    {
     "name": "stderr",
     "output_type": "stream",
     "text": [
      "[*********************100%***********************]  1 of 1 completed\n"
     ]
    },
    {
     "name": "stdout",
     "output_type": "stream",
     "text": [
      "Training shape for CDW - X_train: (1957, 100, 1), X_test: (840, 100, 1)\n",
      "Epoch 1/10\n",
      "62/62 [==============================] - 8s 81ms/step - loss: 0.0099 - val_loss: 0.0011\n",
      "Epoch 2/10\n",
      "62/62 [==============================] - 5s 75ms/step - loss: 0.0010 - val_loss: 7.4036e-04\n",
      "Epoch 3/10\n",
      "62/62 [==============================] - 5s 74ms/step - loss: 9.5062e-04 - val_loss: 4.5808e-04\n",
      "Epoch 4/10\n",
      "62/62 [==============================] - 5s 73ms/step - loss: 8.2169e-04 - val_loss: 7.5852e-04\n",
      "Epoch 5/10\n",
      "62/62 [==============================] - 5s 73ms/step - loss: 7.6130e-04 - val_loss: 4.4027e-04\n",
      "Epoch 6/10\n",
      "62/62 [==============================] - 5s 79ms/step - loss: 7.3523e-04 - val_loss: 7.3121e-04\n",
      "Epoch 7/10\n",
      "62/62 [==============================] - 5s 74ms/step - loss: 6.1415e-04 - val_loss: 4.6985e-04\n",
      "Epoch 8/10\n",
      "62/62 [==============================] - 5s 74ms/step - loss: 6.9330e-04 - val_loss: 7.7043e-04\n",
      "Epoch 9/10\n",
      "62/62 [==============================] - 5s 74ms/step - loss: 6.9034e-04 - val_loss: 5.4069e-04\n",
      "Epoch 10/10\n",
      "62/62 [==============================] - 5s 74ms/step - loss: 5.5557e-04 - val_loss: 4.3474e-04\n",
      "✅ Saved model to CDW_gru_model.h5\n",
      "\n",
      "📈 Downloading data for COR...\n"
     ]
    },
    {
     "name": "stderr",
     "output_type": "stream",
     "text": [
      "[*********************100%***********************]  1 of 1 completed\n"
     ]
    },
    {
     "name": "stdout",
     "output_type": "stream",
     "text": [
      "Training shape for COR - X_train: (2571, 100, 1), X_test: (1102, 100, 1)\n",
      "Epoch 1/10\n",
      "81/81 [==============================] - 10s 84ms/step - loss: 0.0024 - val_loss: 0.0016\n",
      "Epoch 2/10\n",
      "81/81 [==============================] - 6s 73ms/step - loss: 4.8275e-04 - val_loss: 3.4215e-04\n",
      "Epoch 3/10\n",
      "81/81 [==============================] - 6s 74ms/step - loss: 4.0987e-04 - val_loss: 2.3116e-04\n",
      "Epoch 4/10\n",
      "81/81 [==============================] - 6s 73ms/step - loss: 3.6367e-04 - val_loss: 6.1076e-04\n",
      "Epoch 5/10\n",
      "81/81 [==============================] - 6s 73ms/step - loss: 3.4153e-04 - val_loss: 2.2503e-04\n",
      "Epoch 6/10\n",
      "81/81 [==============================] - 6s 79ms/step - loss: 2.7706e-04 - val_loss: 3.1668e-04\n",
      "Epoch 7/10\n",
      "81/81 [==============================] - 6s 73ms/step - loss: 2.7435e-04 - val_loss: 5.2373e-04\n",
      "Epoch 8/10\n",
      "81/81 [==============================] - 7s 81ms/step - loss: 2.6621e-04 - val_loss: 2.0042e-04\n",
      "Epoch 9/10\n",
      "81/81 [==============================] - 6s 75ms/step - loss: 2.4688e-04 - val_loss: 2.7938e-04\n",
      "Epoch 10/10\n",
      "81/81 [==============================] - 6s 74ms/step - loss: 2.1932e-04 - val_loss: 7.8392e-04\n",
      "✅ Saved model to COR_gru_model.h5\n",
      "\n",
      "📈 Downloading data for CNC...\n"
     ]
    },
    {
     "name": "stderr",
     "output_type": "stream",
     "text": [
      "[*********************100%***********************]  1 of 1 completed\n"
     ]
    },
    {
     "name": "stdout",
     "output_type": "stream",
     "text": [
      "Training shape for CNC - X_train: (2571, 100, 1), X_test: (1102, 100, 1)\n",
      "Epoch 1/10\n",
      "81/81 [==============================] - 11s 82ms/step - loss: 0.0063 - val_loss: 5.5069e-04\n",
      "Epoch 2/10\n",
      "81/81 [==============================] - 6s 75ms/step - loss: 0.0014 - val_loss: 5.3620e-04\n",
      "Epoch 3/10\n",
      "81/81 [==============================] - 6s 72ms/step - loss: 0.0012 - val_loss: 6.0573e-04\n",
      "Epoch 4/10\n",
      "81/81 [==============================] - 6s 74ms/step - loss: 0.0010 - val_loss: 9.1825e-04\n",
      "Epoch 5/10\n",
      "81/81 [==============================] - 6s 80ms/step - loss: 0.0010 - val_loss: 6.2792e-04\n",
      "Epoch 6/10\n",
      "81/81 [==============================] - 6s 73ms/step - loss: 9.9017e-04 - val_loss: 0.0012\n",
      "Epoch 7/10\n",
      "81/81 [==============================] - 6s 78ms/step - loss: 0.0010 - val_loss: 6.5714e-04\n",
      "Epoch 8/10\n",
      "81/81 [==============================] - 6s 73ms/step - loss: 0.0010 - val_loss: 4.9365e-04\n",
      "Epoch 9/10\n",
      "81/81 [==============================] - 6s 74ms/step - loss: 9.9201e-04 - val_loss: 4.8762e-04\n",
      "Epoch 10/10\n",
      "81/81 [==============================] - 7s 81ms/step - loss: 9.0453e-04 - val_loss: 4.6165e-04\n",
      "✅ Saved model to CNC_gru_model.h5\n",
      "\n",
      "📈 Downloading data for CNP...\n"
     ]
    },
    {
     "name": "stderr",
     "output_type": "stream",
     "text": [
      "[*********************100%***********************]  1 of 1 completed\n"
     ]
    },
    {
     "name": "stdout",
     "output_type": "stream",
     "text": [
      "Training shape for CNP - X_train: (2571, 100, 1), X_test: (1102, 100, 1)\n",
      "Epoch 1/10\n",
      "81/81 [==============================] - 9s 81ms/step - loss: 0.0157 - val_loss: 5.5223e-04\n",
      "Epoch 2/10\n",
      "81/81 [==============================] - 6s 74ms/step - loss: 0.0020 - val_loss: 8.3851e-04\n",
      "Epoch 3/10\n",
      "81/81 [==============================] - 6s 75ms/step - loss: 0.0019 - val_loss: 0.0015\n",
      "Epoch 4/10\n",
      "81/81 [==============================] - 6s 79ms/step - loss: 0.0016 - val_loss: 4.9002e-04\n",
      "Epoch 5/10\n",
      "81/81 [==============================] - 6s 75ms/step - loss: 0.0015 - val_loss: 5.8495e-04\n",
      "Epoch 6/10\n",
      "81/81 [==============================] - 6s 73ms/step - loss: 0.0014 - val_loss: 0.0012\n",
      "Epoch 7/10\n",
      "81/81 [==============================] - 6s 77ms/step - loss: 0.0013 - val_loss: 4.5901e-04\n",
      "Epoch 8/10\n",
      "81/81 [==============================] - 6s 75ms/step - loss: 0.0014 - val_loss: 6.3044e-04\n",
      "Epoch 9/10\n",
      "81/81 [==============================] - 7s 83ms/step - loss: 0.0012 - val_loss: 4.6266e-04\n",
      "Epoch 10/10\n",
      "81/81 [==============================] - 6s 75ms/step - loss: 0.0013 - val_loss: 4.3165e-04\n",
      "✅ Saved model to CNP_gru_model.h5\n",
      "\n",
      "📈 Downloading data for CF...\n"
     ]
    },
    {
     "name": "stderr",
     "output_type": "stream",
     "text": [
      "[*********************100%***********************]  1 of 1 completed\n"
     ]
    },
    {
     "name": "stdout",
     "output_type": "stream",
     "text": [
      "Training shape for CF - X_train: (2571, 100, 1), X_test: (1102, 100, 1)\n",
      "Epoch 1/10\n",
      "81/81 [==============================] - 9s 81ms/step - loss: 0.0035 - val_loss: 0.0010\n",
      "Epoch 2/10\n",
      "81/81 [==============================] - 6s 73ms/step - loss: 5.7103e-04 - val_loss: 7.6911e-04\n",
      "Epoch 3/10\n",
      "81/81 [==============================] - 7s 81ms/step - loss: 5.0905e-04 - val_loss: 8.9725e-04\n",
      "Epoch 4/10\n",
      "81/81 [==============================] - 6s 72ms/step - loss: 4.5164e-04 - val_loss: 0.0011\n",
      "Epoch 5/10\n",
      "81/81 [==============================] - 6s 74ms/step - loss: 4.3932e-04 - val_loss: 0.0014\n",
      "Epoch 6/10\n",
      "81/81 [==============================] - 6s 74ms/step - loss: 4.0534e-04 - val_loss: 5.1137e-04\n",
      "Epoch 7/10\n",
      "81/81 [==============================] - 6s 74ms/step - loss: 3.9961e-04 - val_loss: 4.6731e-04\n",
      "Epoch 8/10\n",
      "81/81 [==============================] - 6s 79ms/step - loss: 4.0035e-04 - val_loss: 4.4911e-04\n",
      "Epoch 9/10\n",
      "81/81 [==============================] - 6s 72ms/step - loss: 3.3792e-04 - val_loss: 4.3396e-04\n",
      "Epoch 10/10\n",
      "81/81 [==============================] - 6s 74ms/step - loss: 3.0428e-04 - val_loss: 5.4171e-04\n",
      "✅ Saved model to CF_gru_model.h5\n",
      "\n",
      "📈 Downloading data for CRL...\n"
     ]
    },
    {
     "name": "stderr",
     "output_type": "stream",
     "text": [
      "[*********************100%***********************]  1 of 1 completed\n"
     ]
    },
    {
     "name": "stdout",
     "output_type": "stream",
     "text": [
      "Training shape for CRL - X_train: (2571, 100, 1), X_test: (1102, 100, 1)\n",
      "Epoch 1/10\n",
      "81/81 [==============================] - 9s 78ms/step - loss: 0.0014 - val_loss: 4.4412e-04\n",
      "Epoch 2/10\n",
      "81/81 [==============================] - 7s 81ms/step - loss: 3.1084e-04 - val_loss: 5.6556e-04\n",
      "Epoch 3/10\n",
      "81/81 [==============================] - 6s 74ms/step - loss: 2.3056e-04 - val_loss: 4.3464e-04\n",
      "Epoch 4/10\n",
      "81/81 [==============================] - 6s 76ms/step - loss: 1.9718e-04 - val_loss: 7.1381e-04\n",
      "Epoch 5/10\n",
      "81/81 [==============================] - 6s 72ms/step - loss: 2.0317e-04 - val_loss: 5.4103e-04\n",
      "Epoch 6/10\n",
      "81/81 [==============================] - 6s 74ms/step - loss: 1.9669e-04 - val_loss: 4.3831e-04\n",
      "Epoch 7/10\n",
      "81/81 [==============================] - 6s 79ms/step - loss: 1.7343e-04 - val_loss: 3.7885e-04\n",
      "Epoch 8/10\n",
      "81/81 [==============================] - 6s 76ms/step - loss: 1.6824e-04 - val_loss: 3.9247e-04\n",
      "Epoch 9/10\n",
      "81/81 [==============================] - 6s 73ms/step - loss: 1.5778e-04 - val_loss: 4.2546e-04\n",
      "Epoch 10/10\n",
      "81/81 [==============================] - 6s 74ms/step - loss: 1.6295e-04 - val_loss: 3.5171e-04\n",
      "✅ Saved model to CRL_gru_model.h5\n",
      "\n",
      "📈 Downloading data for SCHW...\n"
     ]
    },
    {
     "name": "stderr",
     "output_type": "stream",
     "text": [
      "[*********************100%***********************]  1 of 1 completed\n"
     ]
    },
    {
     "name": "stdout",
     "output_type": "stream",
     "text": [
      "Training shape for SCHW - X_train: (2571, 100, 1), X_test: (1102, 100, 1)\n",
      "Epoch 1/10\n",
      "81/81 [==============================] - 10s 83ms/step - loss: 0.0037 - val_loss: 8.7869e-04\n",
      "Epoch 2/10\n",
      "81/81 [==============================] - 6s 78ms/step - loss: 7.9890e-04 - val_loss: 8.2456e-04\n",
      "Epoch 3/10\n",
      "81/81 [==============================] - 6s 74ms/step - loss: 7.5125e-04 - val_loss: 7.3186e-04\n",
      "Epoch 4/10\n",
      "81/81 [==============================] - 6s 74ms/step - loss: 6.4921e-04 - val_loss: 0.0016\n",
      "Epoch 5/10\n",
      "81/81 [==============================] - 6s 73ms/step - loss: 6.2025e-04 - val_loss: 0.0010\n",
      "Epoch 6/10\n",
      "81/81 [==============================] - 6s 78ms/step - loss: 5.7072e-04 - val_loss: 0.0012\n",
      "Epoch 7/10\n",
      "81/81 [==============================] - 6s 75ms/step - loss: 5.7483e-04 - val_loss: 0.0011\n",
      "Epoch 8/10\n",
      "81/81 [==============================] - 6s 72ms/step - loss: 4.4681e-04 - val_loss: 7.8840e-04\n",
      "Epoch 9/10\n",
      "81/81 [==============================] - 6s 75ms/step - loss: 4.8110e-04 - val_loss: 7.0794e-04\n",
      "Epoch 10/10\n",
      "81/81 [==============================] - 6s 73ms/step - loss: 5.2872e-04 - val_loss: 6.3531e-04\n",
      "✅ Saved model to SCHW_gru_model.h5\n",
      "\n",
      "📈 Downloading data for CHTR...\n"
     ]
    },
    {
     "name": "stderr",
     "output_type": "stream",
     "text": [
      "Failed to get ticker 'CHTR' reason: HTTPSConnectionPool(host='query2.finance.yahoo.com', port=443): Read timed out. (read timeout=10)\n",
      "[*********************100%***********************]  1 of 1 completed\n"
     ]
    },
    {
     "name": "stdout",
     "output_type": "stream",
     "text": [
      "Training shape for CHTR - X_train: (2570, 100, 1), X_test: (1102, 100, 1)\n",
      "Epoch 1/10\n",
      "81/81 [==============================] - 8s 63ms/step - loss: 0.0054 - val_loss: 3.9093e-04\n",
      "Epoch 2/10\n",
      "81/81 [==============================] - 6s 75ms/step - loss: 9.7724e-04 - val_loss: 4.3255e-04\n",
      "Epoch 3/10\n",
      "81/81 [==============================] - 6s 76ms/step - loss: 7.9517e-04 - val_loss: 3.6918e-04\n",
      "Epoch 4/10\n",
      "81/81 [==============================] - 6s 79ms/step - loss: 6.9674e-04 - val_loss: 3.6610e-04\n",
      "Epoch 5/10\n",
      "81/81 [==============================] - 6s 75ms/step - loss: 7.2557e-04 - val_loss: 7.5366e-04\n",
      "Epoch 6/10\n",
      "81/81 [==============================] - 6s 73ms/step - loss: 6.3939e-04 - val_loss: 3.6476e-04\n",
      "Epoch 7/10\n",
      "81/81 [==============================] - 6s 75ms/step - loss: 5.8575e-04 - val_loss: 5.8580e-04\n",
      "Epoch 8/10\n",
      "81/81 [==============================] - 6s 73ms/step - loss: 6.2346e-04 - val_loss: 0.0019\n",
      "Epoch 9/10\n",
      "81/81 [==============================] - 7s 82ms/step - loss: 5.4465e-04 - val_loss: 0.0011\n",
      "Epoch 10/10\n",
      "81/81 [==============================] - 6s 73ms/step - loss: 5.5099e-04 - val_loss: 5.4720e-04\n",
      "✅ Saved model to CHTR_gru_model.h5\n",
      "\n",
      "📈 Downloading data for CVX...\n"
     ]
    },
    {
     "name": "stderr",
     "output_type": "stream",
     "text": [
      "[*********************100%***********************]  1 of 1 completed\n"
     ]
    },
    {
     "name": "stdout",
     "output_type": "stream",
     "text": [
      "Training shape for CVX - X_train: (2571, 100, 1), X_test: (1102, 100, 1)\n",
      "Epoch 1/10\n",
      "81/81 [==============================] - 10s 83ms/step - loss: 0.0062 - val_loss: 7.8144e-04\n",
      "Epoch 2/10\n",
      "81/81 [==============================] - 6s 73ms/step - loss: 8.9613e-04 - val_loss: 8.9879e-04\n",
      "Epoch 3/10\n",
      "81/81 [==============================] - 7s 82ms/step - loss: 7.6145e-04 - val_loss: 0.0014\n",
      "Epoch 4/10\n",
      "81/81 [==============================] - 6s 73ms/step - loss: 6.9839e-04 - val_loss: 0.0013\n",
      "Epoch 5/10\n",
      "81/81 [==============================] - 6s 75ms/step - loss: 6.6950e-04 - val_loss: 6.6456e-04\n",
      "Epoch 6/10\n",
      "81/81 [==============================] - 6s 74ms/step - loss: 6.2543e-04 - val_loss: 6.1866e-04\n",
      "Epoch 7/10\n",
      "81/81 [==============================] - 6s 76ms/step - loss: 6.1147e-04 - val_loss: 0.0024\n",
      "Epoch 8/10\n",
      "81/81 [==============================] - 6s 79ms/step - loss: 5.6681e-04 - val_loss: 8.4810e-04\n",
      "Epoch 9/10\n",
      "81/81 [==============================] - 6s 74ms/step - loss: 5.3978e-04 - val_loss: 8.2743e-04\n",
      "Epoch 10/10\n",
      "81/81 [==============================] - 6s 76ms/step - loss: 5.1132e-04 - val_loss: 0.0015\n",
      "✅ Saved model to CVX_gru_model.h5\n",
      "\n",
      "📈 Downloading data for CMG...\n"
     ]
    },
    {
     "name": "stderr",
     "output_type": "stream",
     "text": [
      "[*********************100%***********************]  1 of 1 completed\n"
     ]
    },
    {
     "name": "stdout",
     "output_type": "stream",
     "text": [
      "Training shape for CMG - X_train: (2571, 100, 1), X_test: (1102, 100, 1)\n",
      "Epoch 1/10\n",
      "81/81 [==============================] - 9s 81ms/step - loss: 0.0013 - val_loss: 5.8527e-04\n",
      "Epoch 2/10\n",
      "81/81 [==============================] - 6s 79ms/step - loss: 1.8670e-04 - val_loss: 3.5622e-04\n",
      "Epoch 3/10\n",
      "81/81 [==============================] - 6s 75ms/step - loss: 1.5858e-04 - val_loss: 4.2035e-04\n",
      "Epoch 4/10\n",
      "81/81 [==============================] - 6s 71ms/step - loss: 1.3057e-04 - val_loss: 4.4001e-04\n",
      "Epoch 5/10\n",
      "81/81 [==============================] - 6s 73ms/step - loss: 1.3326e-04 - val_loss: 6.1950e-04\n",
      "Epoch 6/10\n",
      "81/81 [==============================] - 6s 74ms/step - loss: 1.1717e-04 - val_loss: 2.6976e-04\n",
      "Epoch 7/10\n",
      "81/81 [==============================] - 6s 78ms/step - loss: 1.1047e-04 - val_loss: 2.4667e-04\n",
      "Epoch 8/10\n",
      "81/81 [==============================] - 6s 73ms/step - loss: 1.0234e-04 - val_loss: 3.3836e-04\n",
      "Epoch 9/10\n",
      "81/81 [==============================] - 6s 73ms/step - loss: 9.6543e-05 - val_loss: 3.1904e-04\n",
      "Epoch 10/10\n",
      "81/81 [==============================] - 6s 75ms/step - loss: 9.4061e-05 - val_loss: 2.5220e-04\n",
      "✅ Saved model to CMG_gru_model.h5\n",
      "\n",
      "📈 Downloading data for CB...\n"
     ]
    },
    {
     "name": "stderr",
     "output_type": "stream",
     "text": [
      "[*********************100%***********************]  1 of 1 completed\n"
     ]
    },
    {
     "name": "stdout",
     "output_type": "stream",
     "text": [
      "Training shape for CB - X_train: (2571, 100, 1), X_test: (1102, 100, 1)\n",
      "Epoch 1/10\n",
      "81/81 [==============================] - 10s 82ms/step - loss: 0.0033 - val_loss: 3.4967e-04\n",
      "Epoch 2/10\n",
      "81/81 [==============================] - 7s 81ms/step - loss: 5.9989e-04 - val_loss: 2.9456e-04\n",
      "Epoch 3/10\n",
      "81/81 [==============================] - 6s 74ms/step - loss: 5.4401e-04 - val_loss: 4.1880e-04\n",
      "Epoch 4/10\n",
      "81/81 [==============================] - 6s 73ms/step - loss: 4.5832e-04 - val_loss: 0.0010\n",
      "Epoch 5/10\n",
      "81/81 [==============================] - 6s 73ms/step - loss: 4.1410e-04 - val_loss: 4.3729e-04\n",
      "Epoch 6/10\n",
      "81/81 [==============================] - 6s 75ms/step - loss: 4.3982e-04 - val_loss: 8.3641e-04\n",
      "Epoch 7/10\n",
      "81/81 [==============================] - 6s 78ms/step - loss: 3.6494e-04 - val_loss: 4.7915e-04\n",
      "Epoch 8/10\n",
      "81/81 [==============================] - 6s 79ms/step - loss: 3.6534e-04 - val_loss: 2.8199e-04\n",
      "Epoch 9/10\n",
      "81/81 [==============================] - 6s 74ms/step - loss: 3.5862e-04 - val_loss: 2.7299e-04\n",
      "Epoch 10/10\n",
      "81/81 [==============================] - 6s 74ms/step - loss: 3.0093e-04 - val_loss: 3.0990e-04\n",
      "✅ Saved model to CB_gru_model.h5\n",
      "\n",
      "📈 Downloading data for CHD...\n"
     ]
    },
    {
     "name": "stderr",
     "output_type": "stream",
     "text": [
      "[*********************100%***********************]  1 of 1 completed\n"
     ]
    },
    {
     "name": "stdout",
     "output_type": "stream",
     "text": [
      "Training shape for CHD - X_train: (2571, 100, 1), X_test: (1102, 100, 1)\n",
      "Epoch 1/10\n",
      "81/81 [==============================] - 10s 86ms/step - loss: 0.0051 - val_loss: 4.7637e-04\n",
      "Epoch 2/10\n",
      "81/81 [==============================] - 6s 75ms/step - loss: 0.0011 - val_loss: 3.0720e-04\n",
      "Epoch 3/10\n",
      "81/81 [==============================] - 6s 74ms/step - loss: 8.8395e-04 - val_loss: 3.1397e-04\n",
      "Epoch 4/10\n",
      "81/81 [==============================] - 6s 73ms/step - loss: 8.3917e-04 - val_loss: 6.5085e-04\n",
      "Epoch 5/10\n",
      "81/81 [==============================] - 6s 75ms/step - loss: 8.0722e-04 - val_loss: 2.9348e-04\n",
      "Epoch 6/10\n",
      "81/81 [==============================] - 6s 80ms/step - loss: 7.3834e-04 - val_loss: 4.8844e-04\n",
      "Epoch 7/10\n",
      "81/81 [==============================] - 6s 75ms/step - loss: 6.4789e-04 - val_loss: 3.7210e-04\n",
      "Epoch 8/10\n",
      "81/81 [==============================] - 6s 73ms/step - loss: 6.6337e-04 - val_loss: 3.2809e-04\n",
      "Epoch 9/10\n",
      "81/81 [==============================] - 6s 75ms/step - loss: 6.2202e-04 - val_loss: 0.0015\n",
      "Epoch 10/10\n",
      "81/81 [==============================] - 6s 79ms/step - loss: 5.3921e-04 - val_loss: 0.0019\n",
      "✅ Saved model to CHD_gru_model.h5\n",
      "\n",
      "📈 Downloading data for CI...\n"
     ]
    },
    {
     "name": "stderr",
     "output_type": "stream",
     "text": [
      "[*********************100%***********************]  1 of 1 completed\n"
     ]
    },
    {
     "name": "stdout",
     "output_type": "stream",
     "text": [
      "Training shape for CI - X_train: (2571, 100, 1), X_test: (1102, 100, 1)\n",
      "Epoch 1/10\n",
      "81/81 [==============================] - 12s 118ms/step - loss: 0.0060 - val_loss: 0.0011\n",
      "Epoch 2/10\n",
      "81/81 [==============================] - 6s 78ms/step - loss: 9.2782e-04 - val_loss: 6.2694e-04\n",
      "Epoch 3/10\n",
      "81/81 [==============================] - 6s 80ms/step - loss: 7.9046e-04 - val_loss: 4.7525e-04\n",
      "Epoch 4/10\n",
      "81/81 [==============================] - 7s 81ms/step - loss: 7.7659e-04 - val_loss: 5.5782e-04\n",
      "Epoch 5/10\n",
      "81/81 [==============================] - 7s 80ms/step - loss: 6.8985e-04 - val_loss: 5.5515e-04\n",
      "Epoch 6/10\n",
      "81/81 [==============================] - 7s 82ms/step - loss: 6.5513e-04 - val_loss: 0.0012\n",
      "Epoch 7/10\n",
      "81/81 [==============================] - 6s 80ms/step - loss: 6.1059e-04 - val_loss: 3.9671e-04\n",
      "Epoch 8/10\n",
      "81/81 [==============================] - 6s 80ms/step - loss: 6.0824e-04 - val_loss: 5.9190e-04\n",
      "Epoch 9/10\n",
      "81/81 [==============================] - 7s 89ms/step - loss: 5.7889e-04 - val_loss: 9.5927e-04\n",
      "Epoch 10/10\n",
      "81/81 [==============================] - 7s 81ms/step - loss: 4.9034e-04 - val_loss: 4.0306e-04\n",
      "✅ Saved model to CI_gru_model.h5\n",
      "\n",
      "📈 Downloading data for CINF...\n"
     ]
    },
    {
     "name": "stderr",
     "output_type": "stream",
     "text": [
      "[*********************100%***********************]  1 of 1 completed\n"
     ]
    },
    {
     "name": "stdout",
     "output_type": "stream",
     "text": [
      "Training shape for CINF - X_train: (2571, 100, 1), X_test: (1102, 100, 1)\n",
      "Epoch 1/10\n",
      "81/81 [==============================] - 10s 86ms/step - loss: 0.0064 - val_loss: 0.0015\n",
      "Epoch 2/10\n",
      "81/81 [==============================] - 7s 81ms/step - loss: 8.2014e-04 - val_loss: 3.5280e-04\n",
      "Epoch 3/10\n",
      "81/81 [==============================] - 6s 79ms/step - loss: 7.6368e-04 - val_loss: 0.0018\n",
      "Epoch 4/10\n",
      "81/81 [==============================] - 6s 80ms/step - loss: 6.6774e-04 - val_loss: 4.8245e-04\n",
      "Epoch 5/10\n",
      "81/81 [==============================] - 6s 78ms/step - loss: 5.7663e-04 - val_loss: 3.2019e-04\n",
      "Epoch 6/10\n",
      "81/81 [==============================] - 6s 78ms/step - loss: 5.6417e-04 - val_loss: 3.2617e-04\n",
      "Epoch 7/10\n",
      "81/81 [==============================] - 7s 83ms/step - loss: 5.1434e-04 - val_loss: 4.2457e-04\n",
      "Epoch 8/10\n",
      "81/81 [==============================] - 6s 76ms/step - loss: 4.7071e-04 - val_loss: 4.0526e-04\n",
      "Epoch 9/10\n",
      "81/81 [==============================] - 6s 76ms/step - loss: 4.5467e-04 - val_loss: 4.1932e-04\n",
      "Epoch 10/10\n",
      "81/81 [==============================] - 6s 78ms/step - loss: 4.6824e-04 - val_loss: 3.3248e-04\n",
      "✅ Saved model to CINF_gru_model.h5\n",
      "\n",
      "📈 Downloading data for CTAS...\n"
     ]
    },
    {
     "name": "stderr",
     "output_type": "stream",
     "text": [
      "[*********************100%***********************]  1 of 1 completed\n"
     ]
    },
    {
     "name": "stdout",
     "output_type": "stream",
     "text": [
      "Training shape for CTAS - X_train: (2571, 100, 1), X_test: (1102, 100, 1)\n",
      "Epoch 1/10\n",
      "81/81 [==============================] - 10s 87ms/step - loss: 0.0011 - val_loss: 2.6902e-04\n",
      "Epoch 2/10\n",
      "81/81 [==============================] - 6s 76ms/step - loss: 1.7491e-04 - val_loss: 1.5384e-04\n",
      "Epoch 3/10\n",
      "81/81 [==============================] - 6s 76ms/step - loss: 1.5519e-04 - val_loss: 4.5967e-04\n",
      "Epoch 4/10\n",
      "81/81 [==============================] - 6s 77ms/step - loss: 1.4506e-04 - val_loss: 2.7486e-04\n",
      "Epoch 5/10\n",
      "81/81 [==============================] - 6s 76ms/step - loss: 1.2381e-04 - val_loss: 9.1932e-04\n",
      "Epoch 6/10\n",
      "81/81 [==============================] - 7s 82ms/step - loss: 1.2581e-04 - val_loss: 1.6616e-04\n",
      "Epoch 7/10\n",
      "81/81 [==============================] - 6s 77ms/step - loss: 1.1624e-04 - val_loss: 1.4335e-04\n",
      "Epoch 8/10\n",
      "81/81 [==============================] - 6s 78ms/step - loss: 1.0349e-04 - val_loss: 3.2256e-04\n",
      "Epoch 9/10\n",
      "81/81 [==============================] - 6s 77ms/step - loss: 1.1336e-04 - val_loss: 1.4719e-04\n",
      "Epoch 10/10\n",
      "81/81 [==============================] - 6s 77ms/step - loss: 1.1211e-04 - val_loss: 1.9214e-04\n",
      "✅ Saved model to CTAS_gru_model.h5\n",
      "\n",
      "📈 Downloading data for CSCO...\n"
     ]
    },
    {
     "name": "stderr",
     "output_type": "stream",
     "text": [
      "[*********************100%***********************]  1 of 1 completed\n"
     ]
    },
    {
     "name": "stdout",
     "output_type": "stream",
     "text": [
      "Training shape for CSCO - X_train: (2571, 100, 1), X_test: (1102, 100, 1)\n",
      "Epoch 1/10\n",
      "81/81 [==============================] - 10s 81ms/step - loss: 0.0088 - val_loss: 4.2576e-04\n",
      "Epoch 2/10\n",
      "81/81 [==============================] - 6s 73ms/step - loss: 0.0016 - val_loss: 8.6663e-04\n",
      "Epoch 3/10\n",
      "81/81 [==============================] - 6s 74ms/step - loss: 0.0013 - val_loss: 6.0678e-04\n",
      "Epoch 4/10\n",
      "81/81 [==============================] - 6s 74ms/step - loss: 0.0010 - val_loss: 4.0771e-04\n",
      "Epoch 5/10\n",
      "81/81 [==============================] - 6s 78ms/step - loss: 0.0010 - val_loss: 4.2873e-04\n",
      "Epoch 6/10\n",
      "81/81 [==============================] - 6s 75ms/step - loss: 9.1981e-04 - val_loss: 3.8758e-04\n",
      "Epoch 7/10\n",
      "81/81 [==============================] - 6s 74ms/step - loss: 9.1367e-04 - val_loss: 0.0011\n",
      "Epoch 8/10\n",
      "81/81 [==============================] - 6s 76ms/step - loss: 8.2979e-04 - val_loss: 4.5458e-04\n",
      "Epoch 9/10\n",
      "81/81 [==============================] - 6s 74ms/step - loss: 7.8913e-04 - val_loss: 3.9495e-04\n",
      "Epoch 10/10\n",
      "81/81 [==============================] - 6s 79ms/step - loss: 7.5214e-04 - val_loss: 3.9134e-04\n",
      "✅ Saved model to CSCO_gru_model.h5\n",
      "\n",
      "📈 Downloading data for C...\n"
     ]
    },
    {
     "name": "stderr",
     "output_type": "stream",
     "text": [
      "[*********************100%***********************]  1 of 1 completed\n"
     ]
    },
    {
     "name": "stdout",
     "output_type": "stream",
     "text": [
      "Training shape for C - X_train: (2571, 100, 1), X_test: (1102, 100, 1)\n",
      "Epoch 1/10\n",
      "81/81 [==============================] - 10s 93ms/step - loss: 0.0214 - val_loss: 0.0014\n",
      "Epoch 2/10\n",
      "81/81 [==============================] - 6s 77ms/step - loss: 0.0027 - val_loss: 9.3530e-04\n",
      "Epoch 3/10\n",
      "81/81 [==============================] - 6s 77ms/step - loss: 0.0027 - val_loss: 7.1239e-04\n",
      "Epoch 4/10\n",
      "81/81 [==============================] - 7s 81ms/step - loss: 0.0023 - val_loss: 0.0011\n",
      "Epoch 5/10\n",
      "81/81 [==============================] - 6s 78ms/step - loss: 0.0021 - val_loss: 6.4964e-04\n",
      "Epoch 6/10\n",
      "81/81 [==============================] - 6s 74ms/step - loss: 0.0019 - val_loss: 0.0010\n",
      "Epoch 7/10\n",
      "81/81 [==============================] - 6s 75ms/step - loss: 0.0018 - val_loss: 7.4246e-04\n",
      "Epoch 8/10\n",
      "81/81 [==============================] - 6s 76ms/step - loss: 0.0019 - val_loss: 6.3008e-04\n",
      "Epoch 9/10\n",
      "81/81 [==============================] - 6s 77ms/step - loss: 0.0017 - val_loss: 5.7262e-04\n",
      "Epoch 10/10\n",
      "81/81 [==============================] - 6s 74ms/step - loss: 0.0017 - val_loss: 6.0337e-04\n",
      "✅ Saved model to C_gru_model.h5\n",
      "\n",
      "📈 Downloading data for CFG...\n"
     ]
    },
    {
     "name": "stderr",
     "output_type": "stream",
     "text": [
      "[*********************100%***********************]  1 of 1 completed\n"
     ]
    },
    {
     "name": "stdout",
     "output_type": "stream",
     "text": [
      "Training shape for CFG - X_train: (1738, 100, 1), X_test: (746, 100, 1)\n",
      "Epoch 1/10\n",
      "55/55 [==============================] - 8s 84ms/step - loss: 0.0325 - val_loss: 0.0023\n",
      "Epoch 2/10\n",
      "55/55 [==============================] - 4s 75ms/step - loss: 0.0029 - val_loss: 0.0011\n",
      "Epoch 3/10\n",
      "55/55 [==============================] - 4s 74ms/step - loss: 0.0024 - val_loss: 0.0011\n",
      "Epoch 4/10\n",
      "55/55 [==============================] - 4s 81ms/step - loss: 0.0023 - val_loss: 0.0011\n",
      "Epoch 5/10\n",
      "55/55 [==============================] - 4s 80ms/step - loss: 0.0021 - val_loss: 0.0010\n",
      "Epoch 6/10\n",
      "55/55 [==============================] - 4s 80ms/step - loss: 0.0019 - val_loss: 9.9586e-04\n",
      "Epoch 7/10\n",
      "55/55 [==============================] - 4s 74ms/step - loss: 0.0020 - val_loss: 0.0010\n",
      "Epoch 8/10\n",
      "55/55 [==============================] - 4s 76ms/step - loss: 0.0019 - val_loss: 9.5815e-04\n",
      "Epoch 9/10\n",
      "55/55 [==============================] - 4s 74ms/step - loss: 0.0017 - val_loss: 9.0728e-04\n",
      "Epoch 10/10\n",
      "55/55 [==============================] - 4s 75ms/step - loss: 0.0019 - val_loss: 8.8738e-04\n",
      "✅ Saved model to CFG_gru_model.h5\n",
      "\n",
      "📈 Downloading data for CLX...\n"
     ]
    },
    {
     "name": "stderr",
     "output_type": "stream",
     "text": [
      "[*********************100%***********************]  1 of 1 completed\n"
     ]
    },
    {
     "name": "stdout",
     "output_type": "stream",
     "text": [
      "Training shape for CLX - X_train: (2571, 100, 1), X_test: (1102, 100, 1)\n",
      "Epoch 1/10\n",
      "81/81 [==============================] - 10s 82ms/step - loss: 0.0083 - val_loss: 5.8165e-04\n",
      "Epoch 2/10\n",
      "81/81 [==============================] - 6s 78ms/step - loss: 0.0017 - val_loss: 5.2453e-04\n",
      "Epoch 3/10\n",
      "81/81 [==============================] - 6s 75ms/step - loss: 0.0015 - val_loss: 0.0012\n",
      "Epoch 4/10\n",
      "81/81 [==============================] - 6s 75ms/step - loss: 0.0013 - val_loss: 0.0013\n",
      "Epoch 5/10\n",
      "81/81 [==============================] - 7s 81ms/step - loss: 0.0011 - val_loss: 5.3298e-04\n",
      "Epoch 6/10\n",
      "81/81 [==============================] - 6s 74ms/step - loss: 0.0011 - val_loss: 4.9579e-04\n",
      "Epoch 7/10\n",
      "81/81 [==============================] - 6s 76ms/step - loss: 9.4205e-04 - val_loss: 5.2748e-04\n",
      "Epoch 8/10\n",
      "81/81 [==============================] - 6s 74ms/step - loss: 9.2922e-04 - val_loss: 7.4675e-04\n",
      "Epoch 9/10\n",
      "81/81 [==============================] - 6s 76ms/step - loss: 9.6369e-04 - val_loss: 6.3464e-04\n",
      "Epoch 10/10\n",
      "81/81 [==============================] - 7s 81ms/step - loss: 9.4460e-04 - val_loss: 4.5606e-04\n",
      "✅ Saved model to CLX_gru_model.h5\n",
      "\n",
      "📈 Downloading data for CME...\n"
     ]
    },
    {
     "name": "stderr",
     "output_type": "stream",
     "text": [
      "[*********************100%***********************]  1 of 1 completed\n"
     ]
    },
    {
     "name": "stdout",
     "output_type": "stream",
     "text": [
      "Training shape for CME - X_train: (2571, 100, 1), X_test: (1102, 100, 1)\n",
      "Epoch 1/10\n",
      "81/81 [==============================] - 11s 82ms/step - loss: 0.0065 - val_loss: 3.6261e-04\n",
      "Epoch 2/10\n",
      "81/81 [==============================] - 6s 75ms/step - loss: 0.0012 - val_loss: 5.2020e-04\n",
      "Epoch 3/10\n",
      "81/81 [==============================] - 6s 72ms/step - loss: 0.0011 - val_loss: 4.5115e-04\n",
      "Epoch 4/10\n",
      "81/81 [==============================] - 6s 80ms/step - loss: 9.2507e-04 - val_loss: 4.4138e-04\n",
      "Epoch 5/10\n",
      "81/81 [==============================] - 6s 73ms/step - loss: 8.6253e-04 - val_loss: 2.7768e-04\n",
      "Epoch 6/10\n",
      "81/81 [==============================] - 6s 72ms/step - loss: 8.2085e-04 - val_loss: 2.7568e-04\n",
      "Epoch 7/10\n",
      "81/81 [==============================] - 6s 74ms/step - loss: 7.6725e-04 - val_loss: 3.1528e-04\n",
      "Epoch 8/10\n",
      "81/81 [==============================] - 6s 73ms/step - loss: 7.2406e-04 - val_loss: 0.0014\n",
      "Epoch 9/10\n",
      "81/81 [==============================] - 7s 81ms/step - loss: 7.7425e-04 - val_loss: 0.0022\n",
      "Epoch 10/10\n",
      "81/81 [==============================] - 6s 73ms/step - loss: 6.1483e-04 - val_loss: 7.0007e-04\n",
      "✅ Saved model to CME_gru_model.h5\n",
      "\n",
      "📈 Downloading data for CMS...\n"
     ]
    },
    {
     "name": "stderr",
     "output_type": "stream",
     "text": [
      "[*********************100%***********************]  1 of 1 completed\n"
     ]
    },
    {
     "name": "stdout",
     "output_type": "stream",
     "text": [
      "Training shape for CMS - X_train: (2571, 100, 1), X_test: (1102, 100, 1)\n",
      "Epoch 1/10\n",
      "81/81 [==============================] - 10s 82ms/step - loss: 0.0083 - val_loss: 5.8988e-04\n",
      "Epoch 2/10\n",
      "81/81 [==============================] - 6s 75ms/step - loss: 0.0016 - val_loss: 9.3200e-04\n",
      "Epoch 3/10\n",
      "81/81 [==============================] - 6s 80ms/step - loss: 0.0013 - val_loss: 6.7276e-04\n",
      "Epoch 4/10\n",
      "81/81 [==============================] - 6s 76ms/step - loss: 0.0012 - val_loss: 3.0156e-04\n",
      "Epoch 5/10\n",
      "81/81 [==============================] - 6s 74ms/step - loss: 0.0012 - val_loss: 4.2016e-04\n",
      "Epoch 6/10\n",
      "81/81 [==============================] - 6s 77ms/step - loss: 0.0011 - val_loss: 6.2303e-04\n",
      "Epoch 7/10\n",
      "81/81 [==============================] - 6s 76ms/step - loss: 0.0011 - val_loss: 2.9758e-04\n",
      "Epoch 8/10\n",
      "81/81 [==============================] - 6s 80ms/step - loss: 9.9935e-04 - val_loss: 9.0081e-04\n",
      "Epoch 9/10\n",
      "81/81 [==============================] - 6s 73ms/step - loss: 9.6877e-04 - val_loss: 5.1057e-04\n",
      "Epoch 10/10\n",
      "81/81 [==============================] - 6s 75ms/step - loss: 9.7671e-04 - val_loss: 9.2354e-04\n",
      "✅ Saved model to CMS_gru_model.h5\n",
      "\n",
      "📈 Downloading data for KO...\n"
     ]
    },
    {
     "name": "stderr",
     "output_type": "stream",
     "text": [
      "[*********************100%***********************]  1 of 1 completed\n"
     ]
    },
    {
     "name": "stdout",
     "output_type": "stream",
     "text": [
      "Training shape for KO - X_train: (2571, 100, 1), X_test: (1102, 100, 1)\n",
      "Epoch 1/10\n",
      "81/81 [==============================] - 11s 93ms/step - loss: 0.0092 - val_loss: 2.7163e-04\n",
      "Epoch 2/10\n",
      "81/81 [==============================] - 6s 76ms/step - loss: 0.0012 - val_loss: 3.3668e-04\n",
      "Epoch 3/10\n",
      "81/81 [==============================] - 6s 74ms/step - loss: 0.0010 - val_loss: 4.8612e-04\n",
      "Epoch 4/10\n",
      "81/81 [==============================] - 6s 74ms/step - loss: 8.7338e-04 - val_loss: 2.5215e-04\n",
      "Epoch 5/10\n",
      "81/81 [==============================] - 6s 74ms/step - loss: 7.8482e-04 - val_loss: 7.5928e-04\n",
      "Epoch 6/10\n",
      "81/81 [==============================] - 7s 81ms/step - loss: 7.1947e-04 - val_loss: 3.1641e-04\n",
      "Epoch 7/10\n",
      "81/81 [==============================] - 6s 72ms/step - loss: 6.2750e-04 - val_loss: 2.4248e-04\n",
      "Epoch 8/10\n",
      "81/81 [==============================] - 6s 77ms/step - loss: 6.4573e-04 - val_loss: 3.6705e-04\n",
      "Epoch 9/10\n",
      "81/81 [==============================] - 6s 74ms/step - loss: 6.0296e-04 - val_loss: 3.2688e-04\n",
      "Epoch 10/10\n",
      "81/81 [==============================] - 6s 76ms/step - loss: 5.4494e-04 - val_loss: 5.8519e-04\n",
      "✅ Saved model to KO_gru_model.h5\n",
      "\n",
      "📈 Downloading data for CTSH...\n"
     ]
    },
    {
     "name": "stderr",
     "output_type": "stream",
     "text": [
      "[*********************100%***********************]  1 of 1 completed\n"
     ]
    },
    {
     "name": "stdout",
     "output_type": "stream",
     "text": [
      "Training shape for CTSH - X_train: (2571, 100, 1), X_test: (1102, 100, 1)\n",
      "Epoch 1/10\n",
      "81/81 [==============================] - 11s 84ms/step - loss: 0.0082 - val_loss: 5.5066e-04\n",
      "Epoch 2/10\n",
      "81/81 [==============================] - 6s 74ms/step - loss: 0.0026 - val_loss: 5.2552e-04\n",
      "Epoch 3/10\n",
      "81/81 [==============================] - 6s 75ms/step - loss: 0.0022 - val_loss: 4.8081e-04\n",
      "Epoch 4/10\n",
      "81/81 [==============================] - 6s 74ms/step - loss: 0.0018 - val_loss: 6.0275e-04\n",
      "Epoch 5/10\n",
      "81/81 [==============================] - 7s 83ms/step - loss: 0.0018 - val_loss: 6.2628e-04\n",
      "Epoch 6/10\n",
      "81/81 [==============================] - 6s 73ms/step - loss: 0.0017 - val_loss: 5.8515e-04\n",
      "Epoch 7/10\n",
      "81/81 [==============================] - 6s 74ms/step - loss: 0.0015 - val_loss: 4.6209e-04\n",
      "Epoch 8/10\n",
      "81/81 [==============================] - 6s 74ms/step - loss: 0.0015 - val_loss: 5.6702e-04\n",
      "Epoch 9/10\n",
      "81/81 [==============================] - 6s 76ms/step - loss: 0.0014 - val_loss: 0.0014\n",
      "Epoch 10/10\n",
      "81/81 [==============================] - 6s 80ms/step - loss: 0.0013 - val_loss: 8.3936e-04\n",
      "✅ Saved model to CTSH_gru_model.h5\n",
      "\n",
      "📈 Downloading data for CL...\n"
     ]
    },
    {
     "name": "stderr",
     "output_type": "stream",
     "text": [
      "[*********************100%***********************]  1 of 1 completed\n"
     ]
    },
    {
     "name": "stdout",
     "output_type": "stream",
     "text": [
      "Training shape for CL - X_train: (2571, 100, 1), X_test: (1102, 100, 1)\n",
      "Epoch 1/10\n",
      "81/81 [==============================] - 10s 83ms/step - loss: 0.0095 - val_loss: 2.4897e-04\n",
      "Epoch 2/10\n",
      "81/81 [==============================] - 6s 74ms/step - loss: 0.0012 - val_loss: 2.4486e-04\n",
      "Epoch 3/10\n",
      "81/81 [==============================] - 6s 73ms/step - loss: 0.0010 - val_loss: 2.3874e-04\n",
      "Epoch 4/10\n",
      "81/81 [==============================] - 6s 80ms/step - loss: 9.4899e-04 - val_loss: 2.4177e-04\n",
      "Epoch 5/10\n",
      "81/81 [==============================] - 6s 74ms/step - loss: 8.7875e-04 - val_loss: 2.3875e-04\n",
      "Epoch 6/10\n",
      "81/81 [==============================] - 6s 73ms/step - loss: 8.0422e-04 - val_loss: 2.3605e-04\n",
      "Epoch 7/10\n",
      "81/81 [==============================] - 6s 75ms/step - loss: 7.2621e-04 - val_loss: 2.3009e-04\n",
      "Epoch 8/10\n",
      "81/81 [==============================] - 6s 73ms/step - loss: 6.8454e-04 - val_loss: 3.2768e-04\n",
      "Epoch 9/10\n",
      "81/81 [==============================] - 7s 85ms/step - loss: 6.7679e-04 - val_loss: 4.7609e-04\n",
      "Epoch 10/10\n",
      "81/81 [==============================] - 6s 71ms/step - loss: 6.6804e-04 - val_loss: 0.0011\n",
      "✅ Saved model to CL_gru_model.h5\n",
      "\n",
      "📈 Downloading data for CMCSA...\n"
     ]
    },
    {
     "name": "stderr",
     "output_type": "stream",
     "text": [
      "[*********************100%***********************]  1 of 1 completed\n"
     ]
    },
    {
     "name": "stdout",
     "output_type": "stream",
     "text": [
      "Training shape for CMCSA - X_train: (2571, 100, 1), X_test: (1102, 100, 1)\n",
      "Epoch 1/10\n",
      "81/81 [==============================] - 10s 83ms/step - loss: 0.0109 - val_loss: 8.1539e-04\n",
      "Epoch 2/10\n",
      "81/81 [==============================] - 6s 74ms/step - loss: 0.0016 - val_loss: 5.3044e-04\n",
      "Epoch 3/10\n",
      "81/81 [==============================] - 6s 79ms/step - loss: 0.0015 - val_loss: 7.4109e-04\n",
      "Epoch 4/10\n",
      "81/81 [==============================] - 6s 78ms/step - loss: 0.0013 - val_loss: 0.0013\n",
      "Epoch 5/10\n",
      "81/81 [==============================] - 6s 75ms/step - loss: 0.0012 - val_loss: 3.7989e-04\n",
      "Epoch 6/10\n",
      "81/81 [==============================] - 6s 74ms/step - loss: 0.0011 - val_loss: 0.0010\n",
      "Epoch 7/10\n",
      "81/81 [==============================] - 6s 75ms/step - loss: 0.0011 - val_loss: 3.9352e-04\n",
      "Epoch 8/10\n",
      "81/81 [==============================] - 6s 80ms/step - loss: 0.0011 - val_loss: 4.7224e-04\n",
      "Epoch 9/10\n",
      "81/81 [==============================] - 6s 76ms/step - loss: 9.1732e-04 - val_loss: 3.5978e-04\n",
      "Epoch 10/10\n",
      "81/81 [==============================] - 6s 73ms/step - loss: 9.6796e-04 - val_loss: 4.2501e-04\n",
      "✅ Saved model to CMCSA_gru_model.h5\n",
      "\n",
      "📈 Downloading data for CAG...\n"
     ]
    },
    {
     "name": "stderr",
     "output_type": "stream",
     "text": [
      "[*********************100%***********************]  1 of 1 completed\n"
     ]
    },
    {
     "name": "stdout",
     "output_type": "stream",
     "text": [
      "Training shape for CAG - X_train: (2571, 100, 1), X_test: (1102, 100, 1)\n",
      "Epoch 1/10\n",
      "81/81 [==============================] - 10s 83ms/step - loss: 0.0182 - val_loss: 5.4414e-04\n",
      "Epoch 2/10\n",
      "81/81 [==============================] - 6s 77ms/step - loss: 0.0025 - val_loss: 7.0221e-04\n",
      "Epoch 3/10\n",
      "81/81 [==============================] - 6s 74ms/step - loss: 0.0022 - val_loss: 5.0277e-04\n",
      "Epoch 4/10\n",
      "81/81 [==============================] - 6s 75ms/step - loss: 0.0020 - val_loss: 4.9593e-04\n",
      "Epoch 5/10\n",
      "81/81 [==============================] - 6s 75ms/step - loss: 0.0018 - val_loss: 5.9138e-04\n",
      "Epoch 6/10\n",
      "81/81 [==============================] - 6s 74ms/step - loss: 0.0018 - val_loss: 0.0037\n",
      "Epoch 7/10\n",
      "81/81 [==============================] - 8s 99ms/step - loss: 0.0019 - val_loss: 9.1510e-04\n",
      "Epoch 8/10\n",
      "81/81 [==============================] - 8s 103ms/step - loss: 0.0017 - val_loss: 4.6365e-04\n",
      "Epoch 9/10\n",
      "81/81 [==============================] - 8s 101ms/step - loss: 0.0016 - val_loss: 6.8556e-04\n",
      "Epoch 10/10\n",
      "81/81 [==============================] - 9s 108ms/step - loss: 0.0015 - val_loss: 6.6061e-04\n",
      "✅ Saved model to CAG_gru_model.h5\n",
      "\n",
      "📈 Downloading data for COP...\n"
     ]
    },
    {
     "name": "stderr",
     "output_type": "stream",
     "text": [
      "[*********************100%***********************]  1 of 1 completed\n"
     ]
    },
    {
     "name": "stdout",
     "output_type": "stream",
     "text": [
      "Training shape for COP - X_train: (2571, 100, 1), X_test: (1102, 100, 1)\n",
      "Epoch 1/10\n",
      "81/81 [==============================] - 16s 118ms/step - loss: 0.0034 - val_loss: 7.1047e-04\n",
      "Epoch 2/10\n",
      "81/81 [==============================] - 8s 103ms/step - loss: 5.7196e-04 - val_loss: 6.8940e-04\n",
      "Epoch 3/10\n",
      "81/81 [==============================] - 8s 104ms/step - loss: 5.0685e-04 - val_loss: 8.2840e-04\n",
      "Epoch 4/10\n",
      "81/81 [==============================] - 8s 104ms/step - loss: 4.2720e-04 - val_loss: 7.3889e-04\n",
      "Epoch 5/10\n",
      "81/81 [==============================] - 8s 101ms/step - loss: 4.1192e-04 - val_loss: 6.6350e-04\n",
      "Epoch 6/10\n",
      "81/81 [==============================] - 8s 100ms/step - loss: 3.9956e-04 - val_loss: 0.0013\n",
      "Epoch 7/10\n",
      "81/81 [==============================] - 8s 102ms/step - loss: 3.7548e-04 - val_loss: 0.0011\n",
      "Epoch 8/10\n",
      "81/81 [==============================] - 8s 103ms/step - loss: 3.4674e-04 - val_loss: 5.6728e-04\n",
      "Epoch 9/10\n",
      "81/81 [==============================] - 8s 100ms/step - loss: 3.5850e-04 - val_loss: 5.0115e-04\n",
      "Epoch 10/10\n",
      "81/81 [==============================] - 8s 94ms/step - loss: 3.0998e-04 - val_loss: 4.7477e-04\n",
      "✅ Saved model to COP_gru_model.h5\n",
      "\n",
      "📈 Downloading data for ED...\n"
     ]
    },
    {
     "name": "stderr",
     "output_type": "stream",
     "text": [
      "[*********************100%***********************]  1 of 1 completed\n"
     ]
    },
    {
     "name": "stdout",
     "output_type": "stream",
     "text": [
      "Training shape for ED - X_train: (2571, 100, 1), X_test: (1102, 100, 1)\n",
      "Epoch 1/10\n",
      "81/81 [==============================] - 13s 94ms/step - loss: 0.0111 - val_loss: 6.0534e-04\n",
      "Epoch 2/10\n",
      "81/81 [==============================] - 6s 77ms/step - loss: 0.0014 - val_loss: 9.1115e-04\n",
      "Epoch 3/10\n",
      "81/81 [==============================] - 6s 75ms/step - loss: 0.0012 - val_loss: 3.9238e-04\n",
      "Epoch 4/10\n",
      "81/81 [==============================] - 6s 77ms/step - loss: 0.0011 - val_loss: 5.5676e-04\n",
      "Epoch 5/10\n",
      "81/81 [==============================] - 6s 74ms/step - loss: 0.0010 - val_loss: 3.7515e-04\n",
      "Epoch 6/10\n",
      "81/81 [==============================] - 6s 74ms/step - loss: 9.3340e-04 - val_loss: 3.7735e-04\n",
      "Epoch 7/10\n",
      "81/81 [==============================] - 7s 81ms/step - loss: 9.0335e-04 - val_loss: 4.0058e-04\n",
      "Epoch 8/10\n",
      "81/81 [==============================] - 6s 73ms/step - loss: 8.4141e-04 - val_loss: 4.5183e-04\n",
      "Epoch 9/10\n",
      "81/81 [==============================] - 6s 75ms/step - loss: 8.2891e-04 - val_loss: 8.8648e-04\n",
      "Epoch 10/10\n",
      "81/81 [==============================] - 6s 74ms/step - loss: 8.1679e-04 - val_loss: 4.0047e-04\n",
      "✅ Saved model to ED_gru_model.h5\n",
      "\n",
      "📈 Downloading data for STZ...\n"
     ]
    },
    {
     "name": "stderr",
     "output_type": "stream",
     "text": [
      "[*********************100%***********************]  1 of 1 completed\n"
     ]
    },
    {
     "name": "stdout",
     "output_type": "stream",
     "text": [
      "Training shape for STZ - X_train: (2571, 100, 1), X_test: (1102, 100, 1)\n",
      "Epoch 1/10\n",
      "81/81 [==============================] - 11s 82ms/step - loss: 0.0115 - val_loss: 6.6080e-04\n",
      "Epoch 2/10\n",
      "81/81 [==============================] - 6s 75ms/step - loss: 0.0023 - val_loss: 6.1632e-04\n",
      "Epoch 3/10\n",
      "81/81 [==============================] - 6s 75ms/step - loss: 0.0019 - val_loss: 3.5220e-04\n",
      "Epoch 4/10\n",
      "81/81 [==============================] - 6s 75ms/step - loss: 0.0017 - val_loss: 0.0012\n",
      "Epoch 5/10\n",
      "81/81 [==============================] - 6s 75ms/step - loss: 0.0016 - val_loss: 9.9699e-04\n",
      "Epoch 6/10\n",
      "81/81 [==============================] - 6s 76ms/step - loss: 0.0015 - val_loss: 0.0017\n",
      "Epoch 7/10\n",
      "81/81 [==============================] - 6s 77ms/step - loss: 0.0014 - val_loss: 0.0016\n",
      "Epoch 8/10\n",
      "81/81 [==============================] - 6s 76ms/step - loss: 0.0014 - val_loss: 3.6310e-04\n",
      "Epoch 9/10\n",
      "81/81 [==============================] - 6s 76ms/step - loss: 0.0013 - val_loss: 3.3917e-04\n",
      "Epoch 10/10\n",
      "81/81 [==============================] - 6s 78ms/step - loss: 0.0012 - val_loss: 3.0745e-04\n",
      "✅ Saved model to STZ_gru_model.h5\n",
      "\n",
      "📈 Downloading data for CEG...\n"
     ]
    },
    {
     "name": "stderr",
     "output_type": "stream",
     "text": [
      "[*********************100%***********************]  1 of 1 completed\n"
     ]
    },
    {
     "name": "stdout",
     "output_type": "stream",
     "text": [
      "Training shape for CEG - X_train: (448, 100, 1), X_test: (193, 100, 1)\n",
      "Epoch 1/10\n",
      "14/14 [==============================] - 5s 123ms/step - loss: 0.0171 - val_loss: 0.0279\n",
      "Epoch 2/10\n",
      "14/14 [==============================] - 1s 62ms/step - loss: 0.0039 - val_loss: 0.0466\n",
      "Epoch 3/10\n",
      "14/14 [==============================] - 1s 63ms/step - loss: 0.0024 - val_loss: 0.0120\n",
      "Epoch 4/10\n",
      "14/14 [==============================] - 1s 63ms/step - loss: 0.0016 - val_loss: 0.0022\n",
      "Epoch 5/10\n",
      "14/14 [==============================] - 1s 61ms/step - loss: 8.8875e-04 - val_loss: 0.0030\n",
      "Epoch 6/10\n",
      "14/14 [==============================] - 1s 60ms/step - loss: 8.8158e-04 - val_loss: 0.0027\n",
      "Epoch 7/10\n",
      "14/14 [==============================] - 1s 62ms/step - loss: 8.7886e-04 - val_loss: 0.0025\n",
      "Epoch 8/10\n",
      "14/14 [==============================] - 1s 63ms/step - loss: 8.8597e-04 - val_loss: 0.0023\n",
      "Epoch 9/10\n",
      "14/14 [==============================] - 1s 66ms/step - loss: 7.7943e-04 - val_loss: 0.0021\n",
      "Epoch 10/10\n",
      "14/14 [==============================] - 1s 60ms/step - loss: 8.2291e-04 - val_loss: 0.0021\n",
      "✅ Saved model to CEG_gru_model.h5\n",
      "\n",
      "📈 Downloading data for COO...\n"
     ]
    },
    {
     "name": "stderr",
     "output_type": "stream",
     "text": [
      "[*********************100%***********************]  1 of 1 completed\n"
     ]
    },
    {
     "name": "stdout",
     "output_type": "stream",
     "text": [
      "Training shape for COO - X_train: (2571, 100, 1), X_test: (1102, 100, 1)\n",
      "Epoch 1/10\n",
      "81/81 [==============================] - 11s 84ms/step - loss: 0.0050 - val_loss: 6.2114e-04\n",
      "Epoch 2/10\n",
      "81/81 [==============================] - 6s 74ms/step - loss: 0.0014 - val_loss: 8.1308e-04\n",
      "Epoch 3/10\n",
      "81/81 [==============================] - 6s 79ms/step - loss: 0.0012 - val_loss: 0.0011\n",
      "Epoch 4/10\n",
      "81/81 [==============================] - 6s 76ms/step - loss: 0.0011 - val_loss: 0.0010\n",
      "Epoch 5/10\n",
      "81/81 [==============================] - 6s 75ms/step - loss: 9.9312e-04 - val_loss: 7.4826e-04\n",
      "Epoch 6/10\n",
      "81/81 [==============================] - 6s 75ms/step - loss: 9.2126e-04 - val_loss: 8.6289e-04\n",
      "Epoch 7/10\n",
      "81/81 [==============================] - 6s 78ms/step - loss: 9.6486e-04 - val_loss: 7.0726e-04\n",
      "Epoch 8/10\n",
      "81/81 [==============================] - 6s 75ms/step - loss: 8.1095e-04 - val_loss: 5.7298e-04\n",
      "Epoch 9/10\n",
      "81/81 [==============================] - 6s 75ms/step - loss: 8.3840e-04 - val_loss: 7.8896e-04\n",
      "Epoch 10/10\n",
      "81/81 [==============================] - 6s 74ms/step - loss: 8.3052e-04 - val_loss: 0.0013\n",
      "✅ Saved model to COO_gru_model.h5\n",
      "\n",
      "📈 Downloading data for CPRT...\n"
     ]
    },
    {
     "name": "stderr",
     "output_type": "stream",
     "text": [
      "[*********************100%***********************]  1 of 1 completed\n"
     ]
    },
    {
     "name": "stdout",
     "output_type": "stream",
     "text": [
      "Training shape for CPRT - X_train: (2571, 100, 1), X_test: (1102, 100, 1)\n",
      "Epoch 1/10\n",
      "81/81 [==============================] - 11s 83ms/step - loss: 0.0019 - val_loss: 7.7762e-04\n",
      "Epoch 2/10\n",
      "81/81 [==============================] - 6s 74ms/step - loss: 2.3077e-04 - val_loss: 2.6732e-04\n",
      "Epoch 3/10\n",
      "81/81 [==============================] - 6s 75ms/step - loss: 2.0709e-04 - val_loss: 6.1371e-04\n",
      "Epoch 4/10\n",
      "81/81 [==============================] - 6s 75ms/step - loss: 1.8488e-04 - val_loss: 3.5646e-04\n",
      "Epoch 5/10\n",
      "81/81 [==============================] - 6s 74ms/step - loss: 1.6639e-04 - val_loss: 3.6939e-04\n",
      "Epoch 6/10\n",
      "81/81 [==============================] - 6s 75ms/step - loss: 1.5319e-04 - val_loss: 0.0011\n",
      "Epoch 7/10\n",
      "81/81 [==============================] - 6s 73ms/step - loss: 1.4518e-04 - val_loss: 2.3743e-04\n",
      "Epoch 8/10\n",
      "81/81 [==============================] - 6s 74ms/step - loss: 1.4243e-04 - val_loss: 8.9579e-04\n",
      "Epoch 9/10\n",
      "81/81 [==============================] - 6s 76ms/step - loss: 1.3703e-04 - val_loss: 6.1220e-04\n",
      "Epoch 10/10\n",
      "81/81 [==============================] - 6s 73ms/step - loss: 1.3704e-04 - val_loss: 3.0329e-04\n",
      "✅ Saved model to CPRT_gru_model.h5\n",
      "\n",
      "📈 Downloading data for GLW...\n"
     ]
    },
    {
     "name": "stderr",
     "output_type": "stream",
     "text": [
      "[*********************100%***********************]  1 of 1 completed\n"
     ]
    },
    {
     "name": "stdout",
     "output_type": "stream",
     "text": [
      "Training shape for GLW - X_train: (2571, 100, 1), X_test: (1102, 100, 1)\n",
      "Epoch 1/10\n",
      "81/81 [==============================] - 11s 83ms/step - loss: 0.0065 - val_loss: 0.0012\n",
      "Epoch 2/10\n",
      "81/81 [==============================] - 6s 75ms/step - loss: 9.3161e-04 - val_loss: 4.8409e-04\n",
      "Epoch 3/10\n",
      "81/81 [==============================] - 6s 73ms/step - loss: 8.4170e-04 - val_loss: 7.4013e-04\n",
      "Epoch 4/10\n",
      "81/81 [==============================] - 6s 75ms/step - loss: 7.4052e-04 - val_loss: 4.4654e-04\n",
      "Epoch 5/10\n",
      "81/81 [==============================] - 6s 74ms/step - loss: 6.4143e-04 - val_loss: 9.0432e-04\n",
      "Epoch 6/10\n",
      "81/81 [==============================] - 6s 74ms/step - loss: 6.7261e-04 - val_loss: 4.1487e-04\n",
      "Epoch 7/10\n",
      "81/81 [==============================] - 6s 74ms/step - loss: 5.8549e-04 - val_loss: 9.3881e-04\n",
      "Epoch 8/10\n",
      "81/81 [==============================] - 6s 75ms/step - loss: 5.5486e-04 - val_loss: 4.4027e-04\n",
      "Epoch 9/10\n",
      "81/81 [==============================] - 6s 76ms/step - loss: 5.2595e-04 - val_loss: 3.7561e-04\n",
      "Epoch 10/10\n",
      "81/81 [==============================] - 6s 74ms/step - loss: 5.0355e-04 - val_loss: 6.8135e-04\n",
      "✅ Saved model to GLW_gru_model.h5\n",
      "\n",
      "📈 Downloading data for CPAY...\n"
     ]
    },
    {
     "name": "stderr",
     "output_type": "stream",
     "text": [
      "[*********************100%***********************]  1 of 1 completed\n"
     ]
    },
    {
     "name": "stdout",
     "output_type": "stream",
     "text": [
      "Training shape for CPAY - X_train: (2403, 100, 1), X_test: (1030, 100, 1)\n",
      "Epoch 1/10\n",
      "76/76 [==============================] - 22s 91ms/step - loss: 0.0078 - val_loss: 0.0010\n",
      "Epoch 2/10\n",
      "76/76 [==============================] - 6s 79ms/step - loss: 0.0020 - val_loss: 4.3747e-04\n",
      "Epoch 3/10\n",
      "76/76 [==============================] - 6s 81ms/step - loss: 0.0016 - val_loss: 3.7926e-04\n",
      "Epoch 4/10\n",
      "76/76 [==============================] - 6s 83ms/step - loss: 0.0015 - val_loss: 4.4350e-04\n",
      "Epoch 5/10\n",
      "76/76 [==============================] - 6s 83ms/step - loss: 0.0013 - val_loss: 4.6050e-04\n",
      "Epoch 6/10\n",
      "76/76 [==============================] - 6s 80ms/step - loss: 0.0014 - val_loss: 5.7020e-04\n",
      "Epoch 7/10\n",
      "76/76 [==============================] - 6s 80ms/step - loss: 0.0012 - val_loss: 5.5573e-04\n",
      "Epoch 8/10\n",
      "76/76 [==============================] - 6s 81ms/step - loss: 0.0012 - val_loss: 4.9442e-04\n",
      "Epoch 9/10\n",
      "76/76 [==============================] - 6s 80ms/step - loss: 0.0011 - val_loss: 6.0084e-04\n",
      "Epoch 10/10\n",
      "76/76 [==============================] - 6s 80ms/step - loss: 0.0011 - val_loss: 0.0010\n",
      "✅ Saved model to CPAY_gru_model.h5\n",
      "\n",
      "📈 Downloading data for CTVA...\n"
     ]
    },
    {
     "name": "stderr",
     "output_type": "stream",
     "text": [
      "[*********************100%***********************]  1 of 1 completed\n"
     ]
    },
    {
     "name": "stdout",
     "output_type": "stream",
     "text": [
      "Training shape for CTVA - X_train: (916, 100, 1), X_test: (394, 100, 1)\n",
      "Epoch 1/10\n",
      "29/29 [==============================] - 7s 105ms/step - loss: 0.0523 - val_loss: 0.0168\n",
      "Epoch 2/10\n",
      "29/29 [==============================] - 2s 81ms/step - loss: 0.0079 - val_loss: 0.0015\n",
      "Epoch 3/10\n",
      "29/29 [==============================] - 2s 79ms/step - loss: 0.0047 - val_loss: 8.4769e-04\n",
      "Epoch 4/10\n",
      "29/29 [==============================] - 2s 83ms/step - loss: 0.0040 - val_loss: 8.4347e-04\n",
      "Epoch 5/10\n",
      "29/29 [==============================] - 2s 78ms/step - loss: 0.0045 - val_loss: 9.0092e-04\n",
      "Epoch 6/10\n",
      "29/29 [==============================] - 2s 82ms/step - loss: 0.0035 - val_loss: 0.0015\n",
      "Epoch 7/10\n",
      "29/29 [==============================] - 2s 79ms/step - loss: 0.0041 - val_loss: 8.0693e-04\n",
      "Epoch 8/10\n",
      "29/29 [==============================] - 2s 82ms/step - loss: 0.0032 - val_loss: 8.0764e-04\n",
      "Epoch 9/10\n",
      "29/29 [==============================] - 2s 80ms/step - loss: 0.0036 - val_loss: 9.0196e-04\n",
      "Epoch 10/10\n",
      "29/29 [==============================] - 2s 80ms/step - loss: 0.0034 - val_loss: 8.5065e-04\n",
      "✅ Saved model to CTVA_gru_model.h5\n",
      "\n",
      "📈 Downloading data for CSGP...\n"
     ]
    },
    {
     "name": "stderr",
     "output_type": "stream",
     "text": [
      "[*********************100%***********************]  1 of 1 completed\n"
     ]
    },
    {
     "name": "stdout",
     "output_type": "stream",
     "text": [
      "Training shape for CSGP - X_train: (2571, 100, 1), X_test: (1102, 100, 1)\n",
      "Epoch 1/10\n",
      "81/81 [==============================] - 10s 83ms/step - loss: 0.0074 - val_loss: 0.0010\n",
      "Epoch 2/10\n",
      "81/81 [==============================] - 6s 77ms/step - loss: 8.4643e-04 - val_loss: 8.1999e-04\n",
      "Epoch 3/10\n",
      "81/81 [==============================] - 6s 78ms/step - loss: 8.8476e-04 - val_loss: 7.2822e-04\n",
      "Epoch 4/10\n",
      "81/81 [==============================] - 6s 79ms/step - loss: 7.1500e-04 - val_loss: 6.2707e-04\n",
      "Epoch 5/10\n",
      "81/81 [==============================] - 7s 89ms/step - loss: 6.8540e-04 - val_loss: 6.6304e-04\n",
      "Epoch 6/10\n",
      "81/81 [==============================] - 6s 78ms/step - loss: 7.3738e-04 - val_loss: 5.9357e-04\n",
      "Epoch 7/10\n",
      "81/81 [==============================] - 6s 77ms/step - loss: 6.3366e-04 - val_loss: 5.7474e-04\n",
      "Epoch 8/10\n",
      "81/81 [==============================] - 6s 78ms/step - loss: 6.5541e-04 - val_loss: 5.8759e-04\n",
      "Epoch 9/10\n",
      "81/81 [==============================] - 6s 77ms/step - loss: 5.6508e-04 - val_loss: 5.9662e-04\n",
      "Epoch 10/10\n",
      "81/81 [==============================] - 6s 77ms/step - loss: 5.3890e-04 - val_loss: 7.4578e-04\n",
      "✅ Saved model to CSGP_gru_model.h5\n",
      "\n",
      "📈 Downloading data for COST...\n"
     ]
    },
    {
     "name": "stderr",
     "output_type": "stream",
     "text": [
      "[*********************100%***********************]  1 of 1 completed\n"
     ]
    },
    {
     "name": "stdout",
     "output_type": "stream",
     "text": [
      "Training shape for COST - X_train: (2571, 100, 1), X_test: (1102, 100, 1)\n",
      "Epoch 1/10\n",
      "81/81 [==============================] - 10s 84ms/step - loss: 0.0011 - val_loss: 3.0482e-04\n",
      "Epoch 2/10\n",
      "81/81 [==============================] - 6s 77ms/step - loss: 1.5551e-04 - val_loss: 3.3678e-04\n",
      "Epoch 3/10\n",
      "81/81 [==============================] - 6s 76ms/step - loss: 1.3084e-04 - val_loss: 2.4958e-04\n",
      "Epoch 4/10\n",
      "81/81 [==============================] - 6s 77ms/step - loss: 1.2603e-04 - val_loss: 4.5850e-04\n",
      "Epoch 5/10\n",
      "81/81 [==============================] - 7s 85ms/step - loss: 1.1014e-04 - val_loss: 1.6617e-04\n",
      "Epoch 6/10\n",
      "81/81 [==============================] - 6s 78ms/step - loss: 1.0342e-04 - val_loss: 6.9052e-04\n",
      "Epoch 7/10\n",
      "81/81 [==============================] - 6s 78ms/step - loss: 9.5837e-05 - val_loss: 6.1798e-04\n",
      "Epoch 8/10\n",
      "81/81 [==============================] - 6s 79ms/step - loss: 9.0300e-05 - val_loss: 3.8657e-04\n",
      "Epoch 9/10\n",
      "81/81 [==============================] - 6s 78ms/step - loss: 7.9974e-05 - val_loss: 0.0012\n",
      "Epoch 10/10\n",
      "81/81 [==============================] - 6s 78ms/step - loss: 9.3765e-05 - val_loss: 4.0208e-04\n",
      "✅ Saved model to COST_gru_model.h5\n",
      "\n",
      "📈 Downloading data for CTRA...\n"
     ]
    },
    {
     "name": "stderr",
     "output_type": "stream",
     "text": [
      "[*********************100%***********************]  1 of 1 completed\n"
     ]
    },
    {
     "name": "stdout",
     "output_type": "stream",
     "text": [
      "Training shape for CTRA - X_train: (2571, 100, 1), X_test: (1102, 100, 1)\n",
      "Epoch 1/10\n",
      "81/81 [==============================] - 10s 82ms/step - loss: 0.0198 - val_loss: 8.8678e-04\n",
      "Epoch 2/10\n",
      "81/81 [==============================] - 6s 75ms/step - loss: 0.0033 - val_loss: 0.0010\n",
      "Epoch 3/10\n",
      "81/81 [==============================] - 6s 77ms/step - loss: 0.0028 - val_loss: 8.0439e-04\n",
      "Epoch 4/10\n",
      "81/81 [==============================] - 6s 75ms/step - loss: 0.0026 - val_loss: 7.6515e-04\n",
      "Epoch 5/10\n",
      "81/81 [==============================] - 6s 75ms/step - loss: 0.0025 - val_loss: 0.0010\n",
      "Epoch 6/10\n",
      "81/81 [==============================] - 6s 76ms/step - loss: 0.0024 - val_loss: 7.3267e-04\n",
      "Epoch 7/10\n",
      "81/81 [==============================] - 6s 76ms/step - loss: 0.0023 - val_loss: 0.0013\n",
      "Epoch 8/10\n",
      "81/81 [==============================] - 6s 74ms/step - loss: 0.0022 - val_loss: 7.1875e-04\n",
      "Epoch 9/10\n",
      "81/81 [==============================] - 6s 75ms/step - loss: 0.0020 - val_loss: 7.5425e-04\n",
      "Epoch 10/10\n",
      "81/81 [==============================] - 6s 76ms/step - loss: 0.0019 - val_loss: 7.0646e-04\n",
      "✅ Saved model to CTRA_gru_model.h5\n",
      "\n",
      "📈 Downloading data for CRWD...\n"
     ]
    },
    {
     "name": "stderr",
     "output_type": "stream",
     "text": [
      "[*********************100%***********************]  1 of 1 completed\n"
     ]
    },
    {
     "name": "stdout",
     "output_type": "stream",
     "text": [
      "Training shape for CRWD - X_train: (908, 100, 1), X_test: (390, 100, 1)\n",
      "Epoch 1/10\n",
      "29/29 [==============================] - 6s 96ms/step - loss: 0.0193 - val_loss: 0.0140\n",
      "Epoch 2/10\n",
      "29/29 [==============================] - 2s 74ms/step - loss: 0.0036 - val_loss: 0.0013\n",
      "Epoch 3/10\n",
      "29/29 [==============================] - 2s 77ms/step - loss: 0.0027 - val_loss: 0.0022\n",
      "Epoch 4/10\n",
      "29/29 [==============================] - 2s 76ms/step - loss: 0.0024 - val_loss: 0.0023\n",
      "Epoch 5/10\n",
      "29/29 [==============================] - 2s 78ms/step - loss: 0.0024 - val_loss: 0.0012\n",
      "Epoch 6/10\n",
      "29/29 [==============================] - 2s 79ms/step - loss: 0.0021 - val_loss: 0.0023\n",
      "Epoch 7/10\n",
      "29/29 [==============================] - 2s 74ms/step - loss: 0.0019 - val_loss: 0.0012\n",
      "Epoch 8/10\n",
      "29/29 [==============================] - 2s 79ms/step - loss: 0.0020 - val_loss: 0.0012\n",
      "Epoch 9/10\n",
      "29/29 [==============================] - 2s 73ms/step - loss: 0.0018 - val_loss: 0.0018\n",
      "Epoch 10/10\n",
      "29/29 [==============================] - 2s 81ms/step - loss: 0.0018 - val_loss: 0.0016\n",
      "✅ Saved model to CRWD_gru_model.h5\n",
      "\n",
      "📈 Downloading data for CCI...\n"
     ]
    },
    {
     "name": "stderr",
     "output_type": "stream",
     "text": [
      "[*********************100%***********************]  1 of 1 completed\n"
     ]
    },
    {
     "name": "stdout",
     "output_type": "stream",
     "text": [
      "Training shape for CCI - X_train: (2571, 100, 1), X_test: (1102, 100, 1)\n",
      "Epoch 1/10\n",
      "81/81 [==============================] - 11s 83ms/step - loss: 0.0069 - val_loss: 5.0760e-04\n",
      "Epoch 2/10\n",
      "81/81 [==============================] - 6s 74ms/step - loss: 0.0014 - val_loss: 6.9664e-04\n",
      "Epoch 3/10\n",
      "81/81 [==============================] - 6s 75ms/step - loss: 0.0010 - val_loss: 4.9818e-04\n",
      "Epoch 4/10\n",
      "81/81 [==============================] - 6s 77ms/step - loss: 9.0418e-04 - val_loss: 5.2937e-04\n",
      "Epoch 5/10\n",
      "81/81 [==============================] - 6s 77ms/step - loss: 8.4207e-04 - val_loss: 6.5911e-04\n",
      "Epoch 6/10\n",
      "81/81 [==============================] - 6s 76ms/step - loss: 7.4681e-04 - val_loss: 4.9850e-04\n",
      "Epoch 7/10\n",
      "81/81 [==============================] - 6s 77ms/step - loss: 7.0200e-04 - val_loss: 4.9092e-04\n",
      "Epoch 8/10\n",
      "81/81 [==============================] - 6s 74ms/step - loss: 7.1717e-04 - val_loss: 8.0474e-04\n",
      "Epoch 9/10\n",
      "81/81 [==============================] - 6s 75ms/step - loss: 6.9604e-04 - val_loss: 0.0013\n",
      "Epoch 10/10\n",
      "81/81 [==============================] - 6s 76ms/step - loss: 7.2155e-04 - val_loss: 5.8584e-04\n",
      "✅ Saved model to CCI_gru_model.h5\n",
      "\n",
      "📈 Downloading data for CSX...\n"
     ]
    },
    {
     "name": "stderr",
     "output_type": "stream",
     "text": [
      "[*********************100%***********************]  1 of 1 completed\n"
     ]
    },
    {
     "name": "stdout",
     "output_type": "stream",
     "text": [
      "Training shape for CSX - X_train: (2571, 100, 1), X_test: (1102, 100, 1)\n",
      "Epoch 1/10\n",
      "81/81 [==============================] - 10s 82ms/step - loss: 0.0046 - val_loss: 4.5716e-04\n",
      "Epoch 2/10\n",
      "81/81 [==============================] - 6s 75ms/step - loss: 9.5602e-04 - val_loss: 5.6955e-04\n",
      "Epoch 3/10\n",
      "81/81 [==============================] - 7s 87ms/step - loss: 8.4937e-04 - val_loss: 5.4011e-04\n",
      "Epoch 4/10\n",
      "81/81 [==============================] - 6s 73ms/step - loss: 7.1137e-04 - val_loss: 0.0027\n",
      "Epoch 5/10\n",
      "81/81 [==============================] - 6s 76ms/step - loss: 8.1529e-04 - val_loss: 3.9467e-04\n",
      "Epoch 6/10\n",
      "81/81 [==============================] - 6s 74ms/step - loss: 6.9940e-04 - val_loss: 3.9411e-04\n",
      "Epoch 7/10\n",
      "81/81 [==============================] - 6s 75ms/step - loss: 7.1338e-04 - val_loss: 9.0562e-04\n",
      "Epoch 8/10\n",
      "81/81 [==============================] - 6s 74ms/step - loss: 6.2486e-04 - val_loss: 4.7756e-04\n",
      "Epoch 9/10\n",
      "81/81 [==============================] - 6s 77ms/step - loss: 5.3176e-04 - val_loss: 4.8058e-04\n",
      "Epoch 10/10\n",
      "81/81 [==============================] - 7s 81ms/step - loss: 5.3651e-04 - val_loss: 6.0140e-04\n",
      "✅ Saved model to CSX_gru_model.h5\n",
      "\n",
      "📈 Downloading data for CMI...\n"
     ]
    },
    {
     "name": "stderr",
     "output_type": "stream",
     "text": [
      "[*********************100%***********************]  1 of 1 completed\n"
     ]
    },
    {
     "name": "stdout",
     "output_type": "stream",
     "text": [
      "Training shape for CMI - X_train: (2571, 100, 1), X_test: (1102, 100, 1)\n",
      "Epoch 1/10\n",
      "81/81 [==============================] - 10s 85ms/step - loss: 0.0027 - val_loss: 3.3610e-04\n",
      "Epoch 2/10\n",
      "81/81 [==============================] - 6s 73ms/step - loss: 5.3819e-04 - val_loss: 2.8993e-04\n",
      "Epoch 3/10\n",
      "81/81 [==============================] - 6s 75ms/step - loss: 4.3462e-04 - val_loss: 5.6983e-04\n",
      "Epoch 4/10\n",
      "81/81 [==============================] - 6s 75ms/step - loss: 4.1287e-04 - val_loss: 2.4162e-04\n",
      "Epoch 5/10\n",
      "81/81 [==============================] - 6s 75ms/step - loss: 3.5012e-04 - val_loss: 3.6619e-04\n",
      "Epoch 6/10\n",
      "81/81 [==============================] - 6s 75ms/step - loss: 3.2444e-04 - val_loss: 7.2062e-04\n",
      "Epoch 7/10\n",
      "81/81 [==============================] - 6s 75ms/step - loss: 3.1711e-04 - val_loss: 2.0980e-04\n",
      "Epoch 8/10\n",
      "81/81 [==============================] - 6s 75ms/step - loss: 2.7314e-04 - val_loss: 2.0463e-04\n",
      "Epoch 9/10\n",
      "81/81 [==============================] - 6s 74ms/step - loss: 2.8113e-04 - val_loss: 2.4080e-04\n",
      "Epoch 10/10\n",
      "81/81 [==============================] - 7s 83ms/step - loss: 2.5569e-04 - val_loss: 1.8948e-04\n",
      "✅ Saved model to CMI_gru_model.h5\n",
      "\n",
      "📈 Downloading data for CVS...\n"
     ]
    },
    {
     "name": "stderr",
     "output_type": "stream",
     "text": [
      "[*********************100%***********************]  1 of 1 completed\n"
     ]
    },
    {
     "name": "stdout",
     "output_type": "stream",
     "text": [
      "Training shape for CVS - X_train: (2571, 100, 1), X_test: (1102, 100, 1)\n",
      "Epoch 1/10\n",
      "81/81 [==============================] - 10s 82ms/step - loss: 0.0082 - val_loss: 6.4624e-04\n",
      "Epoch 2/10\n",
      "81/81 [==============================] - 6s 74ms/step - loss: 0.0021 - val_loss: 6.9260e-04\n",
      "Epoch 3/10\n",
      "81/81 [==============================] - 6s 76ms/step - loss: 0.0018 - val_loss: 5.8113e-04\n",
      "Epoch 4/10\n",
      "81/81 [==============================] - 6s 74ms/step - loss: 0.0016 - val_loss: 7.7972e-04\n",
      "Epoch 5/10\n",
      "81/81 [==============================] - 6s 75ms/step - loss: 0.0015 - val_loss: 9.0365e-04\n",
      "Epoch 6/10\n",
      "81/81 [==============================] - 6s 75ms/step - loss: 0.0014 - val_loss: 6.3085e-04\n",
      "Epoch 7/10\n",
      "81/81 [==============================] - 6s 75ms/step - loss: 0.0014 - val_loss: 6.2815e-04\n",
      "Epoch 8/10\n",
      "81/81 [==============================] - 6s 74ms/step - loss: 0.0014 - val_loss: 5.6456e-04\n",
      "Epoch 9/10\n",
      "81/81 [==============================] - 6s 76ms/step - loss: 0.0013 - val_loss: 6.9855e-04\n",
      "Epoch 10/10\n",
      "81/81 [==============================] - 6s 76ms/step - loss: 0.0013 - val_loss: 7.0591e-04\n",
      "✅ Saved model to CVS_gru_model.h5\n",
      "\n",
      "📈 Downloading data for DHR...\n"
     ]
    },
    {
     "name": "stderr",
     "output_type": "stream",
     "text": [
      "[*********************100%***********************]  1 of 1 completed\n"
     ]
    },
    {
     "name": "stdout",
     "output_type": "stream",
     "text": [
      "Training shape for DHR - X_train: (2571, 100, 1), X_test: (1102, 100, 1)\n",
      "Epoch 1/10\n",
      "81/81 [==============================] - 10s 84ms/step - loss: 0.0024 - val_loss: 4.2119e-04\n",
      "Epoch 2/10\n",
      "81/81 [==============================] - 6s 72ms/step - loss: 4.8458e-04 - val_loss: 0.0011\n",
      "Epoch 3/10\n",
      "81/81 [==============================] - 6s 75ms/step - loss: 4.0145e-04 - val_loss: 4.6696e-04\n",
      "Epoch 4/10\n",
      "81/81 [==============================] - 6s 75ms/step - loss: 3.3327e-04 - val_loss: 5.0353e-04\n",
      "Epoch 5/10\n",
      "81/81 [==============================] - 6s 75ms/step - loss: 2.9969e-04 - val_loss: 3.9495e-04\n",
      "Epoch 6/10\n",
      "81/81 [==============================] - 6s 75ms/step - loss: 3.4377e-04 - val_loss: 0.0015\n",
      "Epoch 7/10\n",
      "81/81 [==============================] - 6s 75ms/step - loss: 3.0118e-04 - val_loss: 3.9672e-04\n",
      "Epoch 8/10\n",
      "81/81 [==============================] - 6s 75ms/step - loss: 3.0534e-04 - val_loss: 6.5346e-04\n",
      "Epoch 9/10\n",
      "81/81 [==============================] - 6s 74ms/step - loss: 2.6195e-04 - val_loss: 0.0011\n",
      "Epoch 10/10\n",
      "81/81 [==============================] - 6s 75ms/step - loss: 2.9015e-04 - val_loss: 0.0010\n",
      "✅ Saved model to DHR_gru_model.h5\n",
      "\n",
      "📈 Downloading data for DRI...\n"
     ]
    },
    {
     "name": "stderr",
     "output_type": "stream",
     "text": [
      "[*********************100%***********************]  1 of 1 completed\n"
     ]
    },
    {
     "name": "stdout",
     "output_type": "stream",
     "text": [
      "Training shape for DRI - X_train: (2571, 100, 1), X_test: (1102, 100, 1)\n",
      "Epoch 1/10\n",
      "81/81 [==============================] - 10s 83ms/step - loss: 0.0050 - val_loss: 8.3155e-04\n",
      "Epoch 2/10\n",
      "81/81 [==============================] - 6s 75ms/step - loss: 8.6507e-04 - val_loss: 7.9020e-04\n",
      "Epoch 3/10\n",
      "81/81 [==============================] - 6s 74ms/step - loss: 7.1714e-04 - val_loss: 3.9117e-04\n",
      "Epoch 4/10\n",
      "81/81 [==============================] - 6s 74ms/step - loss: 6.2006e-04 - val_loss: 7.7910e-04\n",
      "Epoch 5/10\n",
      "81/81 [==============================] - 7s 92ms/step - loss: 5.7238e-04 - val_loss: 4.6255e-04\n",
      "Epoch 6/10\n",
      "81/81 [==============================] - 6s 77ms/step - loss: 5.2054e-04 - val_loss: 9.1343e-04\n",
      "Epoch 7/10\n",
      "81/81 [==============================] - 6s 77ms/step - loss: 5.1782e-04 - val_loss: 4.2237e-04\n",
      "Epoch 8/10\n",
      "81/81 [==============================] - 6s 77ms/step - loss: 4.5061e-04 - val_loss: 4.5455e-04\n",
      "Epoch 9/10\n",
      "81/81 [==============================] - 6s 79ms/step - loss: 4.8860e-04 - val_loss: 0.0011\n",
      "Epoch 10/10\n",
      "81/81 [==============================] - 6s 77ms/step - loss: 4.5379e-04 - val_loss: 4.0261e-04\n",
      "✅ Saved model to DRI_gru_model.h5\n",
      "\n",
      "📈 Downloading data for DVA...\n"
     ]
    },
    {
     "name": "stderr",
     "output_type": "stream",
     "text": [
      "[*********************100%***********************]  1 of 1 completed\n"
     ]
    },
    {
     "name": "stdout",
     "output_type": "stream",
     "text": [
      "Training shape for DVA - X_train: (2571, 100, 1), X_test: (1102, 100, 1)\n",
      "Epoch 1/10\n",
      "81/81 [==============================] - 10s 82ms/step - loss: 0.0048 - val_loss: 6.4133e-04\n",
      "Epoch 2/10\n",
      "81/81 [==============================] - 6s 80ms/step - loss: 7.1926e-04 - val_loss: 0.0010\n",
      "Epoch 3/10\n",
      "81/81 [==============================] - 6s 75ms/step - loss: 6.6453e-04 - val_loss: 6.5399e-04\n",
      "Epoch 4/10\n",
      "81/81 [==============================] - 6s 76ms/step - loss: 6.0321e-04 - val_loss: 6.0205e-04\n",
      "Epoch 5/10\n",
      "81/81 [==============================] - 6s 76ms/step - loss: 5.5581e-04 - val_loss: 6.1546e-04\n",
      "Epoch 6/10\n",
      "81/81 [==============================] - 6s 76ms/step - loss: 5.4741e-04 - val_loss: 0.0010\n",
      "Epoch 7/10\n",
      "81/81 [==============================] - 6s 76ms/step - loss: 4.7760e-04 - val_loss: 5.3526e-04\n",
      "Epoch 8/10\n",
      "81/81 [==============================] - 6s 76ms/step - loss: 4.6063e-04 - val_loss: 7.8466e-04\n",
      "Epoch 9/10\n",
      "81/81 [==============================] - 6s 74ms/step - loss: 4.4576e-04 - val_loss: 5.1273e-04\n",
      "Epoch 10/10\n",
      "81/81 [==============================] - 6s 76ms/step - loss: 3.8655e-04 - val_loss: 9.9709e-04\n",
      "✅ Saved model to DVA_gru_model.h5\n",
      "\n",
      "📈 Downloading data for DAY...\n"
     ]
    },
    {
     "name": "stderr",
     "output_type": "stream",
     "text": [
      "[*********************100%***********************]  1 of 1 completed\n"
     ]
    },
    {
     "name": "stdout",
     "output_type": "stream",
     "text": [
      "Training shape for DAY - X_train: (1106, 100, 1), X_test: (475, 100, 1)\n",
      "Epoch 1/10\n",
      "35/35 [==============================] - 7s 92ms/step - loss: 0.0148 - val_loss: 8.9581e-04\n",
      "Epoch 2/10\n",
      "35/35 [==============================] - 3s 75ms/step - loss: 0.0033 - val_loss: 5.2781e-04\n",
      "Epoch 3/10\n",
      "35/35 [==============================] - 3s 79ms/step - loss: 0.0030 - val_loss: 5.3472e-04\n",
      "Epoch 4/10\n",
      "35/35 [==============================] - 3s 76ms/step - loss: 0.0025 - val_loss: 4.9123e-04\n",
      "Epoch 5/10\n",
      "35/35 [==============================] - 3s 77ms/step - loss: 0.0030 - val_loss: 4.4195e-04\n",
      "Epoch 6/10\n",
      "35/35 [==============================] - 3s 81ms/step - loss: 0.0026 - val_loss: 4.4577e-04\n",
      "Epoch 7/10\n",
      "35/35 [==============================] - 3s 77ms/step - loss: 0.0024 - val_loss: 5.7651e-04\n",
      "Epoch 8/10\n",
      "35/35 [==============================] - 3s 77ms/step - loss: 0.0024 - val_loss: 4.7419e-04\n",
      "Epoch 9/10\n",
      "35/35 [==============================] - 3s 78ms/step - loss: 0.0023 - val_loss: 4.1359e-04\n",
      "Epoch 10/10\n",
      "35/35 [==============================] - 3s 75ms/step - loss: 0.0022 - val_loss: 4.6823e-04\n",
      "✅ Saved model to DAY_gru_model.h5\n",
      "\n",
      "📈 Downloading data for DECK...\n"
     ]
    },
    {
     "name": "stderr",
     "output_type": "stream",
     "text": [
      "[*********************100%***********************]  1 of 1 completed\n"
     ]
    },
    {
     "name": "stdout",
     "output_type": "stream",
     "text": [
      "Training shape for DECK - X_train: (2571, 100, 1), X_test: (1102, 100, 1)\n",
      "Epoch 1/10\n",
      "81/81 [==============================] - 11s 85ms/step - loss: 2.7857e-04 - val_loss: 2.5357e-04\n",
      "Epoch 2/10\n",
      "81/81 [==============================] - 6s 76ms/step - loss: 4.2084e-05 - val_loss: 3.6448e-04\n",
      "Epoch 3/10\n",
      "81/81 [==============================] - 6s 75ms/step - loss: 3.5777e-05 - val_loss: 2.3250e-04\n",
      "Epoch 4/10\n",
      "81/81 [==============================] - 6s 74ms/step - loss: 3.5025e-05 - val_loss: 3.1734e-04\n",
      "Epoch 5/10\n",
      "81/81 [==============================] - 6s 76ms/step - loss: 2.8976e-05 - val_loss: 4.8299e-04\n",
      "Epoch 6/10\n",
      "81/81 [==============================] - 6s 75ms/step - loss: 3.0805e-05 - val_loss: 3.2464e-04\n",
      "Epoch 7/10\n",
      "81/81 [==============================] - 6s 79ms/step - loss: 2.7846e-05 - val_loss: 2.0665e-04\n",
      "Epoch 8/10\n",
      "81/81 [==============================] - 6s 74ms/step - loss: 2.6756e-05 - val_loss: 4.7136e-04\n",
      "Epoch 9/10\n",
      "81/81 [==============================] - 7s 81ms/step - loss: 2.3387e-05 - val_loss: 1.9565e-04\n",
      "Epoch 10/10\n",
      "81/81 [==============================] - 6s 76ms/step - loss: 2.2108e-05 - val_loss: 1.9728e-04\n",
      "✅ Saved model to DECK_gru_model.h5\n",
      "\n",
      "📈 Downloading data for DE...\n"
     ]
    },
    {
     "name": "stderr",
     "output_type": "stream",
     "text": [
      "[*********************100%***********************]  1 of 1 completed\n"
     ]
    },
    {
     "name": "stdout",
     "output_type": "stream",
     "text": [
      "Training shape for DE - X_train: (2571, 100, 1), X_test: (1102, 100, 1)\n",
      "Epoch 1/10\n",
      "81/81 [==============================] - 11s 84ms/step - loss: 0.0011 - val_loss: 6.2176e-04\n",
      "Epoch 2/10\n",
      "81/81 [==============================] - 6s 75ms/step - loss: 2.5769e-04 - val_loss: 0.0018\n",
      "Epoch 3/10\n",
      "81/81 [==============================] - 6s 76ms/step - loss: 2.0993e-04 - val_loss: 7.4981e-04\n",
      "Epoch 4/10\n",
      "81/81 [==============================] - 6s 76ms/step - loss: 1.9723e-04 - val_loss: 9.5700e-04\n",
      "Epoch 5/10\n",
      "81/81 [==============================] - 6s 75ms/step - loss: 1.8431e-04 - val_loss: 4.7106e-04\n",
      "Epoch 6/10\n",
      "81/81 [==============================] - 6s 78ms/step - loss: 1.7457e-04 - val_loss: 4.5013e-04\n",
      "Epoch 7/10\n",
      "81/81 [==============================] - 6s 76ms/step - loss: 1.6558e-04 - val_loss: 4.3522e-04\n",
      "Epoch 8/10\n",
      "81/81 [==============================] - 6s 77ms/step - loss: 1.4576e-04 - val_loss: 4.5658e-04\n",
      "Epoch 9/10\n",
      "81/81 [==============================] - 6s 76ms/step - loss: 1.4155e-04 - val_loss: 4.3444e-04\n",
      "Epoch 10/10\n",
      "81/81 [==============================] - 6s 78ms/step - loss: 1.2562e-04 - val_loss: 0.0012\n",
      "✅ Saved model to DE_gru_model.h5\n",
      "\n",
      "📈 Downloading data for DELL...\n"
     ]
    },
    {
     "name": "stderr",
     "output_type": "stream",
     "text": [
      "[*********************100%***********************]  1 of 1 completed\n"
     ]
    },
    {
     "name": "stdout",
     "output_type": "stream",
     "text": [
      "Training shape for DELL - X_train: (1404, 100, 1), X_test: (602, 100, 1)\n",
      "Epoch 1/10\n",
      "44/44 [==============================] - 8s 91ms/step - loss: 0.0020 - val_loss: 0.0022\n",
      "Epoch 2/10\n",
      "44/44 [==============================] - 3s 78ms/step - loss: 2.9806e-04 - val_loss: 9.0791e-04\n",
      "Epoch 3/10\n",
      "44/44 [==============================] - 3s 74ms/step - loss: 2.2098e-04 - val_loss: 8.7196e-04\n",
      "Epoch 4/10\n",
      "44/44 [==============================] - 3s 77ms/step - loss: 2.1794e-04 - val_loss: 0.0010\n",
      "Epoch 5/10\n",
      "44/44 [==============================] - 3s 76ms/step - loss: 2.2340e-04 - val_loss: 0.0011\n",
      "Epoch 6/10\n",
      "44/44 [==============================] - 3s 77ms/step - loss: 1.8960e-04 - val_loss: 8.9847e-04\n",
      "Epoch 7/10\n",
      "44/44 [==============================] - 3s 75ms/step - loss: 1.6900e-04 - val_loss: 8.4011e-04\n",
      "Epoch 8/10\n",
      "44/44 [==============================] - 3s 76ms/step - loss: 1.6314e-04 - val_loss: 7.8105e-04\n",
      "Epoch 9/10\n",
      "44/44 [==============================] - 3s 74ms/step - loss: 1.4418e-04 - val_loss: 0.0011\n",
      "Epoch 10/10\n",
      "44/44 [==============================] - 3s 76ms/step - loss: 1.4141e-04 - val_loss: 8.5047e-04\n",
      "✅ Saved model to DELL_gru_model.h5\n",
      "\n",
      "📈 Downloading data for DAL...\n"
     ]
    },
    {
     "name": "stderr",
     "output_type": "stream",
     "text": [
      "[*********************100%***********************]  1 of 1 completed\n"
     ]
    },
    {
     "name": "stdout",
     "output_type": "stream",
     "text": [
      "Training shape for DAL - X_train: (2571, 100, 1), X_test: (1102, 100, 1)\n",
      "Epoch 1/10\n",
      "81/81 [==============================] - 11s 85ms/step - loss: 0.0155 - val_loss: 9.1023e-04\n",
      "Epoch 2/10\n",
      "81/81 [==============================] - 6s 76ms/step - loss: 0.0031 - val_loss: 5.9097e-04\n",
      "Epoch 3/10\n",
      "81/81 [==============================] - 6s 76ms/step - loss: 0.0028 - val_loss: 5.8331e-04\n",
      "Epoch 4/10\n",
      "81/81 [==============================] - 6s 74ms/step - loss: 0.0025 - val_loss: 6.5283e-04\n",
      "Epoch 5/10\n",
      "81/81 [==============================] - 6s 75ms/step - loss: 0.0023 - val_loss: 6.2768e-04\n",
      "Epoch 6/10\n",
      "81/81 [==============================] - 6s 75ms/step - loss: 0.0023 - val_loss: 6.9996e-04\n",
      "Epoch 7/10\n",
      "81/81 [==============================] - 6s 77ms/step - loss: 0.0019 - val_loss: 8.2980e-04\n",
      "Epoch 8/10\n",
      "81/81 [==============================] - 6s 76ms/step - loss: 0.0022 - val_loss: 5.8743e-04\n",
      "Epoch 9/10\n",
      "81/81 [==============================] - 6s 76ms/step - loss: 0.0020 - val_loss: 7.9526e-04\n",
      "Epoch 10/10\n",
      "81/81 [==============================] - 6s 74ms/step - loss: 0.0018 - val_loss: 5.4224e-04\n",
      "✅ Saved model to DAL_gru_model.h5\n",
      "\n",
      "📈 Downloading data for DVN...\n"
     ]
    },
    {
     "name": "stderr",
     "output_type": "stream",
     "text": [
      "[*********************100%***********************]  1 of 1 completed\n"
     ]
    },
    {
     "name": "stdout",
     "output_type": "stream",
     "text": [
      "Training shape for DVN - X_train: (2571, 100, 1), X_test: (1102, 100, 1)\n",
      "Epoch 1/10\n",
      "81/81 [==============================] - 10s 83ms/step - loss: 0.0191 - val_loss: 9.9252e-04\n",
      "Epoch 2/10\n",
      "81/81 [==============================] - 6s 73ms/step - loss: 0.0029 - val_loss: 9.5070e-04\n",
      "Epoch 3/10\n",
      "81/81 [==============================] - 6s 77ms/step - loss: 0.0026 - val_loss: 8.0254e-04\n",
      "Epoch 4/10\n",
      "81/81 [==============================] - 6s 74ms/step - loss: 0.0021 - val_loss: 7.9417e-04\n",
      "Epoch 5/10\n",
      "81/81 [==============================] - 6s 75ms/step - loss: 0.0021 - val_loss: 9.4662e-04\n",
      "Epoch 6/10\n",
      "81/81 [==============================] - 6s 75ms/step - loss: 0.0022 - val_loss: 7.7172e-04\n",
      "Epoch 7/10\n",
      "81/81 [==============================] - 6s 76ms/step - loss: 0.0019 - val_loss: 8.8028e-04\n",
      "Epoch 8/10\n",
      "81/81 [==============================] - 6s 75ms/step - loss: 0.0018 - val_loss: 0.0012\n",
      "Epoch 9/10\n",
      "81/81 [==============================] - 6s 75ms/step - loss: 0.0018 - val_loss: 7.4698e-04\n",
      "Epoch 10/10\n",
      "81/81 [==============================] - 6s 76ms/step - loss: 0.0017 - val_loss: 7.0937e-04\n",
      "✅ Saved model to DVN_gru_model.h5\n",
      "\n",
      "📈 Downloading data for DXCM...\n"
     ]
    },
    {
     "name": "stderr",
     "output_type": "stream",
     "text": [
      "[*********************100%***********************]  1 of 1 completed\n"
     ]
    },
    {
     "name": "stdout",
     "output_type": "stream",
     "text": [
      "Training shape for DXCM - X_train: (2571, 100, 1), X_test: (1102, 100, 1)\n",
      "Epoch 1/10\n",
      "81/81 [==============================] - 11s 85ms/step - loss: 0.0019 - val_loss: 0.0017\n",
      "Epoch 2/10\n",
      "81/81 [==============================] - 6s 74ms/step - loss: 3.9097e-04 - val_loss: 8.6230e-04\n",
      "Epoch 3/10\n",
      "81/81 [==============================] - 6s 76ms/step - loss: 3.3151e-04 - val_loss: 7.0143e-04\n",
      "Epoch 4/10\n",
      "81/81 [==============================] - 6s 74ms/step - loss: 3.3025e-04 - val_loss: 6.9045e-04\n",
      "Epoch 5/10\n",
      "81/81 [==============================] - 6s 74ms/step - loss: 3.2680e-04 - val_loss: 7.4502e-04\n",
      "Epoch 6/10\n",
      "81/81 [==============================] - 6s 76ms/step - loss: 2.6284e-04 - val_loss: 6.4374e-04\n",
      "Epoch 7/10\n",
      "81/81 [==============================] - 6s 77ms/step - loss: 2.9159e-04 - val_loss: 0.0025\n",
      "Epoch 8/10\n",
      "81/81 [==============================] - 6s 76ms/step - loss: 3.2530e-04 - val_loss: 6.4107e-04\n",
      "Epoch 9/10\n",
      "81/81 [==============================] - 6s 77ms/step - loss: 3.1007e-04 - val_loss: 0.0010\n",
      "Epoch 10/10\n",
      "81/81 [==============================] - 6s 76ms/step - loss: 2.3384e-04 - val_loss: 6.0225e-04\n",
      "✅ Saved model to DXCM_gru_model.h5\n",
      "\n",
      "📈 Downloading data for FANG...\n"
     ]
    },
    {
     "name": "stderr",
     "output_type": "stream",
     "text": [
      "[*********************100%***********************]  1 of 1 completed\n"
     ]
    },
    {
     "name": "stdout",
     "output_type": "stream",
     "text": [
      "Training shape for FANG - X_train: (2080, 100, 1), X_test: (892, 100, 1)\n",
      "Epoch 1/10\n",
      "65/65 [==============================] - 8s 69ms/step - loss: 0.0047 - val_loss: 6.8367e-04\n",
      "Epoch 2/10\n",
      "65/65 [==============================] - 4s 58ms/step - loss: 0.0010 - val_loss: 0.0015\n",
      "Epoch 3/10\n",
      "65/65 [==============================] - 4s 58ms/step - loss: 8.7294e-04 - val_loss: 7.5132e-04\n",
      "Epoch 4/10\n",
      "65/65 [==============================] - 4s 61ms/step - loss: 8.0862e-04 - val_loss: 5.3640e-04\n",
      "Epoch 5/10\n",
      "65/65 [==============================] - 4s 59ms/step - loss: 7.6301e-04 - val_loss: 0.0011\n",
      "Epoch 6/10\n",
      "65/65 [==============================] - 4s 58ms/step - loss: 7.6162e-04 - val_loss: 7.2266e-04\n",
      "Epoch 7/10\n",
      "65/65 [==============================] - 4s 63ms/step - loss: 7.0423e-04 - val_loss: 8.5275e-04\n",
      "Epoch 8/10\n",
      "65/65 [==============================] - 4s 58ms/step - loss: 6.6203e-04 - val_loss: 4.7007e-04\n",
      "Epoch 9/10\n",
      "65/65 [==============================] - 4s 62ms/step - loss: 6.2830e-04 - val_loss: 5.2104e-04\n",
      "Epoch 10/10\n",
      "65/65 [==============================] - 4s 64ms/step - loss: 5.9128e-04 - val_loss: 5.4279e-04\n",
      "✅ Saved model to FANG_gru_model.h5\n",
      "\n",
      "📈 Downloading data for DLR...\n"
     ]
    },
    {
     "name": "stderr",
     "output_type": "stream",
     "text": [
      "[*********************100%***********************]  1 of 1 completed\n"
     ]
    },
    {
     "name": "stdout",
     "output_type": "stream",
     "text": [
      "Training shape for DLR - X_train: (2571, 100, 1), X_test: (1102, 100, 1)\n",
      "Epoch 1/10\n",
      "81/81 [==============================] - 12s 88ms/step - loss: 0.0049 - val_loss: 4.1856e-04\n",
      "Epoch 2/10\n",
      "81/81 [==============================] - 6s 74ms/step - loss: 9.8284e-04 - val_loss: 4.5439e-04\n",
      "Epoch 3/10\n",
      "81/81 [==============================] - 6s 77ms/step - loss: 8.6151e-04 - val_loss: 0.0010\n",
      "Epoch 4/10\n",
      "81/81 [==============================] - 6s 76ms/step - loss: 7.2811e-04 - val_loss: 4.5219e-04\n",
      "Epoch 5/10\n",
      "81/81 [==============================] - 6s 78ms/step - loss: 6.5299e-04 - val_loss: 7.6203e-04\n",
      "Epoch 6/10\n",
      "81/81 [==============================] - 6s 74ms/step - loss: 5.8589e-04 - val_loss: 3.9343e-04\n",
      "Epoch 7/10\n",
      "81/81 [==============================] - 6s 77ms/step - loss: 5.7902e-04 - val_loss: 6.8366e-04\n",
      "Epoch 8/10\n",
      "81/81 [==============================] - 6s 74ms/step - loss: 5.1565e-04 - val_loss: 6.2081e-04\n",
      "Epoch 9/10\n",
      "81/81 [==============================] - 6s 76ms/step - loss: 5.1031e-04 - val_loss: 7.3849e-04\n",
      "Epoch 10/10\n",
      "81/81 [==============================] - 6s 75ms/step - loss: 5.4348e-04 - val_loss: 3.8675e-04\n",
      "✅ Saved model to DLR_gru_model.h5\n",
      "\n",
      "📈 Downloading data for DFS...\n"
     ]
    },
    {
     "name": "stderr",
     "output_type": "stream",
     "text": [
      "[*********************100%***********************]  1 of 1 completed\n"
     ]
    },
    {
     "name": "stdout",
     "output_type": "stream",
     "text": [
      "Training shape for DFS - X_train: (2571, 100, 1), X_test: (1102, 100, 1)\n",
      "Epoch 1/10\n",
      "81/81 [==============================] - 11s 85ms/step - loss: 0.0047 - val_loss: 5.5850e-04\n",
      "Epoch 2/10\n",
      "81/81 [==============================] - 6s 75ms/step - loss: 5.9146e-04 - val_loss: 5.3825e-04\n",
      "Epoch 3/10\n",
      "81/81 [==============================] - 6s 76ms/step - loss: 4.6593e-04 - val_loss: 5.4484e-04\n",
      "Epoch 4/10\n",
      "81/81 [==============================] - 6s 75ms/step - loss: 4.3895e-04 - val_loss: 5.7977e-04\n",
      "Epoch 5/10\n",
      "81/81 [==============================] - 6s 75ms/step - loss: 3.9757e-04 - val_loss: 6.6744e-04\n",
      "Epoch 6/10\n",
      "81/81 [==============================] - 6s 74ms/step - loss: 3.7897e-04 - val_loss: 9.9062e-04\n",
      "Epoch 7/10\n",
      "81/81 [==============================] - 6s 77ms/step - loss: 3.5806e-04 - val_loss: 0.0013\n",
      "Epoch 8/10\n",
      "81/81 [==============================] - 7s 85ms/step - loss: 3.0937e-04 - val_loss: 5.7028e-04\n",
      "Epoch 9/10\n",
      "81/81 [==============================] - 6s 78ms/step - loss: 3.2094e-04 - val_loss: 0.0011\n",
      "Epoch 10/10\n",
      "81/81 [==============================] - 6s 73ms/step - loss: 2.9963e-04 - val_loss: 5.0804e-04\n",
      "✅ Saved model to DFS_gru_model.h5\n",
      "\n",
      "📈 Downloading data for DG...\n"
     ]
    },
    {
     "name": "stderr",
     "output_type": "stream",
     "text": [
      "[*********************100%***********************]  1 of 1 completed\n"
     ]
    },
    {
     "name": "stdout",
     "output_type": "stream",
     "text": [
      "Training shape for DG - X_train: (2571, 100, 1), X_test: (1102, 100, 1)\n",
      "Epoch 1/10\n",
      "81/81 [==============================] - 10s 83ms/step - loss: 0.0070 - val_loss: 6.0346e-04\n",
      "Epoch 2/10\n",
      "81/81 [==============================] - 6s 76ms/step - loss: 0.0010 - val_loss: 6.1136e-04\n",
      "Epoch 3/10\n",
      "81/81 [==============================] - 6s 74ms/step - loss: 7.7510e-04 - val_loss: 6.8369e-04\n",
      "Epoch 4/10\n",
      "81/81 [==============================] - 6s 75ms/step - loss: 7.1733e-04 - val_loss: 7.9747e-04\n",
      "Epoch 5/10\n",
      "81/81 [==============================] - 6s 79ms/step - loss: 7.2196e-04 - val_loss: 5.9688e-04\n",
      "Epoch 6/10\n",
      "81/81 [==============================] - 6s 78ms/step - loss: 6.0975e-04 - val_loss: 7.2007e-04\n",
      "Epoch 7/10\n",
      "81/81 [==============================] - 6s 76ms/step - loss: 5.7819e-04 - val_loss: 7.1488e-04\n",
      "Epoch 8/10\n",
      "81/81 [==============================] - 6s 77ms/step - loss: 5.5499e-04 - val_loss: 9.1501e-04\n",
      "Epoch 9/10\n",
      "81/81 [==============================] - 6s 76ms/step - loss: 5.2587e-04 - val_loss: 5.8018e-04\n",
      "Epoch 10/10\n",
      "81/81 [==============================] - 6s 76ms/step - loss: 5.1188e-04 - val_loss: 5.7533e-04\n",
      "✅ Saved model to DG_gru_model.h5\n",
      "\n",
      "📈 Downloading data for DLTR...\n"
     ]
    },
    {
     "name": "stderr",
     "output_type": "stream",
     "text": [
      "[*********************100%***********************]  1 of 1 completed\n"
     ]
    },
    {
     "name": "stdout",
     "output_type": "stream",
     "text": [
      "Training shape for DLTR - X_train: (2571, 100, 1), X_test: (1102, 100, 1)\n",
      "Epoch 1/10\n",
      "81/81 [==============================] - 24s 257ms/step - loss: 0.0065 - val_loss: 9.6686e-04\n",
      "Epoch 2/10\n",
      "81/81 [==============================] - 8s 98ms/step - loss: 0.0015 - val_loss: 9.5545e-04\n",
      "Epoch 3/10\n",
      "81/81 [==============================] - 8s 100ms/step - loss: 0.0012 - val_loss: 8.7585e-04\n",
      "Epoch 4/10\n",
      "81/81 [==============================] - 8s 103ms/step - loss: 0.0012 - val_loss: 8.3235e-04\n",
      "Epoch 5/10\n",
      "81/81 [==============================] - 7s 90ms/step - loss: 0.0010 - val_loss: 8.2375e-04\n",
      "Epoch 6/10\n",
      "81/81 [==============================] - 7s 91ms/step - loss: 9.8876e-04 - val_loss: 9.9747e-04\n",
      "Epoch 7/10\n",
      "81/81 [==============================] - 7s 92ms/step - loss: 8.9870e-04 - val_loss: 0.0012\n",
      "Epoch 8/10\n",
      "81/81 [==============================] - 7s 90ms/step - loss: 8.4343e-04 - val_loss: 7.4821e-04\n",
      "Epoch 9/10\n",
      "81/81 [==============================] - 7s 91ms/step - loss: 9.3041e-04 - val_loss: 0.0011\n",
      "Epoch 10/10\n",
      "81/81 [==============================] - 7s 90ms/step - loss: 7.8929e-04 - val_loss: 7.0725e-04\n",
      "✅ Saved model to DLTR_gru_model.h5\n",
      "\n",
      "📈 Downloading data for D...\n"
     ]
    },
    {
     "name": "stderr",
     "output_type": "stream",
     "text": [
      "[*********************100%***********************]  1 of 1 completed\n"
     ]
    },
    {
     "name": "stdout",
     "output_type": "stream",
     "text": [
      "Training shape for D - X_train: (2571, 100, 1), X_test: (1102, 100, 1)\n",
      "Epoch 1/10\n",
      "81/81 [==============================] - 12s 94ms/step - loss: 0.0102 - val_loss: 7.0278e-04\n",
      "Epoch 2/10\n",
      "81/81 [==============================] - 7s 86ms/step - loss: 0.0025 - val_loss: 7.8003e-04\n",
      "Epoch 3/10\n",
      "81/81 [==============================] - 7s 87ms/step - loss: 0.0022 - val_loss: 8.0593e-04\n",
      "Epoch 4/10\n",
      "81/81 [==============================] - 7s 86ms/step - loss: 0.0022 - val_loss: 9.4622e-04\n",
      "Epoch 5/10\n",
      "81/81 [==============================] - 7s 85ms/step - loss: 0.0019 - val_loss: 6.3029e-04\n",
      "Epoch 6/10\n",
      "81/81 [==============================] - 7s 85ms/step - loss: 0.0019 - val_loss: 5.4393e-04\n",
      "Epoch 7/10\n",
      "81/81 [==============================] - 7s 86ms/step - loss: 0.0019 - val_loss: 5.6308e-04\n",
      "Epoch 8/10\n",
      "81/81 [==============================] - 7s 85ms/step - loss: 0.0016 - val_loss: 5.3975e-04\n",
      "Epoch 9/10\n",
      "81/81 [==============================] - 7s 85ms/step - loss: 0.0016 - val_loss: 5.7056e-04\n",
      "Epoch 10/10\n",
      "81/81 [==============================] - 7s 85ms/step - loss: 0.0017 - val_loss: 0.0018\n",
      "✅ Saved model to D_gru_model.h5\n",
      "\n",
      "📈 Downloading data for DPZ...\n"
     ]
    },
    {
     "name": "stderr",
     "output_type": "stream",
     "text": [
      "[*********************100%***********************]  1 of 1 completed\n"
     ]
    },
    {
     "name": "stdout",
     "output_type": "stream",
     "text": [
      "Training shape for DPZ - X_train: (2571, 100, 1), X_test: (1102, 100, 1)\n",
      "Epoch 1/10\n",
      "81/81 [==============================] - 12s 91ms/step - loss: 0.0042 - val_loss: 4.1647e-04\n",
      "Epoch 2/10\n",
      "81/81 [==============================] - 7s 84ms/step - loss: 9.5435e-04 - val_loss: 7.7993e-04\n",
      "Epoch 3/10\n",
      "81/81 [==============================] - 7s 84ms/step - loss: 7.6345e-04 - val_loss: 4.1090e-04\n",
      "Epoch 4/10\n",
      "81/81 [==============================] - 7s 82ms/step - loss: 7.0950e-04 - val_loss: 8.7557e-04\n",
      "Epoch 5/10\n",
      "81/81 [==============================] - 7s 89ms/step - loss: 6.5867e-04 - val_loss: 4.1213e-04\n",
      "Epoch 6/10\n",
      "81/81 [==============================] - 7s 86ms/step - loss: 6.8263e-04 - val_loss: 4.1757e-04\n",
      "Epoch 7/10\n",
      "81/81 [==============================] - 7s 85ms/step - loss: 5.9097e-04 - val_loss: 0.0014\n",
      "Epoch 8/10\n",
      "81/81 [==============================] - 7s 86ms/step - loss: 5.8516e-04 - val_loss: 4.3134e-04\n",
      "Epoch 9/10\n",
      "81/81 [==============================] - 7s 86ms/step - loss: 5.8659e-04 - val_loss: 5.9535e-04\n",
      "Epoch 10/10\n",
      "81/81 [==============================] - 7s 85ms/step - loss: 4.9710e-04 - val_loss: 9.8935e-04\n",
      "✅ Saved model to DPZ_gru_model.h5\n",
      "\n",
      "📈 Downloading data for DASH...\n"
     ]
    },
    {
     "name": "stderr",
     "output_type": "stream",
     "text": [
      "[*********************100%***********************]  1 of 1 completed\n"
     ]
    },
    {
     "name": "stdout",
     "output_type": "stream",
     "text": [
      "Training shape for DASH - X_train: (644, 100, 1), X_test: (276, 100, 1)\n",
      "Epoch 1/10\n",
      "21/21 [==============================] - 6s 120ms/step - loss: 0.0249 - val_loss: 0.0059\n",
      "Epoch 2/10\n",
      "21/21 [==============================] - 2s 91ms/step - loss: 0.0056 - val_loss: 0.0038\n",
      "Epoch 3/10\n",
      "21/21 [==============================] - 2s 86ms/step - loss: 0.0040 - val_loss: 0.0029\n",
      "Epoch 4/10\n",
      "21/21 [==============================] - 2s 81ms/step - loss: 0.0031 - val_loss: 0.0024\n",
      "Epoch 5/10\n",
      "21/21 [==============================] - 2s 92ms/step - loss: 0.0032 - val_loss: 7.0250e-04\n",
      "Epoch 6/10\n",
      "21/21 [==============================] - 2s 83ms/step - loss: 0.0027 - val_loss: 5.2052e-04\n",
      "Epoch 7/10\n",
      "21/21 [==============================] - 2s 89ms/step - loss: 0.0028 - val_loss: 5.8887e-04\n",
      "Epoch 8/10\n",
      "21/21 [==============================] - 2s 85ms/step - loss: 0.0029 - val_loss: 5.5408e-04\n",
      "Epoch 9/10\n",
      "21/21 [==============================] - 2s 85ms/step - loss: 0.0027 - val_loss: 3.2100e-04\n",
      "Epoch 10/10\n",
      "21/21 [==============================] - 2s 86ms/step - loss: 0.0028 - val_loss: 3.0012e-04\n",
      "✅ Saved model to DASH_gru_model.h5\n",
      "\n",
      "📈 Downloading data for DOV...\n"
     ]
    },
    {
     "name": "stderr",
     "output_type": "stream",
     "text": [
      "[*********************100%***********************]  1 of 1 completed\n"
     ]
    },
    {
     "name": "stdout",
     "output_type": "stream",
     "text": [
      "Training shape for DOV - X_train: (2571, 100, 1), X_test: (1102, 100, 1)\n",
      "Epoch 1/10\n",
      "81/81 [==============================] - 11s 89ms/step - loss: 0.0033 - val_loss: 3.1790e-04\n",
      "Epoch 2/10\n",
      "81/81 [==============================] - 6s 80ms/step - loss: 5.1757e-04 - val_loss: 3.1032e-04\n",
      "Epoch 3/10\n",
      "81/81 [==============================] - 7s 81ms/step - loss: 4.5435e-04 - val_loss: 7.9466e-04\n",
      "Epoch 4/10\n",
      "81/81 [==============================] - 7s 81ms/step - loss: 4.2446e-04 - val_loss: 3.0252e-04\n",
      "Epoch 5/10\n",
      "81/81 [==============================] - 6s 80ms/step - loss: 3.8445e-04 - val_loss: 4.5438e-04\n",
      "Epoch 6/10\n",
      "81/81 [==============================] - 7s 83ms/step - loss: 3.7365e-04 - val_loss: 3.2374e-04\n",
      "Epoch 7/10\n",
      "81/81 [==============================] - 6s 79ms/step - loss: 3.2674e-04 - val_loss: 2.7544e-04\n",
      "Epoch 8/10\n",
      "81/81 [==============================] - 7s 82ms/step - loss: 3.2196e-04 - val_loss: 6.4540e-04\n",
      "Epoch 9/10\n",
      "81/81 [==============================] - 7s 80ms/step - loss: 3.0071e-04 - val_loss: 3.4644e-04\n",
      "Epoch 10/10\n",
      "81/81 [==============================] - 6s 80ms/step - loss: 2.8143e-04 - val_loss: 3.8083e-04\n",
      "✅ Saved model to DOV_gru_model.h5\n",
      "\n",
      "📈 Downloading data for DOW...\n"
     ]
    },
    {
     "name": "stderr",
     "output_type": "stream",
     "text": [
      "[*********************100%***********************]  1 of 1 completed\n"
     ]
    },
    {
     "name": "stdout",
     "output_type": "stream",
     "text": [
      "Training shape for DOW - X_train: (949, 100, 1), X_test: (407, 100, 1)\n",
      "Epoch 1/10\n",
      "30/30 [==============================] - 7s 105ms/step - loss: 0.0736 - val_loss: 0.0125\n",
      "Epoch 2/10\n",
      "30/30 [==============================] - 2s 78ms/step - loss: 0.0097 - val_loss: 0.0014\n",
      "Epoch 3/10\n",
      "30/30 [==============================] - 3s 85ms/step - loss: 0.0062 - val_loss: 9.6209e-04\n",
      "Epoch 4/10\n",
      "30/30 [==============================] - 2s 83ms/step - loss: 0.0057 - val_loss: 8.0381e-04\n",
      "Epoch 5/10\n",
      "30/30 [==============================] - 2s 82ms/step - loss: 0.0052 - val_loss: 6.9028e-04\n",
      "Epoch 6/10\n",
      "30/30 [==============================] - 2s 82ms/step - loss: 0.0051 - val_loss: 4.5405e-04\n",
      "Epoch 7/10\n",
      "30/30 [==============================] - 2s 82ms/step - loss: 0.0046 - val_loss: 7.0024e-04\n",
      "Epoch 8/10\n",
      "30/30 [==============================] - 2s 82ms/step - loss: 0.0045 - val_loss: 5.2618e-04\n",
      "Epoch 9/10\n",
      "30/30 [==============================] - 2s 83ms/step - loss: 0.0044 - val_loss: 4.7038e-04\n",
      "Epoch 10/10\n",
      "30/30 [==============================] - 2s 78ms/step - loss: 0.0046 - val_loss: 4.3899e-04\n",
      "✅ Saved model to DOW_gru_model.h5\n",
      "\n",
      "📈 Downloading data for DHI...\n"
     ]
    },
    {
     "name": "stderr",
     "output_type": "stream",
     "text": [
      "[*********************100%***********************]  1 of 1 completed\n"
     ]
    },
    {
     "name": "stdout",
     "output_type": "stream",
     "text": [
      "Training shape for DHI - X_train: (2571, 100, 1), X_test: (1102, 100, 1)\n",
      "Epoch 1/10\n",
      "81/81 [==============================] - 11s 87ms/step - loss: 8.3749e-04 - val_loss: 4.1711e-04\n",
      "Epoch 2/10\n",
      "81/81 [==============================] - 7s 81ms/step - loss: 1.5961e-04 - val_loss: 5.0758e-04\n",
      "Epoch 3/10\n",
      "81/81 [==============================] - 6s 79ms/step - loss: 1.4280e-04 - val_loss: 2.9768e-04\n",
      "Epoch 4/10\n",
      "81/81 [==============================] - 7s 81ms/step - loss: 1.3488e-04 - val_loss: 4.2883e-04\n",
      "Epoch 5/10\n",
      "81/81 [==============================] - 6s 78ms/step - loss: 1.1230e-04 - val_loss: 3.0300e-04\n",
      "Epoch 6/10\n",
      "81/81 [==============================] - 6s 80ms/step - loss: 1.2824e-04 - val_loss: 2.7871e-04\n",
      "Epoch 7/10\n",
      "81/81 [==============================] - 6s 79ms/step - loss: 1.0150e-04 - val_loss: 2.8548e-04\n",
      "Epoch 8/10\n",
      "81/81 [==============================] - 6s 80ms/step - loss: 9.8734e-05 - val_loss: 3.9646e-04\n",
      "Epoch 9/10\n",
      "81/81 [==============================] - 6s 79ms/step - loss: 1.0194e-04 - val_loss: 4.3122e-04\n",
      "Epoch 10/10\n",
      "81/81 [==============================] - 6s 80ms/step - loss: 8.3974e-05 - val_loss: 2.5496e-04\n",
      "✅ Saved model to DHI_gru_model.h5\n",
      "\n",
      "📈 Downloading data for DTE...\n"
     ]
    },
    {
     "name": "stderr",
     "output_type": "stream",
     "text": [
      "[*********************100%***********************]  1 of 1 completed\n"
     ]
    },
    {
     "name": "stdout",
     "output_type": "stream",
     "text": [
      "Training shape for DTE - X_train: (2571, 100, 1), X_test: (1102, 100, 1)\n",
      "Epoch 1/10\n",
      "81/81 [==============================] - 11s 88ms/step - loss: 0.0097 - val_loss: 3.7893e-04\n",
      "Epoch 2/10\n",
      "81/81 [==============================] - 6s 78ms/step - loss: 0.0013 - val_loss: 0.0011\n",
      "Epoch 3/10\n",
      "81/81 [==============================] - 6s 80ms/step - loss: 0.0013 - val_loss: 0.0012\n",
      "Epoch 4/10\n",
      "81/81 [==============================] - 6s 79ms/step - loss: 0.0013 - val_loss: 5.8636e-04\n",
      "Epoch 5/10\n",
      "81/81 [==============================] - 6s 79ms/step - loss: 0.0011 - val_loss: 3.1793e-04\n",
      "Epoch 6/10\n",
      "81/81 [==============================] - 6s 79ms/step - loss: 9.6656e-04 - val_loss: 0.0023\n",
      "Epoch 7/10\n",
      "81/81 [==============================] - 6s 79ms/step - loss: 0.0010 - val_loss: 3.3667e-04\n",
      "Epoch 8/10\n",
      "81/81 [==============================] - 6s 80ms/step - loss: 9.9110e-04 - val_loss: 3.9842e-04\n",
      "Epoch 9/10\n",
      "81/81 [==============================] - 6s 78ms/step - loss: 8.3628e-04 - val_loss: 3.3384e-04\n",
      "Epoch 10/10\n",
      "81/81 [==============================] - 7s 81ms/step - loss: 8.0918e-04 - val_loss: 4.0381e-04\n",
      "✅ Saved model to DTE_gru_model.h5\n",
      "\n",
      "📈 Downloading data for DUK...\n"
     ]
    },
    {
     "name": "stderr",
     "output_type": "stream",
     "text": [
      "[*********************100%***********************]  1 of 1 completed\n"
     ]
    },
    {
     "name": "stdout",
     "output_type": "stream",
     "text": [
      "Training shape for DUK - X_train: (2571, 100, 1), X_test: (1102, 100, 1)\n",
      "Epoch 1/10\n",
      "81/81 [==============================] - 11s 85ms/step - loss: 0.0055 - val_loss: 4.0344e-04\n",
      "Epoch 2/10\n",
      "81/81 [==============================] - 6s 79ms/step - loss: 0.0010 - val_loss: 3.1344e-04\n",
      "Epoch 3/10\n",
      "81/81 [==============================] - 6s 79ms/step - loss: 9.3064e-04 - val_loss: 6.2483e-04\n",
      "Epoch 4/10\n",
      "81/81 [==============================] - 6s 78ms/step - loss: 7.9477e-04 - val_loss: 7.7304e-04\n",
      "Epoch 5/10\n",
      "81/81 [==============================] - 6s 78ms/step - loss: 7.4562e-04 - val_loss: 0.0011\n",
      "Epoch 6/10\n",
      "81/81 [==============================] - 6s 79ms/step - loss: 6.7028e-04 - val_loss: 3.1586e-04\n",
      "Epoch 7/10\n",
      "81/81 [==============================] - 6s 79ms/step - loss: 6.8078e-04 - val_loss: 2.9131e-04\n",
      "Epoch 8/10\n",
      "81/81 [==============================] - 6s 79ms/step - loss: 6.5823e-04 - val_loss: 2.9490e-04\n",
      "Epoch 9/10\n",
      "81/81 [==============================] - 7s 82ms/step - loss: 7.3527e-04 - val_loss: 0.0016\n",
      "Epoch 10/10\n",
      "81/81 [==============================] - 6s 79ms/step - loss: 5.7643e-04 - val_loss: 2.7025e-04\n",
      "✅ Saved model to DUK_gru_model.h5\n",
      "\n",
      "📈 Downloading data for DD...\n"
     ]
    },
    {
     "name": "stderr",
     "output_type": "stream",
     "text": [
      "[*********************100%***********************]  1 of 1 completed\n"
     ]
    },
    {
     "name": "stdout",
     "output_type": "stream",
     "text": [
      "Training shape for DD - X_train: (2571, 100, 1), X_test: (1102, 100, 1)\n",
      "Epoch 1/10\n",
      "81/81 [==============================] - 10s 87ms/step - loss: 0.0188 - val_loss: 7.8181e-04\n",
      "Epoch 2/10\n",
      "81/81 [==============================] - 6s 79ms/step - loss: 0.0029 - val_loss: 7.8261e-04\n",
      "Epoch 3/10\n",
      "81/81 [==============================] - 6s 79ms/step - loss: 0.0026 - val_loss: 7.1008e-04\n",
      "Epoch 4/10\n",
      "81/81 [==============================] - 6s 79ms/step - loss: 0.0023 - val_loss: 0.0011\n",
      "Epoch 5/10\n",
      "81/81 [==============================] - 6s 78ms/step - loss: 0.0025 - val_loss: 0.0015\n",
      "Epoch 6/10\n",
      "81/81 [==============================] - 6s 79ms/step - loss: 0.0019 - val_loss: 0.0010\n",
      "Epoch 7/10\n",
      "81/81 [==============================] - 6s 78ms/step - loss: 0.0019 - val_loss: 5.7873e-04\n",
      "Epoch 8/10\n",
      "81/81 [==============================] - 7s 91ms/step - loss: 0.0018 - val_loss: 6.2140e-04\n",
      "Epoch 9/10\n",
      "81/81 [==============================] - 6s 78ms/step - loss: 0.0019 - val_loss: 0.0012\n",
      "Epoch 10/10\n",
      "81/81 [==============================] - 6s 76ms/step - loss: 0.0019 - val_loss: 0.0011\n",
      "✅ Saved model to DD_gru_model.h5\n",
      "\n",
      "📈 Downloading data for EMN...\n"
     ]
    },
    {
     "name": "stderr",
     "output_type": "stream",
     "text": [
      "[*********************100%***********************]  1 of 1 completed\n"
     ]
    },
    {
     "name": "stdout",
     "output_type": "stream",
     "text": [
      "Training shape for EMN - X_train: (2571, 100, 1), X_test: (1102, 100, 1)\n",
      "Epoch 1/10\n",
      "81/81 [==============================] - 11s 88ms/step - loss: 0.0096 - val_loss: 9.3176e-04\n",
      "Epoch 2/10\n",
      "81/81 [==============================] - 6s 79ms/step - loss: 0.0019 - val_loss: 5.9772e-04\n",
      "Epoch 3/10\n",
      "81/81 [==============================] - 6s 77ms/step - loss: 0.0016 - val_loss: 7.7131e-04\n",
      "Epoch 4/10\n",
      "81/81 [==============================] - 6s 79ms/step - loss: 0.0014 - val_loss: 0.0018\n",
      "Epoch 5/10\n",
      "81/81 [==============================] - 7s 83ms/step - loss: 0.0012 - val_loss: 0.0015\n",
      "Epoch 6/10\n",
      "81/81 [==============================] - 7s 86ms/step - loss: 0.0012 - val_loss: 5.8428e-04\n",
      "Epoch 7/10\n",
      "81/81 [==============================] - 6s 79ms/step - loss: 0.0011 - val_loss: 6.4484e-04\n",
      "Epoch 8/10\n",
      "81/81 [==============================] - 6s 80ms/step - loss: 0.0011 - val_loss: 0.0011\n",
      "Epoch 9/10\n",
      "81/81 [==============================] - 7s 81ms/step - loss: 0.0010 - val_loss: 6.3638e-04\n",
      "Epoch 10/10\n",
      "81/81 [==============================] - 6s 80ms/step - loss: 0.0011 - val_loss: 0.0010\n",
      "✅ Saved model to EMN_gru_model.h5\n",
      "\n",
      "📈 Downloading data for ETN...\n"
     ]
    },
    {
     "name": "stderr",
     "output_type": "stream",
     "text": [
      "[*********************100%***********************]  1 of 1 completed\n"
     ]
    },
    {
     "name": "stdout",
     "output_type": "stream",
     "text": [
      "Training shape for ETN - X_train: (2571, 100, 1), X_test: (1102, 100, 1)\n",
      "Epoch 1/10\n",
      "81/81 [==============================] - 12s 91ms/step - loss: 5.9556e-04 - val_loss: 4.6677e-04\n",
      "Epoch 2/10\n",
      "81/81 [==============================] - 6s 79ms/step - loss: 1.2021e-04 - val_loss: 4.4369e-04\n",
      "Epoch 3/10\n",
      "81/81 [==============================] - 6s 77ms/step - loss: 9.6644e-05 - val_loss: 2.0547e-04\n",
      "Epoch 4/10\n",
      "81/81 [==============================] - 7s 80ms/step - loss: 8.2823e-05 - val_loss: 4.8086e-04\n",
      "Epoch 5/10\n",
      "81/81 [==============================] - 6s 77ms/step - loss: 7.8807e-05 - val_loss: 1.8592e-04\n",
      "Epoch 6/10\n",
      "81/81 [==============================] - 6s 79ms/step - loss: 6.4396e-05 - val_loss: 1.8439e-04\n",
      "Epoch 7/10\n",
      "81/81 [==============================] - 6s 77ms/step - loss: 6.5805e-05 - val_loss: 1.7672e-04\n",
      "Epoch 8/10\n",
      "81/81 [==============================] - 6s 79ms/step - loss: 5.4037e-05 - val_loss: 1.6268e-04\n",
      "Epoch 9/10\n",
      "81/81 [==============================] - 6s 77ms/step - loss: 5.4011e-05 - val_loss: 6.2209e-04\n",
      "Epoch 10/10\n",
      "81/81 [==============================] - 6s 78ms/step - loss: 5.2462e-05 - val_loss: 2.3985e-04\n",
      "✅ Saved model to ETN_gru_model.h5\n",
      "\n",
      "📈 Downloading data for EBAY...\n"
     ]
    },
    {
     "name": "stderr",
     "output_type": "stream",
     "text": [
      "[*********************100%***********************]  1 of 1 completed\n"
     ]
    },
    {
     "name": "stdout",
     "output_type": "stream",
     "text": [
      "Training shape for EBAY - X_train: (2571, 100, 1), X_test: (1102, 100, 1)\n",
      "Epoch 1/10\n",
      "81/81 [==============================] - 11s 88ms/step - loss: 0.0051 - val_loss: 7.4745e-04\n",
      "Epoch 2/10\n",
      "81/81 [==============================] - 6s 78ms/step - loss: 8.5164e-04 - val_loss: 4.9225e-04\n",
      "Epoch 3/10\n",
      "81/81 [==============================] - 6s 80ms/step - loss: 7.7342e-04 - val_loss: 0.0011\n",
      "Epoch 4/10\n",
      "81/81 [==============================] - 7s 81ms/step - loss: 6.4528e-04 - val_loss: 6.2565e-04\n",
      "Epoch 5/10\n",
      "81/81 [==============================] - 6s 79ms/step - loss: 6.0227e-04 - val_loss: 5.4419e-04\n",
      "Epoch 6/10\n",
      "81/81 [==============================] - 6s 79ms/step - loss: 5.5864e-04 - val_loss: 4.5532e-04\n",
      "Epoch 7/10\n",
      "81/81 [==============================] - 6s 79ms/step - loss: 5.2895e-04 - val_loss: 5.4702e-04\n",
      "Epoch 8/10\n",
      "81/81 [==============================] - 7s 82ms/step - loss: 5.0515e-04 - val_loss: 4.3434e-04\n",
      "Epoch 9/10\n",
      "81/81 [==============================] - 6s 78ms/step - loss: 5.0366e-04 - val_loss: 6.8704e-04\n",
      "Epoch 10/10\n",
      "81/81 [==============================] - 7s 82ms/step - loss: 4.5208e-04 - val_loss: 5.0129e-04\n",
      "✅ Saved model to EBAY_gru_model.h5\n",
      "\n",
      "📈 Downloading data for ECL...\n"
     ]
    },
    {
     "name": "stderr",
     "output_type": "stream",
     "text": [
      "[*********************100%***********************]  1 of 1 completed\n"
     ]
    },
    {
     "name": "stdout",
     "output_type": "stream",
     "text": [
      "Training shape for ECL - X_train: (2571, 100, 1), X_test: (1102, 100, 1)\n",
      "Epoch 1/10\n",
      "81/81 [==============================] - 13s 102ms/step - loss: 0.0087 - val_loss: 5.9852e-04\n",
      "Epoch 2/10\n",
      "81/81 [==============================] - 6s 79ms/step - loss: 0.0015 - val_loss: 3.6085e-04\n",
      "Epoch 3/10\n",
      "81/81 [==============================] - 6s 77ms/step - loss: 0.0014 - val_loss: 3.8663e-04\n",
      "Epoch 4/10\n",
      "81/81 [==============================] - 6s 79ms/step - loss: 0.0011 - val_loss: 3.5113e-04\n",
      "Epoch 5/10\n",
      "81/81 [==============================] - 6s 76ms/step - loss: 0.0012 - val_loss: 7.4704e-04\n",
      "Epoch 6/10\n",
      "81/81 [==============================] - 6s 79ms/step - loss: 0.0010 - val_loss: 3.7776e-04\n",
      "Epoch 7/10\n",
      "81/81 [==============================] - 6s 77ms/step - loss: 9.9246e-04 - val_loss: 0.0013\n",
      "Epoch 8/10\n",
      "81/81 [==============================] - 6s 79ms/step - loss: 9.2831e-04 - val_loss: 7.5171e-04\n",
      "Epoch 9/10\n",
      "81/81 [==============================] - 6s 78ms/step - loss: 8.4139e-04 - val_loss: 3.7455e-04\n",
      "Epoch 10/10\n",
      "81/81 [==============================] - 7s 81ms/step - loss: 8.1803e-04 - val_loss: 3.2546e-04\n",
      "✅ Saved model to ECL_gru_model.h5\n",
      "\n",
      "📈 Downloading data for EIX...\n"
     ]
    },
    {
     "name": "stderr",
     "output_type": "stream",
     "text": [
      "[*********************100%***********************]  1 of 1 completed\n"
     ]
    },
    {
     "name": "stdout",
     "output_type": "stream",
     "text": [
      "Training shape for EIX - X_train: (2571, 100, 1), X_test: (1102, 100, 1)\n",
      "Epoch 1/10\n",
      "81/81 [==============================] - 11s 87ms/step - loss: 0.0097 - val_loss: 6.0171e-04\n",
      "Epoch 2/10\n",
      "81/81 [==============================] - 6s 79ms/step - loss: 0.0015 - val_loss: 6.5632e-04\n",
      "Epoch 3/10\n",
      "81/81 [==============================] - 6s 79ms/step - loss: 0.0014 - val_loss: 4.6741e-04\n",
      "Epoch 4/10\n",
      "81/81 [==============================] - 6s 79ms/step - loss: 0.0011 - val_loss: 7.8685e-04\n",
      "Epoch 5/10\n",
      "81/81 [==============================] - 6s 77ms/step - loss: 0.0012 - val_loss: 3.5600e-04\n",
      "Epoch 6/10\n",
      "81/81 [==============================] - 6s 79ms/step - loss: 0.0010 - val_loss: 4.8123e-04\n",
      "Epoch 7/10\n",
      "81/81 [==============================] - 6s 78ms/step - loss: 0.0010 - val_loss: 5.1019e-04\n",
      "Epoch 8/10\n",
      "81/81 [==============================] - 7s 82ms/step - loss: 9.5893e-04 - val_loss: 4.8641e-04\n",
      "Epoch 9/10\n",
      "81/81 [==============================] - 6s 79ms/step - loss: 9.1387e-04 - val_loss: 9.5478e-04\n",
      "Epoch 10/10\n",
      "81/81 [==============================] - 6s 80ms/step - loss: 9.3707e-04 - val_loss: 4.5010e-04\n",
      "✅ Saved model to EIX_gru_model.h5\n",
      "\n",
      "📈 Downloading data for EW...\n"
     ]
    },
    {
     "name": "stderr",
     "output_type": "stream",
     "text": [
      "[*********************100%***********************]  1 of 1 completed\n"
     ]
    },
    {
     "name": "stdout",
     "output_type": "stream",
     "text": [
      "Training shape for EW - X_train: (2571, 100, 1), X_test: (1102, 100, 1)\n",
      "Epoch 1/10\n",
      "81/81 [==============================] - 12s 92ms/step - loss: 0.0041 - val_loss: 9.9419e-04\n",
      "Epoch 2/10\n",
      "81/81 [==============================] - 6s 78ms/step - loss: 7.6060e-04 - val_loss: 9.9298e-04\n",
      "Epoch 3/10\n",
      "81/81 [==============================] - 6s 80ms/step - loss: 6.7668e-04 - val_loss: 5.7191e-04\n",
      "Epoch 4/10\n",
      "81/81 [==============================] - 6s 78ms/step - loss: 5.8122e-04 - val_loss: 6.2910e-04\n",
      "Epoch 5/10\n",
      "81/81 [==============================] - 6s 79ms/step - loss: 5.2897e-04 - val_loss: 7.7975e-04\n",
      "Epoch 6/10\n",
      "81/81 [==============================] - 6s 77ms/step - loss: 5.3327e-04 - val_loss: 0.0010\n",
      "Epoch 7/10\n",
      "81/81 [==============================] - 6s 78ms/step - loss: 5.3277e-04 - val_loss: 5.1833e-04\n",
      "Epoch 8/10\n",
      "81/81 [==============================] - 6s 77ms/step - loss: 4.7848e-04 - val_loss: 6.5884e-04\n",
      "Epoch 9/10\n",
      "81/81 [==============================] - 6s 79ms/step - loss: 5.2602e-04 - val_loss: 8.1899e-04\n",
      "Epoch 10/10\n",
      "81/81 [==============================] - 6s 78ms/step - loss: 4.4062e-04 - val_loss: 5.2876e-04\n",
      "✅ Saved model to EW_gru_model.h5\n",
      "\n",
      "📈 Downloading data for EA...\n"
     ]
    },
    {
     "name": "stderr",
     "output_type": "stream",
     "text": [
      "[*********************100%***********************]  1 of 1 completed\n"
     ]
    },
    {
     "name": "stdout",
     "output_type": "stream",
     "text": [
      "Training shape for EA - X_train: (2571, 100, 1), X_test: (1102, 100, 1)\n",
      "Epoch 1/10\n",
      "81/81 [==============================] - 12s 89ms/step - loss: 0.0122 - val_loss: 6.1091e-04\n",
      "Epoch 2/10\n",
      "81/81 [==============================] - 6s 78ms/step - loss: 0.0017 - val_loss: 4.5849e-04\n",
      "Epoch 3/10\n",
      "81/81 [==============================] - 6s 79ms/step - loss: 0.0016 - val_loss: 4.7744e-04\n",
      "Epoch 4/10\n",
      "81/81 [==============================] - 6s 78ms/step - loss: 0.0016 - val_loss: 3.7150e-04\n",
      "Epoch 5/10\n",
      "81/81 [==============================] - 6s 79ms/step - loss: 0.0013 - val_loss: 3.6991e-04\n",
      "Epoch 6/10\n",
      "81/81 [==============================] - 6s 78ms/step - loss: 0.0013 - val_loss: 0.0012\n",
      "Epoch 7/10\n",
      "81/81 [==============================] - 6s 80ms/step - loss: 0.0012 - val_loss: 4.6943e-04\n",
      "Epoch 8/10\n",
      "81/81 [==============================] - 6s 77ms/step - loss: 0.0012 - val_loss: 5.4796e-04\n",
      "Epoch 9/10\n",
      "81/81 [==============================] - 6s 79ms/step - loss: 0.0010 - val_loss: 3.9311e-04\n",
      "Epoch 10/10\n",
      "81/81 [==============================] - 6s 77ms/step - loss: 0.0011 - val_loss: 4.4298e-04\n",
      "✅ Saved model to EA_gru_model.h5\n",
      "\n",
      "📈 Downloading data for ELV...\n"
     ]
    },
    {
     "name": "stderr",
     "output_type": "stream",
     "text": [
      "[*********************100%***********************]  1 of 1 completed\n"
     ]
    },
    {
     "name": "stdout",
     "output_type": "stream",
     "text": [
      "Training shape for ELV - X_train: (2571, 100, 1), X_test: (1102, 100, 1)\n",
      "Epoch 1/10\n",
      "81/81 [==============================] - 11s 87ms/step - loss: 0.0042 - val_loss: 5.7995e-04\n",
      "Epoch 2/10\n",
      "81/81 [==============================] - 6s 80ms/step - loss: 6.4844e-04 - val_loss: 5.7204e-04\n",
      "Epoch 3/10\n",
      "81/81 [==============================] - 6s 78ms/step - loss: 5.4573e-04 - val_loss: 0.0013\n",
      "Epoch 4/10\n",
      "81/81 [==============================] - 7s 84ms/step - loss: 5.6156e-04 - val_loss: 4.3145e-04\n",
      "Epoch 5/10\n",
      "81/81 [==============================] - 7s 81ms/step - loss: 4.5998e-04 - val_loss: 4.6147e-04\n",
      "Epoch 6/10\n",
      "81/81 [==============================] - 6s 78ms/step - loss: 4.7355e-04 - val_loss: 0.0012\n",
      "Epoch 7/10\n",
      "81/81 [==============================] - 7s 81ms/step - loss: 4.6317e-04 - val_loss: 4.5746e-04\n",
      "Epoch 8/10\n",
      "81/81 [==============================] - 6s 78ms/step - loss: 3.7912e-04 - val_loss: 8.2752e-04\n",
      "Epoch 9/10\n",
      "81/81 [==============================] - 6s 79ms/step - loss: 3.7869e-04 - val_loss: 0.0018\n",
      "Epoch 10/10\n",
      "81/81 [==============================] - 6s 80ms/step - loss: 3.6074e-04 - val_loss: 4.2664e-04\n",
      "✅ Saved model to ELV_gru_model.h5\n",
      "\n",
      "📈 Downloading data for EMR...\n"
     ]
    },
    {
     "name": "stderr",
     "output_type": "stream",
     "text": [
      "[*********************100%***********************]  1 of 1 completed\n"
     ]
    },
    {
     "name": "stdout",
     "output_type": "stream",
     "text": [
      "Training shape for EMR - X_train: (2571, 100, 1), X_test: (1102, 100, 1)\n",
      "Epoch 1/10\n",
      "81/81 [==============================] - 11s 88ms/step - loss: 0.0022 - val_loss: 4.8305e-04\n",
      "Epoch 2/10\n",
      "81/81 [==============================] - 6s 79ms/step - loss: 4.6267e-04 - val_loss: 4.1983e-04\n",
      "Epoch 3/10\n",
      "81/81 [==============================] - 6s 78ms/step - loss: 4.1353e-04 - val_loss: 3.9109e-04\n",
      "Epoch 4/10\n",
      "81/81 [==============================] - 6s 80ms/step - loss: 3.9136e-04 - val_loss: 5.8523e-04\n",
      "Epoch 5/10\n",
      "81/81 [==============================] - 6s 78ms/step - loss: 3.6384e-04 - val_loss: 4.9028e-04\n",
      "Epoch 6/10\n",
      "81/81 [==============================] - 6s 80ms/step - loss: 3.3322e-04 - val_loss: 0.0011\n",
      "Epoch 7/10\n",
      "81/81 [==============================] - 6s 77ms/step - loss: 3.2303e-04 - val_loss: 3.1232e-04\n",
      "Epoch 8/10\n",
      "81/81 [==============================] - 6s 78ms/step - loss: 2.8381e-04 - val_loss: 3.3980e-04\n",
      "Epoch 9/10\n",
      "81/81 [==============================] - 6s 77ms/step - loss: 2.6687e-04 - val_loss: 3.2969e-04\n",
      "Epoch 10/10\n",
      "81/81 [==============================] - 6s 77ms/step - loss: 2.2986e-04 - val_loss: 4.4910e-04\n",
      "✅ Saved model to EMR_gru_model.h5\n",
      "\n",
      "📈 Downloading data for ENPH...\n"
     ]
    },
    {
     "name": "stderr",
     "output_type": "stream",
     "text": [
      "[*********************100%***********************]  1 of 1 completed\n"
     ]
    },
    {
     "name": "stdout",
     "output_type": "stream",
     "text": [
      "Training shape for ENPH - X_train: (2175, 100, 1), X_test: (933, 100, 1)\n",
      "Epoch 1/10\n",
      "68/68 [==============================] - 10s 98ms/step - loss: 0.0013 - val_loss: 0.0014\n",
      "Epoch 2/10\n",
      "68/68 [==============================] - 5s 79ms/step - loss: 2.3812e-04 - val_loss: 0.0013\n",
      "Epoch 3/10\n",
      "68/68 [==============================] - 5s 78ms/step - loss: 3.0385e-04 - val_loss: 0.0015\n",
      "Epoch 4/10\n",
      "68/68 [==============================] - 5s 79ms/step - loss: 2.2345e-04 - val_loss: 0.0013\n",
      "Epoch 5/10\n",
      "68/68 [==============================] - 5s 78ms/step - loss: 2.8471e-04 - val_loss: 0.0027\n",
      "Epoch 6/10\n",
      "68/68 [==============================] - 5s 78ms/step - loss: 2.9539e-04 - val_loss: 0.0024\n",
      "Epoch 7/10\n",
      "68/68 [==============================] - 5s 79ms/step - loss: 2.8184e-04 - val_loss: 0.0012\n",
      "Epoch 8/10\n",
      "68/68 [==============================] - 5s 81ms/step - loss: 2.3638e-04 - val_loss: 0.0018\n",
      "Epoch 9/10\n",
      "68/68 [==============================] - 6s 82ms/step - loss: 2.8470e-04 - val_loss: 0.0016\n",
      "Epoch 10/10\n",
      "68/68 [==============================] - 5s 77ms/step - loss: 2.7329e-04 - val_loss: 0.0015\n",
      "✅ Saved model to ENPH_gru_model.h5\n",
      "\n",
      "📈 Downloading data for ETR...\n"
     ]
    },
    {
     "name": "stderr",
     "output_type": "stream",
     "text": [
      "[*********************100%***********************]  1 of 1 completed\n"
     ]
    },
    {
     "name": "stdout",
     "output_type": "stream",
     "text": [
      "Training shape for ETR - X_train: (2571, 100, 1), X_test: (1102, 100, 1)\n",
      "Epoch 1/10\n",
      "81/81 [==============================] - 10s 86ms/step - loss: 0.0037 - val_loss: 3.8542e-04\n",
      "Epoch 2/10\n",
      "81/81 [==============================] - 6s 78ms/step - loss: 7.9014e-04 - val_loss: 5.7532e-04\n",
      "Epoch 3/10\n",
      "81/81 [==============================] - 6s 79ms/step - loss: 6.4159e-04 - val_loss: 4.9778e-04\n",
      "Epoch 4/10\n",
      "81/81 [==============================] - 7s 81ms/step - loss: 5.9775e-04 - val_loss: 3.7663e-04\n",
      "Epoch 5/10\n",
      "81/81 [==============================] - 6s 77ms/step - loss: 5.8215e-04 - val_loss: 3.2605e-04\n",
      "Epoch 6/10\n",
      "81/81 [==============================] - 6s 79ms/step - loss: 5.2596e-04 - val_loss: 3.4351e-04\n",
      "Epoch 7/10\n",
      "81/81 [==============================] - 6s 77ms/step - loss: 4.7795e-04 - val_loss: 4.1437e-04\n",
      "Epoch 8/10\n",
      "81/81 [==============================] - 6s 79ms/step - loss: 4.3736e-04 - val_loss: 0.0010\n",
      "Epoch 9/10\n",
      "81/81 [==============================] - 6s 77ms/step - loss: 5.0153e-04 - val_loss: 4.0788e-04\n",
      "Epoch 10/10\n",
      "81/81 [==============================] - 6s 80ms/step - loss: 4.2982e-04 - val_loss: 6.8386e-04\n"
     ]
    },
    {
     "name": "stderr",
     "output_type": "stream",
     "text": [
      "Failed to get ticker 'EOG' reason: ('Connection aborted.', RemoteDisconnected('Remote end closed connection without response'))\n",
      "[*********************100%***********************]  1 of 1 completed\n",
      "\n",
      "1 Failed download:\n",
      "['EOG']: YFTzMissingError('possibly delisted; no timezone found')\n"
     ]
    },
    {
     "name": "stdout",
     "output_type": "stream",
     "text": [
      "✅ Saved model to ETR_gru_model.h5\n",
      "\n",
      "📈 Downloading data for EOG...\n",
      "Skipping EOG due to insufficient data.\n",
      "\n",
      "📈 Downloading data for EPAM...\n"
     ]
    },
    {
     "name": "stderr",
     "output_type": "stream",
     "text": [
      "[*********************100%***********************]  1 of 1 completed\n"
     ]
    },
    {
     "name": "stdout",
     "output_type": "stream",
     "text": [
      "Training shape for EPAM - X_train: (2200, 100, 1), X_test: (944, 100, 1)\n",
      "Epoch 1/10\n",
      "69/69 [==============================] - 10s 90ms/step - loss: 0.0029 - val_loss: 9.3008e-04\n",
      "Epoch 2/10\n",
      "69/69 [==============================] - 5s 78ms/step - loss: 4.0021e-04 - val_loss: 0.0015\n",
      "Epoch 3/10\n",
      "69/69 [==============================] - 5s 78ms/step - loss: 4.2141e-04 - val_loss: 7.8400e-04\n",
      "Epoch 4/10\n",
      "69/69 [==============================] - 5s 79ms/step - loss: 3.4573e-04 - val_loss: 8.7660e-04\n",
      "Epoch 5/10\n",
      "69/69 [==============================] - 5s 79ms/step - loss: 3.0762e-04 - val_loss: 8.8574e-04\n",
      "Epoch 6/10\n",
      "69/69 [==============================] - 5s 78ms/step - loss: 3.0373e-04 - val_loss: 7.3314e-04\n",
      "Epoch 7/10\n",
      "69/69 [==============================] - 5s 78ms/step - loss: 2.9482e-04 - val_loss: 7.2649e-04\n",
      "Epoch 8/10\n",
      "69/69 [==============================] - 5s 79ms/step - loss: 2.5781e-04 - val_loss: 7.1123e-04\n",
      "Epoch 9/10\n",
      "69/69 [==============================] - 5s 77ms/step - loss: 2.7059e-04 - val_loss: 7.2083e-04\n",
      "Epoch 10/10\n",
      "69/69 [==============================] - 5s 78ms/step - loss: 2.8313e-04 - val_loss: 6.8913e-04\n",
      "✅ Saved model to EPAM_gru_model.h5\n",
      "\n",
      "📈 Downloading data for EQT...\n"
     ]
    },
    {
     "name": "stderr",
     "output_type": "stream",
     "text": [
      "[*********************100%***********************]  1 of 1 completed\n"
     ]
    },
    {
     "name": "stdout",
     "output_type": "stream",
     "text": [
      "Training shape for EQT - X_train: (2571, 100, 1), X_test: (1102, 100, 1)\n",
      "Epoch 1/10\n",
      "81/81 [==============================] - 10s 88ms/step - loss: 0.0277 - val_loss: 0.0010\n",
      "Epoch 2/10\n",
      "81/81 [==============================] - 6s 78ms/step - loss: 0.0031 - val_loss: 7.9392e-04\n",
      "Epoch 3/10\n",
      "81/81 [==============================] - 6s 78ms/step - loss: 0.0027 - val_loss: 0.0016\n",
      "Epoch 4/10\n",
      "81/81 [==============================] - 6s 78ms/step - loss: 0.0024 - val_loss: 7.9927e-04\n",
      "Epoch 5/10\n",
      "81/81 [==============================] - 6s 78ms/step - loss: 0.0023 - val_loss: 7.7116e-04\n",
      "Epoch 6/10\n",
      "81/81 [==============================] - 6s 79ms/step - loss: 0.0022 - val_loss: 7.6897e-04\n",
      "Epoch 7/10\n",
      "81/81 [==============================] - 6s 76ms/step - loss: 0.0022 - val_loss: 8.1618e-04\n",
      "Epoch 8/10\n",
      "81/81 [==============================] - 6s 79ms/step - loss: 0.0021 - val_loss: 7.2572e-04\n",
      "Epoch 9/10\n",
      "81/81 [==============================] - 6s 77ms/step - loss: 0.0019 - val_loss: 7.9403e-04\n",
      "Epoch 10/10\n",
      "81/81 [==============================] - 6s 80ms/step - loss: 0.0019 - val_loss: 9.8137e-04\n",
      "✅ Saved model to EQT_gru_model.h5\n",
      "\n",
      "📈 Downloading data for EFX...\n"
     ]
    },
    {
     "name": "stderr",
     "output_type": "stream",
     "text": [
      "[*********************100%***********************]  1 of 1 completed\n"
     ]
    },
    {
     "name": "stdout",
     "output_type": "stream",
     "text": [
      "Training shape for EFX - X_train: (2571, 100, 1), X_test: (1102, 100, 1)\n",
      "Epoch 1/10\n",
      "81/81 [==============================] - 10s 86ms/step - loss: 0.0031 - val_loss: 6.0436e-04\n",
      "Epoch 2/10\n",
      "81/81 [==============================] - 6s 78ms/step - loss: 7.6357e-04 - val_loss: 5.5016e-04\n",
      "Epoch 3/10\n",
      "81/81 [==============================] - 6s 77ms/step - loss: 6.3221e-04 - val_loss: 0.0012\n",
      "Epoch 4/10\n",
      "81/81 [==============================] - 6s 79ms/step - loss: 5.9639e-04 - val_loss: 6.5258e-04\n",
      "Epoch 5/10\n",
      "81/81 [==============================] - 6s 77ms/step - loss: 4.9363e-04 - val_loss: 0.0032\n",
      "Epoch 6/10\n",
      "81/81 [==============================] - 6s 78ms/step - loss: 4.9547e-04 - val_loss: 6.8883e-04\n",
      "Epoch 7/10\n",
      "81/81 [==============================] - 7s 81ms/step - loss: 4.2919e-04 - val_loss: 5.4854e-04\n",
      "Epoch 8/10\n",
      "81/81 [==============================] - 7s 84ms/step - loss: 3.9563e-04 - val_loss: 0.0016\n",
      "Epoch 9/10\n",
      "81/81 [==============================] - 6s 80ms/step - loss: 4.2967e-04 - val_loss: 5.2850e-04\n",
      "Epoch 10/10\n",
      "81/81 [==============================] - 6s 79ms/step - loss: 4.3720e-04 - val_loss: 0.0022\n",
      "✅ Saved model to EFX_gru_model.h5\n",
      "\n",
      "📈 Downloading data for EQIX...\n"
     ]
    },
    {
     "name": "stderr",
     "output_type": "stream",
     "text": [
      "[*********************100%***********************]  1 of 1 completed\n"
     ]
    },
    {
     "name": "stdout",
     "output_type": "stream",
     "text": [
      "Training shape for EQIX - X_train: (2571, 100, 1), X_test: (1102, 100, 1)\n",
      "Epoch 1/10\n",
      "81/81 [==============================] - 10s 86ms/step - loss: 0.0037 - val_loss: 5.8423e-04\n",
      "Epoch 2/10\n",
      "81/81 [==============================] - 6s 79ms/step - loss: 9.3299e-04 - val_loss: 4.6062e-04\n",
      "Epoch 3/10\n",
      "81/81 [==============================] - 6s 77ms/step - loss: 7.9890e-04 - val_loss: 4.8058e-04\n",
      "Epoch 4/10\n",
      "81/81 [==============================] - 6s 79ms/step - loss: 6.3874e-04 - val_loss: 8.9901e-04\n",
      "Epoch 5/10\n",
      "81/81 [==============================] - 6s 77ms/step - loss: 5.7103e-04 - val_loss: 7.1394e-04\n",
      "Epoch 6/10\n",
      "81/81 [==============================] - 6s 79ms/step - loss: 5.7538e-04 - val_loss: 4.8844e-04\n",
      "Epoch 7/10\n",
      "81/81 [==============================] - 6s 78ms/step - loss: 4.7766e-04 - val_loss: 5.8926e-04\n",
      "Epoch 8/10\n",
      "81/81 [==============================] - 6s 80ms/step - loss: 4.8204e-04 - val_loss: 6.9496e-04\n",
      "Epoch 9/10\n",
      "81/81 [==============================] - 6s 79ms/step - loss: 4.6094e-04 - val_loss: 4.4697e-04\n",
      "Epoch 10/10\n",
      "81/81 [==============================] - 6s 80ms/step - loss: 4.8399e-04 - val_loss: 5.8414e-04\n",
      "✅ Saved model to EQIX_gru_model.h5\n",
      "\n",
      "📈 Downloading data for EQR...\n"
     ]
    },
    {
     "name": "stderr",
     "output_type": "stream",
     "text": [
      "[*********************100%***********************]  1 of 1 completed\n"
     ]
    },
    {
     "name": "stdout",
     "output_type": "stream",
     "text": [
      "Training shape for EQR - X_train: (2571, 100, 1), X_test: (1102, 100, 1)\n",
      "Epoch 1/10\n",
      "81/81 [==============================] - 11s 86ms/step - loss: 0.0162 - val_loss: 5.9039e-04\n",
      "Epoch 2/10\n",
      "81/81 [==============================] - 6s 77ms/step - loss: 0.0023 - val_loss: 4.6155e-04\n",
      "Epoch 3/10\n",
      "81/81 [==============================] - 6s 79ms/step - loss: 0.0020 - val_loss: 7.0566e-04\n",
      "Epoch 4/10\n",
      "81/81 [==============================] - 6s 79ms/step - loss: 0.0018 - val_loss: 4.6751e-04\n",
      "Epoch 5/10\n",
      "81/81 [==============================] - 6s 77ms/step - loss: 0.0016 - val_loss: 5.9896e-04\n",
      "Epoch 6/10\n",
      "81/81 [==============================] - 6s 80ms/step - loss: 0.0014 - val_loss: 0.0012\n",
      "Epoch 7/10\n",
      "81/81 [==============================] - 6s 78ms/step - loss: 0.0014 - val_loss: 8.6755e-04\n",
      "Epoch 8/10\n",
      "81/81 [==============================] - 6s 80ms/step - loss: 0.0012 - val_loss: 4.8774e-04\n",
      "Epoch 9/10\n",
      "81/81 [==============================] - 6s 77ms/step - loss: 0.0013 - val_loss: 5.3218e-04\n",
      "Epoch 10/10\n",
      "81/81 [==============================] - 6s 78ms/step - loss: 0.0012 - val_loss: 5.6903e-04\n",
      "✅ Saved model to EQR_gru_model.h5\n",
      "\n",
      "📈 Downloading data for ERIE...\n"
     ]
    },
    {
     "name": "stderr",
     "output_type": "stream",
     "text": [
      "[*********************100%***********************]  1 of 1 completed\n"
     ]
    },
    {
     "name": "stdout",
     "output_type": "stream",
     "text": [
      "Training shape for ERIE - X_train: (2571, 100, 1), X_test: (1102, 100, 1)\n",
      "Epoch 1/10\n",
      "81/81 [==============================] - 10s 86ms/step - loss: 0.0019 - val_loss: 4.4072e-04\n",
      "Epoch 2/10\n",
      "81/81 [==============================] - 6s 78ms/step - loss: 2.2008e-04 - val_loss: 2.6235e-04\n",
      "Epoch 3/10\n",
      "81/81 [==============================] - 6s 78ms/step - loss: 1.9924e-04 - val_loss: 2.8395e-04\n",
      "Epoch 4/10\n",
      "81/81 [==============================] - 7s 82ms/step - loss: 1.9166e-04 - val_loss: 5.1514e-04\n",
      "Epoch 5/10\n",
      "81/81 [==============================] - 6s 79ms/step - loss: 1.6342e-04 - val_loss: 2.4766e-04\n",
      "Epoch 6/10\n",
      "81/81 [==============================] - 6s 80ms/step - loss: 1.4764e-04 - val_loss: 6.9563e-04\n",
      "Epoch 7/10\n",
      "81/81 [==============================] - 6s 78ms/step - loss: 1.4670e-04 - val_loss: 0.0010\n",
      "Epoch 8/10\n",
      "81/81 [==============================] - 6s 78ms/step - loss: 1.2393e-04 - val_loss: 6.8559e-04\n",
      "Epoch 9/10\n",
      "81/81 [==============================] - 7s 82ms/step - loss: 1.2667e-04 - val_loss: 0.0011\n",
      "Epoch 10/10\n",
      "81/81 [==============================] - 6s 78ms/step - loss: 1.2854e-04 - val_loss: 2.2085e-04\n",
      "✅ Saved model to ERIE_gru_model.h5\n",
      "\n",
      "📈 Downloading data for ESS...\n"
     ]
    },
    {
     "name": "stderr",
     "output_type": "stream",
     "text": [
      "[*********************100%***********************]  1 of 1 completed\n"
     ]
    },
    {
     "name": "stdout",
     "output_type": "stream",
     "text": [
      "Training shape for ESS - X_train: (2571, 100, 1), X_test: (1102, 100, 1)\n",
      "Epoch 1/10\n",
      "81/81 [==============================] - 10s 86ms/step - loss: 0.0089 - val_loss: 4.5074e-04\n",
      "Epoch 2/10\n",
      "81/81 [==============================] - 6s 79ms/step - loss: 0.0022 - val_loss: 0.0013\n",
      "Epoch 3/10\n",
      "81/81 [==============================] - 6s 78ms/step - loss: 0.0017 - val_loss: 4.3273e-04\n",
      "Epoch 4/10\n",
      "81/81 [==============================] - 7s 84ms/step - loss: 0.0015 - val_loss: 0.0011\n",
      "Epoch 5/10\n",
      "81/81 [==============================] - 9s 110ms/step - loss: 0.0014 - val_loss: 4.4674e-04\n",
      "Epoch 6/10\n",
      "81/81 [==============================] - 8s 102ms/step - loss: 0.0013 - val_loss: 4.4465e-04\n",
      "Epoch 7/10\n",
      "81/81 [==============================] - 6s 79ms/step - loss: 0.0013 - val_loss: 4.3783e-04\n",
      "Epoch 8/10\n",
      "81/81 [==============================] - 6s 80ms/step - loss: 0.0011 - val_loss: 4.2197e-04\n",
      "Epoch 9/10\n",
      "81/81 [==============================] - 6s 79ms/step - loss: 0.0012 - val_loss: 4.4338e-04\n",
      "Epoch 10/10\n",
      "81/81 [==============================] - 6s 80ms/step - loss: 0.0011 - val_loss: 9.2705e-04\n",
      "✅ Saved model to ESS_gru_model.h5\n",
      "\n",
      "📈 Downloading data for EL...\n"
     ]
    },
    {
     "name": "stderr",
     "output_type": "stream",
     "text": [
      "[*********************100%***********************]  1 of 1 completed\n"
     ]
    },
    {
     "name": "stdout",
     "output_type": "stream",
     "text": [
      "Training shape for EL - X_train: (2571, 100, 1), X_test: (1102, 100, 1)\n",
      "Epoch 1/10\n",
      "81/81 [==============================] - 11s 88ms/step - loss: 0.0025 - val_loss: 0.0013\n",
      "Epoch 2/10\n",
      "81/81 [==============================] - 6s 79ms/step - loss: 6.1787e-04 - val_loss: 8.7638e-04\n",
      "Epoch 3/10\n",
      "81/81 [==============================] - 7s 81ms/step - loss: 5.4484e-04 - val_loss: 5.4589e-04\n",
      "Epoch 4/10\n",
      "81/81 [==============================] - 6s 79ms/step - loss: 5.1236e-04 - val_loss: 5.1342e-04\n",
      "Epoch 5/10\n",
      "81/81 [==============================] - 7s 81ms/step - loss: 4.7245e-04 - val_loss: 4.5428e-04\n",
      "Epoch 6/10\n",
      "81/81 [==============================] - 6s 80ms/step - loss: 4.2474e-04 - val_loss: 6.1433e-04\n",
      "Epoch 7/10\n",
      "81/81 [==============================] - 6s 79ms/step - loss: 4.1950e-04 - val_loss: 4.4342e-04\n",
      "Epoch 8/10\n",
      "81/81 [==============================] - 6s 79ms/step - loss: 3.8688e-04 - val_loss: 0.0012\n",
      "Epoch 9/10\n",
      "81/81 [==============================] - 6s 79ms/step - loss: 3.6046e-04 - val_loss: 5.2474e-04\n",
      "Epoch 10/10\n",
      "81/81 [==============================] - 6s 80ms/step - loss: 3.7911e-04 - val_loss: 3.6125e-04\n",
      "✅ Saved model to EL_gru_model.h5\n",
      "\n",
      "📈 Downloading data for EG...\n"
     ]
    },
    {
     "name": "stderr",
     "output_type": "stream",
     "text": [
      "[*********************100%***********************]  1 of 1 completed\n"
     ]
    },
    {
     "name": "stdout",
     "output_type": "stream",
     "text": [
      "Training shape for EG - X_train: (2571, 100, 1), X_test: (1102, 100, 1)\n",
      "Epoch 1/10\n",
      "81/81 [==============================] - 42s 125ms/step - loss: 0.0079 - val_loss: 4.5299e-04\n",
      "Epoch 2/10\n",
      "81/81 [==============================] - 8s 94ms/step - loss: 9.4916e-04 - val_loss: 4.4660e-04\n",
      "Epoch 3/10\n",
      "81/81 [==============================] - 8s 94ms/step - loss: 8.8325e-04 - val_loss: 7.2188e-04\n",
      "Epoch 4/10\n",
      "81/81 [==============================] - 8s 93ms/step - loss: 7.7080e-04 - val_loss: 7.6538e-04\n",
      "Epoch 5/10\n",
      "81/81 [==============================] - 8s 95ms/step - loss: 7.8780e-04 - val_loss: 6.1248e-04\n",
      "Epoch 6/10\n",
      "81/81 [==============================] - 7s 92ms/step - loss: 6.3162e-04 - val_loss: 4.3938e-04\n",
      "Epoch 7/10\n",
      "81/81 [==============================] - 8s 95ms/step - loss: 6.2380e-04 - val_loss: 5.9598e-04\n",
      "Epoch 8/10\n",
      "81/81 [==============================] - 8s 93ms/step - loss: 6.6119e-04 - val_loss: 4.6003e-04\n",
      "Epoch 9/10\n",
      "81/81 [==============================] - 7s 92ms/step - loss: 5.9195e-04 - val_loss: 6.9270e-04\n",
      "Epoch 10/10\n",
      "81/81 [==============================] - 7s 90ms/step - loss: 5.6396e-04 - val_loss: 0.0018\n",
      "✅ Saved model to EG_gru_model.h5\n",
      "\n",
      "📈 Downloading data for EVRG...\n"
     ]
    },
    {
     "name": "stderr",
     "output_type": "stream",
     "text": [
      "[*********************100%***********************]  1 of 1 completed\n"
     ]
    },
    {
     "name": "stdout",
     "output_type": "stream",
     "text": [
      "Training shape for EVRG - X_train: (2571, 100, 1), X_test: (1102, 100, 1)\n",
      "Epoch 1/10\n",
      "81/81 [==============================] - 15s 108ms/step - loss: 0.0077 - val_loss: 4.1375e-04\n",
      "Epoch 2/10\n",
      "81/81 [==============================] - 7s 91ms/step - loss: 0.0021 - val_loss: 4.4104e-04\n",
      "Epoch 3/10\n",
      "81/81 [==============================] - 7s 88ms/step - loss: 0.0017 - val_loss: 5.7573e-04\n",
      "Epoch 4/10\n",
      "81/81 [==============================] - 7s 87ms/step - loss: 0.0016 - val_loss: 6.8621e-04\n",
      "Epoch 5/10\n",
      "81/81 [==============================] - 7s 89ms/step - loss: 0.0016 - val_loss: 5.3032e-04\n",
      "Epoch 6/10\n",
      "81/81 [==============================] - 7s 88ms/step - loss: 0.0014 - val_loss: 3.9567e-04\n",
      "Epoch 7/10\n",
      "81/81 [==============================] - 7s 88ms/step - loss: 0.0012 - val_loss: 3.9514e-04\n",
      "Epoch 8/10\n",
      "81/81 [==============================] - 7s 89ms/step - loss: 0.0014 - val_loss: 0.0019\n",
      "Epoch 9/10\n",
      "81/81 [==============================] - 7s 91ms/step - loss: 0.0013 - val_loss: 4.7665e-04\n",
      "Epoch 10/10\n",
      "81/81 [==============================] - 7s 91ms/step - loss: 0.0013 - val_loss: 8.8488e-04\n",
      "✅ Saved model to EVRG_gru_model.h5\n",
      "\n",
      "📈 Downloading data for ES...\n"
     ]
    },
    {
     "name": "stderr",
     "output_type": "stream",
     "text": [
      "[*********************100%***********************]  1 of 1 completed\n"
     ]
    },
    {
     "name": "stdout",
     "output_type": "stream",
     "text": [
      "Training shape for ES - X_train: (2571, 100, 1), X_test: (1102, 100, 1)\n",
      "Epoch 1/10\n",
      "81/81 [==============================] - 15s 102ms/step - loss: 0.0147 - val_loss: 9.6973e-04\n",
      "Epoch 2/10\n",
      "81/81 [==============================] - 7s 86ms/step - loss: 0.0023 - val_loss: 9.3593e-04\n",
      "Epoch 3/10\n",
      "81/81 [==============================] - 7s 87ms/step - loss: 0.0018 - val_loss: 5.7368e-04\n",
      "Epoch 4/10\n",
      "81/81 [==============================] - 7s 87ms/step - loss: 0.0017 - val_loss: 9.0733e-04\n",
      "Epoch 5/10\n",
      "81/81 [==============================] - 7s 86ms/step - loss: 0.0017 - val_loss: 0.0021\n",
      "Epoch 6/10\n",
      "81/81 [==============================] - 7s 87ms/step - loss: 0.0016 - val_loss: 0.0010\n",
      "Epoch 7/10\n",
      "81/81 [==============================] - 7s 86ms/step - loss: 0.0014 - val_loss: 0.0013\n",
      "Epoch 8/10\n",
      "81/81 [==============================] - 7s 88ms/step - loss: 0.0012 - val_loss: 5.4027e-04\n",
      "Epoch 9/10\n",
      "81/81 [==============================] - 7s 85ms/step - loss: 0.0013 - val_loss: 0.0011\n",
      "Epoch 10/10\n",
      "81/81 [==============================] - 7s 88ms/step - loss: 0.0011 - val_loss: 5.1833e-04\n",
      "✅ Saved model to ES_gru_model.h5\n",
      "\n",
      "📈 Downloading data for EXC...\n"
     ]
    },
    {
     "name": "stderr",
     "output_type": "stream",
     "text": [
      "[*********************100%***********************]  1 of 1 completed\n"
     ]
    },
    {
     "name": "stdout",
     "output_type": "stream",
     "text": [
      "Training shape for EXC - X_train: (2571, 100, 1), X_test: (1102, 100, 1)\n",
      "Epoch 1/10\n",
      "81/81 [==============================] - 16s 108ms/step - loss: 0.0038 - val_loss: 0.0016\n",
      "Epoch 2/10\n",
      "81/81 [==============================] - 7s 85ms/step - loss: 7.8116e-04 - val_loss: 8.0600e-04\n",
      "Epoch 3/10\n",
      "81/81 [==============================] - 7s 84ms/step - loss: 6.4328e-04 - val_loss: 5.3223e-04\n",
      "Epoch 4/10\n",
      "81/81 [==============================] - 7s 85ms/step - loss: 5.9344e-04 - val_loss: 0.0013\n",
      "Epoch 5/10\n",
      "81/81 [==============================] - 7s 86ms/step - loss: 5.9564e-04 - val_loss: 4.9593e-04\n",
      "Epoch 6/10\n",
      "81/81 [==============================] - 7s 84ms/step - loss: 5.3570e-04 - val_loss: 0.0011\n",
      "Epoch 7/10\n",
      "81/81 [==============================] - 7s 85ms/step - loss: 5.3064e-04 - val_loss: 4.4558e-04\n",
      "Epoch 8/10\n",
      "81/81 [==============================] - 7s 84ms/step - loss: 4.6636e-04 - val_loss: 5.0043e-04\n",
      "Epoch 9/10\n",
      "81/81 [==============================] - 7s 86ms/step - loss: 4.4821e-04 - val_loss: 6.4455e-04\n",
      "Epoch 10/10\n",
      "81/81 [==============================] - 7s 84ms/step - loss: 4.1456e-04 - val_loss: 4.5044e-04\n",
      "✅ Saved model to EXC_gru_model.h5\n",
      "\n",
      "📈 Downloading data for EXE...\n"
     ]
    },
    {
     "name": "stderr",
     "output_type": "stream",
     "text": [
      "[*********************100%***********************]  1 of 1 completed\n"
     ]
    },
    {
     "name": "stdout",
     "output_type": "stream",
     "text": [
      "Training shape for EXE - X_train: (614, 100, 1), X_test: (264, 100, 1)\n",
      "Epoch 1/10\n",
      "20/20 [==============================] - 9s 135ms/step - loss: 0.0734 - val_loss: 0.0054\n",
      "Epoch 2/10\n",
      "20/20 [==============================] - 2s 86ms/step - loss: 0.0095 - val_loss: 0.0014\n",
      "Epoch 3/10\n",
      "20/20 [==============================] - 2s 88ms/step - loss: 0.0077 - val_loss: 0.0022\n",
      "Epoch 4/10\n",
      "20/20 [==============================] - 2s 82ms/step - loss: 0.0069 - val_loss: 0.0015\n",
      "Epoch 5/10\n",
      "20/20 [==============================] - 2s 96ms/step - loss: 0.0060 - val_loss: 0.0013\n",
      "Epoch 6/10\n",
      "20/20 [==============================] - 2s 85ms/step - loss: 0.0063 - val_loss: 0.0018\n",
      "Epoch 7/10\n",
      "20/20 [==============================] - 2s 90ms/step - loss: 0.0050 - val_loss: 0.0011\n",
      "Epoch 8/10\n",
      "20/20 [==============================] - 2s 84ms/step - loss: 0.0054 - val_loss: 0.0014\n",
      "Epoch 9/10\n",
      "20/20 [==============================] - 2s 86ms/step - loss: 0.0052 - val_loss: 0.0027\n",
      "Epoch 10/10\n",
      "20/20 [==============================] - 2s 87ms/step - loss: 0.0055 - val_loss: 0.0026\n",
      "✅ Saved model to EXE_gru_model.h5\n",
      "\n",
      "📈 Downloading data for EXPE...\n"
     ]
    },
    {
     "name": "stderr",
     "output_type": "stream",
     "text": [
      "[*********************100%***********************]  1 of 1 completed\n"
     ]
    },
    {
     "name": "stdout",
     "output_type": "stream",
     "text": [
      "Training shape for EXPE - X_train: (2571, 100, 1), X_test: (1102, 100, 1)\n",
      "Epoch 1/10\n",
      "81/81 [==============================] - 13s 95ms/step - loss: 0.0112 - val_loss: 8.8933e-04\n",
      "Epoch 2/10\n",
      "81/81 [==============================] - 7s 83ms/step - loss: 0.0017 - val_loss: 8.6208e-04\n",
      "Epoch 3/10\n",
      "81/81 [==============================] - 7s 81ms/step - loss: 0.0016 - val_loss: 0.0011\n",
      "Epoch 4/10\n",
      "81/81 [==============================] - 7s 81ms/step - loss: 0.0014 - val_loss: 9.5958e-04\n",
      "Epoch 5/10\n",
      "81/81 [==============================] - 7s 85ms/step - loss: 0.0012 - val_loss: 9.2691e-04\n",
      "Epoch 6/10\n",
      "81/81 [==============================] - 7s 84ms/step - loss: 0.0012 - val_loss: 7.5951e-04\n",
      "Epoch 7/10\n",
      "81/81 [==============================] - 7s 83ms/step - loss: 0.0011 - val_loss: 7.6584e-04\n",
      "Epoch 8/10\n",
      "81/81 [==============================] - 7s 83ms/step - loss: 0.0011 - val_loss: 8.2423e-04\n",
      "Epoch 9/10\n",
      "81/81 [==============================] - 7s 81ms/step - loss: 0.0011 - val_loss: 0.0012\n",
      "Epoch 10/10\n",
      "81/81 [==============================] - 7s 84ms/step - loss: 8.8659e-04 - val_loss: 8.5998e-04\n",
      "✅ Saved model to EXPE_gru_model.h5\n",
      "\n",
      "📈 Downloading data for EXPD...\n"
     ]
    },
    {
     "name": "stderr",
     "output_type": "stream",
     "text": [
      "[*********************100%***********************]  1 of 1 completed\n"
     ]
    },
    {
     "name": "stdout",
     "output_type": "stream",
     "text": [
      "Training shape for EXPD - X_train: (2571, 100, 1), X_test: (1102, 100, 1)\n",
      "Epoch 1/10\n",
      "81/81 [==============================] - 13s 94ms/step - loss: 0.0034 - val_loss: 6.5869e-04\n",
      "Epoch 2/10\n",
      "81/81 [==============================] - 7s 84ms/step - loss: 7.3276e-04 - val_loss: 6.2602e-04\n",
      "Epoch 3/10\n",
      "81/81 [==============================] - 7s 83ms/step - loss: 6.0324e-04 - val_loss: 6.2515e-04\n",
      "Epoch 4/10\n",
      "81/81 [==============================] - 7s 85ms/step - loss: 6.1058e-04 - val_loss: 9.1423e-04\n",
      "Epoch 5/10\n",
      "81/81 [==============================] - 7s 86ms/step - loss: 5.0248e-04 - val_loss: 5.7551e-04\n",
      "Epoch 6/10\n",
      "81/81 [==============================] - 7s 83ms/step - loss: 4.7050e-04 - val_loss: 6.5176e-04\n",
      "Epoch 7/10\n",
      "81/81 [==============================] - 7s 83ms/step - loss: 5.0271e-04 - val_loss: 7.9721e-04\n",
      "Epoch 8/10\n",
      "81/81 [==============================] - 7s 83ms/step - loss: 4.6064e-04 - val_loss: 5.1088e-04\n",
      "Epoch 9/10\n",
      "81/81 [==============================] - 7s 82ms/step - loss: 4.1093e-04 - val_loss: 4.8597e-04\n",
      "Epoch 10/10\n",
      "81/81 [==============================] - 7s 83ms/step - loss: 3.5673e-04 - val_loss: 5.1851e-04\n",
      "✅ Saved model to EXPD_gru_model.h5\n",
      "\n",
      "📈 Downloading data for EXR...\n"
     ]
    },
    {
     "name": "stderr",
     "output_type": "stream",
     "text": [
      "[*********************100%***********************]  1 of 1 completed\n"
     ]
    },
    {
     "name": "stdout",
     "output_type": "stream",
     "text": [
      "Training shape for EXR - X_train: (2571, 100, 1), X_test: (1102, 100, 1)\n",
      "Epoch 1/10\n",
      "81/81 [==============================] - 13s 92ms/step - loss: 0.0051 - val_loss: 0.0014\n",
      "Epoch 2/10\n",
      "81/81 [==============================] - 7s 81ms/step - loss: 6.8394e-04 - val_loss: 6.3153e-04\n",
      "Epoch 3/10\n",
      "81/81 [==============================] - 7s 81ms/step - loss: 5.9243e-04 - val_loss: 4.8042e-04\n",
      "Epoch 4/10\n",
      "81/81 [==============================] - 7s 83ms/step - loss: 5.3286e-04 - val_loss: 0.0015\n",
      "Epoch 5/10\n",
      "81/81 [==============================] - 7s 84ms/step - loss: 4.9996e-04 - val_loss: 7.7130e-04\n",
      "Epoch 6/10\n",
      "81/81 [==============================] - 7s 82ms/step - loss: 4.5107e-04 - val_loss: 6.6247e-04\n",
      "Epoch 7/10\n",
      "81/81 [==============================] - 7s 84ms/step - loss: 4.2149e-04 - val_loss: 4.4279e-04\n",
      "Epoch 8/10\n",
      "81/81 [==============================] - 7s 82ms/step - loss: 4.3181e-04 - val_loss: 5.8941e-04\n",
      "Epoch 9/10\n",
      "81/81 [==============================] - 8s 94ms/step - loss: 3.5923e-04 - val_loss: 5.0327e-04\n",
      "Epoch 10/10\n",
      "81/81 [==============================] - 7s 92ms/step - loss: 3.7156e-04 - val_loss: 5.4207e-04\n",
      "✅ Saved model to EXR_gru_model.h5\n",
      "\n",
      "📈 Downloading data for XOM...\n"
     ]
    },
    {
     "name": "stderr",
     "output_type": "stream",
     "text": [
      "[*********************100%***********************]  1 of 1 completed\n"
     ]
    },
    {
     "name": "stdout",
     "output_type": "stream",
     "text": [
      "Training shape for XOM - X_train: (2571, 100, 1), X_test: (1102, 100, 1)\n",
      "Epoch 1/10\n",
      "81/81 [==============================] - 13s 93ms/step - loss: 0.0081 - val_loss: 0.0143\n",
      "Epoch 2/10\n",
      "81/81 [==============================] - 6s 79ms/step - loss: 0.0010 - val_loss: 0.0010\n",
      "Epoch 3/10\n",
      "81/81 [==============================] - 7s 81ms/step - loss: 8.4249e-04 - val_loss: 5.1535e-04\n",
      "Epoch 4/10\n",
      "81/81 [==============================] - 6s 78ms/step - loss: 7.2714e-04 - val_loss: 7.7204e-04\n",
      "Epoch 5/10\n",
      "81/81 [==============================] - 7s 81ms/step - loss: 6.7695e-04 - val_loss: 6.9057e-04\n",
      "Epoch 6/10\n",
      "81/81 [==============================] - 6s 79ms/step - loss: 6.3444e-04 - val_loss: 4.7281e-04\n",
      "Epoch 7/10\n",
      "81/81 [==============================] - 7s 81ms/step - loss: 5.7194e-04 - val_loss: 7.9455e-04\n",
      "Epoch 8/10\n",
      "81/81 [==============================] - 7s 86ms/step - loss: 5.6856e-04 - val_loss: 4.5991e-04\n",
      "Epoch 9/10\n",
      "81/81 [==============================] - 7s 82ms/step - loss: 5.3015e-04 - val_loss: 6.0840e-04\n",
      "Epoch 10/10\n",
      "81/81 [==============================] - 7s 82ms/step - loss: 5.1664e-04 - val_loss: 6.9900e-04\n",
      "✅ Saved model to XOM_gru_model.h5\n",
      "\n",
      "📈 Downloading data for FFIV...\n"
     ]
    },
    {
     "name": "stderr",
     "output_type": "stream",
     "text": [
      "[*********************100%***********************]  1 of 1 completed\n"
     ]
    },
    {
     "name": "stdout",
     "output_type": "stream",
     "text": [
      "Training shape for FFIV - X_train: (2571, 100, 1), X_test: (1102, 100, 1)\n",
      "Epoch 1/10\n",
      "81/81 [==============================] - 13s 100ms/step - loss: 0.0082 - val_loss: 7.2871e-04\n",
      "Epoch 2/10\n",
      "81/81 [==============================] - 7s 86ms/step - loss: 0.0016 - val_loss: 5.2003e-04\n",
      "Epoch 3/10\n",
      "81/81 [==============================] - 6s 80ms/step - loss: 0.0014 - val_loss: 5.0165e-04\n",
      "Epoch 4/10\n",
      "81/81 [==============================] - 7s 81ms/step - loss: 0.0013 - val_loss: 0.0016\n",
      "Epoch 5/10\n",
      "81/81 [==============================] - 7s 83ms/step - loss: 0.0013 - val_loss: 4.7106e-04\n",
      "Epoch 6/10\n",
      "81/81 [==============================] - 7s 82ms/step - loss: 0.0011 - val_loss: 5.1436e-04\n",
      "Epoch 7/10\n",
      "81/81 [==============================] - 7s 83ms/step - loss: 0.0010 - val_loss: 4.4092e-04\n",
      "Epoch 8/10\n",
      "81/81 [==============================] - 7s 87ms/step - loss: 9.1370e-04 - val_loss: 4.1612e-04\n",
      "Epoch 9/10\n",
      "81/81 [==============================] - 7s 92ms/step - loss: 9.6996e-04 - val_loss: 9.4205e-04\n",
      "Epoch 10/10\n",
      "81/81 [==============================] - 6s 79ms/step - loss: 8.9732e-04 - val_loss: 6.9192e-04\n",
      "✅ Saved model to FFIV_gru_model.h5\n",
      "\n",
      "📈 Downloading data for FDS...\n"
     ]
    },
    {
     "name": "stderr",
     "output_type": "stream",
     "text": [
      "[*********************100%***********************]  1 of 1 completed\n"
     ]
    },
    {
     "name": "stdout",
     "output_type": "stream",
     "text": [
      "Training shape for FDS - X_train: (2571, 100, 1), X_test: (1102, 100, 1)\n",
      "Epoch 1/10\n",
      "81/81 [==============================] - 12s 89ms/step - loss: 0.0041 - val_loss: 0.0012\n",
      "Epoch 2/10\n",
      "81/81 [==============================] - 7s 81ms/step - loss: 6.9443e-04 - val_loss: 0.0012\n",
      "Epoch 3/10\n",
      "81/81 [==============================] - 6s 79ms/step - loss: 6.6205e-04 - val_loss: 6.2507e-04\n",
      "Epoch 4/10\n",
      "81/81 [==============================] - 7s 82ms/step - loss: 5.7477e-04 - val_loss: 4.9243e-04\n",
      "Epoch 5/10\n",
      "81/81 [==============================] - 7s 81ms/step - loss: 5.2600e-04 - val_loss: 0.0012\n",
      "Epoch 6/10\n",
      "81/81 [==============================] - 7s 81ms/step - loss: 4.7934e-04 - val_loss: 5.2521e-04\n",
      "Epoch 7/10\n",
      "81/81 [==============================] - 6s 80ms/step - loss: 4.4216e-04 - val_loss: 8.6995e-04\n",
      "Epoch 8/10\n",
      "81/81 [==============================] - 6s 80ms/step - loss: 4.3326e-04 - val_loss: 6.0765e-04\n",
      "Epoch 9/10\n",
      "81/81 [==============================] - 7s 81ms/step - loss: 4.2870e-04 - val_loss: 0.0017\n",
      "Epoch 10/10\n",
      "81/81 [==============================] - 6s 79ms/step - loss: 3.9255e-04 - val_loss: 3.7262e-04\n",
      "✅ Saved model to FDS_gru_model.h5\n",
      "\n",
      "📈 Downloading data for FICO...\n"
     ]
    },
    {
     "name": "stderr",
     "output_type": "stream",
     "text": [
      "[*********************100%***********************]  1 of 1 completed\n"
     ]
    },
    {
     "name": "stdout",
     "output_type": "stream",
     "text": [
      "Training shape for FICO - X_train: (2571, 100, 1), X_test: (1102, 100, 1)\n",
      "Epoch 1/10\n",
      "81/81 [==============================] - 12s 89ms/step - loss: 3.2689e-04 - val_loss: 3.2491e-04\n",
      "Epoch 2/10\n",
      "81/81 [==============================] - 6s 79ms/step - loss: 5.0117e-05 - val_loss: 1.8851e-04\n",
      "Epoch 3/10\n",
      "81/81 [==============================] - 6s 79ms/step - loss: 4.1920e-05 - val_loss: 3.6448e-04\n",
      "Epoch 4/10\n",
      "81/81 [==============================] - 6s 80ms/step - loss: 4.0581e-05 - val_loss: 2.0751e-04\n",
      "Epoch 5/10\n",
      "81/81 [==============================] - 7s 80ms/step - loss: 3.8039e-05 - val_loss: 5.7844e-04\n",
      "Epoch 6/10\n",
      "81/81 [==============================] - 6s 79ms/step - loss: 3.6266e-05 - val_loss: 2.0016e-04\n",
      "Epoch 7/10\n",
      "81/81 [==============================] - 7s 81ms/step - loss: 3.5233e-05 - val_loss: 3.0860e-04\n",
      "Epoch 8/10\n",
      "81/81 [==============================] - 6s 80ms/step - loss: 2.8012e-05 - val_loss: 1.7371e-04\n",
      "Epoch 9/10\n",
      "81/81 [==============================] - 6s 79ms/step - loss: 3.1976e-05 - val_loss: 1.5269e-04\n",
      "Epoch 10/10\n",
      "81/81 [==============================] - 6s 78ms/step - loss: 2.8358e-05 - val_loss: 3.3543e-04\n"
     ]
    },
    {
     "name": "stderr",
     "output_type": "stream",
     "text": [
      "Failed to get ticker 'FAST' reason: ('Connection aborted.', RemoteDisconnected('Remote end closed connection without response'))\n",
      "[*********************100%***********************]  1 of 1 completed\n",
      "\n",
      "1 Failed download:\n",
      "['FAST']: YFTzMissingError('possibly delisted; no timezone found')\n"
     ]
    },
    {
     "name": "stdout",
     "output_type": "stream",
     "text": [
      "✅ Saved model to FICO_gru_model.h5\n",
      "\n",
      "📈 Downloading data for FAST...\n",
      "Skipping FAST due to insufficient data.\n",
      "\n",
      "📈 Downloading data for FRT...\n"
     ]
    },
    {
     "name": "stderr",
     "output_type": "stream",
     "text": [
      "[*********************100%***********************]  1 of 1 completed\n"
     ]
    },
    {
     "name": "stdout",
     "output_type": "stream",
     "text": [
      "Training shape for FRT - X_train: (2571, 100, 1), X_test: (1102, 100, 1)\n",
      "Epoch 1/10\n",
      "81/81 [==============================] - 14s 111ms/step - loss: 0.0236 - val_loss: 7.7657e-04\n",
      "Epoch 2/10\n",
      "81/81 [==============================] - 7s 87ms/step - loss: 0.0042 - val_loss: 7.3160e-04\n",
      "Epoch 3/10\n",
      "81/81 [==============================] - 6s 80ms/step - loss: 0.0037 - val_loss: 8.9128e-04\n",
      "Epoch 4/10\n",
      "81/81 [==============================] - 7s 83ms/step - loss: 0.0030 - val_loss: 0.0016\n",
      "Epoch 5/10\n",
      "81/81 [==============================] - 7s 82ms/step - loss: 0.0028 - val_loss: 0.0019\n",
      "Epoch 6/10\n",
      "81/81 [==============================] - 7s 88ms/step - loss: 0.0026 - val_loss: 9.5829e-04\n",
      "Epoch 7/10\n",
      "81/81 [==============================] - 7s 91ms/step - loss: 0.0028 - val_loss: 0.0022\n",
      "Epoch 8/10\n",
      "81/81 [==============================] - 7s 81ms/step - loss: 0.0026 - val_loss: 9.7446e-04\n",
      "Epoch 9/10\n",
      "81/81 [==============================] - 6s 80ms/step - loss: 0.0025 - val_loss: 7.0818e-04\n",
      "Epoch 10/10\n",
      "81/81 [==============================] - 7s 81ms/step - loss: 0.0023 - val_loss: 0.0013\n",
      "✅ Saved model to FRT_gru_model.h5\n",
      "\n",
      "📈 Downloading data for FDX...\n"
     ]
    },
    {
     "name": "stderr",
     "output_type": "stream",
     "text": [
      "[*********************100%***********************]  1 of 1 completed\n"
     ]
    },
    {
     "name": "stdout",
     "output_type": "stream",
     "text": [
      "Training shape for FDX - X_train: (2571, 100, 1), X_test: (1102, 100, 1)\n",
      "Epoch 1/10\n",
      "81/81 [==============================] - 12s 93ms/step - loss: 0.0100 - val_loss: 7.5890e-04\n",
      "Epoch 2/10\n",
      "81/81 [==============================] - 7s 81ms/step - loss: 0.0014 - val_loss: 9.2992e-04\n",
      "Epoch 3/10\n",
      "81/81 [==============================] - 6s 79ms/step - loss: 0.0011 - val_loss: 8.2120e-04\n",
      "Epoch 4/10\n",
      "81/81 [==============================] - 7s 82ms/step - loss: 0.0011 - val_loss: 0.0010\n",
      "Epoch 5/10\n",
      "81/81 [==============================] - 6s 79ms/step - loss: 0.0011 - val_loss: 0.0018\n",
      "Epoch 6/10\n",
      "81/81 [==============================] - 7s 86ms/step - loss: 9.7546e-04 - val_loss: 6.5918e-04\n",
      "Epoch 7/10\n",
      "81/81 [==============================] - 7s 83ms/step - loss: 8.8760e-04 - val_loss: 7.1378e-04\n",
      "Epoch 8/10\n",
      "81/81 [==============================] - 7s 81ms/step - loss: 9.3606e-04 - val_loss: 6.2286e-04\n",
      "Epoch 9/10\n",
      "81/81 [==============================] - 7s 82ms/step - loss: 8.5726e-04 - val_loss: 6.0079e-04\n",
      "Epoch 10/10\n",
      "81/81 [==============================] - 7s 81ms/step - loss: 7.5566e-04 - val_loss: 6.8367e-04\n",
      "✅ Saved model to FDX_gru_model.h5\n",
      "\n",
      "📈 Downloading data for FIS...\n"
     ]
    },
    {
     "name": "stderr",
     "output_type": "stream",
     "text": [
      "[*********************100%***********************]  1 of 1 completed\n"
     ]
    },
    {
     "name": "stdout",
     "output_type": "stream",
     "text": [
      "Training shape for FIS - X_train: (2571, 100, 1), X_test: (1102, 100, 1)\n",
      "Epoch 1/10\n",
      "81/81 [==============================] - 13s 91ms/step - loss: 0.0098 - val_loss: 8.1067e-04\n",
      "Epoch 2/10\n",
      "81/81 [==============================] - 6s 78ms/step - loss: 0.0020 - val_loss: 5.1930e-04\n",
      "Epoch 3/10\n",
      "81/81 [==============================] - 6s 79ms/step - loss: 0.0017 - val_loss: 0.0015\n",
      "Epoch 4/10\n",
      "81/81 [==============================] - 6s 80ms/step - loss: 0.0016 - val_loss: 5.2379e-04\n",
      "Epoch 5/10\n",
      "81/81 [==============================] - 6s 80ms/step - loss: 0.0015 - val_loss: 5.0500e-04\n",
      "Epoch 6/10\n",
      "81/81 [==============================] - 6s 80ms/step - loss: 0.0013 - val_loss: 8.6128e-04\n",
      "Epoch 7/10\n",
      "81/81 [==============================] - 6s 78ms/step - loss: 0.0012 - val_loss: 0.0010\n",
      "Epoch 8/10\n",
      "81/81 [==============================] - 6s 80ms/step - loss: 0.0013 - val_loss: 7.2840e-04\n",
      "Epoch 9/10\n",
      "81/81 [==============================] - 6s 79ms/step - loss: 0.0011 - val_loss: 4.9919e-04\n",
      "Epoch 10/10\n",
      "81/81 [==============================] - 6s 79ms/step - loss: 0.0012 - val_loss: 9.6383e-04\n",
      "✅ Saved model to FIS_gru_model.h5\n",
      "\n",
      "📈 Downloading data for FITB...\n"
     ]
    },
    {
     "name": "stderr",
     "output_type": "stream",
     "text": [
      "[*********************100%***********************]  1 of 1 completed\n"
     ]
    },
    {
     "name": "stdout",
     "output_type": "stream",
     "text": [
      "Training shape for FITB - X_train: (2571, 100, 1), X_test: (1102, 100, 1)\n",
      "Epoch 1/10\n",
      "81/81 [==============================] - 12s 90ms/step - loss: 0.0081 - val_loss: 6.6679e-04\n",
      "Epoch 2/10\n",
      "81/81 [==============================] - 7s 81ms/step - loss: 7.9555e-04 - val_loss: 6.3595e-04\n",
      "Epoch 3/10\n",
      "81/81 [==============================] - 6s 79ms/step - loss: 7.4866e-04 - val_loss: 9.2282e-04\n",
      "Epoch 4/10\n",
      "81/81 [==============================] - 7s 81ms/step - loss: 6.6112e-04 - val_loss: 0.0013\n",
      "Epoch 5/10\n",
      "81/81 [==============================] - 6s 79ms/step - loss: 6.1031e-04 - val_loss: 6.8541e-04\n",
      "Epoch 6/10\n",
      "81/81 [==============================] - 7s 89ms/step - loss: 5.6855e-04 - val_loss: 7.4374e-04\n",
      "Epoch 7/10\n",
      "81/81 [==============================] - 6s 79ms/step - loss: 5.2326e-04 - val_loss: 7.5310e-04\n",
      "Epoch 8/10\n",
      "81/81 [==============================] - 7s 81ms/step - loss: 5.0029e-04 - val_loss: 6.4537e-04\n",
      "Epoch 9/10\n",
      "81/81 [==============================] - 6s 79ms/step - loss: 4.4904e-04 - val_loss: 8.2560e-04\n",
      "Epoch 10/10\n",
      "81/81 [==============================] - 6s 79ms/step - loss: 4.6569e-04 - val_loss: 9.4717e-04\n",
      "✅ Saved model to FITB_gru_model.h5\n",
      "\n",
      "📈 Downloading data for FSLR...\n"
     ]
    },
    {
     "name": "stderr",
     "output_type": "stream",
     "text": [
      "[*********************100%***********************]  1 of 1 completed\n"
     ]
    },
    {
     "name": "stdout",
     "output_type": "stream",
     "text": [
      "Training shape for FSLR - X_train: (2571, 100, 1), X_test: (1102, 100, 1)\n",
      "Epoch 1/10\n",
      "81/81 [==============================] - 12s 96ms/step - loss: 0.0027 - val_loss: 7.1734e-04\n",
      "Epoch 2/10\n",
      "81/81 [==============================] - 7s 81ms/step - loss: 4.8709e-04 - val_loss: 6.8714e-04\n",
      "Epoch 3/10\n",
      "81/81 [==============================] - 7s 81ms/step - loss: 4.8797e-04 - val_loss: 7.4204e-04\n",
      "Epoch 4/10\n",
      "81/81 [==============================] - 6s 80ms/step - loss: 3.8166e-04 - val_loss: 9.3589e-04\n",
      "Epoch 5/10\n",
      "81/81 [==============================] - 7s 81ms/step - loss: 3.3751e-04 - val_loss: 6.1841e-04\n",
      "Epoch 6/10\n",
      "81/81 [==============================] - 6s 79ms/step - loss: 3.3371e-04 - val_loss: 6.3189e-04\n",
      "Epoch 7/10\n",
      "81/81 [==============================] - 7s 81ms/step - loss: 3.0945e-04 - val_loss: 7.3724e-04\n",
      "Epoch 8/10\n",
      "81/81 [==============================] - 6s 79ms/step - loss: 3.0494e-04 - val_loss: 8.1893e-04\n",
      "Epoch 9/10\n",
      "81/81 [==============================] - 6s 80ms/step - loss: 3.1204e-04 - val_loss: 5.7759e-04\n",
      "Epoch 10/10\n",
      "81/81 [==============================] - 7s 82ms/step - loss: 2.7258e-04 - val_loss: 7.8872e-04\n",
      "✅ Saved model to FSLR_gru_model.h5\n",
      "\n",
      "📈 Downloading data for FE...\n"
     ]
    },
    {
     "name": "stderr",
     "output_type": "stream",
     "text": [
      "[*********************100%***********************]  1 of 1 completed\n"
     ]
    },
    {
     "name": "stdout",
     "output_type": "stream",
     "text": [
      "Training shape for FE - X_train: (2571, 100, 1), X_test: (1102, 100, 1)\n",
      "Epoch 1/10\n",
      "81/81 [==============================] - 12s 91ms/step - loss: 0.0115 - val_loss: 0.0016\n",
      "Epoch 2/10\n",
      "81/81 [==============================] - 6s 79ms/step - loss: 0.0018 - val_loss: 6.5598e-04\n",
      "Epoch 3/10\n",
      "81/81 [==============================] - 7s 81ms/step - loss: 0.0017 - val_loss: 6.8904e-04\n",
      "Epoch 4/10\n",
      "81/81 [==============================] - 6s 79ms/step - loss: 0.0016 - val_loss: 0.0011\n",
      "Epoch 5/10\n",
      "81/81 [==============================] - 6s 80ms/step - loss: 0.0015 - val_loss: 7.0172e-04\n",
      "Epoch 6/10\n",
      "81/81 [==============================] - 6s 79ms/step - loss: 0.0014 - val_loss: 5.1438e-04\n",
      "Epoch 7/10\n",
      "81/81 [==============================] - 7s 83ms/step - loss: 0.0014 - val_loss: 4.8408e-04\n",
      "Epoch 8/10\n",
      "81/81 [==============================] - 7s 83ms/step - loss: 0.0014 - val_loss: 4.8409e-04\n",
      "Epoch 9/10\n",
      "81/81 [==============================] - 6s 78ms/step - loss: 0.0012 - val_loss: 4.5601e-04\n",
      "Epoch 10/10\n",
      "81/81 [==============================] - 6s 79ms/step - loss: 0.0012 - val_loss: 4.2375e-04\n",
      "✅ Saved model to FE_gru_model.h5\n",
      "\n",
      "📈 Downloading data for FI...\n"
     ]
    },
    {
     "name": "stderr",
     "output_type": "stream",
     "text": [
      "[*********************100%***********************]  1 of 1 completed\n"
     ]
    },
    {
     "name": "stdout",
     "output_type": "stream",
     "text": [
      "Training shape for FI - X_train: (2571, 100, 1), X_test: (1102, 100, 1)\n",
      "Epoch 1/10\n",
      "81/81 [==============================] - 12s 93ms/step - loss: 0.0023 - val_loss: 2.6040e-04\n",
      "Epoch 2/10\n",
      "81/81 [==============================] - 6s 80ms/step - loss: 5.2411e-04 - val_loss: 5.9062e-04\n",
      "Epoch 3/10\n",
      "81/81 [==============================] - 6s 79ms/step - loss: 4.7785e-04 - val_loss: 1.8148e-04\n",
      "Epoch 4/10\n",
      "81/81 [==============================] - 6s 80ms/step - loss: 4.7016e-04 - val_loss: 7.7823e-04\n",
      "Epoch 5/10\n",
      "81/81 [==============================] - 6s 79ms/step - loss: 3.9332e-04 - val_loss: 7.4823e-04\n",
      "Epoch 6/10\n",
      "81/81 [==============================] - 7s 82ms/step - loss: 3.8578e-04 - val_loss: 3.0695e-04\n",
      "Epoch 7/10\n",
      "81/81 [==============================] - 6s 78ms/step - loss: 3.9862e-04 - val_loss: 6.5735e-04\n",
      "Epoch 8/10\n",
      "81/81 [==============================] - 7s 81ms/step - loss: 3.1097e-04 - val_loss: 2.5981e-04\n",
      "Epoch 9/10\n",
      "81/81 [==============================] - 6s 80ms/step - loss: 3.1366e-04 - val_loss: 2.4556e-04\n",
      "Epoch 10/10\n",
      "81/81 [==============================] - 7s 85ms/step - loss: 3.0327e-04 - val_loss: 5.3426e-04\n",
      "✅ Saved model to FI_gru_model.h5\n",
      "\n",
      "📈 Downloading data for F...\n"
     ]
    },
    {
     "name": "stderr",
     "output_type": "stream",
     "text": [
      "[*********************100%***********************]  1 of 1 completed\n"
     ]
    },
    {
     "name": "stdout",
     "output_type": "stream",
     "text": [
      "Training shape for F - X_train: (2571, 100, 1), X_test: (1102, 100, 1)\n",
      "Epoch 1/10\n",
      "81/81 [==============================] - 14s 119ms/step - loss: 0.0070 - val_loss: 0.0039\n",
      "Epoch 2/10\n",
      "81/81 [==============================] - 7s 82ms/step - loss: 8.7689e-04 - val_loss: 8.6732e-04\n",
      "Epoch 3/10\n",
      "81/81 [==============================] - 7s 84ms/step - loss: 7.4616e-04 - val_loss: 8.7650e-04\n",
      "Epoch 4/10\n",
      "81/81 [==============================] - 6s 80ms/step - loss: 6.4451e-04 - val_loss: 7.8798e-04\n",
      "Epoch 5/10\n",
      "81/81 [==============================] - 7s 81ms/step - loss: 6.0851e-04 - val_loss: 9.4786e-04\n",
      "Epoch 6/10\n",
      "81/81 [==============================] - 7s 81ms/step - loss: 5.4851e-04 - val_loss: 7.7922e-04\n",
      "Epoch 7/10\n",
      "81/81 [==============================] - 6s 79ms/step - loss: 5.2486e-04 - val_loss: 6.5189e-04\n",
      "Epoch 8/10\n",
      "81/81 [==============================] - 6s 80ms/step - loss: 5.2710e-04 - val_loss: 0.0012\n",
      "Epoch 9/10\n",
      "81/81 [==============================] - 6s 79ms/step - loss: 5.0433e-04 - val_loss: 6.5687e-04\n",
      "Epoch 10/10\n",
      "81/81 [==============================] - 7s 81ms/step - loss: 4.4614e-04 - val_loss: 6.9542e-04\n",
      "✅ Saved model to F_gru_model.h5\n",
      "\n",
      "📈 Downloading data for FTNT...\n"
     ]
    },
    {
     "name": "stderr",
     "output_type": "stream",
     "text": [
      "[*********************100%***********************]  1 of 1 completed\n"
     ]
    },
    {
     "name": "stdout",
     "output_type": "stream",
     "text": [
      "Training shape for FTNT - X_train: (2571, 100, 1), X_test: (1102, 100, 1)\n",
      "Epoch 1/10\n",
      "81/81 [==============================] - 12s 91ms/step - loss: 5.2859e-04 - val_loss: 6.4795e-04\n",
      "Epoch 2/10\n",
      "81/81 [==============================] - 6s 80ms/step - loss: 1.2605e-04 - val_loss: 0.0012\n",
      "Epoch 3/10\n",
      "81/81 [==============================] - 7s 82ms/step - loss: 1.1145e-04 - val_loss: 0.0015\n",
      "Epoch 4/10\n",
      "81/81 [==============================] - 7s 82ms/step - loss: 9.8018e-05 - val_loss: 5.2715e-04\n",
      "Epoch 5/10\n",
      "81/81 [==============================] - 7s 81ms/step - loss: 8.4031e-05 - val_loss: 0.0012\n",
      "Epoch 6/10\n",
      "81/81 [==============================] - 7s 81ms/step - loss: 7.4876e-05 - val_loss: 6.6389e-04\n",
      "Epoch 7/10\n",
      "81/81 [==============================] - 6s 79ms/step - loss: 7.2866e-05 - val_loss: 5.5834e-04\n",
      "Epoch 8/10\n",
      "81/81 [==============================] - 8s 95ms/step - loss: 6.6341e-05 - val_loss: 0.0011\n",
      "Epoch 9/10\n",
      "81/81 [==============================] - 7s 82ms/step - loss: 6.1897e-05 - val_loss: 6.0023e-04\n",
      "Epoch 10/10\n",
      "81/81 [==============================] - 6s 79ms/step - loss: 5.3871e-05 - val_loss: 4.6724e-04\n",
      "✅ Saved model to FTNT_gru_model.h5\n",
      "\n",
      "📈 Downloading data for FTV...\n"
     ]
    },
    {
     "name": "stderr",
     "output_type": "stream",
     "text": [
      "[*********************100%***********************]  1 of 1 completed\n"
     ]
    },
    {
     "name": "stdout",
     "output_type": "stream",
     "text": [
      "Training shape for FTV - X_train: (1425, 100, 1), X_test: (612, 100, 1)\n",
      "Epoch 1/10\n",
      "45/45 [==============================] - 9s 101ms/step - loss: 0.0426 - val_loss: 0.0027\n",
      "Epoch 2/10\n",
      "45/45 [==============================] - 4s 82ms/step - loss: 0.0057 - val_loss: 0.0021\n",
      "Epoch 3/10\n",
      "45/45 [==============================] - 4s 82ms/step - loss: 0.0036 - val_loss: 0.0019\n",
      "Epoch 4/10\n",
      "45/45 [==============================] - 4s 82ms/step - loss: 0.0035 - val_loss: 8.9929e-04\n",
      "Epoch 5/10\n",
      "45/45 [==============================] - 4s 81ms/step - loss: 0.0031 - val_loss: 8.3865e-04\n",
      "Epoch 6/10\n",
      "45/45 [==============================] - 4s 81ms/step - loss: 0.0031 - val_loss: 0.0010\n",
      "Epoch 7/10\n",
      "45/45 [==============================] - 4s 82ms/step - loss: 0.0030 - val_loss: 8.5848e-04\n",
      "Epoch 8/10\n",
      "45/45 [==============================] - 4s 79ms/step - loss: 0.0025 - val_loss: 8.4147e-04\n",
      "Epoch 9/10\n",
      "45/45 [==============================] - 4s 83ms/step - loss: 0.0027 - val_loss: 7.7525e-04\n",
      "Epoch 10/10\n",
      "45/45 [==============================] - 4s 83ms/step - loss: 0.0028 - val_loss: 0.0028\n",
      "✅ Saved model to FTV_gru_model.h5\n",
      "\n",
      "📈 Downloading data for FOXA...\n"
     ]
    },
    {
     "name": "stderr",
     "output_type": "stream",
     "text": [
      "[*********************100%***********************]  1 of 1 completed\n"
     ]
    },
    {
     "name": "stdout",
     "output_type": "stream",
     "text": [
      "Training shape for FOXA - X_train: (953, 100, 1), X_test: (409, 100, 1)\n",
      "Epoch 1/10\n",
      "30/30 [==============================] - 8s 111ms/step - loss: 0.0309 - val_loss: 0.0118\n",
      "Epoch 2/10\n",
      "30/30 [==============================] - 2s 83ms/step - loss: 0.0057 - val_loss: 0.0026\n",
      "Epoch 3/10\n",
      "30/30 [==============================] - 2s 80ms/step - loss: 0.0037 - val_loss: 0.0012\n",
      "Epoch 4/10\n",
      "30/30 [==============================] - 2s 83ms/step - loss: 0.0032 - val_loss: 9.9124e-04\n",
      "Epoch 5/10\n",
      "30/30 [==============================] - 2s 78ms/step - loss: 0.0029 - val_loss: 5.5148e-04\n",
      "Epoch 6/10\n",
      "30/30 [==============================] - 3s 90ms/step - loss: 0.0030 - val_loss: 9.4347e-04\n",
      "Epoch 7/10\n",
      "30/30 [==============================] - 3s 84ms/step - loss: 0.0027 - val_loss: 5.6602e-04\n",
      "Epoch 8/10\n",
      "30/30 [==============================] - 3s 84ms/step - loss: 0.0026 - val_loss: 5.8293e-04\n",
      "Epoch 9/10\n",
      "30/30 [==============================] - 2s 83ms/step - loss: 0.0026 - val_loss: 8.9516e-04\n",
      "Epoch 10/10\n",
      "30/30 [==============================] - 2s 79ms/step - loss: 0.0026 - val_loss: 6.9650e-04\n",
      "✅ Saved model to FOXA_gru_model.h5\n",
      "\n",
      "📈 Downloading data for FOX...\n"
     ]
    },
    {
     "name": "stderr",
     "output_type": "stream",
     "text": [
      "[*********************100%***********************]  1 of 1 completed\n"
     ]
    },
    {
     "name": "stdout",
     "output_type": "stream",
     "text": [
      "Training shape for FOX - X_train: (952, 100, 1), X_test: (409, 100, 1)\n",
      "Epoch 1/10\n",
      "30/30 [==============================] - 8s 112ms/step - loss: 0.0339 - val_loss: 0.0121\n",
      "Epoch 2/10\n",
      "30/30 [==============================] - 3s 94ms/step - loss: 0.0053 - val_loss: 0.0037\n",
      "Epoch 3/10\n",
      "30/30 [==============================] - 4s 131ms/step - loss: 0.0037 - val_loss: 0.0014\n",
      "Epoch 4/10\n",
      "30/30 [==============================] - 3s 91ms/step - loss: 0.0034 - val_loss: 6.1260e-04\n",
      "Epoch 5/10\n",
      "30/30 [==============================] - 2s 81ms/step - loss: 0.0032 - val_loss: 7.3808e-04\n",
      "Epoch 6/10\n",
      "30/30 [==============================] - 3s 86ms/step - loss: 0.0027 - val_loss: 7.1429e-04\n",
      "Epoch 7/10\n",
      "30/30 [==============================] - 2s 80ms/step - loss: 0.0026 - val_loss: 5.3299e-04\n",
      "Epoch 8/10\n",
      "30/30 [==============================] - 2s 80ms/step - loss: 0.0028 - val_loss: 5.7011e-04\n",
      "Epoch 9/10\n",
      "30/30 [==============================] - 3s 84ms/step - loss: 0.0026 - val_loss: 8.6962e-04\n",
      "Epoch 10/10\n",
      "30/30 [==============================] - 2s 77ms/step - loss: 0.0026 - val_loss: 5.1636e-04\n",
      "✅ Saved model to FOX_gru_model.h5\n",
      "\n",
      "📈 Downloading data for BEN...\n"
     ]
    },
    {
     "name": "stderr",
     "output_type": "stream",
     "text": [
      "[*********************100%***********************]  1 of 1 completed\n"
     ]
    },
    {
     "name": "stdout",
     "output_type": "stream",
     "text": [
      "Training shape for BEN - X_train: (2571, 100, 1), X_test: (1102, 100, 1)\n",
      "Epoch 1/10\n",
      "81/81 [==============================] - 12s 91ms/step - loss: 0.0318 - val_loss: 0.0013\n",
      "Epoch 2/10\n",
      "81/81 [==============================] - 7s 80ms/step - loss: 0.0045 - val_loss: 8.6531e-04\n",
      "Epoch 3/10\n",
      "81/81 [==============================] - 7s 81ms/step - loss: 0.0039 - val_loss: 8.5062e-04\n",
      "Epoch 4/10\n",
      "81/81 [==============================] - 6s 80ms/step - loss: 0.0035 - val_loss: 9.7150e-04\n",
      "Epoch 5/10\n",
      "81/81 [==============================] - 7s 81ms/step - loss: 0.0034 - val_loss: 9.0200e-04\n",
      "Epoch 6/10\n",
      "81/81 [==============================] - 6s 80ms/step - loss: 0.0030 - val_loss: 7.7584e-04\n",
      "Epoch 7/10\n",
      "81/81 [==============================] - 7s 81ms/step - loss: 0.0029 - val_loss: 9.5144e-04\n",
      "Epoch 8/10\n",
      "81/81 [==============================] - 6s 79ms/step - loss: 0.0028 - val_loss: 8.0009e-04\n",
      "Epoch 9/10\n",
      "81/81 [==============================] - 7s 81ms/step - loss: 0.0029 - val_loss: 9.1257e-04\n",
      "Epoch 10/10\n",
      "81/81 [==============================] - 7s 81ms/step - loss: 0.0025 - val_loss: 7.6804e-04\n",
      "✅ Saved model to BEN_gru_model.h5\n",
      "\n",
      "📈 Downloading data for FCX...\n"
     ]
    },
    {
     "name": "stderr",
     "output_type": "stream",
     "text": [
      "[*********************100%***********************]  1 of 1 completed\n"
     ]
    },
    {
     "name": "stdout",
     "output_type": "stream",
     "text": [
      "Training shape for FCX - X_train: (2571, 100, 1), X_test: (1102, 100, 1)\n",
      "Epoch 1/10\n",
      "81/81 [==============================] - 12s 90ms/step - loss: 0.0139 - val_loss: 9.8009e-04\n",
      "Epoch 2/10\n",
      "81/81 [==============================] - 6s 80ms/step - loss: 0.0019 - val_loss: 0.0018\n",
      "Epoch 3/10\n",
      "81/81 [==============================] - 7s 82ms/step - loss: 0.0016 - val_loss: 0.0012\n",
      "Epoch 4/10\n",
      "81/81 [==============================] - 6s 79ms/step - loss: 0.0015 - val_loss: 8.3185e-04\n",
      "Epoch 5/10\n",
      "81/81 [==============================] - 7s 82ms/step - loss: 0.0014 - val_loss: 9.4330e-04\n",
      "Epoch 6/10\n",
      "81/81 [==============================] - 7s 82ms/step - loss: 0.0013 - val_loss: 0.0012\n",
      "Epoch 7/10\n",
      "81/81 [==============================] - 7s 81ms/step - loss: 0.0012 - val_loss: 0.0013\n",
      "Epoch 8/10\n",
      "81/81 [==============================] - 7s 80ms/step - loss: 0.0012 - val_loss: 7.7237e-04\n",
      "Epoch 9/10\n",
      "81/81 [==============================] - 6s 79ms/step - loss: 0.0010 - val_loss: 0.0030\n",
      "Epoch 10/10\n",
      "81/81 [==============================] - 6s 80ms/step - loss: 0.0011 - val_loss: 7.1602e-04\n",
      "✅ Saved model to FCX_gru_model.h5\n",
      "\n",
      "📈 Downloading data for GRMN...\n"
     ]
    },
    {
     "name": "stderr",
     "output_type": "stream",
     "text": [
      "[*********************100%***********************]  1 of 1 completed\n"
     ]
    },
    {
     "name": "stdout",
     "output_type": "stream",
     "text": [
      "Training shape for GRMN - X_train: (2571, 100, 1), X_test: (1102, 100, 1)\n",
      "Epoch 1/10\n",
      "81/81 [==============================] - 12s 90ms/step - loss: 0.0014 - val_loss: 3.8067e-04\n",
      "Epoch 2/10\n",
      "81/81 [==============================] - 6s 79ms/step - loss: 2.7806e-04 - val_loss: 8.5570e-04\n",
      "Epoch 3/10\n",
      "81/81 [==============================] - 7s 82ms/step - loss: 2.1655e-04 - val_loss: 9.3121e-04\n",
      "Epoch 4/10\n",
      "81/81 [==============================] - 7s 81ms/step - loss: 2.1288e-04 - val_loss: 6.6420e-04\n",
      "Epoch 5/10\n",
      "81/81 [==============================] - 6s 79ms/step - loss: 2.0295e-04 - val_loss: 2.8812e-04\n",
      "Epoch 6/10\n",
      "81/81 [==============================] - 6s 80ms/step - loss: 1.8430e-04 - val_loss: 6.0942e-04\n",
      "Epoch 7/10\n",
      "81/81 [==============================] - 6s 79ms/step - loss: 1.7070e-04 - val_loss: 9.7398e-04\n",
      "Epoch 8/10\n",
      "81/81 [==============================] - 7s 81ms/step - loss: 1.5889e-04 - val_loss: 2.8211e-04\n",
      "Epoch 9/10\n",
      "81/81 [==============================] - 6s 80ms/step - loss: 1.4844e-04 - val_loss: 0.0014\n",
      "Epoch 10/10\n",
      "81/81 [==============================] - 6s 79ms/step - loss: 1.4180e-04 - val_loss: 2.7099e-04\n",
      "✅ Saved model to GRMN_gru_model.h5\n",
      "\n",
      "📈 Downloading data for IT...\n"
     ]
    },
    {
     "name": "stderr",
     "output_type": "stream",
     "text": [
      "[*********************100%***********************]  1 of 1 completed\n"
     ]
    },
    {
     "name": "stdout",
     "output_type": "stream",
     "text": [
      "Training shape for IT - X_train: (2571, 100, 1), X_test: (1102, 100, 1)\n",
      "Epoch 1/10\n",
      "81/81 [==============================] - 12s 89ms/step - loss: 0.0013 - val_loss: 6.3359e-04\n",
      "Epoch 2/10\n",
      "81/81 [==============================] - 6s 80ms/step - loss: 2.1419e-04 - val_loss: 6.9695e-04\n",
      "Epoch 3/10\n",
      "81/81 [==============================] - 6s 77ms/step - loss: 1.9243e-04 - val_loss: 6.5277e-04\n",
      "Epoch 4/10\n",
      "81/81 [==============================] - 6s 80ms/step - loss: 1.8032e-04 - val_loss: 2.8559e-04\n",
      "Epoch 5/10\n",
      "81/81 [==============================] - 7s 82ms/step - loss: 1.7569e-04 - val_loss: 3.8427e-04\n",
      "Epoch 6/10\n",
      "81/81 [==============================] - 7s 84ms/step - loss: 1.4604e-04 - val_loss: 8.9170e-04\n",
      "Epoch 7/10\n",
      "81/81 [==============================] - 6s 80ms/step - loss: 1.3415e-04 - val_loss: 4.3058e-04\n",
      "Epoch 8/10\n",
      "81/81 [==============================] - 6s 79ms/step - loss: 1.2757e-04 - val_loss: 3.7649e-04\n",
      "Epoch 9/10\n",
      "81/81 [==============================] - 7s 81ms/step - loss: 1.1870e-04 - val_loss: 5.0972e-04\n",
      "Epoch 10/10\n",
      "81/81 [==============================] - 6s 78ms/step - loss: 1.1702e-04 - val_loss: 4.0015e-04\n",
      "✅ Saved model to IT_gru_model.h5\n",
      "\n",
      "📈 Downloading data for GE...\n"
     ]
    },
    {
     "name": "stderr",
     "output_type": "stream",
     "text": [
      "[*********************100%***********************]  1 of 1 completed\n"
     ]
    },
    {
     "name": "stdout",
     "output_type": "stream",
     "text": [
      "Training shape for GE - X_train: (2571, 100, 1), X_test: (1102, 100, 1)\n",
      "Epoch 1/10\n",
      "81/81 [==============================] - 12s 92ms/step - loss: 0.0156 - val_loss: 3.4413e-04\n",
      "Epoch 2/10\n",
      "81/81 [==============================] - 6s 79ms/step - loss: 0.0017 - val_loss: 3.5871e-04\n",
      "Epoch 3/10\n",
      "81/81 [==============================] - 6s 80ms/step - loss: 0.0015 - val_loss: 3.6884e-04\n",
      "Epoch 4/10\n",
      "81/81 [==============================] - 6s 79ms/step - loss: 0.0013 - val_loss: 6.4818e-04\n",
      "Epoch 5/10\n",
      "81/81 [==============================] - 6s 80ms/step - loss: 0.0013 - val_loss: 2.5036e-04\n",
      "Epoch 6/10\n",
      "81/81 [==============================] - 6s 80ms/step - loss: 0.0012 - val_loss: 2.4707e-04\n",
      "Epoch 7/10\n",
      "81/81 [==============================] - 7s 81ms/step - loss: 0.0012 - val_loss: 2.2978e-04\n",
      "Epoch 8/10\n",
      "81/81 [==============================] - 6s 79ms/step - loss: 0.0012 - val_loss: 2.9441e-04\n",
      "Epoch 9/10\n",
      "81/81 [==============================] - 7s 82ms/step - loss: 9.7496e-04 - val_loss: 2.9661e-04\n",
      "Epoch 10/10\n",
      "81/81 [==============================] - 7s 85ms/step - loss: 9.4221e-04 - val_loss: 3.5364e-04\n",
      "✅ Saved model to GE_gru_model.h5\n",
      "\n",
      "📈 Downloading data for GEHC...\n"
     ]
    },
    {
     "name": "stderr",
     "output_type": "stream",
     "text": [
      "[*********************100%***********************]  1 of 1 completed\n"
     ]
    },
    {
     "name": "stdout",
     "output_type": "stream",
     "text": [
      "Training shape for GEHC - X_train: (288, 100, 1), X_test: (124, 100, 1)\n",
      "Epoch 1/10\n",
      "9/9 [==============================] - 5s 173ms/step - loss: 0.1103 - val_loss: 0.0091\n",
      "Epoch 2/10\n",
      "9/9 [==============================] - 1s 60ms/step - loss: 0.0309 - val_loss: 0.0040\n",
      "Epoch 3/10\n",
      "9/9 [==============================] - 1s 70ms/step - loss: 0.0152 - val_loss: 0.0279\n",
      "Epoch 4/10\n",
      "9/9 [==============================] - 1s 67ms/step - loss: 0.0128 - val_loss: 0.0024\n",
      "Epoch 5/10\n",
      "9/9 [==============================] - 1s 75ms/step - loss: 0.0102 - val_loss: 0.0027\n",
      "Epoch 6/10\n",
      "9/9 [==============================] - 1s 70ms/step - loss: 0.0092 - val_loss: 0.0065\n",
      "Epoch 7/10\n",
      "9/9 [==============================] - 1s 77ms/step - loss: 0.0087 - val_loss: 0.0028\n",
      "Epoch 8/10\n",
      "9/9 [==============================] - 1s 66ms/step - loss: 0.0081 - val_loss: 0.0032\n",
      "Epoch 9/10\n",
      "9/9 [==============================] - 1s 68ms/step - loss: 0.0072 - val_loss: 0.0021\n",
      "Epoch 10/10\n",
      "9/9 [==============================] - 1s 85ms/step - loss: 0.0067 - val_loss: 0.0031\n",
      "✅ Saved model to GEHC_gru_model.h5\n",
      "\n",
      "📈 Downloading data for GEV...\n"
     ]
    },
    {
     "name": "stderr",
     "output_type": "stream",
     "text": [
      "[*********************100%***********************]  1 of 1 completed\n"
     ]
    },
    {
     "name": "stdout",
     "output_type": "stream",
     "text": [
      "Training shape for GEV - X_train: (62, 100, 1), X_test: (28, 100, 1)\n",
      "Epoch 1/10\n",
      "2/2 [==============================] - 5s 925ms/step - loss: 0.4140 - val_loss: 0.7192\n",
      "Epoch 2/10\n",
      "2/2 [==============================] - 0s 121ms/step - loss: 0.2917 - val_loss: 0.4785\n",
      "Epoch 3/10\n",
      "2/2 [==============================] - 0s 151ms/step - loss: 0.1827 - val_loss: 0.2839\n",
      "Epoch 4/10\n",
      "2/2 [==============================] - 0s 142ms/step - loss: 0.1046 - val_loss: 0.1316\n",
      "Epoch 5/10\n",
      "2/2 [==============================] - 0s 131ms/step - loss: 0.0449 - val_loss: 0.0330\n",
      "Epoch 6/10\n",
      "2/2 [==============================] - 0s 142ms/step - loss: 0.0123 - val_loss: 0.0014\n",
      "Epoch 7/10\n",
      "2/2 [==============================] - 0s 131ms/step - loss: 0.0213 - val_loss: 0.0214\n",
      "Epoch 8/10\n",
      "2/2 [==============================] - 0s 128ms/step - loss: 0.0407 - val_loss: 0.0318\n",
      "Epoch 9/10\n",
      "2/2 [==============================] - 0s 142ms/step - loss: 0.0484 - val_loss: 0.0169\n",
      "Epoch 10/10\n",
      "2/2 [==============================] - 0s 153ms/step - loss: 0.0244 - val_loss: 0.0034\n",
      "✅ Saved model to GEV_gru_model.h5\n",
      "\n",
      "📈 Downloading data for GEN...\n"
     ]
    },
    {
     "name": "stderr",
     "output_type": "stream",
     "text": [
      "[*********************100%***********************]  1 of 1 completed\n"
     ]
    },
    {
     "name": "stdout",
     "output_type": "stream",
     "text": [
      "Training shape for GEN - X_train: (2571, 100, 1), X_test: (1102, 100, 1)\n",
      "Epoch 1/10\n",
      "81/81 [==============================] - 12s 89ms/step - loss: 0.0028 - val_loss: 7.8950e-04\n",
      "Epoch 2/10\n",
      "81/81 [==============================] - 6s 79ms/step - loss: 6.7440e-04 - val_loss: 5.7857e-04\n",
      "Epoch 3/10\n",
      "81/81 [==============================] - 6s 79ms/step - loss: 5.6980e-04 - val_loss: 0.0010\n",
      "Epoch 4/10\n",
      "81/81 [==============================] - 6s 79ms/step - loss: 5.4965e-04 - val_loss: 7.2073e-04\n",
      "Epoch 5/10\n",
      "81/81 [==============================] - 6s 80ms/step - loss: 5.0801e-04 - val_loss: 5.2325e-04\n",
      "Epoch 6/10\n",
      "81/81 [==============================] - 6s 79ms/step - loss: 4.6501e-04 - val_loss: 4.9832e-04\n",
      "Epoch 7/10\n",
      "81/81 [==============================] - 6s 79ms/step - loss: 4.8076e-04 - val_loss: 4.6150e-04\n",
      "Epoch 8/10\n",
      "81/81 [==============================] - 6s 78ms/step - loss: 4.0374e-04 - val_loss: 4.5272e-04\n",
      "Epoch 9/10\n",
      "81/81 [==============================] - 6s 80ms/step - loss: 4.0089e-04 - val_loss: 4.4031e-04\n",
      "Epoch 10/10\n",
      "81/81 [==============================] - 6s 78ms/step - loss: 3.7887e-04 - val_loss: 4.2592e-04\n",
      "✅ Saved model to GEN_gru_model.h5\n",
      "\n",
      "📈 Downloading data for GNRC...\n"
     ]
    },
    {
     "name": "stderr",
     "output_type": "stream",
     "text": [
      "[*********************100%***********************]  1 of 1 completed\n"
     ]
    },
    {
     "name": "stdout",
     "output_type": "stream",
     "text": [
      "Training shape for GNRC - X_train: (2552, 100, 1), X_test: (1094, 100, 1)\n",
      "Epoch 1/10\n",
      "80/80 [==============================] - 12s 92ms/step - loss: 6.4853e-04 - val_loss: 5.2426e-04\n",
      "Epoch 2/10\n",
      "80/80 [==============================] - 6s 79ms/step - loss: 8.7702e-05 - val_loss: 5.0150e-04\n",
      "Epoch 3/10\n",
      "80/80 [==============================] - 6s 79ms/step - loss: 8.4790e-05 - val_loss: 5.8885e-04\n",
      "Epoch 4/10\n",
      "80/80 [==============================] - 6s 79ms/step - loss: 7.2046e-05 - val_loss: 5.0834e-04\n",
      "Epoch 5/10\n",
      "80/80 [==============================] - 6s 78ms/step - loss: 7.7437e-05 - val_loss: 5.3805e-04\n",
      "Epoch 6/10\n",
      "80/80 [==============================] - 6s 79ms/step - loss: 5.7774e-05 - val_loss: 5.2552e-04\n",
      "Epoch 7/10\n",
      "80/80 [==============================] - 6s 81ms/step - loss: 6.2515e-05 - val_loss: 6.8230e-04\n",
      "Epoch 8/10\n",
      "80/80 [==============================] - 7s 84ms/step - loss: 5.7526e-05 - val_loss: 4.8737e-04\n",
      "Epoch 9/10\n",
      "80/80 [==============================] - 7s 88ms/step - loss: 6.0957e-05 - val_loss: 5.0984e-04\n",
      "Epoch 10/10\n",
      "80/80 [==============================] - 7s 93ms/step - loss: 4.9715e-05 - val_loss: 6.0160e-04\n",
      "✅ Saved model to GNRC_gru_model.h5\n",
      "\n",
      "📈 Downloading data for GD...\n"
     ]
    },
    {
     "name": "stderr",
     "output_type": "stream",
     "text": [
      "[*********************100%***********************]  1 of 1 completed\n"
     ]
    },
    {
     "name": "stdout",
     "output_type": "stream",
     "text": [
      "Training shape for GD - X_train: (2571, 100, 1), X_test: (1102, 100, 1)\n",
      "Epoch 1/10\n",
      "81/81 [==============================] - 53s 168ms/step - loss: 0.0063 - val_loss: 4.1088e-04\n",
      "Epoch 2/10\n",
      "81/81 [==============================] - 9s 112ms/step - loss: 0.0011 - val_loss: 4.0899e-04\n",
      "Epoch 3/10\n",
      "81/81 [==============================] - 9s 107ms/step - loss: 8.6893e-04 - val_loss: 2.1797e-04\n",
      "Epoch 4/10\n",
      "81/81 [==============================] - 9s 108ms/step - loss: 7.4683e-04 - val_loss: 2.2573e-04\n",
      "Epoch 5/10\n",
      "81/81 [==============================] - 9s 108ms/step - loss: 6.8230e-04 - val_loss: 0.0012\n",
      "Epoch 6/10\n",
      "81/81 [==============================] - 10s 118ms/step - loss: 7.1698e-04 - val_loss: 2.6974e-04\n",
      "Epoch 7/10\n",
      "81/81 [==============================] - 9s 109ms/step - loss: 6.2132e-04 - val_loss: 4.2440e-04\n",
      "Epoch 8/10\n",
      "81/81 [==============================] - 9s 107ms/step - loss: 5.9172e-04 - val_loss: 8.0358e-04\n",
      "Epoch 9/10\n",
      "81/81 [==============================] - 8s 104ms/step - loss: 5.9440e-04 - val_loss: 3.2282e-04\n",
      "Epoch 10/10\n",
      "81/81 [==============================] - 8s 103ms/step - loss: 5.8757e-04 - val_loss: 2.0542e-04\n",
      "✅ Saved model to GD_gru_model.h5\n",
      "\n",
      "📈 Downloading data for GIS...\n"
     ]
    },
    {
     "name": "stderr",
     "output_type": "stream",
     "text": [
      "[*********************100%***********************]  1 of 1 completed\n"
     ]
    },
    {
     "name": "stdout",
     "output_type": "stream",
     "text": [
      "Training shape for GIS - X_train: (2571, 100, 1), X_test: (1102, 100, 1)\n",
      "Epoch 1/10\n",
      "81/81 [==============================] - 16s 115ms/step - loss: 0.0068 - val_loss: 3.8287e-04\n",
      "Epoch 2/10\n",
      "81/81 [==============================] - 8s 99ms/step - loss: 8.4417e-04 - val_loss: 6.8753e-04\n",
      "Epoch 3/10\n",
      "81/81 [==============================] - 8s 97ms/step - loss: 7.0587e-04 - val_loss: 4.1937e-04\n",
      "Epoch 4/10\n",
      "81/81 [==============================] - 8s 99ms/step - loss: 6.7562e-04 - val_loss: 5.5815e-04\n",
      "Epoch 5/10\n",
      "81/81 [==============================] - 8s 99ms/step - loss: 6.3084e-04 - val_loss: 7.6731e-04\n",
      "Epoch 6/10\n",
      "81/81 [==============================] - 8s 100ms/step - loss: 6.1810e-04 - val_loss: 4.1569e-04\n",
      "Epoch 7/10\n",
      "81/81 [==============================] - 8s 97ms/step - loss: 5.5972e-04 - val_loss: 4.9652e-04\n",
      "Epoch 8/10\n",
      "81/81 [==============================] - 8s 98ms/step - loss: 5.7394e-04 - val_loss: 4.4361e-04\n",
      "Epoch 9/10\n",
      "81/81 [==============================] - 8s 98ms/step - loss: 5.5499e-04 - val_loss: 3.6041e-04\n",
      "Epoch 10/10\n",
      "81/81 [==============================] - 8s 98ms/step - loss: 5.3177e-04 - val_loss: 3.2067e-04\n",
      "✅ Saved model to GIS_gru_model.h5\n",
      "\n",
      "📈 Downloading data for GM...\n"
     ]
    },
    {
     "name": "stderr",
     "output_type": "stream",
     "text": [
      "[*********************100%***********************]  1 of 1 completed\n"
     ]
    },
    {
     "name": "stdout",
     "output_type": "stream",
     "text": [
      "Training shape for GM - X_train: (2415, 100, 1), X_test: (1036, 100, 1)\n",
      "Epoch 1/10\n",
      "76/76 [==============================] - 15s 111ms/step - loss: 0.0050 - val_loss: 0.0017\n",
      "Epoch 2/10\n",
      "76/76 [==============================] - 7s 93ms/step - loss: 0.0011 - val_loss: 9.4867e-04\n",
      "Epoch 3/10\n",
      "76/76 [==============================] - 7s 93ms/step - loss: 9.6424e-04 - val_loss: 8.9461e-04\n",
      "Epoch 4/10\n",
      "76/76 [==============================] - 7s 94ms/step - loss: 8.6053e-04 - val_loss: 0.0010\n",
      "Epoch 5/10\n",
      "76/76 [==============================] - 7s 93ms/step - loss: 7.5961e-04 - val_loss: 9.7154e-04\n",
      "Epoch 6/10\n",
      "76/76 [==============================] - 7s 93ms/step - loss: 7.2570e-04 - val_loss: 8.3899e-04\n",
      "Epoch 7/10\n",
      "76/76 [==============================] - 7s 97ms/step - loss: 7.8946e-04 - val_loss: 7.4367e-04\n",
      "Epoch 8/10\n",
      "76/76 [==============================] - 7s 95ms/step - loss: 7.2566e-04 - val_loss: 8.8787e-04\n",
      "Epoch 9/10\n",
      "76/76 [==============================] - 7s 93ms/step - loss: 6.5248e-04 - val_loss: 6.7084e-04\n",
      "Epoch 10/10\n",
      "76/76 [==============================] - 7s 96ms/step - loss: 5.8033e-04 - val_loss: 6.9853e-04\n",
      "✅ Saved model to GM_gru_model.h5\n",
      "\n",
      "📈 Downloading data for GPC...\n"
     ]
    },
    {
     "name": "stderr",
     "output_type": "stream",
     "text": [
      "[*********************100%***********************]  1 of 1 completed\n"
     ]
    },
    {
     "name": "stdout",
     "output_type": "stream",
     "text": [
      "Training shape for GPC - X_train: (2571, 100, 1), X_test: (1102, 100, 1)\n",
      "Epoch 1/10\n",
      "81/81 [==============================] - 15s 104ms/step - loss: 0.0070 - val_loss: 4.6786e-04\n",
      "Epoch 2/10\n",
      "81/81 [==============================] - 7s 93ms/step - loss: 9.2486e-04 - val_loss: 4.8590e-04\n",
      "Epoch 3/10\n",
      "81/81 [==============================] - 7s 92ms/step - loss: 7.6312e-04 - val_loss: 5.9075e-04\n",
      "Epoch 4/10\n",
      "81/81 [==============================] - 8s 95ms/step - loss: 6.6801e-04 - val_loss: 4.9464e-04\n",
      "Epoch 5/10\n",
      "81/81 [==============================] - 7s 89ms/step - loss: 6.1346e-04 - val_loss: 0.0010\n",
      "Epoch 6/10\n",
      "81/81 [==============================] - 7s 92ms/step - loss: 6.1320e-04 - val_loss: 5.5137e-04\n",
      "Epoch 7/10\n",
      "81/81 [==============================] - 7s 90ms/step - loss: 5.5022e-04 - val_loss: 9.3324e-04\n",
      "Epoch 8/10\n",
      "81/81 [==============================] - 7s 90ms/step - loss: 5.4147e-04 - val_loss: 5.0008e-04\n",
      "Epoch 9/10\n",
      "81/81 [==============================] - 7s 89ms/step - loss: 4.7655e-04 - val_loss: 4.4568e-04\n",
      "Epoch 10/10\n",
      "81/81 [==============================] - 7s 90ms/step - loss: 4.8825e-04 - val_loss: 6.6382e-04\n",
      "✅ Saved model to GPC_gru_model.h5\n",
      "\n",
      "📈 Downloading data for GILD...\n"
     ]
    },
    {
     "name": "stderr",
     "output_type": "stream",
     "text": [
      "[*********************100%***********************]  1 of 1 completed\n"
     ]
    },
    {
     "name": "stdout",
     "output_type": "stream",
     "text": [
      "Training shape for GILD - X_train: (2571, 100, 1), X_test: (1102, 100, 1)\n",
      "Epoch 1/10\n",
      "81/81 [==============================] - 14s 104ms/step - loss: 0.0158 - val_loss: 4.5765e-04\n",
      "Epoch 2/10\n",
      "81/81 [==============================] - 7s 89ms/step - loss: 0.0030 - val_loss: 2.8742e-04\n",
      "Epoch 3/10\n",
      "81/81 [==============================] - 7s 87ms/step - loss: 0.0025 - val_loss: 0.0014\n",
      "Epoch 4/10\n",
      "81/81 [==============================] - 7s 91ms/step - loss: 0.0022 - val_loss: 2.8404e-04\n",
      "Epoch 5/10\n",
      "81/81 [==============================] - 7s 89ms/step - loss: 0.0020 - val_loss: 6.6659e-04\n",
      "Epoch 6/10\n",
      "81/81 [==============================] - 7s 87ms/step - loss: 0.0019 - val_loss: 7.3568e-04\n",
      "Epoch 7/10\n",
      "81/81 [==============================] - 7s 86ms/step - loss: 0.0018 - val_loss: 3.2504e-04\n",
      "Epoch 8/10\n",
      "81/81 [==============================] - 7s 89ms/step - loss: 0.0017 - val_loss: 4.1448e-04\n",
      "Epoch 9/10\n",
      "81/81 [==============================] - 8s 95ms/step - loss: 0.0017 - val_loss: 2.6395e-04\n",
      "Epoch 10/10\n",
      "81/81 [==============================] - 7s 88ms/step - loss: 0.0016 - val_loss: 3.3500e-04\n",
      "✅ Saved model to GILD_gru_model.h5\n",
      "\n",
      "📈 Downloading data for GPN...\n"
     ]
    },
    {
     "name": "stderr",
     "output_type": "stream",
     "text": [
      "[*********************100%***********************]  1 of 1 completed\n"
     ]
    },
    {
     "name": "stdout",
     "output_type": "stream",
     "text": [
      "Training shape for GPN - X_train: (2571, 100, 1), X_test: (1102, 100, 1)\n",
      "Epoch 1/10\n",
      "81/81 [==============================] - 14s 102ms/step - loss: 0.0071 - val_loss: 5.8650e-04\n",
      "Epoch 2/10\n",
      "81/81 [==============================] - 7s 86ms/step - loss: 0.0017 - val_loss: 0.0012\n",
      "Epoch 3/10\n",
      "81/81 [==============================] - 7s 88ms/step - loss: 0.0013 - val_loss: 7.8016e-04\n",
      "Epoch 4/10\n",
      "81/81 [==============================] - 7s 86ms/step - loss: 0.0015 - val_loss: 8.4442e-04\n",
      "Epoch 5/10\n",
      "81/81 [==============================] - 7s 86ms/step - loss: 0.0011 - val_loss: 5.0235e-04\n",
      "Epoch 6/10\n",
      "81/81 [==============================] - 7s 87ms/step - loss: 0.0011 - val_loss: 4.2928e-04\n",
      "Epoch 7/10\n",
      "81/81 [==============================] - 7s 85ms/step - loss: 0.0010 - val_loss: 4.8269e-04\n",
      "Epoch 8/10\n",
      "81/81 [==============================] - 7s 86ms/step - loss: 0.0010 - val_loss: 0.0011\n",
      "Epoch 9/10\n",
      "81/81 [==============================] - 7s 86ms/step - loss: 9.1436e-04 - val_loss: 5.2462e-04\n",
      "Epoch 10/10\n",
      "81/81 [==============================] - 7s 84ms/step - loss: 9.4288e-04 - val_loss: 4.1750e-04\n",
      "✅ Saved model to GPN_gru_model.h5\n",
      "\n",
      "📈 Downloading data for GL...\n"
     ]
    },
    {
     "name": "stderr",
     "output_type": "stream",
     "text": [
      "[*********************100%***********************]  1 of 1 completed\n"
     ]
    },
    {
     "name": "stdout",
     "output_type": "stream",
     "text": [
      "Training shape for GL - X_train: (2571, 100, 1), X_test: (1102, 100, 1)\n",
      "Epoch 1/10\n",
      "81/81 [==============================] - 14s 96ms/step - loss: 0.0098 - val_loss: 9.4177e-04\n",
      "Epoch 2/10\n",
      "81/81 [==============================] - 7s 82ms/step - loss: 0.0018 - val_loss: 9.8024e-04\n",
      "Epoch 3/10\n",
      "81/81 [==============================] - 7s 82ms/step - loss: 0.0016 - val_loss: 0.0012\n",
      "Epoch 4/10\n",
      "81/81 [==============================] - 7s 84ms/step - loss: 0.0013 - val_loss: 0.0012\n",
      "Epoch 5/10\n",
      "81/81 [==============================] - 7s 84ms/step - loss: 0.0013 - val_loss: 8.8047e-04\n",
      "Epoch 6/10\n",
      "81/81 [==============================] - 7s 84ms/step - loss: 0.0013 - val_loss: 8.9537e-04\n",
      "Epoch 7/10\n",
      "81/81 [==============================] - 7s 84ms/step - loss: 0.0010 - val_loss: 0.0013\n",
      "Epoch 8/10\n",
      "81/81 [==============================] - 7s 82ms/step - loss: 0.0011 - val_loss: 0.0010\n",
      "Epoch 9/10\n",
      "81/81 [==============================] - 7s 84ms/step - loss: 0.0011 - val_loss: 7.8859e-04\n",
      "Epoch 10/10\n",
      "81/81 [==============================] - 7s 83ms/step - loss: 0.0010 - val_loss: 7.7528e-04\n",
      "✅ Saved model to GL_gru_model.h5\n",
      "\n",
      "📈 Downloading data for GDDY...\n"
     ]
    },
    {
     "name": "stderr",
     "output_type": "stream",
     "text": [
      "[*********************100%***********************]  1 of 1 completed\n"
     ]
    },
    {
     "name": "stdout",
     "output_type": "stream",
     "text": [
      "Training shape for GDDY - X_train: (1648, 100, 1), X_test: (707, 100, 1)\n",
      "Epoch 1/10\n",
      "52/52 [==============================] - 11s 101ms/step - loss: 0.0080 - val_loss: 0.0029\n",
      "Epoch 2/10\n",
      "52/52 [==============================] - 4s 86ms/step - loss: 7.3335e-04 - val_loss: 0.0012\n",
      "Epoch 3/10\n",
      "52/52 [==============================] - 4s 83ms/step - loss: 6.5734e-04 - val_loss: 3.5147e-04\n",
      "Epoch 4/10\n",
      "52/52 [==============================] - 4s 85ms/step - loss: 5.9438e-04 - val_loss: 3.4046e-04\n",
      "Epoch 5/10\n",
      "52/52 [==============================] - 4s 82ms/step - loss: 5.9716e-04 - val_loss: 4.7781e-04\n",
      "Epoch 6/10\n",
      "52/52 [==============================] - 4s 84ms/step - loss: 5.2714e-04 - val_loss: 4.5641e-04\n",
      "Epoch 7/10\n",
      "52/52 [==============================] - 4s 82ms/step - loss: 5.1445e-04 - val_loss: 3.3094e-04\n",
      "Epoch 8/10\n",
      "52/52 [==============================] - 4s 81ms/step - loss: 4.5222e-04 - val_loss: 2.7311e-04\n",
      "Epoch 9/10\n",
      "52/52 [==============================] - 4s 83ms/step - loss: 4.4350e-04 - val_loss: 6.0986e-04\n",
      "Epoch 10/10\n",
      "52/52 [==============================] - 4s 83ms/step - loss: 4.2524e-04 - val_loss: 3.1900e-04\n",
      "✅ Saved model to GDDY_gru_model.h5\n",
      "\n",
      "📈 Downloading data for GS...\n"
     ]
    },
    {
     "name": "stderr",
     "output_type": "stream",
     "text": [
      "[*********************100%***********************]  1 of 1 completed\n"
     ]
    },
    {
     "name": "stdout",
     "output_type": "stream",
     "text": [
      "Training shape for GS - X_train: (2571, 100, 1), X_test: (1102, 100, 1)\n",
      "Epoch 1/10\n",
      "81/81 [==============================] - 13s 93ms/step - loss: 0.0018 - val_loss: 9.7714e-04\n",
      "Epoch 2/10\n",
      "81/81 [==============================] - 7s 83ms/step - loss: 3.2621e-04 - val_loss: 4.1162e-04\n",
      "Epoch 3/10\n",
      "81/81 [==============================] - 8s 103ms/step - loss: 2.8945e-04 - val_loss: 5.1287e-04\n",
      "Epoch 4/10\n",
      "81/81 [==============================] - 7s 81ms/step - loss: 2.3453e-04 - val_loss: 4.0479e-04\n",
      "Epoch 5/10\n",
      "81/81 [==============================] - 7s 81ms/step - loss: 2.2196e-04 - val_loss: 3.7905e-04\n",
      "Epoch 6/10\n",
      "81/81 [==============================] - 7s 81ms/step - loss: 1.9306e-04 - val_loss: 2.8930e-04\n",
      "Epoch 7/10\n",
      "81/81 [==============================] - 7s 83ms/step - loss: 1.8108e-04 - val_loss: 3.7502e-04\n",
      "Epoch 8/10\n",
      "81/81 [==============================] - 7s 81ms/step - loss: 1.8234e-04 - val_loss: 4.0626e-04\n",
      "Epoch 9/10\n",
      "81/81 [==============================] - 7s 81ms/step - loss: 1.6869e-04 - val_loss: 2.5411e-04\n",
      "Epoch 10/10\n",
      "81/81 [==============================] - 7s 82ms/step - loss: 1.4231e-04 - val_loss: 2.4830e-04\n",
      "✅ Saved model to GS_gru_model.h5\n",
      "\n",
      "📈 Downloading data for HAL...\n"
     ]
    },
    {
     "name": "stderr",
     "output_type": "stream",
     "text": [
      "[*********************100%***********************]  1 of 1 completed\n"
     ]
    },
    {
     "name": "stdout",
     "output_type": "stream",
     "text": [
      "Training shape for HAL - X_train: (2571, 100, 1), X_test: (1102, 100, 1)\n",
      "Epoch 1/10\n",
      "81/81 [==============================] - 13s 92ms/step - loss: 0.0190 - val_loss: 7.3055e-04\n",
      "Epoch 2/10\n",
      "81/81 [==============================] - 7s 81ms/step - loss: 0.0035 - val_loss: 5.7845e-04\n",
      "Epoch 3/10\n",
      "81/81 [==============================] - 6s 80ms/step - loss: 0.0031 - val_loss: 3.6923e-04\n",
      "Epoch 4/10\n",
      "81/81 [==============================] - 7s 82ms/step - loss: 0.0024 - val_loss: 5.4408e-04\n",
      "Epoch 5/10\n",
      "81/81 [==============================] - 6s 80ms/step - loss: 0.0024 - val_loss: 3.7658e-04\n",
      "Epoch 6/10\n",
      "81/81 [==============================] - 7s 85ms/step - loss: 0.0022 - val_loss: 4.2043e-04\n",
      "Epoch 7/10\n",
      "81/81 [==============================] - 8s 97ms/step - loss: 0.0020 - val_loss: 3.5733e-04\n",
      "Epoch 8/10\n",
      "81/81 [==============================] - 6s 80ms/step - loss: 0.0021 - val_loss: 3.8286e-04\n",
      "Epoch 9/10\n",
      "81/81 [==============================] - 7s 81ms/step - loss: 0.0021 - val_loss: 3.8327e-04\n",
      "Epoch 10/10\n",
      "81/81 [==============================] - 7s 81ms/step - loss: 0.0018 - val_loss: 3.3676e-04\n",
      "✅ Saved model to HAL_gru_model.h5\n",
      "\n",
      "📈 Downloading data for HIG...\n"
     ]
    },
    {
     "name": "stderr",
     "output_type": "stream",
     "text": [
      "[*********************100%***********************]  1 of 1 completed\n"
     ]
    },
    {
     "name": "stdout",
     "output_type": "stream",
     "text": [
      "Training shape for HIG - X_train: (2571, 100, 1), X_test: (1102, 100, 1)\n",
      "Epoch 1/10\n",
      "81/81 [==============================] - 13s 93ms/step - loss: 0.0021 - val_loss: 2.4698e-04\n",
      "Epoch 2/10\n",
      "81/81 [==============================] - 6s 79ms/step - loss: 5.4218e-04 - val_loss: 4.0710e-04\n",
      "Epoch 3/10\n",
      "81/81 [==============================] - 6s 78ms/step - loss: 4.3506e-04 - val_loss: 3.0953e-04\n",
      "Epoch 4/10\n",
      "81/81 [==============================] - 7s 81ms/step - loss: 3.9481e-04 - val_loss: 2.1424e-04\n",
      "Epoch 5/10\n",
      "81/81 [==============================] - 6s 79ms/step - loss: 3.5658e-04 - val_loss: 3.5359e-04\n",
      "Epoch 6/10\n",
      "81/81 [==============================] - 6s 80ms/step - loss: 3.4716e-04 - val_loss: 1.9653e-04\n",
      "Epoch 7/10\n",
      "81/81 [==============================] - 6s 78ms/step - loss: 2.8618e-04 - val_loss: 1.9728e-04\n",
      "Epoch 8/10\n",
      "81/81 [==============================] - 7s 81ms/step - loss: 2.7641e-04 - val_loss: 2.2634e-04\n",
      "Epoch 9/10\n",
      "81/81 [==============================] - 6s 80ms/step - loss: 2.7410e-04 - val_loss: 4.1107e-04\n",
      "Epoch 10/10\n",
      "81/81 [==============================] - 7s 81ms/step - loss: 2.5497e-04 - val_loss: 2.6254e-04\n",
      "✅ Saved model to HIG_gru_model.h5\n",
      "\n",
      "📈 Downloading data for HAS...\n"
     ]
    },
    {
     "name": "stderr",
     "output_type": "stream",
     "text": [
      "[*********************100%***********************]  1 of 1 completed\n"
     ]
    },
    {
     "name": "stdout",
     "output_type": "stream",
     "text": [
      "Training shape for HAS - X_train: (2571, 100, 1), X_test: (1102, 100, 1)\n",
      "Epoch 1/10\n",
      "81/81 [==============================] - 12s 89ms/step - loss: 0.0155 - val_loss: 7.5893e-04\n",
      "Epoch 2/10\n",
      "81/81 [==============================] - 6s 80ms/step - loss: 0.0027 - val_loss: 5.2402e-04\n",
      "Epoch 3/10\n",
      "81/81 [==============================] - 6s 79ms/step - loss: 0.0025 - val_loss: 5.5019e-04\n",
      "Epoch 4/10\n",
      "81/81 [==============================] - 6s 80ms/step - loss: 0.0020 - val_loss: 6.5907e-04\n",
      "Epoch 5/10\n",
      "81/81 [==============================] - 6s 80ms/step - loss: 0.0021 - val_loss: 6.0462e-04\n",
      "Epoch 6/10\n",
      "81/81 [==============================] - 6s 79ms/step - loss: 0.0019 - val_loss: 4.7885e-04\n",
      "Epoch 7/10\n",
      "81/81 [==============================] - 6s 79ms/step - loss: 0.0018 - val_loss: 5.9276e-04\n",
      "Epoch 8/10\n",
      "81/81 [==============================] - 6s 79ms/step - loss: 0.0017 - val_loss: 7.9819e-04\n",
      "Epoch 9/10\n",
      "81/81 [==============================] - 6s 80ms/step - loss: 0.0017 - val_loss: 4.4250e-04\n",
      "Epoch 10/10\n",
      "81/81 [==============================] - 6s 79ms/step - loss: 0.0015 - val_loss: 6.2549e-04\n",
      "✅ Saved model to HAS_gru_model.h5\n",
      "\n",
      "📈 Downloading data for HCA...\n"
     ]
    },
    {
     "name": "stderr",
     "output_type": "stream",
     "text": [
      "[*********************100%***********************]  1 of 1 completed\n"
     ]
    },
    {
     "name": "stdout",
     "output_type": "stream",
     "text": [
      "Training shape for HCA - X_train: (2362, 100, 1), X_test: (1013, 100, 1)\n",
      "Epoch 1/10\n",
      "74/74 [==============================] - 12s 93ms/step - loss: 0.0018 - val_loss: 8.1268e-04\n",
      "Epoch 2/10\n",
      "74/74 [==============================] - 6s 81ms/step - loss: 4.0393e-04 - val_loss: 5.6315e-04\n",
      "Epoch 3/10\n",
      "74/74 [==============================] - 6s 77ms/step - loss: 3.1609e-04 - val_loss: 8.3273e-04\n",
      "Epoch 4/10\n",
      "74/74 [==============================] - 6s 82ms/step - loss: 2.7929e-04 - val_loss: 4.7941e-04\n",
      "Epoch 5/10\n",
      "74/74 [==============================] - 6s 81ms/step - loss: 2.5292e-04 - val_loss: 3.6948e-04\n",
      "Epoch 6/10\n",
      "74/74 [==============================] - 6s 80ms/step - loss: 2.5906e-04 - val_loss: 2.8830e-04\n",
      "Epoch 7/10\n",
      "74/74 [==============================] - 6s 81ms/step - loss: 2.2841e-04 - val_loss: 3.9223e-04\n",
      "Epoch 8/10\n",
      "74/74 [==============================] - 6s 81ms/step - loss: 2.1720e-04 - val_loss: 4.3590e-04\n",
      "Epoch 9/10\n",
      "74/74 [==============================] - 6s 82ms/step - loss: 1.9708e-04 - val_loss: 2.8635e-04\n",
      "Epoch 10/10\n",
      "74/74 [==============================] - 6s 80ms/step - loss: 1.7282e-04 - val_loss: 5.0306e-04\n",
      "✅ Saved model to HCA_gru_model.h5\n",
      "\n",
      "📈 Downloading data for DOC...\n"
     ]
    },
    {
     "name": "stderr",
     "output_type": "stream",
     "text": [
      "[*********************100%***********************]  1 of 1 completed\n"
     ]
    },
    {
     "name": "stdout",
     "output_type": "stream",
     "text": [
      "Training shape for DOC - X_train: (2571, 100, 1), X_test: (1102, 100, 1)\n",
      "Epoch 1/10\n",
      "81/81 [==============================] - 12s 91ms/step - loss: 0.0174 - val_loss: 0.0021\n",
      "Epoch 2/10\n",
      "81/81 [==============================] - 7s 85ms/step - loss: 0.0030 - val_loss: 9.7977e-04\n",
      "Epoch 3/10\n",
      "81/81 [==============================] - 6s 80ms/step - loss: 0.0028 - val_loss: 0.0014\n",
      "Epoch 4/10\n",
      "81/81 [==============================] - 6s 79ms/step - loss: 0.0026 - val_loss: 6.9812e-04\n",
      "Epoch 5/10\n",
      "81/81 [==============================] - 6s 79ms/step - loss: 0.0024 - val_loss: 6.3248e-04\n",
      "Epoch 6/10\n",
      "81/81 [==============================] - 6s 78ms/step - loss: 0.0022 - val_loss: 6.2438e-04\n",
      "Epoch 7/10\n",
      "81/81 [==============================] - 6s 80ms/step - loss: 0.0021 - val_loss: 0.0010\n",
      "Epoch 8/10\n",
      "81/81 [==============================] - 6s 80ms/step - loss: 0.0020 - val_loss: 5.6090e-04\n",
      "Epoch 9/10\n",
      "81/81 [==============================] - 6s 79ms/step - loss: 0.0019 - val_loss: 6.2706e-04\n",
      "Epoch 10/10\n",
      "81/81 [==============================] - 6s 80ms/step - loss: 0.0019 - val_loss: 5.4652e-04\n",
      "✅ Saved model to DOC_gru_model.h5\n",
      "\n",
      "📈 Downloading data for HSIC...\n"
     ]
    },
    {
     "name": "stderr",
     "output_type": "stream",
     "text": [
      "[*********************100%***********************]  1 of 1 completed\n"
     ]
    },
    {
     "name": "stdout",
     "output_type": "stream",
     "text": [
      "Training shape for HSIC - X_train: (2571, 100, 1), X_test: (1102, 100, 1)\n",
      "Epoch 1/10\n",
      "81/81 [==============================] - 12s 92ms/step - loss: 0.0160 - val_loss: 7.0505e-04\n",
      "Epoch 2/10\n",
      "81/81 [==============================] - 6s 79ms/step - loss: 0.0024 - val_loss: 6.8615e-04\n",
      "Epoch 3/10\n",
      "81/81 [==============================] - 7s 83ms/step - loss: 0.0022 - val_loss: 7.1636e-04\n",
      "Epoch 4/10\n",
      "81/81 [==============================] - 10s 120ms/step - loss: 0.0019 - val_loss: 6.5498e-04\n",
      "Epoch 5/10\n",
      "81/81 [==============================] - 7s 90ms/step - loss: 0.0016 - val_loss: 0.0010\n",
      "Epoch 6/10\n",
      "81/81 [==============================] - 6s 79ms/step - loss: 0.0017 - val_loss: 0.0024\n",
      "Epoch 7/10\n",
      "81/81 [==============================] - 7s 82ms/step - loss: 0.0016 - val_loss: 6.8189e-04\n",
      "Epoch 8/10\n",
      "81/81 [==============================] - 6s 80ms/step - loss: 0.0015 - val_loss: 0.0013\n",
      "Epoch 9/10\n",
      "81/81 [==============================] - 6s 79ms/step - loss: 0.0014 - val_loss: 7.6684e-04\n",
      "Epoch 10/10\n",
      "81/81 [==============================] - 6s 80ms/step - loss: 0.0016 - val_loss: 6.2317e-04\n",
      "✅ Saved model to HSIC_gru_model.h5\n",
      "\n",
      "📈 Downloading data for HSY...\n"
     ]
    },
    {
     "name": "stderr",
     "output_type": "stream",
     "text": [
      "[*********************100%***********************]  1 of 1 completed\n"
     ]
    },
    {
     "name": "stdout",
     "output_type": "stream",
     "text": [
      "Training shape for HSY - X_train: (2571, 100, 1), X_test: (1102, 100, 1)\n",
      "Epoch 1/10\n",
      "81/81 [==============================] - 12s 94ms/step - loss: 0.0058 - val_loss: 2.8273e-04\n",
      "Epoch 2/10\n",
      "81/81 [==============================] - 7s 83ms/step - loss: 6.2253e-04 - val_loss: 2.6616e-04\n",
      "Epoch 3/10\n",
      "81/81 [==============================] - 6s 80ms/step - loss: 5.8051e-04 - val_loss: 2.5410e-04\n",
      "Epoch 4/10\n",
      "81/81 [==============================] - 7s 81ms/step - loss: 5.0539e-04 - val_loss: 6.2420e-04\n",
      "Epoch 5/10\n",
      "81/81 [==============================] - 7s 82ms/step - loss: 5.3462e-04 - val_loss: 6.2399e-04\n",
      "Epoch 6/10\n",
      "81/81 [==============================] - 7s 82ms/step - loss: 4.7581e-04 - val_loss: 7.7369e-04\n",
      "Epoch 7/10\n",
      "81/81 [==============================] - 7s 81ms/step - loss: 4.1164e-04 - val_loss: 2.0757e-04\n",
      "Epoch 8/10\n",
      "81/81 [==============================] - 7s 84ms/step - loss: 3.8975e-04 - val_loss: 2.4551e-04\n",
      "Epoch 9/10\n",
      "81/81 [==============================] - 7s 85ms/step - loss: 3.9433e-04 - val_loss: 2.1918e-04\n",
      "Epoch 10/10\n",
      "81/81 [==============================] - 7s 84ms/step - loss: 3.3799e-04 - val_loss: 7.7740e-04\n",
      "✅ Saved model to HSY_gru_model.h5\n",
      "\n",
      "📈 Downloading data for HES...\n"
     ]
    },
    {
     "name": "stderr",
     "output_type": "stream",
     "text": [
      "[*********************100%***********************]  1 of 1 completed\n"
     ]
    },
    {
     "name": "stdout",
     "output_type": "stream",
     "text": [
      "Training shape for HES - X_train: (2571, 100, 1), X_test: (1102, 100, 1)\n",
      "Epoch 1/10\n",
      "81/81 [==============================] - 12s 93ms/step - loss: 0.0029 - val_loss: 8.2476e-04\n",
      "Epoch 2/10\n",
      "81/81 [==============================] - 6s 80ms/step - loss: 6.2254e-04 - val_loss: 0.0020\n",
      "Epoch 3/10\n",
      "81/81 [==============================] - 6s 77ms/step - loss: 5.4131e-04 - val_loss: 0.0010\n",
      "Epoch 4/10\n",
      "81/81 [==============================] - 7s 81ms/step - loss: 4.9430e-04 - val_loss: 6.7274e-04\n",
      "Epoch 5/10\n",
      "81/81 [==============================] - 6s 79ms/step - loss: 4.3311e-04 - val_loss: 0.0013\n",
      "Epoch 6/10\n",
      "81/81 [==============================] - 6s 78ms/step - loss: 3.9750e-04 - val_loss: 9.3283e-04\n",
      "Epoch 7/10\n",
      "81/81 [==============================] - 6s 80ms/step - loss: 3.6012e-04 - val_loss: 5.4900e-04\n",
      "Epoch 8/10\n",
      "81/81 [==============================] - 8s 100ms/step - loss: 3.5588e-04 - val_loss: 6.8433e-04\n",
      "Epoch 9/10\n",
      "81/81 [==============================] - 7s 82ms/step - loss: 3.3038e-04 - val_loss: 5.3658e-04\n",
      "Epoch 10/10\n",
      "81/81 [==============================] - 7s 81ms/step - loss: 3.3898e-04 - val_loss: 5.2787e-04\n",
      "✅ Saved model to HES_gru_model.h5\n",
      "\n",
      "📈 Downloading data for HPE...\n"
     ]
    },
    {
     "name": "stderr",
     "output_type": "stream",
     "text": [
      "[*********************100%***********************]  1 of 1 completed\n"
     ]
    },
    {
     "name": "stdout",
     "output_type": "stream",
     "text": [
      "Training shape for HPE - X_train: (1550, 100, 1), X_test: (665, 100, 1)\n",
      "Epoch 1/10\n",
      "49/49 [==============================] - 10s 100ms/step - loss: 0.0140 - val_loss: 0.0112\n",
      "Epoch 2/10\n",
      "49/49 [==============================] - 4s 83ms/step - loss: 0.0022 - val_loss: 0.0016\n",
      "Epoch 3/10\n",
      "49/49 [==============================] - 4s 81ms/step - loss: 0.0017 - val_loss: 0.0012\n",
      "Epoch 4/10\n",
      "49/49 [==============================] - 4s 80ms/step - loss: 0.0016 - val_loss: 9.1574e-04\n",
      "Epoch 5/10\n",
      "49/49 [==============================] - 4s 81ms/step - loss: 0.0015 - val_loss: 0.0011\n",
      "Epoch 6/10\n",
      "49/49 [==============================] - 4s 82ms/step - loss: 0.0013 - val_loss: 9.6502e-04\n",
      "Epoch 7/10\n",
      "49/49 [==============================] - 4s 79ms/step - loss: 0.0013 - val_loss: 8.0694e-04\n",
      "Epoch 8/10\n",
      "49/49 [==============================] - 4s 80ms/step - loss: 0.0012 - val_loss: 8.9650e-04\n",
      "Epoch 9/10\n",
      "49/49 [==============================] - 4s 81ms/step - loss: 0.0013 - val_loss: 7.6412e-04\n",
      "Epoch 10/10\n",
      "49/49 [==============================] - 4s 83ms/step - loss: 0.0011 - val_loss: 7.7320e-04\n",
      "✅ Saved model to HPE_gru_model.h5\n",
      "\n",
      "📈 Downloading data for HLT...\n"
     ]
    },
    {
     "name": "stderr",
     "output_type": "stream",
     "text": [
      "[*********************100%***********************]  1 of 1 completed\n"
     ]
    },
    {
     "name": "stdout",
     "output_type": "stream",
     "text": [
      "Training shape for HLT - X_train: (1875, 100, 1), X_test: (805, 100, 1)\n",
      "Epoch 1/10\n",
      "59/59 [==============================] - 10s 98ms/step - loss: 0.0027 - val_loss: 5.0031e-04\n",
      "Epoch 2/10\n",
      "59/59 [==============================] - 5s 83ms/step - loss: 5.8655e-04 - val_loss: 5.1912e-04\n",
      "Epoch 3/10\n",
      "59/59 [==============================] - 5s 82ms/step - loss: 4.9597e-04 - val_loss: 4.5189e-04\n",
      "Epoch 4/10\n",
      "59/59 [==============================] - 5s 80ms/step - loss: 4.2032e-04 - val_loss: 3.2748e-04\n",
      "Epoch 5/10\n",
      "59/59 [==============================] - 5s 81ms/step - loss: 3.7277e-04 - val_loss: 4.1780e-04\n",
      "Epoch 6/10\n",
      "59/59 [==============================] - 5s 80ms/step - loss: 3.4385e-04 - val_loss: 7.5053e-04\n",
      "Epoch 7/10\n",
      "59/59 [==============================] - 5s 83ms/step - loss: 3.7218e-04 - val_loss: 3.7971e-04\n",
      "Epoch 8/10\n",
      "59/59 [==============================] - 5s 80ms/step - loss: 3.2506e-04 - val_loss: 3.0225e-04\n",
      "Epoch 9/10\n",
      "59/59 [==============================] - 5s 80ms/step - loss: 3.2199e-04 - val_loss: 2.6873e-04\n",
      "Epoch 10/10\n",
      "59/59 [==============================] - 5s 81ms/step - loss: 3.2610e-04 - val_loss: 0.0012\n",
      "✅ Saved model to HLT_gru_model.h5\n",
      "\n",
      "📈 Downloading data for HOLX...\n"
     ]
    },
    {
     "name": "stderr",
     "output_type": "stream",
     "text": [
      "[*********************100%***********************]  1 of 1 completed\n"
     ]
    },
    {
     "name": "stdout",
     "output_type": "stream",
     "text": [
      "Training shape for HOLX - X_train: (2571, 100, 1), X_test: (1102, 100, 1)\n",
      "Epoch 1/10\n",
      "81/81 [==============================] - 12s 93ms/step - loss: 0.0033 - val_loss: 0.0011\n",
      "Epoch 2/10\n",
      "81/81 [==============================] - 7s 82ms/step - loss: 0.0011 - val_loss: 6.3585e-04\n",
      "Epoch 3/10\n",
      "81/81 [==============================] - 7s 81ms/step - loss: 9.0505e-04 - val_loss: 0.0011\n",
      "Epoch 4/10\n",
      "81/81 [==============================] - 7s 85ms/step - loss: 7.5783e-04 - val_loss: 5.7088e-04\n",
      "Epoch 5/10\n",
      "81/81 [==============================] - 6s 80ms/step - loss: 7.1232e-04 - val_loss: 0.0014\n",
      "Epoch 6/10\n",
      "81/81 [==============================] - 7s 81ms/step - loss: 6.6391e-04 - val_loss: 5.3967e-04\n",
      "Epoch 7/10\n",
      "81/81 [==============================] - 7s 84ms/step - loss: 6.4061e-04 - val_loss: 4.2789e-04\n",
      "Epoch 8/10\n",
      "81/81 [==============================] - 7s 82ms/step - loss: 6.4774e-04 - val_loss: 5.4204e-04\n",
      "Epoch 9/10\n",
      "81/81 [==============================] - 7s 84ms/step - loss: 5.2559e-04 - val_loss: 7.3887e-04\n",
      "Epoch 10/10\n",
      "81/81 [==============================] - 7s 83ms/step - loss: 5.2093e-04 - val_loss: 5.6597e-04\n",
      "✅ Saved model to HOLX_gru_model.h5\n",
      "\n",
      "📈 Downloading data for HD...\n"
     ]
    },
    {
     "name": "stderr",
     "output_type": "stream",
     "text": [
      "[*********************100%***********************]  1 of 1 completed\n"
     ]
    },
    {
     "name": "stdout",
     "output_type": "stream",
     "text": [
      "Training shape for HD - X_train: (2571, 100, 1), X_test: (1102, 100, 1)\n",
      "Epoch 1/10\n",
      "81/81 [==============================] - 12s 92ms/step - loss: 0.0043 - val_loss: 6.0753e-04\n",
      "Epoch 2/10\n",
      "81/81 [==============================] - 6s 80ms/step - loss: 6.2282e-04 - val_loss: 0.0013\n",
      "Epoch 3/10\n",
      "81/81 [==============================] - 7s 89ms/step - loss: 5.5636e-04 - val_loss: 3.7925e-04\n",
      "Epoch 4/10\n",
      "81/81 [==============================] - 7s 82ms/step - loss: 4.7060e-04 - val_loss: 0.0014\n",
      "Epoch 5/10\n",
      "81/81 [==============================] - 6s 80ms/step - loss: 4.9763e-04 - val_loss: 3.5616e-04\n",
      "Epoch 6/10\n",
      "81/81 [==============================] - 7s 81ms/step - loss: 4.5043e-04 - val_loss: 3.8598e-04\n",
      "Epoch 7/10\n",
      "81/81 [==============================] - 6s 78ms/step - loss: 3.7286e-04 - val_loss: 4.4324e-04\n",
      "Epoch 8/10\n",
      "81/81 [==============================] - 6s 80ms/step - loss: 3.4862e-04 - val_loss: 6.1723e-04\n",
      "Epoch 9/10\n",
      "81/81 [==============================] - 6s 80ms/step - loss: 3.8772e-04 - val_loss: 4.3672e-04\n",
      "Epoch 10/10\n",
      "81/81 [==============================] - 6s 79ms/step - loss: 2.9810e-04 - val_loss: 4.5106e-04\n",
      "✅ Saved model to HD_gru_model.h5\n",
      "\n",
      "📈 Downloading data for HON...\n"
     ]
    },
    {
     "name": "stderr",
     "output_type": "stream",
     "text": [
      "[*********************100%***********************]  1 of 1 completed\n"
     ]
    },
    {
     "name": "stdout",
     "output_type": "stream",
     "text": [
      "Training shape for HON - X_train: (2571, 100, 1), X_test: (1102, 100, 1)\n",
      "Epoch 1/10\n",
      "81/81 [==============================] - 12s 91ms/step - loss: 0.0058 - val_loss: 0.0011\n",
      "Epoch 2/10\n",
      "81/81 [==============================] - 7s 83ms/step - loss: 0.0013 - val_loss: 7.2481e-04\n",
      "Epoch 3/10\n",
      "81/81 [==============================] - 6s 80ms/step - loss: 0.0011 - val_loss: 3.5777e-04\n",
      "Epoch 4/10\n",
      "81/81 [==============================] - 7s 81ms/step - loss: 0.0010 - val_loss: 3.3446e-04\n",
      "Epoch 5/10\n",
      "81/81 [==============================] - 7s 82ms/step - loss: 8.8418e-04 - val_loss: 3.3974e-04\n",
      "Epoch 6/10\n",
      "81/81 [==============================] - 7s 81ms/step - loss: 9.4038e-04 - val_loss: 3.7705e-04\n",
      "Epoch 7/10\n",
      "81/81 [==============================] - 7s 82ms/step - loss: 8.6899e-04 - val_loss: 6.6212e-04\n",
      "Epoch 8/10\n",
      "81/81 [==============================] - 6s 80ms/step - loss: 7.3090e-04 - val_loss: 0.0013\n",
      "Epoch 9/10\n",
      "81/81 [==============================] - 7s 82ms/step - loss: 7.1739e-04 - val_loss: 3.3572e-04\n",
      "Epoch 10/10\n",
      "81/81 [==============================] - 7s 81ms/step - loss: 6.7330e-04 - val_loss: 3.1379e-04\n",
      "✅ Saved model to HON_gru_model.h5\n",
      "\n",
      "📈 Downloading data for HRL...\n"
     ]
    },
    {
     "name": "stderr",
     "output_type": "stream",
     "text": [
      "[*********************100%***********************]  1 of 1 completed\n"
     ]
    },
    {
     "name": "stdout",
     "output_type": "stream",
     "text": [
      "Training shape for HRL - X_train: (2571, 100, 1), X_test: (1102, 100, 1)\n",
      "Epoch 1/10\n",
      "81/81 [==============================] - 12s 90ms/step - loss: 0.0157 - val_loss: 5.9898e-04\n",
      "Epoch 2/10\n",
      "81/81 [==============================] - 7s 82ms/step - loss: 0.0023 - val_loss: 3.9666e-04\n",
      "Epoch 3/10\n",
      "81/81 [==============================] - 7s 81ms/step - loss: 0.0020 - val_loss: 7.4384e-04\n",
      "Epoch 4/10\n",
      "81/81 [==============================] - 6s 78ms/step - loss: 0.0017 - val_loss: 0.0010\n",
      "Epoch 5/10\n",
      "81/81 [==============================] - 7s 81ms/step - loss: 0.0017 - val_loss: 5.2234e-04\n",
      "Epoch 6/10\n",
      "81/81 [==============================] - 6s 79ms/step - loss: 0.0015 - val_loss: 4.1689e-04\n",
      "Epoch 7/10\n",
      "81/81 [==============================] - 7s 81ms/step - loss: 0.0015 - val_loss: 9.2834e-04\n",
      "Epoch 8/10\n",
      "81/81 [==============================] - 7s 81ms/step - loss: 0.0013 - val_loss: 5.5957e-04\n",
      "Epoch 9/10\n",
      "81/81 [==============================] - 7s 81ms/step - loss: 0.0014 - val_loss: 4.6619e-04\n",
      "Epoch 10/10\n",
      "81/81 [==============================] - 7s 83ms/step - loss: 0.0013 - val_loss: 5.8898e-04\n",
      "✅ Saved model to HRL_gru_model.h5\n",
      "\n",
      "📈 Downloading data for HST...\n"
     ]
    },
    {
     "name": "stderr",
     "output_type": "stream",
     "text": [
      "[*********************100%***********************]  1 of 1 completed\n"
     ]
    },
    {
     "name": "stdout",
     "output_type": "stream",
     "text": [
      "Training shape for HST - X_train: (2571, 100, 1), X_test: (1102, 100, 1)\n",
      "Epoch 1/10\n",
      "81/81 [==============================] - 12s 92ms/step - loss: 0.0170 - val_loss: 0.0012\n",
      "Epoch 2/10\n",
      "81/81 [==============================] - 7s 83ms/step - loss: 0.0029 - val_loss: 0.0014\n",
      "Epoch 3/10\n",
      "81/81 [==============================] - 7s 81ms/step - loss: 0.0026 - val_loss: 0.0014\n",
      "Epoch 4/10\n",
      "81/81 [==============================] - 7s 82ms/step - loss: 0.0024 - val_loss: 0.0011\n",
      "Epoch 5/10\n",
      "81/81 [==============================] - 6s 80ms/step - loss: 0.0022 - val_loss: 0.0010\n",
      "Epoch 6/10\n",
      "81/81 [==============================] - 7s 82ms/step - loss: 0.0020 - val_loss: 0.0016\n",
      "Epoch 7/10\n",
      "81/81 [==============================] - 7s 85ms/step - loss: 0.0019 - val_loss: 0.0010\n",
      "Epoch 8/10\n",
      "81/81 [==============================] - 8s 98ms/step - loss: 0.0018 - val_loss: 9.6916e-04\n",
      "Epoch 9/10\n",
      "81/81 [==============================] - 7s 81ms/step - loss: 0.0017 - val_loss: 0.0011\n",
      "Epoch 10/10\n",
      "81/81 [==============================] - 6s 80ms/step - loss: 0.0017 - val_loss: 9.1036e-04\n",
      "✅ Saved model to HST_gru_model.h5\n",
      "\n",
      "📈 Downloading data for HWM...\n"
     ]
    },
    {
     "name": "stderr",
     "output_type": "stream",
     "text": [
      "[*********************100%***********************]  1 of 1 completed\n"
     ]
    },
    {
     "name": "stdout",
     "output_type": "stream",
     "text": [
      "Training shape for HWM - X_train: (1367, 100, 1), X_test: (586, 100, 1)\n",
      "Epoch 1/10\n",
      "43/43 [==============================] - 9s 102ms/step - loss: 0.0030 - val_loss: 0.0178\n",
      "Epoch 2/10\n",
      "43/43 [==============================] - 3s 80ms/step - loss: 3.5591e-04 - val_loss: 5.2217e-04\n",
      "Epoch 3/10\n",
      "43/43 [==============================] - 3s 81ms/step - loss: 2.8367e-04 - val_loss: 5.6139e-04\n",
      "Epoch 4/10\n",
      "43/43 [==============================] - 3s 80ms/step - loss: 2.5910e-04 - val_loss: 6.2346e-04\n",
      "Epoch 5/10\n",
      "43/43 [==============================] - 3s 79ms/step - loss: 2.5310e-04 - val_loss: 4.7421e-04\n",
      "Epoch 6/10\n",
      "43/43 [==============================] - 3s 80ms/step - loss: 2.2670e-04 - val_loss: 6.4746e-04\n",
      "Epoch 7/10\n",
      "43/43 [==============================] - 4s 81ms/step - loss: 2.2324e-04 - val_loss: 4.3904e-04\n",
      "Epoch 8/10\n",
      "43/43 [==============================] - 3s 81ms/step - loss: 2.1804e-04 - val_loss: 6.0477e-04\n",
      "Epoch 9/10\n",
      "43/43 [==============================] - 3s 81ms/step - loss: 2.0581e-04 - val_loss: 3.2954e-04\n",
      "Epoch 10/10\n",
      "43/43 [==============================] - 4s 86ms/step - loss: 1.9196e-04 - val_loss: 4.5075e-04\n",
      "✅ Saved model to HWM_gru_model.h5\n",
      "\n",
      "📈 Downloading data for HPQ...\n"
     ]
    },
    {
     "name": "stderr",
     "output_type": "stream",
     "text": [
      "[*********************100%***********************]  1 of 1 completed\n"
     ]
    },
    {
     "name": "stdout",
     "output_type": "stream",
     "text": [
      "Training shape for HPQ - X_train: (2571, 100, 1), X_test: (1102, 100, 1)\n",
      "Epoch 1/10\n",
      "81/81 [==============================] - 12s 91ms/step - loss: 0.0057 - val_loss: 8.6159e-04\n",
      "Epoch 2/10\n",
      "81/81 [==============================] - 6s 80ms/step - loss: 8.6098e-04 - val_loss: 0.0012\n",
      "Epoch 3/10\n",
      "81/81 [==============================] - 7s 81ms/step - loss: 7.1720e-04 - val_loss: 6.5344e-04\n",
      "Epoch 4/10\n",
      "81/81 [==============================] - 7s 82ms/step - loss: 6.5639e-04 - val_loss: 5.7377e-04\n",
      "Epoch 5/10\n",
      "81/81 [==============================] - 6s 79ms/step - loss: 6.2547e-04 - val_loss: 0.0017\n",
      "Epoch 6/10\n",
      "81/81 [==============================] - 6s 79ms/step - loss: 6.1985e-04 - val_loss: 5.4435e-04\n",
      "Epoch 7/10\n",
      "81/81 [==============================] - 6s 79ms/step - loss: 5.3942e-04 - val_loss: 0.0011\n",
      "Epoch 8/10\n",
      "81/81 [==============================] - 6s 80ms/step - loss: 4.8750e-04 - val_loss: 5.6430e-04\n",
      "Epoch 9/10\n",
      "81/81 [==============================] - 6s 80ms/step - loss: 4.8732e-04 - val_loss: 4.9061e-04\n",
      "Epoch 10/10\n",
      "81/81 [==============================] - 6s 80ms/step - loss: 4.3426e-04 - val_loss: 6.2361e-04\n",
      "✅ Saved model to HPQ_gru_model.h5\n",
      "\n",
      "📈 Downloading data for HUBB...\n"
     ]
    },
    {
     "name": "stderr",
     "output_type": "stream",
     "text": [
      "[*********************100%***********************]  1 of 1 completed\n"
     ]
    },
    {
     "name": "stdout",
     "output_type": "stream",
     "text": [
      "Training shape for HUBB - X_train: (2571, 100, 1), X_test: (1102, 100, 1)\n",
      "Epoch 1/10\n",
      "81/81 [==============================] - 12s 90ms/step - loss: 0.0011 - val_loss: 6.3235e-04\n",
      "Epoch 2/10\n",
      "81/81 [==============================] - 6s 80ms/step - loss: 2.0310e-04 - val_loss: 4.6346e-04\n",
      "Epoch 3/10\n",
      "81/81 [==============================] - 6s 79ms/step - loss: 1.6752e-04 - val_loss: 3.5044e-04\n",
      "Epoch 4/10\n",
      "81/81 [==============================] - 6s 80ms/step - loss: 1.5186e-04 - val_loss: 9.8924e-04\n",
      "Epoch 5/10\n",
      "81/81 [==============================] - 6s 80ms/step - loss: 1.2873e-04 - val_loss: 8.5401e-04\n",
      "Epoch 6/10\n",
      "81/81 [==============================] - 7s 90ms/step - loss: 1.2490e-04 - val_loss: 8.2341e-04\n",
      "Epoch 7/10\n",
      "81/81 [==============================] - 7s 82ms/step - loss: 1.0909e-04 - val_loss: 7.8397e-04\n",
      "Epoch 8/10\n",
      "81/81 [==============================] - 7s 90ms/step - loss: 9.9965e-05 - val_loss: 3.0954e-04\n",
      "Epoch 9/10\n",
      "81/81 [==============================] - 7s 83ms/step - loss: 9.8527e-05 - val_loss: 2.3818e-04\n",
      "Epoch 10/10\n",
      "81/81 [==============================] - 7s 83ms/step - loss: 8.5521e-05 - val_loss: 8.2380e-04\n",
      "✅ Saved model to HUBB_gru_model.h5\n",
      "\n",
      "📈 Downloading data for HUM...\n"
     ]
    },
    {
     "name": "stderr",
     "output_type": "stream",
     "text": [
      "[*********************100%***********************]  1 of 1 completed\n"
     ]
    },
    {
     "name": "stdout",
     "output_type": "stream",
     "text": [
      "Training shape for HUM - X_train: (2571, 100, 1), X_test: (1102, 100, 1)\n",
      "Epoch 1/10\n",
      "81/81 [==============================] - 13s 97ms/step - loss: 0.0047 - val_loss: 0.0011\n",
      "Epoch 2/10\n",
      "81/81 [==============================] - 7s 81ms/step - loss: 0.0011 - val_loss: 5.3608e-04\n",
      "Epoch 3/10\n",
      "81/81 [==============================] - 6s 79ms/step - loss: 9.1826e-04 - val_loss: 0.0017\n",
      "Epoch 4/10\n",
      "81/81 [==============================] - 7s 81ms/step - loss: 8.9141e-04 - val_loss: 5.9989e-04\n",
      "Epoch 5/10\n",
      "81/81 [==============================] - 6s 80ms/step - loss: 8.0069e-04 - val_loss: 5.7827e-04\n",
      "Epoch 6/10\n",
      "81/81 [==============================] - 6s 80ms/step - loss: 7.0070e-04 - val_loss: 0.0011\n",
      "Epoch 7/10\n",
      "81/81 [==============================] - 6s 80ms/step - loss: 7.4973e-04 - val_loss: 5.0902e-04\n",
      "Epoch 8/10\n",
      "81/81 [==============================] - 7s 81ms/step - loss: 6.3477e-04 - val_loss: 6.0833e-04\n",
      "Epoch 9/10\n",
      "81/81 [==============================] - 6s 80ms/step - loss: 6.5140e-04 - val_loss: 7.1141e-04\n",
      "Epoch 10/10\n",
      "81/81 [==============================] - 6s 80ms/step - loss: 6.5625e-04 - val_loss: 0.0014\n",
      "✅ Saved model to HUM_gru_model.h5\n",
      "\n",
      "📈 Downloading data for HBAN...\n"
     ]
    },
    {
     "name": "stderr",
     "output_type": "stream",
     "text": [
      "[*********************100%***********************]  1 of 1 completed\n"
     ]
    },
    {
     "name": "stdout",
     "output_type": "stream",
     "text": [
      "Training shape for HBAN - X_train: (2571, 100, 1), X_test: (1102, 100, 1)\n",
      "Epoch 1/10\n",
      "81/81 [==============================] - 13s 112ms/step - loss: 0.0105 - val_loss: 6.5210e-04\n",
      "Epoch 2/10\n",
      "81/81 [==============================] - 8s 101ms/step - loss: 0.0015 - val_loss: 8.0937e-04\n",
      "Epoch 3/10\n",
      "81/81 [==============================] - 9s 108ms/step - loss: 0.0013 - val_loss: 7.0767e-04\n",
      "Epoch 4/10\n",
      "81/81 [==============================] - 8s 94ms/step - loss: 0.0011 - val_loss: 6.7908e-04\n",
      "Epoch 5/10\n",
      "81/81 [==============================] - 7s 83ms/step - loss: 0.0012 - val_loss: 6.8940e-04\n",
      "Epoch 6/10\n",
      "81/81 [==============================] - 7s 90ms/step - loss: 0.0010 - val_loss: 8.2524e-04\n",
      "Epoch 7/10\n",
      "81/81 [==============================] - 7s 81ms/step - loss: 0.0010 - val_loss: 7.6797e-04\n",
      "Epoch 8/10\n",
      "81/81 [==============================] - 7s 80ms/step - loss: 8.8877e-04 - val_loss: 7.5605e-04\n",
      "Epoch 9/10\n",
      "81/81 [==============================] - 6s 79ms/step - loss: 8.5834e-04 - val_loss: 5.6630e-04\n",
      "Epoch 10/10\n",
      "81/81 [==============================] - 7s 80ms/step - loss: 8.1244e-04 - val_loss: 5.6191e-04\n",
      "✅ Saved model to HBAN_gru_model.h5\n",
      "\n",
      "📈 Downloading data for HII...\n"
     ]
    },
    {
     "name": "stderr",
     "output_type": "stream",
     "text": [
      "[*********************100%***********************]  1 of 1 completed\n"
     ]
    },
    {
     "name": "stdout",
     "output_type": "stream",
     "text": [
      "Training shape for HII - X_train: (2356, 100, 1), X_test: (1011, 100, 1)\n",
      "Epoch 1/10\n",
      "74/74 [==============================] - 11s 94ms/step - loss: 0.0116 - val_loss: 7.2522e-04\n",
      "Epoch 2/10\n",
      "74/74 [==============================] - 6s 80ms/step - loss: 0.0025 - val_loss: 4.6626e-04\n",
      "Epoch 3/10\n",
      "74/74 [==============================] - 6s 80ms/step - loss: 0.0020 - val_loss: 5.9958e-04\n",
      "Epoch 4/10\n",
      "74/74 [==============================] - 6s 80ms/step - loss: 0.0018 - val_loss: 4.5646e-04\n",
      "Epoch 5/10\n",
      "74/74 [==============================] - 7s 94ms/step - loss: 0.0016 - val_loss: 4.8919e-04\n",
      "Epoch 6/10\n",
      "74/74 [==============================] - 6s 80ms/step - loss: 0.0014 - val_loss: 8.9572e-04\n",
      "Epoch 7/10\n",
      "74/74 [==============================] - 6s 80ms/step - loss: 0.0014 - val_loss: 5.9118e-04\n",
      "Epoch 8/10\n",
      "74/74 [==============================] - 6s 80ms/step - loss: 0.0014 - val_loss: 4.5767e-04\n",
      "Epoch 9/10\n",
      "74/74 [==============================] - 6s 79ms/step - loss: 0.0014 - val_loss: 8.0419e-04\n",
      "Epoch 10/10\n",
      "74/74 [==============================] - 6s 84ms/step - loss: 0.0014 - val_loss: 5.3761e-04\n",
      "✅ Saved model to HII_gru_model.h5\n",
      "\n",
      "📈 Downloading data for IBM...\n"
     ]
    },
    {
     "name": "stderr",
     "output_type": "stream",
     "text": [
      "[*********************100%***********************]  1 of 1 completed\n"
     ]
    },
    {
     "name": "stdout",
     "output_type": "stream",
     "text": [
      "Training shape for IBM - X_train: (2571, 100, 1), X_test: (1102, 100, 1)\n",
      "Epoch 1/10\n",
      "81/81 [==============================] - 12s 97ms/step - loss: 0.0032 - val_loss: 5.8822e-04\n",
      "Epoch 2/10\n",
      "81/81 [==============================] - 7s 81ms/step - loss: 5.6649e-04 - val_loss: 6.1842e-04\n",
      "Epoch 3/10\n",
      "81/81 [==============================] - 6s 79ms/step - loss: 5.1431e-04 - val_loss: 5.6721e-04\n",
      "Epoch 4/10\n",
      "81/81 [==============================] - 7s 81ms/step - loss: 4.7564e-04 - val_loss: 8.4615e-04\n",
      "Epoch 5/10\n",
      "81/81 [==============================] - 6s 79ms/step - loss: 4.1668e-04 - val_loss: 3.7018e-04\n",
      "Epoch 6/10\n",
      "81/81 [==============================] - 7s 81ms/step - loss: 4.1064e-04 - val_loss: 5.4492e-04\n",
      "Epoch 7/10\n",
      "81/81 [==============================] - 6s 80ms/step - loss: 4.0848e-04 - val_loss: 2.7216e-04\n",
      "Epoch 8/10\n",
      "81/81 [==============================] - 7s 82ms/step - loss: 3.5987e-04 - val_loss: 2.6228e-04\n",
      "Epoch 9/10\n",
      "81/81 [==============================] - 6s 79ms/step - loss: 3.2150e-04 - val_loss: 2.5252e-04\n",
      "Epoch 10/10\n",
      "81/81 [==============================] - 7s 81ms/step - loss: 2.9020e-04 - val_loss: 3.7555e-04\n",
      "✅ Saved model to IBM_gru_model.h5\n",
      "\n",
      "📈 Downloading data for IEX...\n"
     ]
    },
    {
     "name": "stderr",
     "output_type": "stream",
     "text": [
      "[*********************100%***********************]  1 of 1 completed\n"
     ]
    },
    {
     "name": "stdout",
     "output_type": "stream",
     "text": [
      "Training shape for IEX - X_train: (2571, 100, 1), X_test: (1102, 100, 1)\n",
      "Epoch 1/10\n",
      "81/81 [==============================] - 14s 94ms/step - loss: 0.0060 - val_loss: 5.4302e-04\n",
      "Epoch 2/10\n",
      "81/81 [==============================] - 7s 86ms/step - loss: 0.0012 - val_loss: 4.0510e-04\n",
      "Epoch 3/10\n",
      "81/81 [==============================] - 7s 82ms/step - loss: 9.5612e-04 - val_loss: 6.6945e-04\n",
      "Epoch 4/10\n",
      "81/81 [==============================] - 7s 81ms/step - loss: 9.7449e-04 - val_loss: 4.3314e-04\n",
      "Epoch 5/10\n",
      "81/81 [==============================] - 7s 80ms/step - loss: 8.7211e-04 - val_loss: 4.1402e-04\n",
      "Epoch 6/10\n",
      "81/81 [==============================] - 7s 82ms/step - loss: 8.2268e-04 - val_loss: 3.4046e-04\n",
      "Epoch 7/10\n",
      "81/81 [==============================] - 6s 80ms/step - loss: 7.5224e-04 - val_loss: 3.9068e-04\n",
      "Epoch 8/10\n",
      "81/81 [==============================] - 8s 99ms/step - loss: 7.6543e-04 - val_loss: 3.5329e-04\n",
      "Epoch 9/10\n",
      "81/81 [==============================] - 7s 85ms/step - loss: 6.5079e-04 - val_loss: 4.4592e-04\n",
      "Epoch 10/10\n",
      "81/81 [==============================] - 6s 79ms/step - loss: 7.1963e-04 - val_loss: 0.0023\n",
      "✅ Saved model to IEX_gru_model.h5\n",
      "\n",
      "📈 Downloading data for IDXX...\n"
     ]
    },
    {
     "name": "stderr",
     "output_type": "stream",
     "text": [
      "[*********************100%***********************]  1 of 1 completed\n"
     ]
    },
    {
     "name": "stdout",
     "output_type": "stream",
     "text": [
      "Training shape for IDXX - X_train: (2571, 100, 1), X_test: (1102, 100, 1)\n",
      "Epoch 1/10\n",
      "81/81 [==============================] - 12s 94ms/step - loss: 0.0013 - val_loss: 0.0014\n",
      "Epoch 2/10\n",
      "81/81 [==============================] - 7s 89ms/step - loss: 3.6072e-04 - val_loss: 5.0077e-04\n",
      "Epoch 3/10\n",
      "81/81 [==============================] - 7s 81ms/step - loss: 3.6742e-04 - val_loss: 0.0018\n",
      "Epoch 4/10\n",
      "81/81 [==============================] - 7s 81ms/step - loss: 3.3574e-04 - val_loss: 5.9178e-04\n",
      "Epoch 5/10\n",
      "81/81 [==============================] - 7s 83ms/step - loss: 2.6005e-04 - val_loss: 5.9450e-04\n",
      "Epoch 6/10\n",
      "81/81 [==============================] - 7s 82ms/step - loss: 2.6032e-04 - val_loss: 6.6497e-04\n",
      "Epoch 7/10\n",
      "81/81 [==============================] - 7s 81ms/step - loss: 2.4774e-04 - val_loss: 4.6292e-04\n",
      "Epoch 8/10\n",
      "81/81 [==============================] - 7s 81ms/step - loss: 2.1948e-04 - val_loss: 7.0749e-04\n",
      "Epoch 9/10\n",
      "81/81 [==============================] - 6s 80ms/step - loss: 2.2812e-04 - val_loss: 5.8171e-04\n",
      "Epoch 10/10\n",
      "81/81 [==============================] - 7s 81ms/step - loss: 2.6421e-04 - val_loss: 5.8673e-04\n",
      "✅ Saved model to IDXX_gru_model.h5\n",
      "\n",
      "📈 Downloading data for ITW...\n"
     ]
    },
    {
     "name": "stderr",
     "output_type": "stream",
     "text": [
      "[*********************100%***********************]  1 of 1 completed\n"
     ]
    },
    {
     "name": "stdout",
     "output_type": "stream",
     "text": [
      "Training shape for ITW - X_train: (2571, 100, 1), X_test: (1102, 100, 1)\n",
      "Epoch 1/10\n",
      "81/81 [==============================] - 12s 93ms/step - loss: 0.0064 - val_loss: 9.8449e-04\n",
      "Epoch 2/10\n",
      "81/81 [==============================] - 7s 82ms/step - loss: 9.0015e-04 - val_loss: 0.0012\n",
      "Epoch 3/10\n",
      "81/81 [==============================] - 6s 78ms/step - loss: 7.3041e-04 - val_loss: 7.1289e-04\n",
      "Epoch 4/10\n",
      "81/81 [==============================] - 7s 82ms/step - loss: 6.8102e-04 - val_loss: 3.0873e-04\n",
      "Epoch 5/10\n",
      "81/81 [==============================] - 6s 80ms/step - loss: 6.2346e-04 - val_loss: 2.8821e-04\n",
      "Epoch 6/10\n",
      "81/81 [==============================] - 7s 80ms/step - loss: 6.0250e-04 - val_loss: 3.1285e-04\n",
      "Epoch 7/10\n",
      "81/81 [==============================] - 6s 80ms/step - loss: 5.7482e-04 - val_loss: 4.4280e-04\n",
      "Epoch 8/10\n",
      "81/81 [==============================] - 6s 79ms/step - loss: 5.7427e-04 - val_loss: 8.2968e-04\n",
      "Epoch 9/10\n",
      "81/81 [==============================] - 7s 81ms/step - loss: 5.3840e-04 - val_loss: 7.7121e-04\n",
      "Epoch 10/10\n",
      "81/81 [==============================] - 6s 80ms/step - loss: 5.1169e-04 - val_loss: 2.7248e-04\n",
      "✅ Saved model to ITW_gru_model.h5\n",
      "\n",
      "📈 Downloading data for INCY...\n"
     ]
    },
    {
     "name": "stderr",
     "output_type": "stream",
     "text": [
      "[*********************100%***********************]  1 of 1 completed\n"
     ]
    },
    {
     "name": "stdout",
     "output_type": "stream",
     "text": [
      "Training shape for INCY - X_train: (2571, 100, 1), X_test: (1102, 100, 1)\n",
      "Epoch 1/10\n",
      "81/81 [==============================] - 12s 90ms/step - loss: 0.0119 - val_loss: 2.9425e-04\n",
      "Epoch 2/10\n",
      "81/81 [==============================] - 6s 79ms/step - loss: 0.0027 - val_loss: 1.9571e-04\n",
      "Epoch 3/10\n",
      "81/81 [==============================] - 6s 80ms/step - loss: 0.0022 - val_loss: 4.9342e-04\n",
      "Epoch 4/10\n",
      "81/81 [==============================] - 6s 79ms/step - loss: 0.0022 - val_loss: 9.2394e-04\n",
      "Epoch 5/10\n",
      "81/81 [==============================] - 7s 80ms/step - loss: 0.0019 - val_loss: 4.7840e-04\n",
      "Epoch 6/10\n",
      "81/81 [==============================] - 6s 80ms/step - loss: 0.0018 - val_loss: 1.9891e-04\n",
      "Epoch 7/10\n",
      "81/81 [==============================] - 6s 79ms/step - loss: 0.0017 - val_loss: 2.1364e-04\n",
      "Epoch 8/10\n",
      "81/81 [==============================] - 6s 79ms/step - loss: 0.0018 - val_loss: 6.5924e-04\n",
      "Epoch 9/10\n",
      "81/81 [==============================] - 7s 80ms/step - loss: 0.0018 - val_loss: 3.0897e-04\n",
      "Epoch 10/10\n",
      "81/81 [==============================] - 6s 79ms/step - loss: 0.0015 - val_loss: 4.0439e-04\n",
      "✅ Saved model to INCY_gru_model.h5\n",
      "\n",
      "📈 Downloading data for IR...\n"
     ]
    },
    {
     "name": "stderr",
     "output_type": "stream",
     "text": [
      "[*********************100%***********************]  1 of 1 completed\n"
     ]
    },
    {
     "name": "stdout",
     "output_type": "stream",
     "text": [
      "Training shape for IR - X_train: (1274, 100, 1), X_test: (547, 100, 1)\n",
      "Epoch 1/10\n",
      "40/40 [==============================] - 9s 103ms/step - loss: 0.0071 - val_loss: 0.0061\n",
      "Epoch 2/10\n",
      "40/40 [==============================] - 3s 81ms/step - loss: 0.0011 - val_loss: 0.0025\n",
      "Epoch 3/10\n",
      "40/40 [==============================] - 3s 80ms/step - loss: 8.5001e-04 - val_loss: 6.9269e-04\n",
      "Epoch 4/10\n",
      "40/40 [==============================] - 3s 82ms/step - loss: 7.4084e-04 - val_loss: 5.7240e-04\n",
      "Epoch 5/10\n",
      "40/40 [==============================] - 3s 81ms/step - loss: 7.4842e-04 - val_loss: 4.8064e-04\n",
      "Epoch 6/10\n",
      "40/40 [==============================] - 3s 83ms/step - loss: 7.4505e-04 - val_loss: 8.4427e-04\n",
      "Epoch 7/10\n",
      "40/40 [==============================] - 3s 83ms/step - loss: 6.3777e-04 - val_loss: 4.7258e-04\n",
      "Epoch 8/10\n",
      "40/40 [==============================] - 3s 81ms/step - loss: 6.4116e-04 - val_loss: 7.9209e-04\n",
      "Epoch 9/10\n",
      "40/40 [==============================] - 3s 84ms/step - loss: 6.1382e-04 - val_loss: 7.5411e-04\n",
      "Epoch 10/10\n",
      "40/40 [==============================] - 3s 83ms/step - loss: 5.8392e-04 - val_loss: 5.6274e-04\n",
      "✅ Saved model to IR_gru_model.h5\n",
      "\n",
      "📈 Downloading data for PODD...\n"
     ]
    },
    {
     "name": "stderr",
     "output_type": "stream",
     "text": [
      "[*********************100%***********************]  1 of 1 completed\n"
     ]
    },
    {
     "name": "stdout",
     "output_type": "stream",
     "text": [
      "Training shape for PODD - X_train: (2571, 100, 1), X_test: (1102, 100, 1)\n",
      "Epoch 1/10\n",
      "81/81 [==============================] - 12s 94ms/step - loss: 0.0034 - val_loss: 9.3922e-04\n",
      "Epoch 2/10\n",
      "81/81 [==============================] - 6s 80ms/step - loss: 6.2581e-04 - val_loss: 0.0022\n",
      "Epoch 3/10\n",
      "81/81 [==============================] - 6s 80ms/step - loss: 5.1704e-04 - val_loss: 0.0028\n",
      "Epoch 4/10\n",
      "81/81 [==============================] - 7s 81ms/step - loss: 4.3998e-04 - val_loss: 0.0012\n",
      "Epoch 5/10\n",
      "81/81 [==============================] - 6s 80ms/step - loss: 4.4789e-04 - val_loss: 0.0011\n",
      "Epoch 6/10\n",
      "81/81 [==============================] - 6s 79ms/step - loss: 4.4340e-04 - val_loss: 9.5464e-04\n",
      "Epoch 7/10\n",
      "81/81 [==============================] - 6s 80ms/step - loss: 4.1897e-04 - val_loss: 8.0537e-04\n",
      "Epoch 8/10\n",
      "81/81 [==============================] - 6s 79ms/step - loss: 3.8602e-04 - val_loss: 0.0015\n",
      "Epoch 9/10\n",
      "81/81 [==============================] - 6s 80ms/step - loss: 3.7458e-04 - val_loss: 0.0015\n",
      "Epoch 10/10\n",
      "81/81 [==============================] - 6s 80ms/step - loss: 3.7866e-04 - val_loss: 7.4540e-04\n",
      "✅ Saved model to PODD_gru_model.h5\n",
      "\n",
      "📈 Downloading data for INTC...\n"
     ]
    },
    {
     "name": "stderr",
     "output_type": "stream",
     "text": [
      "[*********************100%***********************]  1 of 1 completed\n"
     ]
    },
    {
     "name": "stdout",
     "output_type": "stream",
     "text": [
      "Training shape for INTC - X_train: (2571, 100, 1), X_test: (1102, 100, 1)\n",
      "Epoch 1/10\n",
      "81/81 [==============================] - 12s 87ms/step - loss: 0.0146 - val_loss: 0.0012\n",
      "Epoch 2/10\n",
      "81/81 [==============================] - 6s 77ms/step - loss: 0.0021 - val_loss: 9.5335e-04\n",
      "Epoch 3/10\n",
      "81/81 [==============================] - 6s 77ms/step - loss: 0.0020 - val_loss: 8.7723e-04\n",
      "Epoch 4/10\n",
      "81/81 [==============================] - 6s 76ms/step - loss: 0.0016 - val_loss: 9.1779e-04\n",
      "Epoch 5/10\n",
      "81/81 [==============================] - 6s 77ms/step - loss: 0.0017 - val_loss: 0.0010\n",
      "Epoch 6/10\n",
      "81/81 [==============================] - 6s 76ms/step - loss: 0.0015 - val_loss: 8.5330e-04\n",
      "Epoch 7/10\n",
      "81/81 [==============================] - 6s 77ms/step - loss: 0.0014 - val_loss: 8.4237e-04\n",
      "Epoch 8/10\n",
      "81/81 [==============================] - 6s 77ms/step - loss: 0.0013 - val_loss: 0.0011\n",
      "Epoch 9/10\n",
      "81/81 [==============================] - 6s 78ms/step - loss: 0.0013 - val_loss: 7.2217e-04\n",
      "Epoch 10/10\n",
      "81/81 [==============================] - 6s 76ms/step - loss: 0.0014 - val_loss: 9.2183e-04\n",
      "✅ Saved model to INTC_gru_model.h5\n",
      "\n",
      "📈 Downloading data for ICE...\n"
     ]
    },
    {
     "name": "stderr",
     "output_type": "stream",
     "text": [
      "[*********************100%***********************]  1 of 1 completed\n"
     ]
    },
    {
     "name": "stdout",
     "output_type": "stream",
     "text": [
      "Training shape for ICE - X_train: (2571, 100, 1), X_test: (1102, 100, 1)\n",
      "Epoch 1/10\n",
      "81/81 [==============================] - 12s 86ms/step - loss: 0.0059 - val_loss: 5.1584e-04\n",
      "Epoch 2/10\n",
      "81/81 [==============================] - 6s 76ms/step - loss: 6.6909e-04 - val_loss: 2.9354e-04\n",
      "Epoch 3/10\n",
      "81/81 [==============================] - 6s 76ms/step - loss: 5.7756e-04 - val_loss: 2.4870e-04\n",
      "Epoch 4/10\n",
      "81/81 [==============================] - 6s 76ms/step - loss: 5.1715e-04 - val_loss: 5.0796e-04\n",
      "Epoch 5/10\n",
      "81/81 [==============================] - 6s 76ms/step - loss: 5.1380e-04 - val_loss: 0.0010\n",
      "Epoch 6/10\n",
      "81/81 [==============================] - 6s 77ms/step - loss: 4.2856e-04 - val_loss: 2.3846e-04\n",
      "Epoch 7/10\n",
      "81/81 [==============================] - 6s 76ms/step - loss: 4.1426e-04 - val_loss: 3.7841e-04\n",
      "Epoch 8/10\n",
      "81/81 [==============================] - 6s 78ms/step - loss: 4.4054e-04 - val_loss: 2.3456e-04\n",
      "Epoch 9/10\n",
      "81/81 [==============================] - 6s 76ms/step - loss: 3.6203e-04 - val_loss: 3.4507e-04\n",
      "Epoch 10/10\n",
      "81/81 [==============================] - 6s 78ms/step - loss: 3.7117e-04 - val_loss: 2.8162e-04\n",
      "✅ Saved model to ICE_gru_model.h5\n",
      "\n",
      "📈 Downloading data for IFF...\n"
     ]
    },
    {
     "name": "stderr",
     "output_type": "stream",
     "text": [
      "[*********************100%***********************]  1 of 1 completed\n"
     ]
    },
    {
     "name": "stdout",
     "output_type": "stream",
     "text": [
      "Training shape for IFF - X_train: (2571, 100, 1), X_test: (1102, 100, 1)\n",
      "Epoch 1/10\n",
      "81/81 [==============================] - 78s 156ms/step - loss: 0.0205 - val_loss: 7.7287e-04\n",
      "Epoch 2/10\n",
      "81/81 [==============================] - 13s 157ms/step - loss: 0.0036 - val_loss: 7.2967e-04\n",
      "Epoch 3/10\n",
      "81/81 [==============================] - 10s 121ms/step - loss: 0.0031 - val_loss: 9.5810e-04\n",
      "Epoch 4/10\n",
      "81/81 [==============================] - 9s 115ms/step - loss: 0.0027 - val_loss: 6.9533e-04\n",
      "Epoch 5/10\n",
      "81/81 [==============================] - 12s 153ms/step - loss: 0.0027 - val_loss: 8.1479e-04\n",
      "Epoch 6/10\n",
      "81/81 [==============================] - 9s 110ms/step - loss: 0.0023 - val_loss: 7.0595e-04\n",
      "Epoch 7/10\n",
      "81/81 [==============================] - 9s 111ms/step - loss: 0.0024 - val_loss: 7.6629e-04\n",
      "Epoch 8/10\n",
      "81/81 [==============================] - 10s 120ms/step - loss: 0.0021 - val_loss: 7.5529e-04\n",
      "Epoch 9/10\n",
      "81/81 [==============================] - 9s 111ms/step - loss: 0.0020 - val_loss: 7.0491e-04\n",
      "Epoch 10/10\n",
      "81/81 [==============================] - 9s 109ms/step - loss: 0.0021 - val_loss: 0.0016\n",
      "✅ Saved model to IFF_gru_model.h5\n",
      "\n",
      "📈 Downloading data for IP...\n"
     ]
    },
    {
     "name": "stderr",
     "output_type": "stream",
     "text": [
      "[*********************100%***********************]  1 of 1 completed\n"
     ]
    },
    {
     "name": "stdout",
     "output_type": "stream",
     "text": [
      "Training shape for IP - X_train: (2571, 100, 1), X_test: (1102, 100, 1)\n",
      "Epoch 1/10\n",
      "81/81 [==============================] - 16s 116ms/step - loss: 0.0081 - val_loss: 7.2237e-04\n",
      "Epoch 2/10\n",
      "81/81 [==============================] - 8s 99ms/step - loss: 0.0016 - val_loss: 9.5440e-04\n",
      "Epoch 3/10\n",
      "81/81 [==============================] - 9s 108ms/step - loss: 0.0014 - val_loss: 5.1345e-04\n",
      "Epoch 4/10\n",
      "81/81 [==============================] - 8s 97ms/step - loss: 0.0013 - val_loss: 5.0275e-04\n",
      "Epoch 5/10\n",
      "81/81 [==============================] - 8s 100ms/step - loss: 0.0011 - val_loss: 4.7558e-04\n",
      "Epoch 6/10\n",
      "81/81 [==============================] - 8s 101ms/step - loss: 0.0011 - val_loss: 4.8358e-04\n",
      "Epoch 7/10\n",
      "81/81 [==============================] - 8s 99ms/step - loss: 0.0010 - val_loss: 5.1856e-04\n",
      "Epoch 8/10\n",
      "81/81 [==============================] - 8s 97ms/step - loss: 0.0010 - val_loss: 4.9543e-04\n",
      "Epoch 9/10\n",
      "81/81 [==============================] - 8s 103ms/step - loss: 9.2646e-04 - val_loss: 4.4236e-04\n",
      "Epoch 10/10\n",
      "81/81 [==============================] - 8s 98ms/step - loss: 8.8394e-04 - val_loss: 4.5830e-04\n",
      "✅ Saved model to IP_gru_model.h5\n",
      "\n",
      "📈 Downloading data for IPG...\n"
     ]
    },
    {
     "name": "stderr",
     "output_type": "stream",
     "text": [
      "[*********************100%***********************]  1 of 1 completed\n"
     ]
    },
    {
     "name": "stdout",
     "output_type": "stream",
     "text": [
      "Training shape for IPG - X_train: (2571, 100, 1), X_test: (1102, 100, 1)\n",
      "Epoch 1/10\n",
      "81/81 [==============================] - 15s 108ms/step - loss: 0.0063 - val_loss: 5.7091e-04\n",
      "Epoch 2/10\n",
      "81/81 [==============================] - 7s 91ms/step - loss: 0.0011 - val_loss: 6.3427e-04\n",
      "Epoch 3/10\n",
      "81/81 [==============================] - 8s 96ms/step - loss: 9.6860e-04 - val_loss: 7.0246e-04\n",
      "Epoch 4/10\n",
      "81/81 [==============================] - 8s 93ms/step - loss: 7.7063e-04 - val_loss: 8.4893e-04\n",
      "Epoch 5/10\n",
      "81/81 [==============================] - 7s 92ms/step - loss: 7.1370e-04 - val_loss: 0.0010\n",
      "Epoch 6/10\n",
      "81/81 [==============================] - 7s 93ms/step - loss: 6.3986e-04 - val_loss: 5.3346e-04\n",
      "Epoch 7/10\n",
      "81/81 [==============================] - 7s 91ms/step - loss: 5.9610e-04 - val_loss: 0.0013\n",
      "Epoch 8/10\n",
      "81/81 [==============================] - 7s 92ms/step - loss: 5.9864e-04 - val_loss: 6.1590e-04\n",
      "Epoch 9/10\n",
      "81/81 [==============================] - 7s 92ms/step - loss: 5.7548e-04 - val_loss: 9.8189e-04\n",
      "Epoch 10/10\n",
      "81/81 [==============================] - 8s 93ms/step - loss: 5.2396e-04 - val_loss: 0.0011\n",
      "✅ Saved model to IPG_gru_model.h5\n",
      "\n",
      "📈 Downloading data for INTU...\n"
     ]
    },
    {
     "name": "stderr",
     "output_type": "stream",
     "text": [
      "[*********************100%***********************]  1 of 1 completed\n"
     ]
    },
    {
     "name": "stdout",
     "output_type": "stream",
     "text": [
      "Training shape for INTU - X_train: (2571, 100, 1), X_test: (1102, 100, 1)\n",
      "Epoch 1/10\n",
      "81/81 [==============================] - 15s 103ms/step - loss: 0.0020 - val_loss: 5.5815e-04\n",
      "Epoch 2/10\n",
      "81/81 [==============================] - 7s 88ms/step - loss: 3.7027e-04 - val_loss: 0.0015\n",
      "Epoch 3/10\n",
      "81/81 [==============================] - 7s 90ms/step - loss: 2.7381e-04 - val_loss: 0.0019\n",
      "Epoch 4/10\n",
      "81/81 [==============================] - 7s 89ms/step - loss: 2.8216e-04 - val_loss: 7.3207e-04\n",
      "Epoch 5/10\n",
      "81/81 [==============================] - 7s 89ms/step - loss: 2.7608e-04 - val_loss: 5.3272e-04\n",
      "Epoch 6/10\n",
      "81/81 [==============================] - 7s 88ms/step - loss: 2.3422e-04 - val_loss: 6.1142e-04\n",
      "Epoch 7/10\n",
      "81/81 [==============================] - 7s 90ms/step - loss: 2.2390e-04 - val_loss: 0.0011\n",
      "Epoch 8/10\n",
      "81/81 [==============================] - 7s 90ms/step - loss: 2.1989e-04 - val_loss: 5.3704e-04\n",
      "Epoch 9/10\n",
      "81/81 [==============================] - 7s 88ms/step - loss: 2.1349e-04 - val_loss: 5.9993e-04\n",
      "Epoch 10/10\n",
      "81/81 [==============================] - 7s 87ms/step - loss: 1.8012e-04 - val_loss: 5.4264e-04\n",
      "✅ Saved model to INTU_gru_model.h5\n",
      "\n",
      "📈 Downloading data for ISRG...\n"
     ]
    },
    {
     "name": "stderr",
     "output_type": "stream",
     "text": [
      "[*********************100%***********************]  1 of 1 completed\n"
     ]
    },
    {
     "name": "stdout",
     "output_type": "stream",
     "text": [
      "Training shape for ISRG - X_train: (2571, 100, 1), X_test: (1102, 100, 1)\n",
      "Epoch 1/10\n",
      "81/81 [==============================] - 14s 101ms/step - loss: 0.0025 - val_loss: 6.1198e-04\n",
      "Epoch 2/10\n",
      "81/81 [==============================] - 7s 88ms/step - loss: 3.0988e-04 - val_loss: 3.1952e-04\n",
      "Epoch 3/10\n",
      "81/81 [==============================] - 7s 84ms/step - loss: 2.5059e-04 - val_loss: 3.1979e-04\n",
      "Epoch 4/10\n",
      "81/81 [==============================] - 7s 85ms/step - loss: 2.2989e-04 - val_loss: 0.0011\n",
      "Epoch 5/10\n",
      "81/81 [==============================] - 7s 86ms/step - loss: 2.2744e-04 - val_loss: 4.0546e-04\n",
      "Epoch 6/10\n",
      "81/81 [==============================] - 7s 89ms/step - loss: 2.0179e-04 - val_loss: 3.1323e-04\n",
      "Epoch 7/10\n",
      "81/81 [==============================] - 12s 153ms/step - loss: 2.0784e-04 - val_loss: 3.7490e-04\n",
      "Epoch 8/10\n",
      "81/81 [==============================] - 9s 114ms/step - loss: 1.6955e-04 - val_loss: 7.3326e-04\n",
      "Epoch 9/10\n",
      "81/81 [==============================] - 7s 84ms/step - loss: 1.6771e-04 - val_loss: 3.0042e-04\n",
      "Epoch 10/10\n",
      "81/81 [==============================] - 7s 87ms/step - loss: 1.7395e-04 - val_loss: 2.8966e-04\n",
      "✅ Saved model to ISRG_gru_model.h5\n",
      "\n",
      "📈 Downloading data for IVZ...\n"
     ]
    },
    {
     "name": "stderr",
     "output_type": "stream",
     "text": [
      "[*********************100%***********************]  1 of 1 completed\n"
     ]
    },
    {
     "name": "stdout",
     "output_type": "stream",
     "text": [
      "Training shape for IVZ - X_train: (2571, 100, 1), X_test: (1102, 100, 1)\n",
      "Epoch 1/10\n",
      "81/81 [==============================] - 16s 109ms/step - loss: 0.0332 - val_loss: 0.0012\n",
      "Epoch 2/10\n",
      "81/81 [==============================] - 7s 84ms/step - loss: 0.0050 - val_loss: 8.5517e-04\n",
      "Epoch 3/10\n",
      "81/81 [==============================] - 7s 83ms/step - loss: 0.0041 - val_loss: 7.8430e-04\n",
      "Epoch 4/10\n",
      "81/81 [==============================] - 7s 84ms/step - loss: 0.0036 - val_loss: 8.8665e-04\n",
      "Epoch 5/10\n",
      "81/81 [==============================] - 7s 83ms/step - loss: 0.0030 - val_loss: 7.5686e-04\n",
      "Epoch 6/10\n",
      "81/81 [==============================] - 7s 83ms/step - loss: 0.0031 - val_loss: 6.9975e-04\n",
      "Epoch 7/10\n",
      "81/81 [==============================] - 7s 83ms/step - loss: 0.0027 - val_loss: 7.0205e-04\n",
      "Epoch 8/10\n",
      "81/81 [==============================] - 7s 82ms/step - loss: 0.0026 - val_loss: 0.0011\n",
      "Epoch 9/10\n",
      "81/81 [==============================] - 7s 83ms/step - loss: 0.0027 - val_loss: 7.6529e-04\n",
      "Epoch 10/10\n",
      "81/81 [==============================] - 7s 83ms/step - loss: 0.0026 - val_loss: 6.6087e-04\n",
      "✅ Saved model to IVZ_gru_model.h5\n",
      "\n",
      "📈 Downloading data for INVH...\n"
     ]
    },
    {
     "name": "stderr",
     "output_type": "stream",
     "text": [
      "[*********************100%***********************]  1 of 1 completed\n"
     ]
    },
    {
     "name": "stdout",
     "output_type": "stream",
     "text": [
      "Training shape for INVH - X_train: (1323, 100, 1), X_test: (568, 100, 1)\n",
      "Epoch 1/10\n",
      "42/42 [==============================] - 11s 114ms/step - loss: 0.0396 - val_loss: 0.0015\n",
      "Epoch 2/10\n",
      "42/42 [==============================] - 3s 82ms/step - loss: 0.0036 - val_loss: 5.9312e-04\n",
      "Epoch 3/10\n",
      "42/42 [==============================] - 3s 82ms/step - loss: 0.0032 - val_loss: 5.8652e-04\n",
      "Epoch 4/10\n",
      "42/42 [==============================] - 3s 83ms/step - loss: 0.0031 - val_loss: 5.3021e-04\n",
      "Epoch 5/10\n",
      "42/42 [==============================] - 3s 84ms/step - loss: 0.0026 - val_loss: 7.4109e-04\n",
      "Epoch 6/10\n",
      "42/42 [==============================] - 3s 82ms/step - loss: 0.0025 - val_loss: 5.1219e-04\n",
      "Epoch 7/10\n",
      "42/42 [==============================] - 3s 83ms/step - loss: 0.0026 - val_loss: 5.4841e-04\n",
      "Epoch 8/10\n",
      "42/42 [==============================] - 3s 81ms/step - loss: 0.0025 - val_loss: 5.0316e-04\n",
      "Epoch 9/10\n",
      "42/42 [==============================] - 4s 87ms/step - loss: 0.0022 - val_loss: 5.6016e-04\n",
      "Epoch 10/10\n",
      "42/42 [==============================] - 3s 82ms/step - loss: 0.0024 - val_loss: 5.2524e-04\n",
      "✅ Saved model to INVH_gru_model.h5\n",
      "\n",
      "📈 Downloading data for IQV...\n"
     ]
    },
    {
     "name": "stderr",
     "output_type": "stream",
     "text": [
      "[*********************100%***********************]  1 of 1 completed\n"
     ]
    },
    {
     "name": "stdout",
     "output_type": "stream",
     "text": [
      "Training shape for IQV - X_train: (1981, 100, 1), X_test: (850, 100, 1)\n",
      "Epoch 1/10\n",
      "62/62 [==============================] - 12s 99ms/step - loss: 0.0075 - val_loss: 7.9307e-04\n",
      "Epoch 2/10\n",
      "62/62 [==============================] - 5s 80ms/step - loss: 0.0014 - val_loss: 7.2703e-04\n",
      "Epoch 3/10\n",
      "62/62 [==============================] - 5s 78ms/step - loss: 0.0014 - val_loss: 0.0041\n",
      "Epoch 4/10\n",
      "62/62 [==============================] - 5s 77ms/step - loss: 0.0012 - val_loss: 0.0011\n",
      "Epoch 5/10\n",
      "62/62 [==============================] - 5s 77ms/step - loss: 9.6445e-04 - val_loss: 6.8732e-04\n",
      "Epoch 6/10\n",
      "62/62 [==============================] - 5s 77ms/step - loss: 0.0011 - val_loss: 7.2665e-04\n",
      "Epoch 7/10\n",
      "62/62 [==============================] - 5s 77ms/step - loss: 8.9759e-04 - val_loss: 0.0018\n",
      "Epoch 8/10\n",
      "62/62 [==============================] - 5s 78ms/step - loss: 8.5838e-04 - val_loss: 7.8871e-04\n",
      "Epoch 9/10\n",
      "62/62 [==============================] - 5s 77ms/step - loss: 8.4658e-04 - val_loss: 7.4144e-04\n",
      "Epoch 10/10\n",
      "62/62 [==============================] - 5s 77ms/step - loss: 7.6675e-04 - val_loss: 6.8088e-04\n",
      "✅ Saved model to IQV_gru_model.h5\n",
      "\n",
      "📈 Downloading data for IRM...\n"
     ]
    },
    {
     "name": "stderr",
     "output_type": "stream",
     "text": [
      "[*********************100%***********************]  1 of 1 completed\n"
     ]
    },
    {
     "name": "stdout",
     "output_type": "stream",
     "text": [
      "Training shape for IRM - X_train: (2571, 100, 1), X_test: (1102, 100, 1)\n",
      "Epoch 1/10\n",
      "81/81 [==============================] - 13s 89ms/step - loss: 6.9127e-04 - val_loss: 8.6230e-04\n",
      "Epoch 2/10\n",
      "81/81 [==============================] - 6s 77ms/step - loss: 9.9562e-05 - val_loss: 4.4437e-04\n",
      "Epoch 3/10\n",
      "81/81 [==============================] - 6s 77ms/step - loss: 8.6175e-05 - val_loss: 4.3746e-04\n",
      "Epoch 4/10\n",
      "81/81 [==============================] - 6s 77ms/step - loss: 7.3151e-05 - val_loss: 2.9653e-04\n",
      "Epoch 5/10\n",
      "81/81 [==============================] - 6s 76ms/step - loss: 6.8363e-05 - val_loss: 2.6251e-04\n",
      "Epoch 6/10\n",
      "81/81 [==============================] - 6s 78ms/step - loss: 6.7503e-05 - val_loss: 2.5817e-04\n",
      "Epoch 7/10\n",
      "81/81 [==============================] - 6s 77ms/step - loss: 5.6858e-05 - val_loss: 2.2567e-04\n",
      "Epoch 8/10\n",
      "81/81 [==============================] - 6s 78ms/step - loss: 5.3674e-05 - val_loss: 1.8927e-04\n",
      "Epoch 9/10\n",
      "81/81 [==============================] - 6s 76ms/step - loss: 5.0349e-05 - val_loss: 2.7083e-04\n",
      "Epoch 10/10\n",
      "81/81 [==============================] - 6s 77ms/step - loss: 4.8339e-05 - val_loss: 4.9004e-04\n",
      "✅ Saved model to IRM_gru_model.h5\n",
      "\n",
      "📈 Downloading data for JBHT...\n"
     ]
    },
    {
     "name": "stderr",
     "output_type": "stream",
     "text": [
      "[*********************100%***********************]  1 of 1 completed\n"
     ]
    },
    {
     "name": "stdout",
     "output_type": "stream",
     "text": [
      "Training shape for JBHT - X_train: (2571, 100, 1), X_test: (1102, 100, 1)\n",
      "Epoch 1/10\n",
      "81/81 [==============================] - 13s 89ms/step - loss: 0.0035 - val_loss: 6.0418e-04\n",
      "Epoch 2/10\n",
      "81/81 [==============================] - 6s 78ms/step - loss: 9.6885e-04 - val_loss: 0.0011\n",
      "Epoch 3/10\n",
      "81/81 [==============================] - 6s 75ms/step - loss: 7.9352e-04 - val_loss: 6.6252e-04\n",
      "Epoch 4/10\n",
      "81/81 [==============================] - 6s 76ms/step - loss: 6.8748e-04 - val_loss: 5.5387e-04\n",
      "Epoch 5/10\n",
      "81/81 [==============================] - 6s 75ms/step - loss: 6.2249e-04 - val_loss: 0.0012\n",
      "Epoch 6/10\n",
      "81/81 [==============================] - 6s 76ms/step - loss: 6.6565e-04 - val_loss: 8.1597e-04\n",
      "Epoch 7/10\n",
      "81/81 [==============================] - 6s 76ms/step - loss: 5.7326e-04 - val_loss: 5.8207e-04\n",
      "Epoch 8/10\n",
      "81/81 [==============================] - 6s 76ms/step - loss: 5.0092e-04 - val_loss: 6.5370e-04\n",
      "Epoch 9/10\n",
      "81/81 [==============================] - 6s 78ms/step - loss: 4.7624e-04 - val_loss: 5.5160e-04\n",
      "Epoch 10/10\n",
      "81/81 [==============================] - 6s 79ms/step - loss: 4.4465e-04 - val_loss: 9.4089e-04\n",
      "✅ Saved model to JBHT_gru_model.h5\n",
      "\n",
      "📈 Downloading data for JBL...\n"
     ]
    },
    {
     "name": "stderr",
     "output_type": "stream",
     "text": [
      "[*********************100%***********************]  1 of 1 completed\n"
     ]
    },
    {
     "name": "stdout",
     "output_type": "stream",
     "text": [
      "Training shape for JBL - X_train: (2571, 100, 1), X_test: (1102, 100, 1)\n",
      "Epoch 1/10\n",
      "81/81 [==============================] - 13s 92ms/step - loss: 7.4224e-04 - val_loss: 7.9708e-04\n",
      "Epoch 2/10\n",
      "81/81 [==============================] - 6s 78ms/step - loss: 1.0855e-04 - val_loss: 6.9372e-04\n",
      "Epoch 3/10\n",
      "81/81 [==============================] - 6s 77ms/step - loss: 8.9786e-05 - val_loss: 5.4127e-04\n",
      "Epoch 4/10\n",
      "81/81 [==============================] - 6s 76ms/step - loss: 8.2249e-05 - val_loss: 9.9724e-04\n",
      "Epoch 5/10\n",
      "81/81 [==============================] - 6s 75ms/step - loss: 7.8680e-05 - val_loss: 0.0014\n",
      "Epoch 6/10\n",
      "81/81 [==============================] - 6s 76ms/step - loss: 7.2257e-05 - val_loss: 4.7956e-04\n",
      "Epoch 7/10\n",
      "81/81 [==============================] - 6s 77ms/step - loss: 6.3761e-05 - val_loss: 3.5966e-04\n",
      "Epoch 8/10\n",
      "81/81 [==============================] - 6s 76ms/step - loss: 6.2178e-05 - val_loss: 3.5081e-04\n",
      "Epoch 9/10\n",
      "81/81 [==============================] - 6s 77ms/step - loss: 5.6863e-05 - val_loss: 5.5793e-04\n",
      "Epoch 10/10\n",
      "81/81 [==============================] - 6s 77ms/step - loss: 5.3689e-05 - val_loss: 3.2335e-04\n",
      "✅ Saved model to JBL_gru_model.h5\n",
      "\n",
      "📈 Downloading data for JKHY...\n"
     ]
    },
    {
     "name": "stderr",
     "output_type": "stream",
     "text": [
      "[*********************100%***********************]  1 of 1 completed\n"
     ]
    },
    {
     "name": "stdout",
     "output_type": "stream",
     "text": [
      "Training shape for JKHY - X_train: (2571, 100, 1), X_test: (1102, 100, 1)\n",
      "Epoch 1/10\n",
      "81/81 [==============================] - 13s 91ms/step - loss: 0.0091 - val_loss: 5.7491e-04\n",
      "Epoch 2/10\n",
      "81/81 [==============================] - 6s 76ms/step - loss: 0.0015 - val_loss: 8.9519e-04\n",
      "Epoch 3/10\n",
      "81/81 [==============================] - 6s 76ms/step - loss: 0.0013 - val_loss: 0.0025\n",
      "Epoch 4/10\n",
      "81/81 [==============================] - 6s 75ms/step - loss: 0.0014 - val_loss: 4.7803e-04\n",
      "Epoch 5/10\n",
      "81/81 [==============================] - 7s 81ms/step - loss: 0.0011 - val_loss: 9.0678e-04\n",
      "Epoch 6/10\n",
      "81/81 [==============================] - 7s 84ms/step - loss: 0.0011 - val_loss: 6.7203e-04\n",
      "Epoch 7/10\n",
      "81/81 [==============================] - 6s 76ms/step - loss: 9.5547e-04 - val_loss: 4.0834e-04\n",
      "Epoch 8/10\n",
      "81/81 [==============================] - 6s 75ms/step - loss: 8.8521e-04 - val_loss: 9.4192e-04\n",
      "Epoch 9/10\n",
      "81/81 [==============================] - 6s 78ms/step - loss: 9.4787e-04 - val_loss: 4.6340e-04\n",
      "Epoch 10/10\n",
      "81/81 [==============================] - 6s 75ms/step - loss: 9.8230e-04 - val_loss: 4.1353e-04\n",
      "✅ Saved model to JKHY_gru_model.h5\n",
      "\n",
      "📈 Downloading data for J...\n"
     ]
    },
    {
     "name": "stderr",
     "output_type": "stream",
     "text": [
      "[*********************100%***********************]  1 of 1 completed\n"
     ]
    },
    {
     "name": "stdout",
     "output_type": "stream",
     "text": [
      "Training shape for J - X_train: (2571, 100, 1), X_test: (1102, 100, 1)\n",
      "Epoch 1/10\n",
      "81/81 [==============================] - 13s 90ms/step - loss: 0.0043 - val_loss: 5.6872e-04\n",
      "Epoch 2/10\n",
      "81/81 [==============================] - 6s 76ms/step - loss: 4.7340e-04 - val_loss: 5.9034e-04\n",
      "Epoch 3/10\n",
      "81/81 [==============================] - 6s 77ms/step - loss: 4.3187e-04 - val_loss: 4.1319e-04\n",
      "Epoch 4/10\n",
      "81/81 [==============================] - 6s 77ms/step - loss: 3.9194e-04 - val_loss: 7.4094e-04\n",
      "Epoch 5/10\n",
      "81/81 [==============================] - 6s 76ms/step - loss: 3.7044e-04 - val_loss: 4.5141e-04\n",
      "Epoch 6/10\n",
      "81/81 [==============================] - 6s 76ms/step - loss: 3.6426e-04 - val_loss: 3.8477e-04\n",
      "Epoch 7/10\n",
      "81/81 [==============================] - 6s 76ms/step - loss: 3.0879e-04 - val_loss: 0.0010\n",
      "Epoch 8/10\n",
      "81/81 [==============================] - 6s 76ms/step - loss: 2.8504e-04 - val_loss: 4.8189e-04\n",
      "Epoch 9/10\n",
      "81/81 [==============================] - 6s 76ms/step - loss: 3.2223e-04 - val_loss: 3.5330e-04\n",
      "Epoch 10/10\n",
      "81/81 [==============================] - 6s 77ms/step - loss: 3.1909e-04 - val_loss: 2.9529e-04\n",
      "✅ Saved model to J_gru_model.h5\n",
      "\n",
      "📈 Downloading data for JNJ...\n"
     ]
    },
    {
     "name": "stderr",
     "output_type": "stream",
     "text": [
      "[*********************100%***********************]  1 of 1 completed\n"
     ]
    },
    {
     "name": "stdout",
     "output_type": "stream",
     "text": [
      "Training shape for JNJ - X_train: (2571, 100, 1), X_test: (1102, 100, 1)\n",
      "Epoch 1/10\n",
      "81/81 [==============================] - 12s 86ms/step - loss: 0.0095 - val_loss: 7.0286e-04\n",
      "Epoch 2/10\n",
      "81/81 [==============================] - 6s 75ms/step - loss: 0.0017 - val_loss: 4.1042e-04\n",
      "Epoch 3/10\n",
      "81/81 [==============================] - 6s 75ms/step - loss: 0.0015 - val_loss: 7.1606e-04\n",
      "Epoch 4/10\n",
      "81/81 [==============================] - 6s 75ms/step - loss: 0.0014 - val_loss: 7.4518e-04\n",
      "Epoch 5/10\n",
      "81/81 [==============================] - 6s 74ms/step - loss: 0.0012 - val_loss: 9.4848e-04\n",
      "Epoch 6/10\n",
      "81/81 [==============================] - 6s 75ms/step - loss: 0.0012 - val_loss: 0.0015\n",
      "Epoch 7/10\n",
      "81/81 [==============================] - 6s 74ms/step - loss: 0.0011 - val_loss: 5.0786e-04\n",
      "Epoch 8/10\n",
      "81/81 [==============================] - 6s 76ms/step - loss: 0.0010 - val_loss: 3.1583e-04\n",
      "Epoch 9/10\n",
      "81/81 [==============================] - 6s 75ms/step - loss: 0.0010 - val_loss: 9.7067e-04\n",
      "Epoch 10/10\n",
      "81/81 [==============================] - 6s 76ms/step - loss: 0.0011 - val_loss: 3.1440e-04\n",
      "✅ Saved model to JNJ_gru_model.h5\n",
      "\n",
      "📈 Downloading data for JCI...\n"
     ]
    },
    {
     "name": "stderr",
     "output_type": "stream",
     "text": [
      "[*********************100%***********************]  1 of 1 completed\n"
     ]
    },
    {
     "name": "stdout",
     "output_type": "stream",
     "text": [
      "Training shape for JCI - X_train: (2571, 100, 1), X_test: (1102, 100, 1)\n",
      "Epoch 1/10\n",
      "81/81 [==============================] - 12s 88ms/step - loss: 0.0050 - val_loss: 5.0774e-04\n",
      "Epoch 2/10\n",
      "81/81 [==============================] - 6s 74ms/step - loss: 5.7099e-04 - val_loss: 4.6287e-04\n",
      "Epoch 3/10\n",
      "81/81 [==============================] - 6s 74ms/step - loss: 4.9727e-04 - val_loss: 9.9788e-04\n",
      "Epoch 4/10\n",
      "81/81 [==============================] - 6s 74ms/step - loss: 4.6315e-04 - val_loss: 5.9391e-04\n",
      "Epoch 5/10\n",
      "81/81 [==============================] - 6s 75ms/step - loss: 4.3256e-04 - val_loss: 7.3042e-04\n",
      "Epoch 6/10\n",
      "81/81 [==============================] - 6s 74ms/step - loss: 3.9874e-04 - val_loss: 5.2256e-04\n",
      "Epoch 7/10\n",
      "81/81 [==============================] - 6s 73ms/step - loss: 3.8270e-04 - val_loss: 6.5561e-04\n",
      "Epoch 8/10\n",
      "81/81 [==============================] - 6s 74ms/step - loss: 3.5183e-04 - val_loss: 4.8156e-04\n",
      "Epoch 9/10\n",
      "81/81 [==============================] - 6s 72ms/step - loss: 3.3268e-04 - val_loss: 3.8028e-04\n",
      "Epoch 10/10\n",
      "81/81 [==============================] - 6s 74ms/step - loss: 3.3462e-04 - val_loss: 4.2862e-04\n",
      "✅ Saved model to JCI_gru_model.h5\n",
      "\n",
      "📈 Downloading data for JPM...\n"
     ]
    },
    {
     "name": "stderr",
     "output_type": "stream",
     "text": [
      "[*********************100%***********************]  1 of 1 completed\n"
     ]
    },
    {
     "name": "stdout",
     "output_type": "stream",
     "text": [
      "Training shape for JPM - X_train: (2571, 100, 1), X_test: (1102, 100, 1)\n",
      "Epoch 1/10\n",
      "81/81 [==============================] - 13s 94ms/step - loss: 0.0026 - val_loss: 2.8094e-04\n",
      "Epoch 2/10\n",
      "81/81 [==============================] - 6s 75ms/step - loss: 4.7037e-04 - val_loss: 7.4702e-04\n",
      "Epoch 3/10\n",
      "81/81 [==============================] - 6s 76ms/step - loss: 3.9520e-04 - val_loss: 2.6226e-04\n",
      "Epoch 4/10\n",
      "81/81 [==============================] - 6s 76ms/step - loss: 3.6938e-04 - val_loss: 2.3572e-04\n",
      "Epoch 5/10\n",
      "81/81 [==============================] - 6s 76ms/step - loss: 3.3992e-04 - val_loss: 2.6480e-04\n",
      "Epoch 6/10\n",
      "81/81 [==============================] - 6s 74ms/step - loss: 2.9150e-04 - val_loss: 5.3092e-04\n",
      "Epoch 7/10\n",
      "81/81 [==============================] - 6s 77ms/step - loss: 2.7054e-04 - val_loss: 4.9212e-04\n",
      "Epoch 8/10\n",
      "81/81 [==============================] - 6s 75ms/step - loss: 2.6375e-04 - val_loss: 2.5761e-04\n",
      "Epoch 9/10\n",
      "81/81 [==============================] - 6s 76ms/step - loss: 2.5868e-04 - val_loss: 4.7631e-04\n",
      "Epoch 10/10\n",
      "81/81 [==============================] - 6s 76ms/step - loss: 2.2849e-04 - val_loss: 4.5727e-04\n",
      "✅ Saved model to JPM_gru_model.h5\n",
      "\n",
      "📈 Downloading data for JNPR...\n"
     ]
    },
    {
     "name": "stderr",
     "output_type": "stream",
     "text": [
      "[*********************100%***********************]  1 of 1 completed\n"
     ]
    },
    {
     "name": "stdout",
     "output_type": "stream",
     "text": [
      "Training shape for JNPR - X_train: (2571, 100, 1), X_test: (1102, 100, 1)\n",
      "Epoch 1/10\n",
      "81/81 [==============================] - 12s 86ms/step - loss: 0.0104 - val_loss: 0.0013\n",
      "Epoch 2/10\n",
      "81/81 [==============================] - 6s 76ms/step - loss: 0.0019 - val_loss: 0.0012\n",
      "Epoch 3/10\n",
      "81/81 [==============================] - 6s 76ms/step - loss: 0.0018 - val_loss: 0.0014\n",
      "Epoch 4/10\n",
      "81/81 [==============================] - 6s 76ms/step - loss: 0.0014 - val_loss: 0.0010\n",
      "Epoch 5/10\n",
      "81/81 [==============================] - 6s 74ms/step - loss: 0.0014 - val_loss: 6.9660e-04\n",
      "Epoch 6/10\n",
      "81/81 [==============================] - 6s 76ms/step - loss: 0.0012 - val_loss: 0.0012\n",
      "Epoch 7/10\n",
      "81/81 [==============================] - 6s 75ms/step - loss: 0.0012 - val_loss: 8.6211e-04\n",
      "Epoch 8/10\n",
      "81/81 [==============================] - 6s 76ms/step - loss: 0.0012 - val_loss: 4.6487e-04\n",
      "Epoch 9/10\n",
      "81/81 [==============================] - 6s 75ms/step - loss: 0.0010 - val_loss: 7.5787e-04\n",
      "Epoch 10/10\n",
      "81/81 [==============================] - 6s 75ms/step - loss: 0.0010 - val_loss: 4.2199e-04\n",
      "✅ Saved model to JNPR_gru_model.h5\n",
      "\n",
      "📈 Downloading data for K...\n"
     ]
    },
    {
     "name": "stderr",
     "output_type": "stream",
     "text": [
      "[*********************100%***********************]  1 of 1 completed\n"
     ]
    },
    {
     "name": "stdout",
     "output_type": "stream",
     "text": [
      "Training shape for K - X_train: (2571, 100, 1), X_test: (1102, 100, 1)\n",
      "Epoch 1/10\n",
      "81/81 [==============================] - 12s 87ms/step - loss: 0.0066 - val_loss: 8.0236e-04\n",
      "Epoch 2/10\n",
      "81/81 [==============================] - 6s 73ms/step - loss: 0.0013 - val_loss: 6.7685e-04\n",
      "Epoch 3/10\n",
      "81/81 [==============================] - 6s 74ms/step - loss: 0.0012 - val_loss: 5.8039e-04\n",
      "Epoch 4/10\n",
      "81/81 [==============================] - 6s 74ms/step - loss: 9.8500e-04 - val_loss: 5.2652e-04\n",
      "Epoch 5/10\n",
      "81/81 [==============================] - 6s 76ms/step - loss: 8.7329e-04 - val_loss: 5.2038e-04\n",
      "Epoch 6/10\n",
      "81/81 [==============================] - 6s 72ms/step - loss: 8.3502e-04 - val_loss: 4.8544e-04\n",
      "Epoch 7/10\n",
      "81/81 [==============================] - 6s 74ms/step - loss: 8.5702e-04 - val_loss: 4.8025e-04\n",
      "Epoch 8/10\n",
      "81/81 [==============================] - 6s 74ms/step - loss: 7.9737e-04 - val_loss: 8.8749e-04\n",
      "Epoch 9/10\n",
      "81/81 [==============================] - 6s 72ms/step - loss: 8.0937e-04 - val_loss: 4.6536e-04\n",
      "Epoch 10/10\n",
      "81/81 [==============================] - 6s 74ms/step - loss: 6.9904e-04 - val_loss: 4.3374e-04\n",
      "✅ Saved model to K_gru_model.h5\n",
      "\n",
      "📈 Downloading data for KVUE...\n"
     ]
    },
    {
     "name": "stderr",
     "output_type": "stream",
     "text": [
      "[*********************100%***********************]  1 of 1 completed\n"
     ]
    },
    {
     "name": "stdout",
     "output_type": "stream",
     "text": [
      "Training shape for KVUE - X_train: (221, 100, 1), X_test: (96, 100, 1)\n",
      "Epoch 1/10\n",
      "7/7 [==============================] - 6s 260ms/step - loss: 0.0212 - val_loss: 0.0156\n",
      "Epoch 2/10\n",
      "7/7 [==============================] - 1s 73ms/step - loss: 0.0097 - val_loss: 0.0168\n",
      "Epoch 3/10\n",
      "7/7 [==============================] - 0s 72ms/step - loss: 0.0058 - val_loss: 0.0476\n",
      "Epoch 4/10\n",
      "7/7 [==============================] - 1s 80ms/step - loss: 0.0059 - val_loss: 0.0239\n",
      "Epoch 5/10\n",
      "7/7 [==============================] - 1s 77ms/step - loss: 0.0044 - val_loss: 0.0086\n",
      "Epoch 6/10\n",
      "7/7 [==============================] - 1s 79ms/step - loss: 0.0042 - val_loss: 0.0094\n",
      "Epoch 7/10\n",
      "7/7 [==============================] - 1s 82ms/step - loss: 0.0036 - val_loss: 0.0100\n",
      "Epoch 8/10\n",
      "7/7 [==============================] - 1s 95ms/step - loss: 0.0039 - val_loss: 0.0046\n",
      "Epoch 9/10\n",
      "7/7 [==============================] - 1s 79ms/step - loss: 0.0036 - val_loss: 0.0038\n",
      "Epoch 10/10\n",
      "7/7 [==============================] - 1s 76ms/step - loss: 0.0031 - val_loss: 0.0043\n",
      "✅ Saved model to KVUE_gru_model.h5\n",
      "\n",
      "📈 Downloading data for KDP...\n"
     ]
    },
    {
     "name": "stderr",
     "output_type": "stream",
     "text": [
      "[*********************100%***********************]  1 of 1 completed\n"
     ]
    },
    {
     "name": "stdout",
     "output_type": "stream",
     "text": [
      "Training shape for KDP - X_train: (2571, 100, 1), X_test: (1102, 100, 1)\n",
      "Epoch 1/10\n",
      "81/81 [==============================] - 11s 85ms/step - loss: 0.0101 - val_loss: 4.0859e-04\n",
      "Epoch 2/10\n",
      "81/81 [==============================] - 6s 74ms/step - loss: 0.0010 - val_loss: 0.0033\n",
      "Epoch 3/10\n",
      "81/81 [==============================] - 6s 74ms/step - loss: 0.0010 - val_loss: 3.3572e-04\n",
      "Epoch 4/10\n",
      "81/81 [==============================] - 6s 75ms/step - loss: 9.6617e-04 - val_loss: 4.3611e-04\n",
      "Epoch 5/10\n",
      "81/81 [==============================] - 6s 75ms/step - loss: 7.7480e-04 - val_loss: 3.0065e-04\n",
      "Epoch 6/10\n",
      "81/81 [==============================] - 6s 74ms/step - loss: 8.0126e-04 - val_loss: 4.4844e-04\n",
      "Epoch 7/10\n",
      "81/81 [==============================] - 6s 75ms/step - loss: 7.7715e-04 - val_loss: 4.4809e-04\n",
      "Epoch 8/10\n",
      "81/81 [==============================] - 6s 76ms/step - loss: 7.8692e-04 - val_loss: 2.9419e-04\n",
      "Epoch 9/10\n",
      "81/81 [==============================] - 6s 73ms/step - loss: 7.3005e-04 - val_loss: 5.3286e-04\n",
      "Epoch 10/10\n",
      "81/81 [==============================] - 6s 73ms/step - loss: 7.1185e-04 - val_loss: 4.4533e-04\n",
      "✅ Saved model to KDP_gru_model.h5\n",
      "\n",
      "📈 Downloading data for KEY...\n"
     ]
    },
    {
     "name": "stderr",
     "output_type": "stream",
     "text": [
      "[*********************100%***********************]  1 of 1 completed\n"
     ]
    },
    {
     "name": "stdout",
     "output_type": "stream",
     "text": [
      "Training shape for KEY - X_train: (2571, 100, 1), X_test: (1102, 100, 1)\n",
      "Epoch 1/10\n",
      "81/81 [==============================] - 12s 86ms/step - loss: 0.0093 - val_loss: 8.2659e-04\n",
      "Epoch 2/10\n",
      "81/81 [==============================] - 6s 73ms/step - loss: 0.0017 - val_loss: 8.8551e-04\n",
      "Epoch 3/10\n",
      "81/81 [==============================] - 6s 75ms/step - loss: 0.0014 - val_loss: 8.7774e-04\n",
      "Epoch 4/10\n",
      "81/81 [==============================] - 6s 73ms/step - loss: 0.0012 - val_loss: 7.9683e-04\n",
      "Epoch 5/10\n",
      "81/81 [==============================] - 6s 74ms/step - loss: 0.0012 - val_loss: 7.9890e-04\n",
      "Epoch 6/10\n",
      "81/81 [==============================] - 6s 74ms/step - loss: 0.0011 - val_loss: 8.2467e-04\n",
      "Epoch 7/10\n",
      "81/81 [==============================] - 6s 74ms/step - loss: 9.8220e-04 - val_loss: 8.0577e-04\n",
      "Epoch 8/10\n",
      "81/81 [==============================] - 6s 73ms/step - loss: 9.4469e-04 - val_loss: 0.0016\n",
      "Epoch 9/10\n",
      "81/81 [==============================] - 6s 74ms/step - loss: 9.1279e-04 - val_loss: 6.4245e-04\n",
      "Epoch 10/10\n",
      "81/81 [==============================] - 6s 73ms/step - loss: 8.6805e-04 - val_loss: 7.7201e-04\n",
      "✅ Saved model to KEY_gru_model.h5\n",
      "\n",
      "📈 Downloading data for KEYS...\n"
     ]
    },
    {
     "name": "stderr",
     "output_type": "stream",
     "text": [
      "[*********************100%***********************]  1 of 1 completed\n"
     ]
    },
    {
     "name": "stdout",
     "output_type": "stream",
     "text": [
      "Training shape for KEYS - X_train: (1726, 100, 1), X_test: (740, 100, 1)\n",
      "Epoch 1/10\n",
      "54/54 [==============================] - 11s 117ms/step - loss: 0.0151 - val_loss: 7.1879e-04\n",
      "Epoch 2/10\n",
      "54/54 [==============================] - 4s 78ms/step - loss: 0.0023 - val_loss: 7.2138e-04\n",
      "Epoch 3/10\n",
      "54/54 [==============================] - 4s 76ms/step - loss: 0.0018 - val_loss: 0.0013\n",
      "Epoch 4/10\n",
      "54/54 [==============================] - 4s 76ms/step - loss: 0.0017 - val_loss: 6.4982e-04\n",
      "Epoch 5/10\n",
      "54/54 [==============================] - 4s 75ms/step - loss: 0.0016 - val_loss: 0.0012\n",
      "Epoch 6/10\n",
      "54/54 [==============================] - 4s 75ms/step - loss: 0.0014 - val_loss: 7.1859e-04\n",
      "Epoch 7/10\n",
      "54/54 [==============================] - 4s 75ms/step - loss: 0.0013 - val_loss: 0.0011\n",
      "Epoch 8/10\n",
      "54/54 [==============================] - 4s 75ms/step - loss: 0.0012 - val_loss: 6.4672e-04\n",
      "Epoch 9/10\n",
      "54/54 [==============================] - 4s 76ms/step - loss: 0.0011 - val_loss: 6.9381e-04\n",
      "Epoch 10/10\n",
      "54/54 [==============================] - 4s 75ms/step - loss: 0.0012 - val_loss: 7.8574e-04\n",
      "✅ Saved model to KEYS_gru_model.h5\n",
      "\n",
      "📈 Downloading data for KMB...\n"
     ]
    },
    {
     "name": "stderr",
     "output_type": "stream",
     "text": [
      "[*********************100%***********************]  1 of 1 completed\n"
     ]
    },
    {
     "name": "stdout",
     "output_type": "stream",
     "text": [
      "Training shape for KMB - X_train: (2571, 100, 1), X_test: (1102, 100, 1)\n",
      "Epoch 1/10\n",
      "81/81 [==============================] - 12s 93ms/step - loss: 0.0081 - val_loss: 0.0011\n",
      "Epoch 2/10\n",
      "81/81 [==============================] - 6s 74ms/step - loss: 0.0021 - val_loss: 7.8783e-04\n",
      "Epoch 3/10\n",
      "81/81 [==============================] - 6s 74ms/step - loss: 0.0019 - val_loss: 5.8276e-04\n",
      "Epoch 4/10\n",
      "81/81 [==============================] - 6s 74ms/step - loss: 0.0018 - val_loss: 0.0015\n",
      "Epoch 5/10\n",
      "81/81 [==============================] - 6s 74ms/step - loss: 0.0015 - val_loss: 4.4291e-04\n",
      "Epoch 6/10\n",
      "81/81 [==============================] - 6s 73ms/step - loss: 0.0015 - val_loss: 7.5604e-04\n",
      "Epoch 7/10\n",
      "81/81 [==============================] - 6s 74ms/step - loss: 0.0014 - val_loss: 7.7584e-04\n",
      "Epoch 8/10\n",
      "81/81 [==============================] - 6s 73ms/step - loss: 0.0014 - val_loss: 6.2873e-04\n",
      "Epoch 9/10\n",
      "81/81 [==============================] - 6s 72ms/step - loss: 0.0012 - val_loss: 7.9124e-04\n",
      "Epoch 10/10\n",
      "81/81 [==============================] - 6s 75ms/step - loss: 0.0013 - val_loss: 0.0029\n",
      "✅ Saved model to KMB_gru_model.h5\n",
      "\n",
      "📈 Downloading data for KIM...\n"
     ]
    },
    {
     "name": "stderr",
     "output_type": "stream",
     "text": [
      "[*********************100%***********************]  1 of 1 completed\n"
     ]
    },
    {
     "name": "stdout",
     "output_type": "stream",
     "text": [
      "Training shape for KIM - X_train: (2571, 100, 1), X_test: (1102, 100, 1)\n",
      "Epoch 1/10\n",
      "81/81 [==============================] - 11s 85ms/step - loss: 0.0089 - val_loss: 6.7927e-04\n",
      "Epoch 2/10\n",
      "81/81 [==============================] - 6s 73ms/step - loss: 0.0019 - val_loss: 8.8519e-04\n",
      "Epoch 3/10\n",
      "81/81 [==============================] - 6s 75ms/step - loss: 0.0016 - val_loss: 6.5981e-04\n",
      "Epoch 4/10\n",
      "81/81 [==============================] - 6s 73ms/step - loss: 0.0015 - val_loss: 5.9958e-04\n",
      "Epoch 5/10\n",
      "81/81 [==============================] - 6s 75ms/step - loss: 0.0013 - val_loss: 6.9582e-04\n",
      "Epoch 6/10\n",
      "81/81 [==============================] - 6s 74ms/step - loss: 0.0012 - val_loss: 9.5334e-04\n",
      "Epoch 7/10\n",
      "81/81 [==============================] - 6s 74ms/step - loss: 0.0012 - val_loss: 9.7845e-04\n",
      "Epoch 8/10\n",
      "81/81 [==============================] - 6s 73ms/step - loss: 0.0012 - val_loss: 0.0010\n",
      "Epoch 9/10\n",
      "81/81 [==============================] - 6s 74ms/step - loss: 0.0010 - val_loss: 9.6871e-04\n",
      "Epoch 10/10\n",
      "81/81 [==============================] - 6s 74ms/step - loss: 0.0010 - val_loss: 5.3961e-04\n",
      "✅ Saved model to KIM_gru_model.h5\n",
      "\n",
      "📈 Downloading data for KMI...\n"
     ]
    },
    {
     "name": "stderr",
     "output_type": "stream",
     "text": [
      "[*********************100%***********************]  1 of 1 completed\n"
     ]
    },
    {
     "name": "stdout",
     "output_type": "stream",
     "text": [
      "Training shape for KMI - X_train: (2375, 100, 1), X_test: (1018, 100, 1)\n",
      "Epoch 1/10\n",
      "75/75 [==============================] - 11s 87ms/step - loss: 0.0157 - val_loss: 4.9031e-04\n",
      "Epoch 2/10\n",
      "75/75 [==============================] - 5s 73ms/step - loss: 0.0028 - val_loss: 6.8106e-04\n",
      "Epoch 3/10\n",
      "75/75 [==============================] - 5s 72ms/step - loss: 0.0024 - val_loss: 2.9098e-04\n",
      "Epoch 4/10\n",
      "75/75 [==============================] - 5s 73ms/step - loss: 0.0021 - val_loss: 5.1036e-04\n",
      "Epoch 5/10\n",
      "75/75 [==============================] - 5s 73ms/step - loss: 0.0020 - val_loss: 3.2287e-04\n",
      "Epoch 6/10\n",
      "75/75 [==============================] - 5s 72ms/step - loss: 0.0019 - val_loss: 3.4203e-04\n",
      "Epoch 7/10\n",
      "75/75 [==============================] - 5s 73ms/step - loss: 0.0018 - val_loss: 3.0787e-04\n",
      "Epoch 8/10\n",
      "75/75 [==============================] - 5s 73ms/step - loss: 0.0016 - val_loss: 3.1852e-04\n",
      "Epoch 9/10\n",
      "75/75 [==============================] - 5s 72ms/step - loss: 0.0015 - val_loss: 3.3904e-04\n",
      "Epoch 10/10\n",
      "75/75 [==============================] - 5s 73ms/step - loss: 0.0016 - val_loss: 4.3048e-04\n",
      "✅ Saved model to KMI_gru_model.h5\n",
      "\n",
      "📈 Downloading data for KKR...\n"
     ]
    },
    {
     "name": "stderr",
     "output_type": "stream",
     "text": [
      "[*********************100%***********************]  1 of 1 completed\n"
     ]
    },
    {
     "name": "stdout",
     "output_type": "stream",
     "text": [
      "Training shape for KKR - X_train: (2478, 100, 1), X_test: (1062, 100, 1)\n",
      "Epoch 1/10\n",
      "78/78 [==============================] - 11s 87ms/step - loss: 3.4989e-04 - val_loss: 6.2071e-04\n",
      "Epoch 2/10\n",
      "78/78 [==============================] - 6s 77ms/step - loss: 7.9341e-05 - val_loss: 5.6293e-04\n",
      "Epoch 3/10\n",
      "78/78 [==============================] - 6s 75ms/step - loss: 6.4229e-05 - val_loss: 4.6812e-04\n",
      "Epoch 4/10\n",
      "78/78 [==============================] - 6s 75ms/step - loss: 5.2922e-05 - val_loss: 4.4146e-04\n",
      "Epoch 5/10\n",
      "78/78 [==============================] - 6s 74ms/step - loss: 5.4749e-05 - val_loss: 2.3009e-04\n",
      "Epoch 6/10\n",
      "78/78 [==============================] - 6s 76ms/step - loss: 4.8739e-05 - val_loss: 4.7713e-04\n",
      "Epoch 7/10\n",
      "78/78 [==============================] - 6s 75ms/step - loss: 4.6077e-05 - val_loss: 3.7004e-04\n",
      "Epoch 8/10\n",
      "78/78 [==============================] - 6s 74ms/step - loss: 4.6285e-05 - val_loss: 2.5747e-04\n",
      "Epoch 9/10\n",
      "78/78 [==============================] - 6s 76ms/step - loss: 4.2286e-05 - val_loss: 3.2563e-04\n",
      "Epoch 10/10\n",
      "78/78 [==============================] - 6s 74ms/step - loss: 4.7861e-05 - val_loss: 7.5579e-04\n",
      "✅ Saved model to KKR_gru_model.h5\n",
      "\n",
      "📈 Downloading data for KLAC...\n"
     ]
    },
    {
     "name": "stderr",
     "output_type": "stream",
     "text": [
      "[*********************100%***********************]  1 of 1 completed\n"
     ]
    },
    {
     "name": "stdout",
     "output_type": "stream",
     "text": [
      "Training shape for KLAC - X_train: (2571, 100, 1), X_test: (1102, 100, 1)\n",
      "Epoch 1/10\n",
      "81/81 [==============================] - 12s 84ms/step - loss: 3.3527e-04 - val_loss: 0.0010\n",
      "Epoch 2/10\n",
      "81/81 [==============================] - 6s 75ms/step - loss: 5.7458e-05 - val_loss: 0.0012\n",
      "Epoch 3/10\n",
      "81/81 [==============================] - 6s 74ms/step - loss: 5.7613e-05 - val_loss: 4.9822e-04\n",
      "Epoch 4/10\n",
      "81/81 [==============================] - 6s 74ms/step - loss: 4.5036e-05 - val_loss: 7.9031e-04\n",
      "Epoch 5/10\n",
      "81/81 [==============================] - 6s 73ms/step - loss: 4.7182e-05 - val_loss: 7.8204e-04\n",
      "Epoch 6/10\n",
      "81/81 [==============================] - 6s 74ms/step - loss: 4.6713e-05 - val_loss: 0.0019\n",
      "Epoch 7/10\n",
      "81/81 [==============================] - 6s 73ms/step - loss: 4.4659e-05 - val_loss: 3.6385e-04\n",
      "Epoch 8/10\n",
      "81/81 [==============================] - 6s 73ms/step - loss: 3.3206e-05 - val_loss: 4.0127e-04\n",
      "Epoch 9/10\n",
      "81/81 [==============================] - 6s 74ms/step - loss: 3.5133e-05 - val_loss: 0.0022\n",
      "Epoch 10/10\n",
      "81/81 [==============================] - 6s 73ms/step - loss: 3.7806e-05 - val_loss: 4.9541e-04\n",
      "✅ Saved model to KLAC_gru_model.h5\n",
      "\n",
      "📈 Downloading data for KHC...\n"
     ]
    },
    {
     "name": "stderr",
     "output_type": "stream",
     "text": [
      "[*********************100%***********************]  1 of 1 completed\n"
     ]
    },
    {
     "name": "stdout",
     "output_type": "stream",
     "text": [
      "Training shape for KHC - X_train: (1602, 100, 1), X_test: (687, 100, 1)\n",
      "Epoch 1/10\n",
      "51/51 [==============================] - 9s 95ms/step - loss: 0.0179 - val_loss: 2.4728e-04\n",
      "Epoch 2/10\n",
      "51/51 [==============================] - 4s 73ms/step - loss: 0.0041 - val_loss: 2.2270e-04\n",
      "Epoch 3/10\n",
      "51/51 [==============================] - 4s 73ms/step - loss: 0.0035 - val_loss: 3.2989e-04\n",
      "Epoch 4/10\n",
      "51/51 [==============================] - 4s 78ms/step - loss: 0.0029 - val_loss: 5.9261e-04\n",
      "Epoch 5/10\n",
      "51/51 [==============================] - 4s 75ms/step - loss: 0.0034 - val_loss: 3.3962e-04\n",
      "Epoch 6/10\n",
      "51/51 [==============================] - 4s 74ms/step - loss: 0.0025 - val_loss: 6.2185e-04\n",
      "Epoch 7/10\n",
      "51/51 [==============================] - 4s 75ms/step - loss: 0.0028 - val_loss: 3.3852e-04\n",
      "Epoch 8/10\n",
      "51/51 [==============================] - 4s 74ms/step - loss: 0.0023 - val_loss: 1.7653e-04\n",
      "Epoch 9/10\n",
      "51/51 [==============================] - 4s 73ms/step - loss: 0.0024 - val_loss: 2.5505e-04\n",
      "Epoch 10/10\n",
      "51/51 [==============================] - 4s 73ms/step - loss: 0.0023 - val_loss: 3.5935e-04\n",
      "✅ Saved model to KHC_gru_model.h5\n",
      "\n",
      "📈 Downloading data for KR...\n"
     ]
    },
    {
     "name": "stderr",
     "output_type": "stream",
     "text": [
      "[*********************100%***********************]  1 of 1 completed\n"
     ]
    },
    {
     "name": "stdout",
     "output_type": "stream",
     "text": [
      "Training shape for KR - X_train: (2571, 100, 1), X_test: (1102, 100, 1)\n",
      "Epoch 1/10\n",
      "81/81 [==============================] - 11s 86ms/step - loss: 0.0077 - val_loss: 0.0010\n",
      "Epoch 2/10\n",
      "81/81 [==============================] - 6s 73ms/step - loss: 9.1085e-04 - val_loss: 6.0444e-04\n",
      "Epoch 3/10\n",
      "81/81 [==============================] - 6s 75ms/step - loss: 8.4272e-04 - val_loss: 4.9898e-04\n",
      "Epoch 4/10\n",
      "81/81 [==============================] - 6s 75ms/step - loss: 6.9782e-04 - val_loss: 7.9245e-04\n",
      "Epoch 5/10\n",
      "81/81 [==============================] - 6s 75ms/step - loss: 6.0319e-04 - val_loss: 4.1875e-04\n",
      "Epoch 6/10\n",
      "81/81 [==============================] - 6s 76ms/step - loss: 6.0107e-04 - val_loss: 4.2589e-04\n",
      "Epoch 7/10\n",
      "81/81 [==============================] - 6s 72ms/step - loss: 5.6717e-04 - val_loss: 0.0012\n",
      "Epoch 8/10\n",
      "81/81 [==============================] - 6s 73ms/step - loss: 5.8105e-04 - val_loss: 4.1180e-04\n",
      "Epoch 9/10\n",
      "81/81 [==============================] - 6s 73ms/step - loss: 4.9267e-04 - val_loss: 4.4278e-04\n",
      "Epoch 10/10\n",
      "81/81 [==============================] - 6s 74ms/step - loss: 4.9961e-04 - val_loss: 5.6480e-04\n",
      "✅ Saved model to KR_gru_model.h5\n",
      "\n",
      "📈 Downloading data for LHX...\n"
     ]
    },
    {
     "name": "stderr",
     "output_type": "stream",
     "text": [
      "[*********************100%***********************]  1 of 1 completed\n"
     ]
    },
    {
     "name": "stdout",
     "output_type": "stream",
     "text": [
      "Training shape for LHX - X_train: (2571, 100, 1), X_test: (1102, 100, 1)\n",
      "Epoch 1/10\n",
      "81/81 [==============================] - 12s 89ms/step - loss: 0.0060 - val_loss: 4.0839e-04\n",
      "Epoch 2/10\n",
      "81/81 [==============================] - 6s 74ms/step - loss: 0.0012 - val_loss: 4.6264e-04\n",
      "Epoch 3/10\n",
      "81/81 [==============================] - 6s 76ms/step - loss: 0.0011 - val_loss: 3.9084e-04\n",
      "Epoch 4/10\n",
      "81/81 [==============================] - 6s 75ms/step - loss: 9.7967e-04 - val_loss: 4.3913e-04\n",
      "Epoch 5/10\n",
      "81/81 [==============================] - 6s 73ms/step - loss: 8.7673e-04 - val_loss: 4.2848e-04\n",
      "Epoch 6/10\n",
      "81/81 [==============================] - 6s 74ms/step - loss: 8.7714e-04 - val_loss: 0.0012\n",
      "Epoch 7/10\n",
      "81/81 [==============================] - 6s 78ms/step - loss: 8.3840e-04 - val_loss: 0.0017\n",
      "Epoch 8/10\n",
      "81/81 [==============================] - 6s 74ms/step - loss: 7.0602e-04 - val_loss: 9.6848e-04\n",
      "Epoch 9/10\n",
      "81/81 [==============================] - 6s 72ms/step - loss: 7.2506e-04 - val_loss: 3.6809e-04\n",
      "Epoch 10/10\n",
      "81/81 [==============================] - 6s 75ms/step - loss: 7.2702e-04 - val_loss: 4.2607e-04\n",
      "✅ Saved model to LHX_gru_model.h5\n",
      "\n",
      "📈 Downloading data for LH...\n"
     ]
    },
    {
     "name": "stderr",
     "output_type": "stream",
     "text": [
      "[*********************100%***********************]  1 of 1 completed\n"
     ]
    },
    {
     "name": "stdout",
     "output_type": "stream",
     "text": [
      "Training shape for LH - X_train: (2571, 100, 1), X_test: (1102, 100, 1)\n",
      "Epoch 1/10\n",
      "81/81 [==============================] - 11s 85ms/step - loss: 0.0036 - val_loss: 7.5553e-04\n",
      "Epoch 2/10\n",
      "81/81 [==============================] - 6s 80ms/step - loss: 8.0664e-04 - val_loss: 5.7602e-04\n",
      "Epoch 3/10\n",
      "81/81 [==============================] - 6s 74ms/step - loss: 7.6607e-04 - val_loss: 4.4811e-04\n",
      "Epoch 4/10\n",
      "81/81 [==============================] - 6s 72ms/step - loss: 6.9938e-04 - val_loss: 4.4541e-04\n",
      "Epoch 5/10\n",
      "81/81 [==============================] - 6s 74ms/step - loss: 6.1094e-04 - val_loss: 0.0011\n",
      "Epoch 6/10\n",
      "81/81 [==============================] - 6s 74ms/step - loss: 6.1648e-04 - val_loss: 0.0021\n",
      "Epoch 7/10\n",
      "81/81 [==============================] - 6s 73ms/step - loss: 5.5628e-04 - val_loss: 0.0010\n",
      "Epoch 8/10\n",
      "81/81 [==============================] - 6s 73ms/step - loss: 5.1483e-04 - val_loss: 5.5625e-04\n",
      "Epoch 9/10\n",
      "81/81 [==============================] - 6s 74ms/step - loss: 4.6832e-04 - val_loss: 0.0021\n",
      "Epoch 10/10\n",
      "81/81 [==============================] - 6s 74ms/step - loss: 4.5401e-04 - val_loss: 4.9490e-04\n",
      "✅ Saved model to LH_gru_model.h5\n",
      "\n",
      "📈 Downloading data for LRCX...\n"
     ]
    },
    {
     "name": "stderr",
     "output_type": "stream",
     "text": [
      "[*********************100%***********************]  1 of 1 completed\n"
     ]
    },
    {
     "name": "stdout",
     "output_type": "stream",
     "text": [
      "Training shape for LRCX - X_train: (2571, 100, 1), X_test: (1102, 100, 1)\n",
      "Epoch 1/10\n",
      "81/81 [==============================] - 11s 85ms/step - loss: 8.1265e-04 - val_loss: 9.3127e-04\n",
      "Epoch 2/10\n",
      "81/81 [==============================] - 6s 74ms/step - loss: 1.4340e-04 - val_loss: 5.5640e-04\n",
      "Epoch 3/10\n",
      "81/81 [==============================] - 6s 74ms/step - loss: 1.2267e-04 - val_loss: 8.9746e-04\n",
      "Epoch 4/10\n",
      "81/81 [==============================] - 6s 75ms/step - loss: 1.2091e-04 - val_loss: 6.3507e-04\n",
      "Epoch 5/10\n",
      "81/81 [==============================] - 6s 74ms/step - loss: 9.3127e-05 - val_loss: 7.5462e-04\n",
      "Epoch 6/10\n",
      "81/81 [==============================] - 6s 73ms/step - loss: 9.5439e-05 - val_loss: 9.9296e-04\n",
      "Epoch 7/10\n",
      "81/81 [==============================] - 6s 73ms/step - loss: 9.4138e-05 - val_loss: 7.2634e-04\n",
      "Epoch 8/10\n",
      "81/81 [==============================] - 6s 73ms/step - loss: 8.1898e-05 - val_loss: 4.1640e-04\n",
      "Epoch 9/10\n",
      "81/81 [==============================] - 6s 73ms/step - loss: 8.0910e-05 - val_loss: 7.6882e-04\n",
      "Epoch 10/10\n",
      "81/81 [==============================] - 6s 74ms/step - loss: 7.4186e-05 - val_loss: 6.0583e-04\n",
      "✅ Saved model to LRCX_gru_model.h5\n",
      "\n",
      "📈 Downloading data for LW...\n"
     ]
    },
    {
     "name": "stderr",
     "output_type": "stream",
     "text": [
      "[*********************100%***********************]  1 of 1 completed\n"
     ]
    },
    {
     "name": "stdout",
     "output_type": "stream",
     "text": [
      "Training shape for LW - X_train: (1362, 100, 1), X_test: (584, 100, 1)\n",
      "Epoch 1/10\n",
      "43/43 [==============================] - 8s 92ms/step - loss: 0.0304 - val_loss: 0.0073\n",
      "Epoch 2/10\n",
      "43/43 [==============================] - 3s 77ms/step - loss: 0.0039 - val_loss: 0.0050\n",
      "Epoch 3/10\n",
      "43/43 [==============================] - 3s 75ms/step - loss: 0.0027 - val_loss: 0.0013\n",
      "Epoch 4/10\n",
      "43/43 [==============================] - 3s 74ms/step - loss: 0.0024 - val_loss: 0.0014\n",
      "Epoch 5/10\n",
      "43/43 [==============================] - 3s 75ms/step - loss: 0.0020 - val_loss: 0.0013\n",
      "Epoch 6/10\n",
      "43/43 [==============================] - 3s 75ms/step - loss: 0.0020 - val_loss: 0.0014\n",
      "Epoch 7/10\n",
      "43/43 [==============================] - 3s 75ms/step - loss: 0.0020 - val_loss: 0.0011\n",
      "Epoch 8/10\n",
      "43/43 [==============================] - 3s 72ms/step - loss: 0.0018 - val_loss: 0.0011\n",
      "Epoch 9/10\n",
      "43/43 [==============================] - 3s 80ms/step - loss: 0.0018 - val_loss: 0.0012\n",
      "Epoch 10/10\n",
      "43/43 [==============================] - 3s 74ms/step - loss: 0.0018 - val_loss: 0.0010\n",
      "✅ Saved model to LW_gru_model.h5\n",
      "\n",
      "📈 Downloading data for LVS...\n"
     ]
    },
    {
     "name": "stderr",
     "output_type": "stream",
     "text": [
      "[*********************100%***********************]  1 of 1 completed\n"
     ]
    },
    {
     "name": "stdout",
     "output_type": "stream",
     "text": [
      "Training shape for LVS - X_train: (2571, 100, 1), X_test: (1102, 100, 1)\n",
      "Epoch 1/10\n",
      "81/81 [==============================] - 11s 85ms/step - loss: 0.0219 - val_loss: 8.5869e-04\n",
      "Epoch 2/10\n",
      "81/81 [==============================] - 6s 75ms/step - loss: 0.0040 - val_loss: 7.2126e-04\n",
      "Epoch 3/10\n",
      "81/81 [==============================] - 6s 75ms/step - loss: 0.0035 - val_loss: 8.5928e-04\n",
      "Epoch 4/10\n",
      "81/81 [==============================] - 6s 73ms/step - loss: 0.0033 - val_loss: 7.0709e-04\n",
      "Epoch 5/10\n",
      "81/81 [==============================] - 6s 75ms/step - loss: 0.0029 - val_loss: 7.0674e-04\n",
      "Epoch 6/10\n",
      "81/81 [==============================] - 6s 73ms/step - loss: 0.0030 - val_loss: 0.0011\n",
      "Epoch 7/10\n",
      "81/81 [==============================] - 6s 76ms/step - loss: 0.0027 - val_loss: 0.0010\n",
      "Epoch 8/10\n",
      "81/81 [==============================] - 6s 74ms/step - loss: 0.0026 - val_loss: 0.0012\n",
      "Epoch 9/10\n",
      "81/81 [==============================] - 6s 74ms/step - loss: 0.0025 - val_loss: 6.5120e-04\n",
      "Epoch 10/10\n",
      "81/81 [==============================] - 6s 73ms/step - loss: 0.0023 - val_loss: 6.4356e-04\n",
      "✅ Saved model to LVS_gru_model.h5\n",
      "\n",
      "📈 Downloading data for LDOS...\n"
     ]
    },
    {
     "name": "stderr",
     "output_type": "stream",
     "text": [
      "[*********************100%***********************]  1 of 1 completed\n"
     ]
    },
    {
     "name": "stdout",
     "output_type": "stream",
     "text": [
      "Training shape for LDOS - X_train: (2571, 100, 1), X_test: (1102, 100, 1)\n",
      "Epoch 1/10\n",
      "81/81 [==============================] - 11s 86ms/step - loss: 0.0030 - val_loss: 4.6162e-04\n",
      "Epoch 2/10\n",
      "81/81 [==============================] - 6s 74ms/step - loss: 4.0931e-04 - val_loss: 4.0449e-04\n",
      "Epoch 3/10\n",
      "81/81 [==============================] - 6s 75ms/step - loss: 3.8536e-04 - val_loss: 3.7887e-04\n",
      "Epoch 4/10\n",
      "81/81 [==============================] - 6s 74ms/step - loss: 3.2118e-04 - val_loss: 2.6244e-04\n",
      "Epoch 5/10\n",
      "81/81 [==============================] - 6s 75ms/step - loss: 3.2427e-04 - val_loss: 6.6603e-04\n",
      "Epoch 6/10\n",
      "81/81 [==============================] - 6s 72ms/step - loss: 3.2555e-04 - val_loss: 7.9813e-04\n",
      "Epoch 7/10\n",
      "81/81 [==============================] - 6s 75ms/step - loss: 2.8227e-04 - val_loss: 2.3260e-04\n",
      "Epoch 8/10\n",
      "81/81 [==============================] - 6s 73ms/step - loss: 2.5121e-04 - val_loss: 8.9924e-04\n",
      "Epoch 9/10\n",
      "81/81 [==============================] - 6s 74ms/step - loss: 2.3914e-04 - val_loss: 3.6234e-04\n",
      "Epoch 10/10\n",
      "81/81 [==============================] - 6s 73ms/step - loss: 2.4688e-04 - val_loss: 3.7684e-04\n",
      "✅ Saved model to LDOS_gru_model.h5\n",
      "\n",
      "📈 Downloading data for LEN...\n"
     ]
    },
    {
     "name": "stderr",
     "output_type": "stream",
     "text": [
      "[*********************100%***********************]  1 of 1 completed\n"
     ]
    },
    {
     "name": "stdout",
     "output_type": "stream",
     "text": [
      "Training shape for LEN - X_train: (2571, 100, 1), X_test: (1102, 100, 1)\n",
      "Epoch 1/10\n",
      "81/81 [==============================] - 11s 86ms/step - loss: 0.0013 - val_loss: 4.2789e-04\n",
      "Epoch 2/10\n",
      "81/81 [==============================] - 6s 75ms/step - loss: 2.9466e-04 - val_loss: 5.3932e-04\n",
      "Epoch 3/10\n",
      "81/81 [==============================] - 6s 76ms/step - loss: 2.6405e-04 - val_loss: 4.6377e-04\n",
      "Epoch 4/10\n",
      "81/81 [==============================] - 6s 73ms/step - loss: 2.4767e-04 - val_loss: 7.4806e-04\n",
      "Epoch 5/10\n",
      "81/81 [==============================] - 6s 74ms/step - loss: 2.2587e-04 - val_loss: 4.4120e-04\n",
      "Epoch 6/10\n",
      "81/81 [==============================] - 6s 73ms/step - loss: 1.8632e-04 - val_loss: 6.2729e-04\n",
      "Epoch 7/10\n",
      "81/81 [==============================] - 6s 74ms/step - loss: 1.9084e-04 - val_loss: 5.7578e-04\n",
      "Epoch 8/10\n",
      "81/81 [==============================] - 6s 73ms/step - loss: 1.7131e-04 - val_loss: 3.0556e-04\n",
      "Epoch 9/10\n",
      "81/81 [==============================] - 6s 75ms/step - loss: 1.6963e-04 - val_loss: 3.0062e-04\n",
      "Epoch 10/10\n",
      "81/81 [==============================] - 6s 74ms/step - loss: 1.5359e-04 - val_loss: 2.9214e-04\n",
      "✅ Saved model to LEN_gru_model.h5\n",
      "\n",
      "📈 Downloading data for LII...\n"
     ]
    },
    {
     "name": "stderr",
     "output_type": "stream",
     "text": [
      "[*********************100%***********************]  1 of 1 completed\n"
     ]
    },
    {
     "name": "stdout",
     "output_type": "stream",
     "text": [
      "Training shape for LII - X_train: (2571, 100, 1), X_test: (1102, 100, 1)\n",
      "Epoch 1/10\n",
      "81/81 [==============================] - 12s 86ms/step - loss: 0.0028 - val_loss: 2.7157e-04\n",
      "Epoch 2/10\n",
      "81/81 [==============================] - 6s 76ms/step - loss: 3.5669e-04 - val_loss: 3.7895e-04\n",
      "Epoch 3/10\n",
      "81/81 [==============================] - 6s 74ms/step - loss: 2.9514e-04 - val_loss: 4.1924e-04\n",
      "Epoch 4/10\n",
      "81/81 [==============================] - 6s 73ms/step - loss: 2.9255e-04 - val_loss: 4.6980e-04\n",
      "Epoch 5/10\n",
      "81/81 [==============================] - 6s 74ms/step - loss: 2.6396e-04 - val_loss: 4.5554e-04\n",
      "Epoch 6/10\n",
      "81/81 [==============================] - 6s 74ms/step - loss: 2.4054e-04 - val_loss: 3.1730e-04\n",
      "Epoch 7/10\n",
      "81/81 [==============================] - 6s 73ms/step - loss: 2.2664e-04 - val_loss: 5.3303e-04\n",
      "Epoch 8/10\n",
      "81/81 [==============================] - 6s 74ms/step - loss: 2.2419e-04 - val_loss: 3.0147e-04\n",
      "Epoch 9/10\n",
      "81/81 [==============================] - 6s 75ms/step - loss: 1.9305e-04 - val_loss: 2.0213e-04\n",
      "Epoch 10/10\n",
      "81/81 [==============================] - 6s 75ms/step - loss: 1.8704e-04 - val_loss: 1.9830e-04\n",
      "✅ Saved model to LII_gru_model.h5\n",
      "\n",
      "📈 Downloading data for LLY...\n"
     ]
    },
    {
     "name": "stderr",
     "output_type": "stream",
     "text": [
      "[*********************100%***********************]  1 of 1 completed\n"
     ]
    },
    {
     "name": "stdout",
     "output_type": "stream",
     "text": [
      "Training shape for LLY - X_train: (2571, 100, 1), X_test: (1102, 100, 1)\n",
      "Epoch 1/10\n",
      "81/81 [==============================] - 11s 85ms/step - loss: 2.9808e-04 - val_loss: 3.5018e-04\n",
      "Epoch 2/10\n",
      "81/81 [==============================] - 6s 75ms/step - loss: 3.4812e-05 - val_loss: 2.6314e-04\n",
      "Epoch 3/10\n",
      "81/81 [==============================] - 6s 73ms/step - loss: 2.6908e-05 - val_loss: 4.7472e-04\n",
      "Epoch 4/10\n",
      "81/81 [==============================] - 6s 72ms/step - loss: 2.7599e-05 - val_loss: 2.8133e-04\n",
      "Epoch 5/10\n",
      "81/81 [==============================] - 6s 75ms/step - loss: 2.4023e-05 - val_loss: 6.3459e-04\n",
      "Epoch 6/10\n",
      "81/81 [==============================] - 6s 72ms/step - loss: 2.3340e-05 - val_loss: 2.6249e-04\n",
      "Epoch 7/10\n",
      "81/81 [==============================] - 6s 75ms/step - loss: 2.1453e-05 - val_loss: 2.4060e-04\n",
      "Epoch 8/10\n",
      "81/81 [==============================] - 6s 74ms/step - loss: 2.0912e-05 - val_loss: 2.2633e-04\n",
      "Epoch 9/10\n",
      "81/81 [==============================] - 6s 75ms/step - loss: 1.9355e-05 - val_loss: 2.6202e-04\n",
      "Epoch 10/10\n",
      "81/81 [==============================] - 6s 73ms/step - loss: 1.9746e-05 - val_loss: 2.2754e-04\n",
      "✅ Saved model to LLY_gru_model.h5\n",
      "\n",
      "📈 Downloading data for LIN...\n"
     ]
    },
    {
     "name": "stderr",
     "output_type": "stream",
     "text": [
      "[*********************100%***********************]  1 of 1 completed\n"
     ]
    },
    {
     "name": "stdout",
     "output_type": "stream",
     "text": [
      "Training shape for LIN - X_train: (2571, 100, 1), X_test: (1102, 100, 1)\n",
      "Epoch 1/10\n",
      "81/81 [==============================] - 11s 84ms/step - loss: 0.0012 - val_loss: 4.6689e-04\n",
      "Epoch 2/10\n",
      "81/81 [==============================] - 6s 75ms/step - loss: 2.6449e-04 - val_loss: 0.0018\n",
      "Epoch 3/10\n",
      "81/81 [==============================] - 6s 77ms/step - loss: 2.3467e-04 - val_loss: 3.8505e-04\n",
      "Epoch 4/10\n",
      "81/81 [==============================] - 6s 72ms/step - loss: 2.0154e-04 - val_loss: 2.2674e-04\n",
      "Epoch 5/10\n",
      "81/81 [==============================] - 6s 74ms/step - loss: 1.9187e-04 - val_loss: 2.4071e-04\n",
      "Epoch 6/10\n",
      "81/81 [==============================] - 6s 77ms/step - loss: 1.7326e-04 - val_loss: 2.2536e-04\n",
      "Epoch 7/10\n",
      "81/81 [==============================] - 6s 74ms/step - loss: 1.8502e-04 - val_loss: 5.5248e-04\n",
      "Epoch 8/10\n",
      "81/81 [==============================] - 6s 73ms/step - loss: 1.6379e-04 - val_loss: 2.0014e-04\n",
      "Epoch 9/10\n",
      "81/81 [==============================] - 6s 75ms/step - loss: 1.8518e-04 - val_loss: 4.0620e-04\n",
      "Epoch 10/10\n",
      "81/81 [==============================] - 6s 73ms/step - loss: 1.4096e-04 - val_loss: 2.7036e-04\n",
      "✅ Saved model to LIN_gru_model.h5\n",
      "\n",
      "📈 Downloading data for LYV...\n"
     ]
    },
    {
     "name": "stderr",
     "output_type": "stream",
     "text": [
      "[*********************100%***********************]  1 of 1 completed\n"
     ]
    },
    {
     "name": "stdout",
     "output_type": "stream",
     "text": [
      "Training shape for LYV - X_train: (2571, 100, 1), X_test: (1102, 100, 1)\n",
      "Epoch 1/10\n",
      "81/81 [==============================] - 14s 88ms/step - loss: 0.0024 - val_loss: 5.7788e-04\n",
      "Epoch 2/10\n",
      "81/81 [==============================] - 6s 73ms/step - loss: 5.3344e-04 - val_loss: 5.5699e-04\n",
      "Epoch 3/10\n",
      "81/81 [==============================] - 6s 75ms/step - loss: 4.8108e-04 - val_loss: 5.8674e-04\n",
      "Epoch 4/10\n",
      "81/81 [==============================] - 6s 74ms/step - loss: 4.5044e-04 - val_loss: 4.9964e-04\n",
      "Epoch 5/10\n",
      "81/81 [==============================] - 6s 74ms/step - loss: 3.9566e-04 - val_loss: 7.2808e-04\n",
      "Epoch 6/10\n",
      "81/81 [==============================] - 6s 72ms/step - loss: 3.9989e-04 - val_loss: 4.6935e-04\n",
      "Epoch 7/10\n",
      "81/81 [==============================] - 6s 73ms/step - loss: 3.8044e-04 - val_loss: 8.2686e-04\n",
      "Epoch 8/10\n",
      "81/81 [==============================] - 6s 74ms/step - loss: 3.7056e-04 - val_loss: 0.0010\n",
      "Epoch 9/10\n",
      "81/81 [==============================] - 6s 72ms/step - loss: 3.4116e-04 - val_loss: 0.0010\n",
      "Epoch 10/10\n",
      "81/81 [==============================] - 6s 74ms/step - loss: 3.5372e-04 - val_loss: 4.5121e-04\n",
      "✅ Saved model to LYV_gru_model.h5\n",
      "\n",
      "📈 Downloading data for LKQ...\n"
     ]
    },
    {
     "name": "stderr",
     "output_type": "stream",
     "text": [
      "[*********************100%***********************]  1 of 1 completed\n"
     ]
    },
    {
     "name": "stdout",
     "output_type": "stream",
     "text": [
      "Training shape for LKQ - X_train: (2571, 100, 1), X_test: (1102, 100, 1)\n",
      "Epoch 1/10\n",
      "81/81 [==============================] - 11s 87ms/step - loss: 0.0118 - val_loss: 5.9402e-04\n",
      "Epoch 2/10\n",
      "81/81 [==============================] - 6s 73ms/step - loss: 0.0016 - val_loss: 0.0014\n",
      "Epoch 3/10\n",
      "81/81 [==============================] - 7s 84ms/step - loss: 0.0015 - val_loss: 5.3939e-04\n",
      "Epoch 4/10\n",
      "81/81 [==============================] - 6s 73ms/step - loss: 0.0013 - val_loss: 9.5877e-04\n",
      "Epoch 5/10\n",
      "81/81 [==============================] - 7s 84ms/step - loss: 0.0011 - val_loss: 8.1962e-04\n",
      "Epoch 6/10\n",
      "81/81 [==============================] - 6s 75ms/step - loss: 0.0010 - val_loss: 0.0012\n",
      "Epoch 7/10\n",
      "81/81 [==============================] - 6s 77ms/step - loss: 0.0011 - val_loss: 5.9000e-04\n",
      "Epoch 8/10\n",
      "81/81 [==============================] - 6s 76ms/step - loss: 0.0010 - val_loss: 9.0504e-04\n",
      "Epoch 9/10\n",
      "81/81 [==============================] - 6s 80ms/step - loss: 8.6401e-04 - val_loss: 5.6316e-04\n",
      "Epoch 10/10\n",
      "81/81 [==============================] - 6s 75ms/step - loss: 9.0375e-04 - val_loss: 0.0011\n",
      "✅ Saved model to LKQ_gru_model.h5\n",
      "\n",
      "📈 Downloading data for LMT...\n"
     ]
    },
    {
     "name": "stderr",
     "output_type": "stream",
     "text": [
      "[*********************100%***********************]  1 of 1 completed\n"
     ]
    },
    {
     "name": "stdout",
     "output_type": "stream",
     "text": [
      "Training shape for LMT - X_train: (2571, 100, 1), X_test: (1102, 100, 1)\n",
      "Epoch 1/10\n",
      "81/81 [==============================] - 12s 84ms/step - loss: 0.0051 - val_loss: 4.0071e-04\n",
      "Epoch 2/10\n",
      "81/81 [==============================] - 6s 74ms/step - loss: 9.8902e-04 - val_loss: 2.4727e-04\n",
      "Epoch 3/10\n",
      "81/81 [==============================] - 6s 72ms/step - loss: 8.0044e-04 - val_loss: 2.5501e-04\n",
      "Epoch 4/10\n",
      "81/81 [==============================] - 6s 74ms/step - loss: 7.1811e-04 - val_loss: 8.5060e-04\n",
      "Epoch 5/10\n",
      "81/81 [==============================] - 6s 74ms/step - loss: 6.5449e-04 - val_loss: 7.1628e-04\n",
      "Epoch 6/10\n",
      "81/81 [==============================] - 6s 74ms/step - loss: 6.2962e-04 - val_loss: 2.5970e-04\n",
      "Epoch 7/10\n",
      "81/81 [==============================] - 6s 73ms/step - loss: 5.5828e-04 - val_loss: 5.5739e-04\n",
      "Epoch 8/10\n",
      "81/81 [==============================] - 6s 73ms/step - loss: 5.6571e-04 - val_loss: 2.4293e-04\n",
      "Epoch 9/10\n",
      "81/81 [==============================] - 6s 73ms/step - loss: 4.9547e-04 - val_loss: 2.9475e-04\n",
      "Epoch 10/10\n",
      "81/81 [==============================] - 6s 73ms/step - loss: 4.4094e-04 - val_loss: 2.6687e-04\n",
      "✅ Saved model to LMT_gru_model.h5\n",
      "\n",
      "📈 Downloading data for L...\n"
     ]
    },
    {
     "name": "stderr",
     "output_type": "stream",
     "text": [
      "[*********************100%***********************]  1 of 1 completed\n"
     ]
    },
    {
     "name": "stdout",
     "output_type": "stream",
     "text": [
      "Training shape for L - X_train: (2571, 100, 1), X_test: (1102, 100, 1)\n",
      "Epoch 1/10\n",
      "81/81 [==============================] - 12s 86ms/step - loss: 0.0029 - val_loss: 3.7909e-04\n",
      "Epoch 2/10\n",
      "81/81 [==============================] - 6s 78ms/step - loss: 7.2501e-04 - val_loss: 3.4265e-04\n",
      "Epoch 3/10\n",
      "81/81 [==============================] - 6s 76ms/step - loss: 6.0488e-04 - val_loss: 3.2585e-04\n",
      "Epoch 4/10\n",
      "81/81 [==============================] - 6s 77ms/step - loss: 5.5378e-04 - val_loss: 3.6835e-04\n",
      "Epoch 5/10\n",
      "81/81 [==============================] - 6s 73ms/step - loss: 5.3863e-04 - val_loss: 6.6737e-04\n",
      "Epoch 6/10\n",
      "81/81 [==============================] - 6s 76ms/step - loss: 5.0989e-04 - val_loss: 2.9302e-04\n",
      "Epoch 7/10\n",
      "81/81 [==============================] - 6s 76ms/step - loss: 5.0185e-04 - val_loss: 3.5081e-04\n",
      "Epoch 8/10\n",
      "81/81 [==============================] - 6s 75ms/step - loss: 4.1925e-04 - val_loss: 5.5039e-04\n",
      "Epoch 9/10\n",
      "81/81 [==============================] - 6s 74ms/step - loss: 4.0358e-04 - val_loss: 3.7853e-04\n",
      "Epoch 10/10\n",
      "81/81 [==============================] - 6s 74ms/step - loss: 3.7796e-04 - val_loss: 4.2273e-04\n",
      "✅ Saved model to L_gru_model.h5\n",
      "\n",
      "📈 Downloading data for LOW...\n"
     ]
    },
    {
     "name": "stderr",
     "output_type": "stream",
     "text": [
      "[*********************100%***********************]  1 of 1 completed\n"
     ]
    },
    {
     "name": "stdout",
     "output_type": "stream",
     "text": [
      "Training shape for LOW - X_train: (2571, 100, 1), X_test: (1102, 100, 1)\n",
      "Epoch 1/10\n",
      "81/81 [==============================] - 12s 91ms/step - loss: 0.0029 - val_loss: 7.7004e-04\n",
      "Epoch 2/10\n",
      "81/81 [==============================] - 6s 75ms/step - loss: 4.9169e-04 - val_loss: 4.0017e-04\n",
      "Epoch 3/10\n",
      "81/81 [==============================] - 6s 76ms/step - loss: 4.1606e-04 - val_loss: 4.1909e-04\n",
      "Epoch 4/10\n",
      "81/81 [==============================] - 6s 73ms/step - loss: 3.3668e-04 - val_loss: 5.9427e-04\n",
      "Epoch 5/10\n",
      "81/81 [==============================] - 6s 74ms/step - loss: 3.1699e-04 - val_loss: 3.6424e-04\n",
      "Epoch 6/10\n",
      "81/81 [==============================] - 6s 80ms/step - loss: 2.9735e-04 - val_loss: 3.4022e-04\n",
      "Epoch 7/10\n",
      "81/81 [==============================] - 6s 74ms/step - loss: 2.7972e-04 - val_loss: 4.2903e-04\n",
      "Epoch 8/10\n",
      "81/81 [==============================] - 6s 74ms/step - loss: 2.4774e-04 - val_loss: 6.3536e-04\n",
      "Epoch 9/10\n",
      "81/81 [==============================] - 6s 74ms/step - loss: 2.4852e-04 - val_loss: 3.2788e-04\n",
      "Epoch 10/10\n",
      "81/81 [==============================] - 6s 76ms/step - loss: 2.1993e-04 - val_loss: 4.6079e-04\n",
      "✅ Saved model to LOW_gru_model.h5\n",
      "\n",
      "📈 Downloading data for LULU...\n"
     ]
    },
    {
     "name": "stderr",
     "output_type": "stream",
     "text": [
      "[*********************100%***********************]  1 of 1 completed\n"
     ]
    },
    {
     "name": "stdout",
     "output_type": "stream",
     "text": [
      "Training shape for LULU - X_train: (2571, 100, 1), X_test: (1102, 100, 1)\n",
      "Epoch 1/10\n",
      "81/81 [==============================] - 14s 89ms/step - loss: 0.0029 - val_loss: 7.1044e-04\n",
      "Epoch 2/10\n",
      "81/81 [==============================] - 6s 77ms/step - loss: 4.9047e-04 - val_loss: 9.3700e-04\n",
      "Epoch 3/10\n",
      "81/81 [==============================] - 6s 77ms/step - loss: 3.9768e-04 - val_loss: 0.0010\n",
      "Epoch 4/10\n",
      "81/81 [==============================] - 6s 77ms/step - loss: 3.9357e-04 - val_loss: 6.7344e-04\n",
      "Epoch 5/10\n",
      "81/81 [==============================] - 6s 77ms/step - loss: 3.9635e-04 - val_loss: 6.3997e-04\n",
      "Epoch 6/10\n",
      "81/81 [==============================] - 6s 77ms/step - loss: 3.5099e-04 - val_loss: 6.2959e-04\n",
      "Epoch 7/10\n",
      "81/81 [==============================] - 6s 76ms/step - loss: 3.4899e-04 - val_loss: 6.5127e-04\n",
      "Epoch 8/10\n",
      "81/81 [==============================] - 6s 77ms/step - loss: 3.2434e-04 - val_loss: 8.7418e-04\n",
      "Epoch 9/10\n",
      "81/81 [==============================] - 6s 76ms/step - loss: 2.9443e-04 - val_loss: 8.0086e-04\n",
      "Epoch 10/10\n",
      "81/81 [==============================] - 6s 80ms/step - loss: 2.8647e-04 - val_loss: 5.5709e-04\n",
      "✅ Saved model to LULU_gru_model.h5\n",
      "\n",
      "📈 Downloading data for LYB...\n"
     ]
    },
    {
     "name": "stderr",
     "output_type": "stream",
     "text": [
      "[*********************100%***********************]  1 of 1 completed\n"
     ]
    },
    {
     "name": "stdout",
     "output_type": "stream",
     "text": [
      "Training shape for LYB - X_train: (2515, 100, 1), X_test: (1079, 100, 1)\n",
      "Epoch 1/10\n",
      "79/79 [==============================] - 12s 90ms/step - loss: 0.0132 - val_loss: 5.0801e-04\n",
      "Epoch 2/10\n",
      "79/79 [==============================] - 6s 76ms/step - loss: 0.0026 - val_loss: 5.2485e-04\n",
      "Epoch 3/10\n",
      "79/79 [==============================] - 6s 76ms/step - loss: 0.0023 - val_loss: 0.0013\n",
      "Epoch 4/10\n",
      "79/79 [==============================] - 6s 76ms/step - loss: 0.0021 - val_loss: 5.4619e-04\n",
      "Epoch 5/10\n",
      "79/79 [==============================] - 6s 77ms/step - loss: 0.0019 - val_loss: 6.0036e-04\n",
      "Epoch 6/10\n",
      "79/79 [==============================] - 6s 75ms/step - loss: 0.0017 - val_loss: 4.8712e-04\n",
      "Epoch 7/10\n",
      "79/79 [==============================] - 6s 77ms/step - loss: 0.0016 - val_loss: 0.0014\n",
      "Epoch 8/10\n",
      "79/79 [==============================] - 6s 77ms/step - loss: 0.0015 - val_loss: 5.4254e-04\n",
      "Epoch 9/10\n",
      "79/79 [==============================] - 6s 77ms/step - loss: 0.0015 - val_loss: 0.0016\n",
      "Epoch 10/10\n",
      "79/79 [==============================] - 6s 76ms/step - loss: 0.0015 - val_loss: 0.0015\n",
      "✅ Saved model to LYB_gru_model.h5\n",
      "\n",
      "📈 Downloading data for MTB...\n"
     ]
    },
    {
     "name": "stderr",
     "output_type": "stream",
     "text": [
      "[*********************100%***********************]  1 of 1 completed\n"
     ]
    },
    {
     "name": "stdout",
     "output_type": "stream",
     "text": [
      "Training shape for MTB - X_train: (2571, 100, 1), X_test: (1102, 100, 1)\n",
      "Epoch 1/10\n",
      "81/81 [==============================] - 56s 205ms/step - loss: 0.0137 - val_loss: 0.0012\n",
      "Epoch 2/10\n",
      "81/81 [==============================] - 11s 137ms/step - loss: 0.0014 - val_loss: 7.5291e-04\n",
      "Epoch 3/10\n",
      "81/81 [==============================] - 10s 120ms/step - loss: 0.0012 - val_loss: 7.6754e-04\n",
      "Epoch 4/10\n",
      "81/81 [==============================] - 9s 115ms/step - loss: 0.0012 - val_loss: 0.0010\n",
      "Epoch 5/10\n",
      "81/81 [==============================] - 9s 116ms/step - loss: 0.0011 - val_loss: 6.4436e-04\n",
      "Epoch 6/10\n",
      "81/81 [==============================] - 9s 116ms/step - loss: 9.5358e-04 - val_loss: 6.2863e-04\n",
      "Epoch 7/10\n",
      "81/81 [==============================] - 9s 114ms/step - loss: 9.5688e-04 - val_loss: 8.5147e-04\n",
      "Epoch 8/10\n",
      "81/81 [==============================] - 9s 114ms/step - loss: 9.7479e-04 - val_loss: 6.0211e-04\n",
      "Epoch 9/10\n",
      "81/81 [==============================] - 9s 115ms/step - loss: 8.9054e-04 - val_loss: 0.0011\n",
      "Epoch 10/10\n",
      "81/81 [==============================] - 9s 115ms/step - loss: 8.2987e-04 - val_loss: 5.9035e-04\n",
      "✅ Saved model to MTB_gru_model.h5\n",
      "\n",
      "📈 Downloading data for MPC...\n"
     ]
    },
    {
     "name": "stderr",
     "output_type": "stream",
     "text": [
      "[*********************100%***********************]  1 of 1 completed\n"
     ]
    },
    {
     "name": "stdout",
     "output_type": "stream",
     "text": [
      "Training shape for MPC - X_train: (2310, 100, 1), X_test: (991, 100, 1)\n",
      "Epoch 1/10\n",
      "73/73 [==============================] - 17s 128ms/step - loss: 0.0015 - val_loss: 7.9464e-04\n",
      "Epoch 2/10\n",
      "73/73 [==============================] - 8s 108ms/step - loss: 2.5885e-04 - val_loss: 5.0866e-04\n",
      "Epoch 3/10\n",
      "73/73 [==============================] - 8s 109ms/step - loss: 2.2619e-04 - val_loss: 5.2629e-04\n",
      "Epoch 4/10\n",
      "73/73 [==============================] - 8s 109ms/step - loss: 1.9258e-04 - val_loss: 2.8312e-04\n",
      "Epoch 5/10\n",
      "73/73 [==============================] - 8s 107ms/step - loss: 1.7976e-04 - val_loss: 2.7382e-04\n",
      "Epoch 6/10\n",
      "73/73 [==============================] - 8s 107ms/step - loss: 1.6256e-04 - val_loss: 2.8875e-04\n",
      "Epoch 7/10\n",
      "73/73 [==============================] - 8s 107ms/step - loss: 1.4445e-04 - val_loss: 2.5682e-04\n",
      "Epoch 8/10\n",
      "73/73 [==============================] - 8s 106ms/step - loss: 1.3359e-04 - val_loss: 9.0260e-04\n",
      "Epoch 9/10\n",
      "73/73 [==============================] - 8s 107ms/step - loss: 1.2741e-04 - val_loss: 2.5202e-04\n",
      "Epoch 10/10\n",
      "73/73 [==============================] - 8s 105ms/step - loss: 1.3328e-04 - val_loss: 5.2594e-04\n",
      "✅ Saved model to MPC_gru_model.h5\n",
      "\n",
      "📈 Downloading data for MKTX...\n"
     ]
    },
    {
     "name": "stderr",
     "output_type": "stream",
     "text": [
      "[*********************100%***********************]  1 of 1 completed\n"
     ]
    },
    {
     "name": "stdout",
     "output_type": "stream",
     "text": [
      "Training shape for MKTX - X_train: (2571, 100, 1), X_test: (1102, 100, 1)\n",
      "Epoch 1/10\n",
      "81/81 [==============================] - 16s 118ms/step - loss: 0.0096 - val_loss: 5.9639e-04\n",
      "Epoch 2/10\n",
      "81/81 [==============================] - 8s 98ms/step - loss: 0.0012 - val_loss: 5.2015e-04\n",
      "Epoch 3/10\n",
      "81/81 [==============================] - 8s 104ms/step - loss: 0.0010 - val_loss: 0.0011\n",
      "Epoch 4/10\n",
      "81/81 [==============================] - 8s 98ms/step - loss: 8.9866e-04 - val_loss: 4.7170e-04\n",
      "Epoch 5/10\n",
      "81/81 [==============================] - 8s 101ms/step - loss: 7.8115e-04 - val_loss: 0.0010\n",
      "Epoch 6/10\n",
      "81/81 [==============================] - 8s 100ms/step - loss: 8.3932e-04 - val_loss: 4.6133e-04\n",
      "Epoch 7/10\n",
      "81/81 [==============================] - 8s 98ms/step - loss: 8.0081e-04 - val_loss: 8.1341e-04\n",
      "Epoch 8/10\n",
      "81/81 [==============================] - 8s 98ms/step - loss: 7.9071e-04 - val_loss: 5.5502e-04\n",
      "Epoch 9/10\n",
      "81/81 [==============================] - 8s 98ms/step - loss: 6.5088e-04 - val_loss: 0.0012\n",
      "Epoch 10/10\n",
      "81/81 [==============================] - 8s 99ms/step - loss: 6.9389e-04 - val_loss: 7.7310e-04\n",
      "✅ Saved model to MKTX_gru_model.h5\n",
      "\n",
      "📈 Downloading data for MAR...\n"
     ]
    },
    {
     "name": "stderr",
     "output_type": "stream",
     "text": [
      "[*********************100%***********************]  1 of 1 completed\n"
     ]
    },
    {
     "name": "stdout",
     "output_type": "stream",
     "text": [
      "Training shape for MAR - X_train: (2571, 100, 1), X_test: (1102, 100, 1)\n",
      "Epoch 1/10\n",
      "81/81 [==============================] - 15s 111ms/step - loss: 0.0054 - val_loss: 8.8084e-04\n",
      "Epoch 2/10\n",
      "81/81 [==============================] - 8s 94ms/step - loss: 5.9620e-04 - val_loss: 3.5533e-04\n",
      "Epoch 3/10\n",
      "81/81 [==============================] - 7s 93ms/step - loss: 5.1967e-04 - val_loss: 3.5665e-04\n",
      "Epoch 4/10\n",
      "81/81 [==============================] - 8s 95ms/step - loss: 5.0580e-04 - val_loss: 3.2782e-04\n",
      "Epoch 5/10\n",
      "81/81 [==============================] - 8s 94ms/step - loss: 4.0162e-04 - val_loss: 3.7190e-04\n",
      "Epoch 6/10\n",
      "81/81 [==============================] - 8s 95ms/step - loss: 4.7333e-04 - val_loss: 3.2822e-04\n",
      "Epoch 7/10\n",
      "81/81 [==============================] - 8s 94ms/step - loss: 3.8123e-04 - val_loss: 3.0849e-04\n",
      "Epoch 8/10\n",
      "81/81 [==============================] - 8s 94ms/step - loss: 3.8582e-04 - val_loss: 6.3680e-04\n",
      "Epoch 9/10\n",
      "81/81 [==============================] - 8s 96ms/step - loss: 3.6588e-04 - val_loss: 3.0250e-04\n",
      "Epoch 10/10\n",
      "81/81 [==============================] - 7s 92ms/step - loss: 3.7153e-04 - val_loss: 4.4004e-04\n",
      "✅ Saved model to MAR_gru_model.h5\n",
      "\n",
      "📈 Downloading data for MMC...\n"
     ]
    },
    {
     "name": "stderr",
     "output_type": "stream",
     "text": [
      "[*********************100%***********************]  1 of 1 completed\n"
     ]
    },
    {
     "name": "stdout",
     "output_type": "stream",
     "text": [
      "Training shape for MMC - X_train: (2571, 100, 1), X_test: (1102, 100, 1)\n",
      "Epoch 1/10\n",
      "81/81 [==============================] - 15s 114ms/step - loss: 0.0034 - val_loss: 3.3127e-04\n",
      "Epoch 2/10\n",
      "81/81 [==============================] - 7s 92ms/step - loss: 4.6256e-04 - val_loss: 3.0192e-04\n",
      "Epoch 3/10\n",
      "81/81 [==============================] - 8s 94ms/step - loss: 4.0435e-04 - val_loss: 1.9204e-04\n",
      "Epoch 4/10\n",
      "81/81 [==============================] - 8s 97ms/step - loss: 3.7065e-04 - val_loss: 2.2551e-04\n",
      "Epoch 5/10\n",
      "81/81 [==============================] - 7s 92ms/step - loss: 3.2373e-04 - val_loss: 2.1208e-04\n",
      "Epoch 6/10\n",
      "81/81 [==============================] - 7s 90ms/step - loss: 3.0488e-04 - val_loss: 3.6857e-04\n",
      "Epoch 7/10\n",
      "81/81 [==============================] - 7s 88ms/step - loss: 2.6200e-04 - val_loss: 2.0253e-04\n",
      "Epoch 8/10\n",
      "81/81 [==============================] - 7s 91ms/step - loss: 2.6305e-04 - val_loss: 2.6874e-04\n",
      "Epoch 9/10\n",
      "81/81 [==============================] - 7s 91ms/step - loss: 2.3204e-04 - val_loss: 3.4541e-04\n",
      "Epoch 10/10\n",
      "81/81 [==============================] - 7s 89ms/step - loss: 2.5467e-04 - val_loss: 2.1349e-04\n",
      "✅ Saved model to MMC_gru_model.h5\n",
      "\n",
      "📈 Downloading data for MLM...\n"
     ]
    },
    {
     "name": "stderr",
     "output_type": "stream",
     "text": [
      "[*********************100%***********************]  1 of 1 completed\n"
     ]
    },
    {
     "name": "stdout",
     "output_type": "stream",
     "text": [
      "Training shape for MLM - X_train: (2571, 100, 1), X_test: (1102, 100, 1)\n",
      "Epoch 1/10\n",
      "81/81 [==============================] - 15s 105ms/step - loss: 0.0025 - val_loss: 3.5284e-04\n",
      "Epoch 2/10\n",
      "81/81 [==============================] - 7s 89ms/step - loss: 3.9329e-04 - val_loss: 3.9733e-04\n",
      "Epoch 3/10\n",
      "81/81 [==============================] - 7s 89ms/step - loss: 3.8547e-04 - val_loss: 5.8618e-04\n",
      "Epoch 4/10\n",
      "81/81 [==============================] - 7s 89ms/step - loss: 3.6773e-04 - val_loss: 4.0656e-04\n",
      "Epoch 5/10\n",
      "81/81 [==============================] - 9s 109ms/step - loss: 2.8570e-04 - val_loss: 3.4975e-04\n",
      "Epoch 6/10\n",
      "81/81 [==============================] - 7s 91ms/step - loss: 2.9751e-04 - val_loss: 4.7621e-04\n",
      "Epoch 7/10\n",
      "81/81 [==============================] - 7s 89ms/step - loss: 2.5451e-04 - val_loss: 3.1874e-04\n",
      "Epoch 8/10\n",
      "81/81 [==============================] - 7s 89ms/step - loss: 2.6489e-04 - val_loss: 7.3429e-04\n",
      "Epoch 9/10\n",
      "81/81 [==============================] - 8s 103ms/step - loss: 2.3666e-04 - val_loss: 3.7142e-04\n",
      "Epoch 10/10\n",
      "81/81 [==============================] - 8s 100ms/step - loss: 2.1270e-04 - val_loss: 3.2363e-04\n",
      "✅ Saved model to MLM_gru_model.h5\n",
      "\n",
      "📈 Downloading data for MAS...\n"
     ]
    },
    {
     "name": "stderr",
     "output_type": "stream",
     "text": [
      "[*********************100%***********************]  1 of 1 completed\n"
     ]
    },
    {
     "name": "stdout",
     "output_type": "stream",
     "text": [
      "Training shape for MAS - X_train: (2571, 100, 1), X_test: (1102, 100, 1)\n",
      "Epoch 1/10\n",
      "81/81 [==============================] - 15s 103ms/step - loss: 0.0083 - val_loss: 3.9113e-04\n",
      "Epoch 2/10\n",
      "81/81 [==============================] - 7s 88ms/step - loss: 9.5701e-04 - val_loss: 3.8456e-04\n",
      "Epoch 3/10\n",
      "81/81 [==============================] - 7s 87ms/step - loss: 8.2655e-04 - val_loss: 4.6798e-04\n",
      "Epoch 4/10\n",
      "81/81 [==============================] - 7s 88ms/step - loss: 6.6894e-04 - val_loss: 3.6119e-04\n",
      "Epoch 5/10\n",
      "81/81 [==============================] - 7s 87ms/step - loss: 6.4078e-04 - val_loss: 6.7346e-04\n",
      "Epoch 6/10\n",
      "81/81 [==============================] - 7s 90ms/step - loss: 5.9081e-04 - val_loss: 9.5704e-04\n",
      "Epoch 7/10\n",
      "81/81 [==============================] - 7s 87ms/step - loss: 5.7097e-04 - val_loss: 6.4356e-04\n",
      "Epoch 8/10\n",
      "81/81 [==============================] - 7s 88ms/step - loss: 5.5456e-04 - val_loss: 3.4434e-04\n",
      "Epoch 9/10\n",
      "81/81 [==============================] - 7s 84ms/step - loss: 5.0229e-04 - val_loss: 6.2200e-04\n",
      "Epoch 10/10\n",
      "81/81 [==============================] - 7s 86ms/step - loss: 4.5256e-04 - val_loss: 4.0592e-04\n",
      "✅ Saved model to MAS_gru_model.h5\n",
      "\n",
      "📈 Downloading data for MA...\n"
     ]
    },
    {
     "name": "stderr",
     "output_type": "stream",
     "text": [
      "[*********************100%***********************]  1 of 1 completed\n"
     ]
    },
    {
     "name": "stdout",
     "output_type": "stream",
     "text": [
      "Training shape for MA - X_train: (2571, 100, 1), X_test: (1102, 100, 1)\n",
      "Epoch 1/10\n",
      "81/81 [==============================] - 14s 99ms/step - loss: 0.0035 - val_loss: 3.4342e-04\n",
      "Epoch 2/10\n",
      "81/81 [==============================] - 7s 82ms/step - loss: 6.6144e-04 - val_loss: 8.7717e-04\n",
      "Epoch 3/10\n",
      "81/81 [==============================] - 7s 90ms/step - loss: 5.3544e-04 - val_loss: 3.1489e-04\n",
      "Epoch 4/10\n",
      "81/81 [==============================] - 7s 83ms/step - loss: 4.9762e-04 - val_loss: 7.8105e-04\n",
      "Epoch 5/10\n",
      "81/81 [==============================] - 7s 82ms/step - loss: 4.9515e-04 - val_loss: 3.3723e-04\n",
      "Epoch 6/10\n",
      "81/81 [==============================] - 7s 83ms/step - loss: 4.3908e-04 - val_loss: 5.4216e-04\n",
      "Epoch 7/10\n",
      "81/81 [==============================] - 7s 83ms/step - loss: 4.3272e-04 - val_loss: 2.8244e-04\n",
      "Epoch 8/10\n",
      "81/81 [==============================] - 7s 84ms/step - loss: 3.8137e-04 - val_loss: 2.7562e-04\n",
      "Epoch 9/10\n",
      "81/81 [==============================] - 7s 82ms/step - loss: 3.9081e-04 - val_loss: 3.4081e-04\n",
      "Epoch 10/10\n",
      "81/81 [==============================] - 7s 83ms/step - loss: 3.5407e-04 - val_loss: 2.8067e-04\n",
      "✅ Saved model to MA_gru_model.h5\n",
      "\n",
      "📈 Downloading data for MTCH...\n"
     ]
    },
    {
     "name": "stderr",
     "output_type": "stream",
     "text": [
      "[*********************100%***********************]  1 of 1 completed\n"
     ]
    },
    {
     "name": "stdout",
     "output_type": "stream",
     "text": [
      "Training shape for MTCH - X_train: (2571, 100, 1), X_test: (1102, 100, 1)\n",
      "Epoch 1/10\n",
      "81/81 [==============================] - 14s 98ms/step - loss: 0.0040 - val_loss: 5.9762e-04\n",
      "Epoch 2/10\n",
      "81/81 [==============================] - 7s 82ms/step - loss: 5.4306e-04 - val_loss: 5.5686e-04\n",
      "Epoch 3/10\n",
      "81/81 [==============================] - 7s 82ms/step - loss: 4.2641e-04 - val_loss: 7.8318e-04\n",
      "Epoch 4/10\n",
      "81/81 [==============================] - 7s 82ms/step - loss: 3.8809e-04 - val_loss: 8.2581e-04\n",
      "Epoch 5/10\n",
      "81/81 [==============================] - 7s 81ms/step - loss: 3.8866e-04 - val_loss: 8.9923e-04\n",
      "Epoch 6/10\n",
      "81/81 [==============================] - 7s 83ms/step - loss: 3.4157e-04 - val_loss: 5.4247e-04\n",
      "Epoch 7/10\n",
      "81/81 [==============================] - 7s 84ms/step - loss: 3.3371e-04 - val_loss: 4.7090e-04\n",
      "Epoch 8/10\n",
      "81/81 [==============================] - 7s 81ms/step - loss: 3.5475e-04 - val_loss: 4.3403e-04\n",
      "Epoch 9/10\n",
      "81/81 [==============================] - 7s 81ms/step - loss: 3.1250e-04 - val_loss: 4.2175e-04\n",
      "Epoch 10/10\n",
      "81/81 [==============================] - 7s 81ms/step - loss: 3.4880e-04 - val_loss: 4.3500e-04\n",
      "✅ Saved model to MTCH_gru_model.h5\n",
      "\n",
      "📈 Downloading data for MKC...\n"
     ]
    },
    {
     "name": "stderr",
     "output_type": "stream",
     "text": [
      "[*********************100%***********************]  1 of 1 completed\n"
     ]
    },
    {
     "name": "stdout",
     "output_type": "stream",
     "text": [
      "Training shape for MKC - X_train: (2571, 100, 1), X_test: (1102, 100, 1)\n",
      "Epoch 1/10\n",
      "81/81 [==============================] - 13s 94ms/step - loss: 0.0088 - val_loss: 6.3084e-04\n",
      "Epoch 2/10\n",
      "81/81 [==============================] - 7s 83ms/step - loss: 0.0017 - val_loss: 4.3065e-04\n",
      "Epoch 3/10\n",
      "81/81 [==============================] - 6s 79ms/step - loss: 0.0013 - val_loss: 6.6451e-04\n",
      "Epoch 4/10\n",
      "81/81 [==============================] - 7s 82ms/step - loss: 0.0014 - val_loss: 9.3335e-04\n",
      "Epoch 5/10\n",
      "81/81 [==============================] - 6s 79ms/step - loss: 0.0012 - val_loss: 7.0228e-04\n",
      "Epoch 6/10\n",
      "81/81 [==============================] - 6s 80ms/step - loss: 0.0011 - val_loss: 9.2104e-04\n",
      "Epoch 7/10\n",
      "81/81 [==============================] - 7s 81ms/step - loss: 0.0011 - val_loss: 5.7611e-04\n",
      "Epoch 8/10\n",
      "81/81 [==============================] - 7s 82ms/step - loss: 9.3549e-04 - val_loss: 7.1388e-04\n",
      "Epoch 9/10\n",
      "81/81 [==============================] - 7s 84ms/step - loss: 9.2123e-04 - val_loss: 4.4096e-04\n",
      "Epoch 10/10\n",
      "81/81 [==============================] - 7s 81ms/step - loss: 8.4013e-04 - val_loss: 5.4285e-04\n",
      "✅ Saved model to MKC_gru_model.h5\n",
      "\n",
      "📈 Downloading data for MCD...\n"
     ]
    },
    {
     "name": "stderr",
     "output_type": "stream",
     "text": [
      "[*********************100%***********************]  1 of 1 completed\n"
     ]
    },
    {
     "name": "stdout",
     "output_type": "stream",
     "text": [
      "Training shape for MCD - X_train: (2571, 100, 1), X_test: (1102, 100, 1)\n",
      "Epoch 1/10\n",
      "81/81 [==============================] - 14s 95ms/step - loss: 0.0051 - val_loss: 6.0492e-04\n",
      "Epoch 2/10\n",
      "81/81 [==============================] - 6s 78ms/step - loss: 7.7886e-04 - val_loss: 3.1184e-04\n",
      "Epoch 3/10\n",
      "81/81 [==============================] - 6s 80ms/step - loss: 6.8126e-04 - val_loss: 3.4043e-04\n",
      "Epoch 4/10\n",
      "81/81 [==============================] - 6s 78ms/step - loss: 6.1370e-04 - val_loss: 2.1005e-04\n",
      "Epoch 5/10\n",
      "81/81 [==============================] - 6s 80ms/step - loss: 5.4587e-04 - val_loss: 5.9939e-04\n",
      "Epoch 6/10\n",
      "81/81 [==============================] - 6s 80ms/step - loss: 5.4214e-04 - val_loss: 0.0014\n",
      "Epoch 7/10\n",
      "81/81 [==============================] - 6s 78ms/step - loss: 5.4724e-04 - val_loss: 4.2600e-04\n",
      "Epoch 8/10\n",
      "81/81 [==============================] - 6s 80ms/step - loss: 5.3702e-04 - val_loss: 0.0026\n",
      "Epoch 9/10\n",
      "81/81 [==============================] - 6s 79ms/step - loss: 4.7804e-04 - val_loss: 5.3917e-04\n",
      "Epoch 10/10\n",
      "81/81 [==============================] - 6s 80ms/step - loss: 4.7177e-04 - val_loss: 4.7120e-04\n",
      "✅ Saved model to MCD_gru_model.h5\n",
      "\n",
      "📈 Downloading data for MCK...\n"
     ]
    },
    {
     "name": "stderr",
     "output_type": "stream",
     "text": [
      "[*********************100%***********************]  1 of 1 completed\n"
     ]
    },
    {
     "name": "stdout",
     "output_type": "stream",
     "text": [
      "Training shape for MCK - X_train: (2571, 100, 1), X_test: (1102, 100, 1)\n",
      "Epoch 1/10\n",
      "81/81 [==============================] - 13s 93ms/step - loss: 0.0023 - val_loss: 3.6387e-04\n",
      "Epoch 2/10\n",
      "81/81 [==============================] - 6s 78ms/step - loss: 2.6927e-04 - val_loss: 6.5607e-04\n",
      "Epoch 3/10\n",
      "81/81 [==============================] - 6s 77ms/step - loss: 2.2976e-04 - val_loss: 4.5596e-04\n",
      "Epoch 4/10\n",
      "81/81 [==============================] - 7s 85ms/step - loss: 2.0844e-04 - val_loss: 9.5332e-04\n",
      "Epoch 5/10\n",
      "81/81 [==============================] - 6s 77ms/step - loss: 1.8040e-04 - val_loss: 5.0716e-04\n",
      "Epoch 6/10\n",
      "81/81 [==============================] - 6s 80ms/step - loss: 1.6704e-04 - val_loss: 9.6952e-04\n",
      "Epoch 7/10\n",
      "81/81 [==============================] - 6s 78ms/step - loss: 1.6804e-04 - val_loss: 2.5319e-04\n",
      "Epoch 8/10\n",
      "81/81 [==============================] - 6s 78ms/step - loss: 1.5222e-04 - val_loss: 3.0853e-04\n",
      "Epoch 9/10\n",
      "81/81 [==============================] - 6s 78ms/step - loss: 1.4071e-04 - val_loss: 6.2976e-04\n",
      "Epoch 10/10\n",
      "81/81 [==============================] - 6s 79ms/step - loss: 1.3817e-04 - val_loss: 2.7094e-04\n",
      "✅ Saved model to MCK_gru_model.h5\n",
      "\n",
      "📈 Downloading data for MDT...\n"
     ]
    },
    {
     "name": "stderr",
     "output_type": "stream",
     "text": [
      "[*********************100%***********************]  1 of 1 completed\n"
     ]
    },
    {
     "name": "stdout",
     "output_type": "stream",
     "text": [
      "Training shape for MDT - X_train: (2571, 100, 1), X_test: (1102, 100, 1)\n",
      "Epoch 1/10\n",
      "81/81 [==============================] - 13s 99ms/step - loss: 0.0128 - val_loss: 3.7305e-04\n",
      "Epoch 2/10\n",
      "81/81 [==============================] - 7s 84ms/step - loss: 0.0018 - val_loss: 4.3778e-04\n",
      "Epoch 3/10\n",
      "81/81 [==============================] - 6s 78ms/step - loss: 0.0017 - val_loss: 5.2991e-04\n",
      "Epoch 4/10\n",
      "81/81 [==============================] - 6s 77ms/step - loss: 0.0016 - val_loss: 9.2380e-04\n",
      "Epoch 5/10\n",
      "81/81 [==============================] - 7s 90ms/step - loss: 0.0013 - val_loss: 0.0015\n",
      "Epoch 6/10\n",
      "81/81 [==============================] - 7s 81ms/step - loss: 0.0013 - val_loss: 0.0011\n",
      "Epoch 7/10\n",
      "81/81 [==============================] - 6s 77ms/step - loss: 0.0013 - val_loss: 4.1663e-04\n",
      "Epoch 8/10\n",
      "81/81 [==============================] - 6s 79ms/step - loss: 0.0012 - val_loss: 6.3294e-04\n",
      "Epoch 9/10\n",
      "81/81 [==============================] - 6s 78ms/step - loss: 0.0012 - val_loss: 4.5300e-04\n",
      "Epoch 10/10\n",
      "81/81 [==============================] - 6s 78ms/step - loss: 9.7741e-04 - val_loss: 3.9299e-04\n",
      "✅ Saved model to MDT_gru_model.h5\n",
      "\n",
      "📈 Downloading data for MRK...\n"
     ]
    },
    {
     "name": "stderr",
     "output_type": "stream",
     "text": [
      "[*********************100%***********************]  1 of 1 completed\n"
     ]
    },
    {
     "name": "stdout",
     "output_type": "stream",
     "text": [
      "Training shape for MRK - X_train: (2571, 100, 1), X_test: (1102, 100, 1)\n",
      "Epoch 1/10\n",
      "81/81 [==============================] - 13s 94ms/step - loss: 0.0052 - val_loss: 6.7343e-04\n",
      "Epoch 2/10\n",
      "81/81 [==============================] - 6s 80ms/step - loss: 6.2455e-04 - val_loss: 5.4096e-04\n",
      "Epoch 3/10\n",
      "81/81 [==============================] - 6s 78ms/step - loss: 5.3144e-04 - val_loss: 3.2918e-04\n",
      "Epoch 4/10\n",
      "81/81 [==============================] - 7s 82ms/step - loss: 5.0044e-04 - val_loss: 3.3228e-04\n",
      "Epoch 5/10\n",
      "81/81 [==============================] - 7s 83ms/step - loss: 4.1963e-04 - val_loss: 3.2621e-04\n",
      "Epoch 6/10\n",
      "81/81 [==============================] - 7s 86ms/step - loss: 4.3256e-04 - val_loss: 3.7270e-04\n",
      "Epoch 7/10\n",
      "81/81 [==============================] - 6s 77ms/step - loss: 3.8573e-04 - val_loss: 6.3934e-04\n",
      "Epoch 8/10\n",
      "81/81 [==============================] - 6s 78ms/step - loss: 4.2725e-04 - val_loss: 9.5760e-04\n",
      "Epoch 9/10\n",
      "81/81 [==============================] - 6s 80ms/step - loss: 3.7726e-04 - val_loss: 8.9227e-04\n",
      "Epoch 10/10\n",
      "81/81 [==============================] - 6s 80ms/step - loss: 3.4182e-04 - val_loss: 2.7375e-04\n",
      "✅ Saved model to MRK_gru_model.h5\n",
      "\n",
      "📈 Downloading data for META...\n"
     ]
    },
    {
     "name": "stderr",
     "output_type": "stream",
     "text": [
      "[*********************100%***********************]  1 of 1 completed\n"
     ]
    },
    {
     "name": "stdout",
     "output_type": "stream",
     "text": [
      "Training shape for META - X_train: (2151, 100, 1), X_test: (923, 100, 1)\n",
      "Epoch 1/10\n",
      "68/68 [==============================] - 12s 94ms/step - loss: 0.0035 - val_loss: 4.3305e-04\n",
      "Epoch 2/10\n",
      "68/68 [==============================] - 5s 81ms/step - loss: 5.8251e-04 - val_loss: 8.6101e-04\n",
      "Epoch 3/10\n",
      "68/68 [==============================] - 5s 79ms/step - loss: 4.9360e-04 - val_loss: 4.3884e-04\n",
      "Epoch 4/10\n",
      "68/68 [==============================] - 5s 79ms/step - loss: 4.4767e-04 - val_loss: 6.3156e-04\n",
      "Epoch 5/10\n",
      "68/68 [==============================] - 5s 79ms/step - loss: 4.0866e-04 - val_loss: 0.0021\n",
      "Epoch 6/10\n",
      "68/68 [==============================] - 6s 81ms/step - loss: 3.9667e-04 - val_loss: 4.4351e-04\n",
      "Epoch 7/10\n",
      "68/68 [==============================] - 5s 77ms/step - loss: 3.4115e-04 - val_loss: 3.9068e-04\n",
      "Epoch 8/10\n",
      "68/68 [==============================] - 5s 78ms/step - loss: 3.3910e-04 - val_loss: 4.3471e-04\n",
      "Epoch 9/10\n",
      "68/68 [==============================] - 6s 83ms/step - loss: 2.9268e-04 - val_loss: 3.7192e-04\n",
      "Epoch 10/10\n",
      "68/68 [==============================] - 5s 78ms/step - loss: 2.8934e-04 - val_loss: 4.7532e-04\n",
      "✅ Saved model to META_gru_model.h5\n",
      "\n",
      "📈 Downloading data for MET...\n"
     ]
    },
    {
     "name": "stderr",
     "output_type": "stream",
     "text": [
      "[*********************100%***********************]  1 of 1 completed\n"
     ]
    },
    {
     "name": "stdout",
     "output_type": "stream",
     "text": [
      "Training shape for MET - X_train: (2571, 100, 1), X_test: (1102, 100, 1)\n",
      "Epoch 1/10\n",
      "81/81 [==============================] - 12s 89ms/step - loss: 0.0038 - val_loss: 7.4930e-04\n",
      "Epoch 2/10\n",
      "81/81 [==============================] - 6s 79ms/step - loss: 6.5961e-04 - val_loss: 6.0682e-04\n",
      "Epoch 3/10\n",
      "81/81 [==============================] - 6s 76ms/step - loss: 5.5498e-04 - val_loss: 5.4553e-04\n",
      "Epoch 4/10\n",
      "81/81 [==============================] - 6s 78ms/step - loss: 4.8801e-04 - val_loss: 4.2341e-04\n",
      "Epoch 5/10\n",
      "81/81 [==============================] - 6s 76ms/step - loss: 4.5491e-04 - val_loss: 8.6275e-04\n",
      "Epoch 6/10\n",
      "81/81 [==============================] - 6s 78ms/step - loss: 4.4150e-04 - val_loss: 7.5148e-04\n",
      "Epoch 7/10\n",
      "81/81 [==============================] - 6s 77ms/step - loss: 4.2670e-04 - val_loss: 3.4027e-04\n",
      "Epoch 8/10\n",
      "81/81 [==============================] - 6s 78ms/step - loss: 3.8863e-04 - val_loss: 5.6601e-04\n",
      "Epoch 9/10\n",
      "81/81 [==============================] - 6s 75ms/step - loss: 3.6742e-04 - val_loss: 7.4400e-04\n",
      "Epoch 10/10\n",
      "81/81 [==============================] - 6s 78ms/step - loss: 3.6215e-04 - val_loss: 2.9871e-04\n",
      "✅ Saved model to MET_gru_model.h5\n",
      "\n",
      "📈 Downloading data for MTD...\n"
     ]
    },
    {
     "name": "stderr",
     "output_type": "stream",
     "text": [
      "[*********************100%***********************]  1 of 1 completed\n"
     ]
    },
    {
     "name": "stdout",
     "output_type": "stream",
     "text": [
      "Training shape for MTD - X_train: (2571, 100, 1), X_test: (1102, 100, 1)\n",
      "Epoch 1/10\n",
      "81/81 [==============================] - 12s 88ms/step - loss: 0.0031 - val_loss: 6.1214e-04\n",
      "Epoch 2/10\n",
      "81/81 [==============================] - 6s 79ms/step - loss: 5.8627e-04 - val_loss: 5.7619e-04\n",
      "Epoch 3/10\n",
      "81/81 [==============================] - 6s 77ms/step - loss: 5.1940e-04 - val_loss: 5.9614e-04\n",
      "Epoch 4/10\n",
      "81/81 [==============================] - 6s 77ms/step - loss: 4.8545e-04 - val_loss: 8.9560e-04\n",
      "Epoch 5/10\n",
      "81/81 [==============================] - 7s 81ms/step - loss: 4.1609e-04 - val_loss: 6.4756e-04\n",
      "Epoch 6/10\n",
      "81/81 [==============================] - 6s 78ms/step - loss: 3.8336e-04 - val_loss: 6.0714e-04\n",
      "Epoch 7/10\n",
      "81/81 [==============================] - 6s 77ms/step - loss: 3.4306e-04 - val_loss: 8.7681e-04\n",
      "Epoch 8/10\n",
      "81/81 [==============================] - 6s 78ms/step - loss: 3.1242e-04 - val_loss: 7.2311e-04\n",
      "Epoch 9/10\n",
      "81/81 [==============================] - 6s 77ms/step - loss: 3.1159e-04 - val_loss: 5.1468e-04\n",
      "Epoch 10/10\n",
      "81/81 [==============================] - 7s 81ms/step - loss: 3.2310e-04 - val_loss: 0.0011\n",
      "✅ Saved model to MTD_gru_model.h5\n",
      "\n",
      "📈 Downloading data for MGM...\n"
     ]
    },
    {
     "name": "stderr",
     "output_type": "stream",
     "text": [
      "[*********************100%***********************]  1 of 1 completed\n"
     ]
    },
    {
     "name": "stdout",
     "output_type": "stream",
     "text": [
      "Training shape for MGM - X_train: (2571, 100, 1), X_test: (1102, 100, 1)\n",
      "Epoch 1/10\n",
      "81/81 [==============================] - 12s 92ms/step - loss: 0.0072 - val_loss: 0.0019\n",
      "Epoch 2/10\n",
      "81/81 [==============================] - 6s 79ms/step - loss: 0.0015 - val_loss: 0.0016\n",
      "Epoch 3/10\n",
      "81/81 [==============================] - 6s 76ms/step - loss: 0.0013 - val_loss: 0.0012\n",
      "Epoch 4/10\n",
      "81/81 [==============================] - 6s 80ms/step - loss: 0.0011 - val_loss: 0.0011\n",
      "Epoch 5/10\n",
      "81/81 [==============================] - 6s 76ms/step - loss: 0.0011 - val_loss: 0.0022\n",
      "Epoch 6/10\n",
      "81/81 [==============================] - 6s 77ms/step - loss: 0.0011 - val_loss: 8.7013e-04\n",
      "Epoch 7/10\n",
      "81/81 [==============================] - 6s 77ms/step - loss: 0.0010 - val_loss: 0.0013\n",
      "Epoch 8/10\n",
      "81/81 [==============================] - 6s 79ms/step - loss: 9.5762e-04 - val_loss: 0.0012\n",
      "Epoch 9/10\n",
      "81/81 [==============================] - 6s 76ms/step - loss: 9.2175e-04 - val_loss: 7.8205e-04\n",
      "Epoch 10/10\n",
      "81/81 [==============================] - 6s 80ms/step - loss: 8.5272e-04 - val_loss: 8.2077e-04\n",
      "✅ Saved model to MGM_gru_model.h5\n",
      "\n",
      "📈 Downloading data for MCHP...\n"
     ]
    },
    {
     "name": "stderr",
     "output_type": "stream",
     "text": [
      "[*********************100%***********************]  1 of 1 completed\n"
     ]
    },
    {
     "name": "stdout",
     "output_type": "stream",
     "text": [
      "Training shape for MCHP - X_train: (2571, 100, 1), X_test: (1102, 100, 1)\n",
      "Epoch 1/10\n",
      "81/81 [==============================] - 12s 91ms/step - loss: 0.0039 - val_loss: 9.1552e-04\n",
      "Epoch 2/10\n",
      "81/81 [==============================] - 6s 78ms/step - loss: 5.8655e-04 - val_loss: 7.3604e-04\n",
      "Epoch 3/10\n",
      "81/81 [==============================] - 7s 81ms/step - loss: 5.1209e-04 - val_loss: 6.9553e-04\n",
      "Epoch 4/10\n",
      "81/81 [==============================] - 6s 79ms/step - loss: 5.1167e-04 - val_loss: 8.4516e-04\n",
      "Epoch 5/10\n",
      "81/81 [==============================] - 6s 80ms/step - loss: 4.8705e-04 - val_loss: 9.4882e-04\n",
      "Epoch 6/10\n",
      "81/81 [==============================] - 6s 80ms/step - loss: 4.3969e-04 - val_loss: 7.0645e-04\n",
      "Epoch 7/10\n",
      "81/81 [==============================] - 6s 79ms/step - loss: 4.1027e-04 - val_loss: 7.8801e-04\n",
      "Epoch 8/10\n",
      "81/81 [==============================] - 7s 82ms/step - loss: 3.9059e-04 - val_loss: 5.9744e-04\n",
      "Epoch 9/10\n",
      "81/81 [==============================] - 6s 77ms/step - loss: 3.5076e-04 - val_loss: 0.0015\n",
      "Epoch 10/10\n",
      "81/81 [==============================] - 6s 80ms/step - loss: 3.4529e-04 - val_loss: 0.0011\n",
      "✅ Saved model to MCHP_gru_model.h5\n",
      "\n",
      "📈 Downloading data for MU...\n"
     ]
    },
    {
     "name": "stderr",
     "output_type": "stream",
     "text": [
      "[*********************100%***********************]  1 of 1 completed\n"
     ]
    },
    {
     "name": "stdout",
     "output_type": "stream",
     "text": [
      "Training shape for MU - X_train: (2571, 100, 1), X_test: (1102, 100, 1)\n",
      "Epoch 1/10\n",
      "81/81 [==============================] - 13s 90ms/step - loss: 0.0015 - val_loss: 5.5388e-04\n",
      "Epoch 2/10\n",
      "81/81 [==============================] - 6s 78ms/step - loss: 3.8879e-04 - val_loss: 5.5248e-04\n",
      "Epoch 3/10\n",
      "81/81 [==============================] - 6s 79ms/step - loss: 3.3722e-04 - val_loss: 5.3822e-04\n",
      "Epoch 4/10\n",
      "81/81 [==============================] - 6s 79ms/step - loss: 2.8160e-04 - val_loss: 8.2138e-04\n",
      "Epoch 5/10\n",
      "81/81 [==============================] - 6s 76ms/step - loss: 2.7824e-04 - val_loss: 4.7502e-04\n",
      "Epoch 6/10\n",
      "81/81 [==============================] - 6s 78ms/step - loss: 2.6804e-04 - val_loss: 5.1752e-04\n",
      "Epoch 7/10\n",
      "81/81 [==============================] - 6s 77ms/step - loss: 2.3712e-04 - val_loss: 4.2838e-04\n",
      "Epoch 8/10\n",
      "81/81 [==============================] - 6s 78ms/step - loss: 2.2612e-04 - val_loss: 6.0825e-04\n",
      "Epoch 9/10\n",
      "81/81 [==============================] - 6s 78ms/step - loss: 2.0789e-04 - val_loss: 0.0010\n",
      "Epoch 10/10\n",
      "81/81 [==============================] - 7s 81ms/step - loss: 2.0697e-04 - val_loss: 4.1413e-04\n",
      "✅ Saved model to MU_gru_model.h5\n",
      "\n",
      "📈 Downloading data for MSFT...\n"
     ]
    },
    {
     "name": "stderr",
     "output_type": "stream",
     "text": [
      "[*********************100%***********************]  1 of 1 completed\n"
     ]
    },
    {
     "name": "stdout",
     "output_type": "stream",
     "text": [
      "Training shape for MSFT - X_train: (2571, 100, 1), X_test: (1102, 100, 1)\n",
      "Epoch 1/10\n",
      "81/81 [==============================] - 14s 105ms/step - loss: 0.0015 - val_loss: 9.3345e-04\n",
      "Epoch 2/10\n",
      "81/81 [==============================] - 6s 77ms/step - loss: 2.3355e-04 - val_loss: 2.6645e-04\n",
      "Epoch 3/10\n",
      "81/81 [==============================] - 6s 79ms/step - loss: 1.9008e-04 - val_loss: 3.6099e-04\n",
      "Epoch 4/10\n",
      "81/81 [==============================] - 6s 77ms/step - loss: 1.6590e-04 - val_loss: 5.3290e-04\n",
      "Epoch 5/10\n",
      "81/81 [==============================] - 6s 80ms/step - loss: 1.4642e-04 - val_loss: 2.3232e-04\n",
      "Epoch 6/10\n",
      "81/81 [==============================] - 6s 77ms/step - loss: 1.4410e-04 - val_loss: 2.4554e-04\n",
      "Epoch 7/10\n",
      "81/81 [==============================] - 6s 77ms/step - loss: 1.5231e-04 - val_loss: 2.8611e-04\n",
      "Epoch 8/10\n",
      "81/81 [==============================] - 6s 80ms/step - loss: 1.2497e-04 - val_loss: 2.4471e-04\n",
      "Epoch 9/10\n",
      "81/81 [==============================] - 6s 77ms/step - loss: 1.3100e-04 - val_loss: 5.3719e-04\n",
      "Epoch 10/10\n",
      "81/81 [==============================] - 6s 76ms/step - loss: 1.4331e-04 - val_loss: 3.9059e-04\n",
      "✅ Saved model to MSFT_gru_model.h5\n",
      "\n",
      "📈 Downloading data for MAA...\n"
     ]
    },
    {
     "name": "stderr",
     "output_type": "stream",
     "text": [
      "[*********************100%***********************]  1 of 1 completed\n"
     ]
    },
    {
     "name": "stdout",
     "output_type": "stream",
     "text": [
      "Training shape for MAA - X_train: (2571, 100, 1), X_test: (1102, 100, 1)\n",
      "Epoch 1/10\n",
      "81/81 [==============================] - 13s 92ms/step - loss: 0.0043 - val_loss: 0.0010\n",
      "Epoch 2/10\n",
      "81/81 [==============================] - 7s 88ms/step - loss: 6.6315e-04 - val_loss: 5.4546e-04\n",
      "Epoch 3/10\n",
      "81/81 [==============================] - 6s 80ms/step - loss: 5.0511e-04 - val_loss: 5.3183e-04\n",
      "Epoch 4/10\n",
      "81/81 [==============================] - 6s 78ms/step - loss: 5.4933e-04 - val_loss: 3.1942e-04\n",
      "Epoch 5/10\n",
      "81/81 [==============================] - 6s 79ms/step - loss: 4.7982e-04 - val_loss: 3.1212e-04\n",
      "Epoch 6/10\n",
      "81/81 [==============================] - 6s 80ms/step - loss: 4.3664e-04 - val_loss: 3.0267e-04\n",
      "Epoch 7/10\n",
      "81/81 [==============================] - 6s 80ms/step - loss: 4.1584e-04 - val_loss: 4.7879e-04\n",
      "Epoch 8/10\n",
      "81/81 [==============================] - 6s 79ms/step - loss: 3.8376e-04 - val_loss: 9.8841e-04\n",
      "Epoch 9/10\n",
      "81/81 [==============================] - 6s 78ms/step - loss: 3.6002e-04 - val_loss: 8.5740e-04\n",
      "Epoch 10/10\n",
      "81/81 [==============================] - 6s 80ms/step - loss: 3.7011e-04 - val_loss: 3.2058e-04\n",
      "✅ Saved model to MAA_gru_model.h5\n",
      "\n",
      "📈 Downloading data for MRNA...\n"
     ]
    },
    {
     "name": "stderr",
     "output_type": "stream",
     "text": [
      "[*********************100%***********************]  1 of 1 completed\n"
     ]
    },
    {
     "name": "stdout",
     "output_type": "stream",
     "text": [
      "Training shape for MRNA - X_train: (997, 100, 1), X_test: (428, 100, 1)\n",
      "Epoch 1/10\n",
      "32/32 [==============================] - 9s 113ms/step - loss: 0.0158 - val_loss: 0.0012\n",
      "Epoch 2/10\n",
      "32/32 [==============================] - 3s 83ms/step - loss: 0.0025 - val_loss: 1.5099e-04\n",
      "Epoch 3/10\n",
      "32/32 [==============================] - 3s 81ms/step - loss: 0.0021 - val_loss: 2.7147e-04\n",
      "Epoch 4/10\n",
      "32/32 [==============================] - 3s 79ms/step - loss: 0.0018 - val_loss: 1.3392e-04\n",
      "Epoch 5/10\n",
      "32/32 [==============================] - 3s 83ms/step - loss: 0.0017 - val_loss: 1.3151e-04\n",
      "Epoch 6/10\n",
      "32/32 [==============================] - 2s 79ms/step - loss: 0.0016 - val_loss: 1.2554e-04\n",
      "Epoch 7/10\n",
      "32/32 [==============================] - 3s 82ms/step - loss: 0.0016 - val_loss: 1.2324e-04\n",
      "Epoch 8/10\n",
      "32/32 [==============================] - 3s 85ms/step - loss: 0.0015 - val_loss: 1.1803e-04\n",
      "Epoch 9/10\n",
      "32/32 [==============================] - 3s 80ms/step - loss: 0.0017 - val_loss: 1.1367e-04\n",
      "Epoch 10/10\n",
      "32/32 [==============================] - 3s 83ms/step - loss: 0.0016 - val_loss: 3.5811e-04\n",
      "✅ Saved model to MRNA_gru_model.h5\n",
      "\n",
      "📈 Downloading data for MHK...\n"
     ]
    },
    {
     "name": "stderr",
     "output_type": "stream",
     "text": [
      "[*********************100%***********************]  1 of 1 completed\n"
     ]
    },
    {
     "name": "stdout",
     "output_type": "stream",
     "text": [
      "Training shape for MHK - X_train: (2571, 100, 1), X_test: (1102, 100, 1)\n",
      "Epoch 1/10\n",
      "81/81 [==============================] - 13s 94ms/step - loss: 0.0116 - val_loss: 6.9856e-04\n",
      "Epoch 2/10\n",
      "81/81 [==============================] - 6s 80ms/step - loss: 0.0027 - val_loss: 4.9974e-04\n",
      "Epoch 3/10\n",
      "81/81 [==============================] - 6s 78ms/step - loss: 0.0024 - val_loss: 5.7560e-04\n",
      "Epoch 4/10\n",
      "81/81 [==============================] - 6s 80ms/step - loss: 0.0021 - val_loss: 4.0653e-04\n",
      "Epoch 5/10\n",
      "81/81 [==============================] - 6s 78ms/step - loss: 0.0020 - val_loss: 5.6291e-04\n",
      "Epoch 6/10\n",
      "81/81 [==============================] - 6s 79ms/step - loss: 0.0018 - val_loss: 5.0936e-04\n",
      "Epoch 7/10\n",
      "81/81 [==============================] - 6s 77ms/step - loss: 0.0018 - val_loss: 5.1132e-04\n",
      "Epoch 8/10\n",
      "81/81 [==============================] - 7s 82ms/step - loss: 0.0017 - val_loss: 4.1173e-04\n",
      "Epoch 9/10\n",
      "81/81 [==============================] - 7s 81ms/step - loss: 0.0017 - val_loss: 3.8927e-04\n",
      "Epoch 10/10\n",
      "81/81 [==============================] - 6s 78ms/step - loss: 0.0016 - val_loss: 3.8008e-04\n",
      "✅ Saved model to MHK_gru_model.h5\n",
      "\n",
      "📈 Downloading data for MOH...\n"
     ]
    },
    {
     "name": "stderr",
     "output_type": "stream",
     "text": [
      "[*********************100%***********************]  1 of 1 completed\n"
     ]
    },
    {
     "name": "stdout",
     "output_type": "stream",
     "text": [
      "Training shape for MOH - X_train: (2571, 100, 1), X_test: (1102, 100, 1)\n",
      "Epoch 1/10\n",
      "81/81 [==============================] - 12s 89ms/step - loss: 0.0020 - val_loss: 6.4087e-04\n",
      "Epoch 2/10\n",
      "81/81 [==============================] - 6s 79ms/step - loss: 3.7346e-04 - val_loss: 7.9508e-04\n",
      "Epoch 3/10\n",
      "81/81 [==============================] - 6s 78ms/step - loss: 3.2143e-04 - val_loss: 5.7139e-04\n",
      "Epoch 4/10\n",
      "81/81 [==============================] - 6s 78ms/step - loss: 2.8587e-04 - val_loss: 0.0019\n",
      "Epoch 5/10\n",
      "81/81 [==============================] - 6s 79ms/step - loss: 2.6140e-04 - val_loss: 5.4662e-04\n",
      "Epoch 6/10\n",
      "81/81 [==============================] - 6s 78ms/step - loss: 2.4181e-04 - val_loss: 8.4790e-04\n",
      "Epoch 7/10\n",
      "81/81 [==============================] - 7s 81ms/step - loss: 2.3928e-04 - val_loss: 8.4577e-04\n",
      "Epoch 8/10\n",
      "81/81 [==============================] - 6s 78ms/step - loss: 2.4440e-04 - val_loss: 7.2382e-04\n",
      "Epoch 9/10\n",
      "81/81 [==============================] - 6s 79ms/step - loss: 2.1278e-04 - val_loss: 5.7810e-04\n",
      "Epoch 10/10\n",
      "81/81 [==============================] - 6s 78ms/step - loss: 1.9927e-04 - val_loss: 4.7222e-04\n",
      "✅ Saved model to MOH_gru_model.h5\n",
      "\n",
      "📈 Downloading data for TAP...\n"
     ]
    },
    {
     "name": "stderr",
     "output_type": "stream",
     "text": [
      "[*********************100%***********************]  1 of 1 completed\n"
     ]
    },
    {
     "name": "stdout",
     "output_type": "stream",
     "text": [
      "Training shape for TAP - X_train: (2571, 100, 1), X_test: (1102, 100, 1)\n",
      "Epoch 1/10\n",
      "81/81 [==============================] - 12s 90ms/step - loss: 0.0201 - val_loss: 4.2263e-04\n",
      "Epoch 2/10\n",
      "81/81 [==============================] - 6s 77ms/step - loss: 0.0026 - val_loss: 4.3680e-04\n",
      "Epoch 3/10\n",
      "81/81 [==============================] - 6s 80ms/step - loss: 0.0024 - val_loss: 4.0398e-04\n",
      "Epoch 4/10\n",
      "81/81 [==============================] - 6s 78ms/step - loss: 0.0023 - val_loss: 3.8691e-04\n",
      "Epoch 5/10\n",
      "81/81 [==============================] - 7s 81ms/step - loss: 0.0020 - val_loss: 3.7316e-04\n",
      "Epoch 6/10\n",
      "81/81 [==============================] - 6s 79ms/step - loss: 0.0019 - val_loss: 3.7213e-04\n",
      "Epoch 7/10\n",
      "81/81 [==============================] - 6s 81ms/step - loss: 0.0019 - val_loss: 4.1797e-04\n",
      "Epoch 8/10\n",
      "81/81 [==============================] - 6s 79ms/step - loss: 0.0018 - val_loss: 4.6548e-04\n",
      "Epoch 9/10\n",
      "81/81 [==============================] - 7s 81ms/step - loss: 0.0017 - val_loss: 3.6470e-04\n",
      "Epoch 10/10\n",
      "81/81 [==============================] - 6s 79ms/step - loss: 0.0017 - val_loss: 6.7569e-04\n",
      "✅ Saved model to TAP_gru_model.h5\n",
      "\n",
      "📈 Downloading data for MDLZ...\n"
     ]
    },
    {
     "name": "stderr",
     "output_type": "stream",
     "text": [
      "[*********************100%***********************]  1 of 1 completed\n"
     ]
    },
    {
     "name": "stdout",
     "output_type": "stream",
     "text": [
      "Training shape for MDLZ - X_train: (2571, 100, 1), X_test: (1102, 100, 1)\n",
      "Epoch 1/10\n",
      "81/81 [==============================] - 17s 129ms/step - loss: 0.0093 - val_loss: 5.4480e-04\n",
      "Epoch 2/10\n",
      "81/81 [==============================] - 6s 79ms/step - loss: 0.0012 - val_loss: 5.7089e-04\n",
      "Epoch 3/10\n",
      "81/81 [==============================] - 8s 96ms/step - loss: 0.0010 - val_loss: 3.3204e-04\n",
      "Epoch 4/10\n",
      "81/81 [==============================] - 7s 81ms/step - loss: 9.0554e-04 - val_loss: 4.6769e-04\n",
      "Epoch 5/10\n",
      "81/81 [==============================] - 6s 80ms/step - loss: 8.4814e-04 - val_loss: 9.6149e-04\n",
      "Epoch 6/10\n",
      "81/81 [==============================] - 7s 81ms/step - loss: 8.0841e-04 - val_loss: 6.9774e-04\n",
      "Epoch 7/10\n",
      "81/81 [==============================] - 7s 82ms/step - loss: 7.9112e-04 - val_loss: 6.0004e-04\n",
      "Epoch 8/10\n",
      "81/81 [==============================] - 6s 79ms/step - loss: 6.8637e-04 - val_loss: 0.0013\n",
      "Epoch 9/10\n",
      "81/81 [==============================] - 6s 80ms/step - loss: 7.1353e-04 - val_loss: 3.1956e-04\n",
      "Epoch 10/10\n",
      "81/81 [==============================] - 6s 79ms/step - loss: 6.8928e-04 - val_loss: 3.2509e-04\n",
      "✅ Saved model to MDLZ_gru_model.h5\n",
      "\n",
      "📈 Downloading data for MPWR...\n"
     ]
    },
    {
     "name": "stderr",
     "output_type": "stream",
     "text": [
      "[*********************100%***********************]  1 of 1 completed\n"
     ]
    },
    {
     "name": "stdout",
     "output_type": "stream",
     "text": [
      "Training shape for MPWR - X_train: (2571, 100, 1), X_test: (1102, 100, 1)\n",
      "Epoch 1/10\n",
      "81/81 [==============================] - 13s 94ms/step - loss: 5.0094e-04 - val_loss: 0.0012\n",
      "Epoch 2/10\n",
      "81/81 [==============================] - 6s 79ms/step - loss: 7.7389e-05 - val_loss: 6.5693e-04\n",
      "Epoch 3/10\n",
      "81/81 [==============================] - 7s 82ms/step - loss: 6.8572e-05 - val_loss: 5.9559e-04\n",
      "Epoch 4/10\n",
      "81/81 [==============================] - 6s 78ms/step - loss: 6.3606e-05 - val_loss: 5.9078e-04\n",
      "Epoch 5/10\n",
      "81/81 [==============================] - 6s 80ms/step - loss: 6.6387e-05 - val_loss: 6.0999e-04\n",
      "Epoch 6/10\n",
      "81/81 [==============================] - 6s 79ms/step - loss: 6.1686e-05 - val_loss: 8.7395e-04\n",
      "Epoch 7/10\n",
      "81/81 [==============================] - 6s 80ms/step - loss: 4.5898e-05 - val_loss: 5.9106e-04\n",
      "Epoch 8/10\n",
      "81/81 [==============================] - 6s 79ms/step - loss: 4.4034e-05 - val_loss: 7.9233e-04\n",
      "Epoch 9/10\n",
      "81/81 [==============================] - 6s 79ms/step - loss: 5.4196e-05 - val_loss: 5.8600e-04\n",
      "Epoch 10/10\n",
      "81/81 [==============================] - 6s 79ms/step - loss: 5.3063e-05 - val_loss: 0.0010\n",
      "✅ Saved model to MPWR_gru_model.h5\n",
      "\n",
      "📈 Downloading data for MNST...\n"
     ]
    },
    {
     "name": "stderr",
     "output_type": "stream",
     "text": [
      "[*********************100%***********************]  1 of 1 completed\n"
     ]
    },
    {
     "name": "stdout",
     "output_type": "stream",
     "text": [
      "Training shape for MNST - X_train: (2571, 100, 1), X_test: (1102, 100, 1)\n",
      "Epoch 1/10\n",
      "81/81 [==============================] - 15s 126ms/step - loss: 0.0091 - val_loss: 3.2568e-04\n",
      "Epoch 2/10\n",
      "81/81 [==============================] - 6s 79ms/step - loss: 0.0012 - val_loss: 9.0239e-04\n",
      "Epoch 3/10\n",
      "81/81 [==============================] - 6s 79ms/step - loss: 0.0011 - val_loss: 4.8905e-04\n",
      "Epoch 4/10\n",
      "81/81 [==============================] - 6s 79ms/step - loss: 9.5151e-04 - val_loss: 3.8845e-04\n",
      "Epoch 5/10\n",
      "81/81 [==============================] - 6s 80ms/step - loss: 8.3481e-04 - val_loss: 8.5866e-04\n",
      "Epoch 6/10\n",
      "81/81 [==============================] - 6s 76ms/step - loss: 8.4428e-04 - val_loss: 3.8303e-04\n",
      "Epoch 7/10\n",
      "81/81 [==============================] - 7s 82ms/step - loss: 7.8279e-04 - val_loss: 3.1468e-04\n",
      "Epoch 8/10\n",
      "81/81 [==============================] - 7s 81ms/step - loss: 6.9502e-04 - val_loss: 0.0010\n",
      "Epoch 9/10\n",
      "81/81 [==============================] - 7s 81ms/step - loss: 7.0283e-04 - val_loss: 9.9567e-04\n",
      "Epoch 10/10\n",
      "81/81 [==============================] - 7s 82ms/step - loss: 6.8276e-04 - val_loss: 2.8048e-04\n",
      "✅ Saved model to MNST_gru_model.h5\n",
      "\n",
      "📈 Downloading data for MCO...\n"
     ]
    },
    {
     "name": "stderr",
     "output_type": "stream",
     "text": [
      "[*********************100%***********************]  1 of 1 completed\n"
     ]
    },
    {
     "name": "stdout",
     "output_type": "stream",
     "text": [
      "Training shape for MCO - X_train: (2571, 100, 1), X_test: (1102, 100, 1)\n",
      "Epoch 1/10\n",
      "81/81 [==============================] - 13s 93ms/step - loss: 0.0039 - val_loss: 3.3460e-04\n",
      "Epoch 2/10\n",
      "81/81 [==============================] - 6s 79ms/step - loss: 4.9071e-04 - val_loss: 2.5829e-04\n",
      "Epoch 3/10\n",
      "81/81 [==============================] - 6s 79ms/step - loss: 4.9635e-04 - val_loss: 3.9991e-04\n",
      "Epoch 4/10\n",
      "81/81 [==============================] - 6s 79ms/step - loss: 4.2589e-04 - val_loss: 3.1527e-04\n",
      "Epoch 5/10\n",
      "81/81 [==============================] - 7s 84ms/step - loss: 3.9194e-04 - val_loss: 3.7104e-04\n",
      "Epoch 6/10\n",
      "81/81 [==============================] - 7s 82ms/step - loss: 3.5778e-04 - val_loss: 4.6881e-04\n",
      "Epoch 7/10\n",
      "81/81 [==============================] - 6s 78ms/step - loss: 3.6240e-04 - val_loss: 0.0011\n",
      "Epoch 8/10\n",
      "81/81 [==============================] - 6s 80ms/step - loss: 3.4603e-04 - val_loss: 7.0236e-04\n",
      "Epoch 9/10\n",
      "81/81 [==============================] - 6s 79ms/step - loss: 3.0878e-04 - val_loss: 2.5118e-04\n",
      "Epoch 10/10\n",
      "81/81 [==============================] - 6s 80ms/step - loss: 2.9898e-04 - val_loss: 6.7375e-04\n",
      "✅ Saved model to MCO_gru_model.h5\n",
      "\n",
      "📈 Downloading data for MS...\n"
     ]
    },
    {
     "name": "stderr",
     "output_type": "stream",
     "text": [
      "[*********************100%***********************]  1 of 1 completed\n"
     ]
    },
    {
     "name": "stdout",
     "output_type": "stream",
     "text": [
      "Training shape for MS - X_train: (2571, 100, 1), X_test: (1102, 100, 1)\n",
      "Epoch 1/10\n",
      "81/81 [==============================] - 15s 111ms/step - loss: 0.0011 - val_loss: 5.6932e-04\n",
      "Epoch 2/10\n",
      "81/81 [==============================] - 6s 78ms/step - loss: 2.6639e-04 - val_loss: 4.5961e-04\n",
      "Epoch 3/10\n",
      "81/81 [==============================] - 7s 81ms/step - loss: 2.3962e-04 - val_loss: 3.3522e-04\n",
      "Epoch 4/10\n",
      "81/81 [==============================] - 7s 80ms/step - loss: 2.1867e-04 - val_loss: 4.5479e-04\n",
      "Epoch 5/10\n",
      "81/81 [==============================] - 7s 81ms/step - loss: 2.0463e-04 - val_loss: 6.6303e-04\n",
      "Epoch 6/10\n",
      "81/81 [==============================] - 6s 80ms/step - loss: 1.7201e-04 - val_loss: 4.5921e-04\n",
      "Epoch 7/10\n",
      "81/81 [==============================] - 7s 81ms/step - loss: 1.6383e-04 - val_loss: 3.1467e-04\n",
      "Epoch 8/10\n",
      "81/81 [==============================] - 6s 79ms/step - loss: 1.5035e-04 - val_loss: 6.0681e-04\n",
      "Epoch 9/10\n",
      "81/81 [==============================] - 6s 78ms/step - loss: 1.4479e-04 - val_loss: 6.9884e-04\n",
      "Epoch 10/10\n",
      "81/81 [==============================] - 7s 82ms/step - loss: 1.3728e-04 - val_loss: 3.1196e-04\n",
      "✅ Saved model to MS_gru_model.h5\n",
      "\n",
      "📈 Downloading data for MOS...\n"
     ]
    },
    {
     "name": "stderr",
     "output_type": "stream",
     "text": [
      "[*********************100%***********************]  1 of 1 completed\n"
     ]
    },
    {
     "name": "stdout",
     "output_type": "stream",
     "text": [
      "Training shape for MOS - X_train: (2571, 100, 1), X_test: (1102, 100, 1)\n",
      "Epoch 1/10\n",
      "81/81 [==============================] - 13s 92ms/step - loss: 0.0099 - val_loss: 9.7463e-04\n",
      "Epoch 2/10\n",
      "81/81 [==============================] - 7s 83ms/step - loss: 0.0023 - val_loss: 6.0278e-04\n",
      "Epoch 3/10\n",
      "81/81 [==============================] - 7s 84ms/step - loss: 0.0018 - val_loss: 7.8876e-04\n",
      "Epoch 4/10\n",
      "81/81 [==============================] - 7s 83ms/step - loss: 0.0017 - val_loss: 6.3054e-04\n",
      "Epoch 5/10\n",
      "81/81 [==============================] - 7s 82ms/step - loss: 0.0017 - val_loss: 5.8596e-04\n",
      "Epoch 6/10\n",
      "81/81 [==============================] - 6s 80ms/step - loss: 0.0015 - val_loss: 5.9850e-04\n",
      "Epoch 7/10\n",
      "81/81 [==============================] - 7s 85ms/step - loss: 0.0014 - val_loss: 5.5130e-04\n",
      "Epoch 8/10\n",
      "81/81 [==============================] - 6s 80ms/step - loss: 0.0015 - val_loss: 8.3474e-04\n",
      "Epoch 9/10\n",
      "81/81 [==============================] - 6s 79ms/step - loss: 0.0014 - val_loss: 5.3388e-04\n",
      "Epoch 10/10\n",
      "81/81 [==============================] - 7s 86ms/step - loss: 0.0014 - val_loss: 4.8874e-04\n",
      "✅ Saved model to MOS_gru_model.h5\n",
      "\n",
      "📈 Downloading data for MSI...\n"
     ]
    },
    {
     "name": "stderr",
     "output_type": "stream",
     "text": [
      "[*********************100%***********************]  1 of 1 completed\n"
     ]
    },
    {
     "name": "stdout",
     "output_type": "stream",
     "text": [
      "Training shape for MSI - X_train: (2571, 100, 1), X_test: (1102, 100, 1)\n",
      "Epoch 1/10\n",
      "81/81 [==============================] - 14s 107ms/step - loss: 0.0012 - val_loss: 5.6900e-04\n",
      "Epoch 2/10\n",
      "81/81 [==============================] - 7s 85ms/step - loss: 2.1433e-04 - val_loss: 1.3259e-04\n",
      "Epoch 3/10\n",
      "81/81 [==============================] - 7s 81ms/step - loss: 1.6956e-04 - val_loss: 7.9856e-04\n",
      "Epoch 4/10\n",
      "81/81 [==============================] - 7s 87ms/step - loss: 1.3636e-04 - val_loss: 1.2558e-04\n",
      "Epoch 5/10\n",
      "81/81 [==============================] - 7s 83ms/step - loss: 1.4430e-04 - val_loss: 0.0019\n",
      "Epoch 6/10\n",
      "81/81 [==============================] - 6s 80ms/step - loss: 1.3716e-04 - val_loss: 5.1148e-04\n",
      "Epoch 7/10\n",
      "81/81 [==============================] - 6s 80ms/step - loss: 1.2502e-04 - val_loss: 0.0022\n",
      "Epoch 8/10\n",
      "81/81 [==============================] - 6s 80ms/step - loss: 1.2171e-04 - val_loss: 2.0425e-04\n",
      "Epoch 9/10\n",
      "81/81 [==============================] - 6s 80ms/step - loss: 1.1911e-04 - val_loss: 1.2041e-04\n",
      "Epoch 10/10\n",
      "81/81 [==============================] - 7s 93ms/step - loss: 1.1154e-04 - val_loss: 3.2453e-04\n",
      "✅ Saved model to MSI_gru_model.h5\n",
      "\n",
      "📈 Downloading data for MSCI...\n"
     ]
    },
    {
     "name": "stderr",
     "output_type": "stream",
     "text": [
      "[*********************100%***********************]  1 of 1 completed\n"
     ]
    },
    {
     "name": "stdout",
     "output_type": "stream",
     "text": [
      "Training shape for MSCI - X_train: (2571, 100, 1), X_test: (1102, 100, 1)\n",
      "Epoch 1/10\n",
      "81/81 [==============================] - 13s 92ms/step - loss: 0.0027 - val_loss: 8.3893e-04\n",
      "Epoch 2/10\n",
      "81/81 [==============================] - 7s 82ms/step - loss: 3.4257e-04 - val_loss: 5.3975e-04\n",
      "Epoch 3/10\n",
      "81/81 [==============================] - 6s 80ms/step - loss: 2.9206e-04 - val_loss: 5.2125e-04\n",
      "Epoch 4/10\n",
      "81/81 [==============================] - 7s 81ms/step - loss: 2.8245e-04 - val_loss: 6.1551e-04\n",
      "Epoch 5/10\n",
      "81/81 [==============================] - 7s 82ms/step - loss: 2.4359e-04 - val_loss: 8.9173e-04\n",
      "Epoch 6/10\n",
      "81/81 [==============================] - 7s 88ms/step - loss: 2.2794e-04 - val_loss: 0.0019\n",
      "Epoch 7/10\n",
      "81/81 [==============================] - 7s 83ms/step - loss: 2.6388e-04 - val_loss: 5.3219e-04\n",
      "Epoch 8/10\n",
      "81/81 [==============================] - 7s 81ms/step - loss: 2.5960e-04 - val_loss: 4.9243e-04\n",
      "Epoch 9/10\n",
      "81/81 [==============================] - 7s 84ms/step - loss: 2.1657e-04 - val_loss: 6.8908e-04\n",
      "Epoch 10/10\n",
      "81/81 [==============================] - 7s 82ms/step - loss: 2.2472e-04 - val_loss: 6.0465e-04\n",
      "✅ Saved model to MSCI_gru_model.h5\n",
      "\n",
      "📈 Downloading data for NDAQ...\n"
     ]
    },
    {
     "name": "stderr",
     "output_type": "stream",
     "text": [
      "[*********************100%***********************]  1 of 1 completed\n"
     ]
    },
    {
     "name": "stdout",
     "output_type": "stream",
     "text": [
      "Training shape for NDAQ - X_train: (2571, 100, 1), X_test: (1102, 100, 1)\n",
      "Epoch 1/10\n",
      "81/81 [==============================] - 13s 101ms/step - loss: 0.0021 - val_loss: 6.1406e-04\n",
      "Epoch 2/10\n",
      "81/81 [==============================] - 7s 93ms/step - loss: 3.8264e-04 - val_loss: 2.6919e-04\n",
      "Epoch 3/10\n",
      "81/81 [==============================] - 7s 82ms/step - loss: 3.4056e-04 - val_loss: 2.8263e-04\n",
      "Epoch 4/10\n",
      "81/81 [==============================] - 6s 80ms/step - loss: 3.0880e-04 - val_loss: 3.1344e-04\n",
      "Epoch 5/10\n",
      "81/81 [==============================] - 7s 82ms/step - loss: 2.8050e-04 - val_loss: 3.4617e-04\n",
      "Epoch 6/10\n",
      "81/81 [==============================] - 7s 81ms/step - loss: 2.4509e-04 - val_loss: 6.1194e-04\n",
      "Epoch 7/10\n",
      "81/81 [==============================] - 7s 84ms/step - loss: 2.6882e-04 - val_loss: 2.7476e-04\n",
      "Epoch 8/10\n",
      "81/81 [==============================] - 7s 84ms/step - loss: 2.2445e-04 - val_loss: 3.0427e-04\n",
      "Epoch 9/10\n",
      "81/81 [==============================] - 7s 87ms/step - loss: 2.1259e-04 - val_loss: 3.4954e-04\n",
      "Epoch 10/10\n",
      "81/81 [==============================] - 7s 83ms/step - loss: 2.1413e-04 - val_loss: 3.5675e-04\n",
      "✅ Saved model to NDAQ_gru_model.h5\n",
      "\n",
      "📈 Downloading data for NTAP...\n"
     ]
    },
    {
     "name": "stderr",
     "output_type": "stream",
     "text": [
      "[*********************100%***********************]  1 of 1 completed\n"
     ]
    },
    {
     "name": "stdout",
     "output_type": "stream",
     "text": [
      "Training shape for NTAP - X_train: (2571, 100, 1), X_test: (1102, 100, 1)\n",
      "Epoch 1/10\n",
      "81/81 [==============================] - 13s 99ms/step - loss: 0.0020 - val_loss: 4.4202e-04\n",
      "Epoch 2/10\n",
      "81/81 [==============================] - 7s 84ms/step - loss: 4.7851e-04 - val_loss: 4.7014e-04\n",
      "Epoch 3/10\n",
      "81/81 [==============================] - 7s 88ms/step - loss: 4.4492e-04 - val_loss: 4.3864e-04\n",
      "Epoch 4/10\n",
      "81/81 [==============================] - 7s 86ms/step - loss: 4.2642e-04 - val_loss: 7.7007e-04\n",
      "Epoch 5/10\n",
      "81/81 [==============================] - 7s 89ms/step - loss: 3.4780e-04 - val_loss: 3.4066e-04\n",
      "Epoch 6/10\n",
      "81/81 [==============================] - 7s 85ms/step - loss: 3.2189e-04 - val_loss: 6.4030e-04\n",
      "Epoch 7/10\n",
      "81/81 [==============================] - 7s 82ms/step - loss: 3.0116e-04 - val_loss: 6.4219e-04\n",
      "Epoch 8/10\n",
      "81/81 [==============================] - 7s 83ms/step - loss: 2.8009e-04 - val_loss: 0.0021\n",
      "Epoch 9/10\n",
      "81/81 [==============================] - 7s 83ms/step - loss: 2.8086e-04 - val_loss: 0.0012\n",
      "Epoch 10/10\n",
      "81/81 [==============================] - 7s 83ms/step - loss: 2.6997e-04 - val_loss: 5.6102e-04\n",
      "✅ Saved model to NTAP_gru_model.h5\n",
      "\n",
      "📈 Downloading data for NFLX...\n"
     ]
    },
    {
     "name": "stderr",
     "output_type": "stream",
     "text": [
      "[*********************100%***********************]  1 of 1 completed\n"
     ]
    },
    {
     "name": "stdout",
     "output_type": "stream",
     "text": [
      "Training shape for NFLX - X_train: (2571, 100, 1), X_test: (1102, 100, 1)\n",
      "Epoch 1/10\n",
      "81/81 [==============================] - 13s 95ms/step - loss: 0.0019 - val_loss: 5.1827e-04\n",
      "Epoch 2/10\n",
      "81/81 [==============================] - 7s 81ms/step - loss: 4.7935e-04 - val_loss: 4.1156e-04\n",
      "Epoch 3/10\n",
      "81/81 [==============================] - 7s 81ms/step - loss: 4.7460e-04 - val_loss: 3.6201e-04\n",
      "Epoch 4/10\n",
      "81/81 [==============================] - 6s 79ms/step - loss: 3.8035e-04 - val_loss: 5.2986e-04\n",
      "Epoch 5/10\n",
      "81/81 [==============================] - 7s 81ms/step - loss: 3.8016e-04 - val_loss: 0.0013\n",
      "Epoch 6/10\n",
      "81/81 [==============================] - 6s 80ms/step - loss: 3.5043e-04 - val_loss: 3.5882e-04\n",
      "Epoch 7/10\n",
      "81/81 [==============================] - 7s 81ms/step - loss: 3.5436e-04 - val_loss: 5.6599e-04\n",
      "Epoch 8/10\n",
      "81/81 [==============================] - 7s 81ms/step - loss: 3.0029e-04 - val_loss: 5.0968e-04\n",
      "Epoch 9/10\n",
      "81/81 [==============================] - 7s 80ms/step - loss: 2.7244e-04 - val_loss: 4.2533e-04\n",
      "Epoch 10/10\n",
      "81/81 [==============================] - 6s 80ms/step - loss: 2.6892e-04 - val_loss: 4.4159e-04\n",
      "✅ Saved model to NFLX_gru_model.h5\n",
      "\n",
      "📈 Downloading data for NEM...\n"
     ]
    },
    {
     "name": "stderr",
     "output_type": "stream",
     "text": [
      "[*********************100%***********************]  1 of 1 completed\n"
     ]
    },
    {
     "name": "stdout",
     "output_type": "stream",
     "text": [
      "Training shape for NEM - X_train: (2571, 100, 1), X_test: (1102, 100, 1)\n",
      "Epoch 1/10\n",
      "81/81 [==============================] - 13s 93ms/step - loss: 0.0058 - val_loss: 8.6072e-04\n",
      "Epoch 2/10\n",
      "81/81 [==============================] - 7s 81ms/step - loss: 0.0013 - val_loss: 6.3700e-04\n",
      "Epoch 3/10\n",
      "81/81 [==============================] - 6s 78ms/step - loss: 0.0011 - val_loss: 6.1557e-04\n",
      "Epoch 4/10\n",
      "81/81 [==============================] - 7s 81ms/step - loss: 0.0010 - val_loss: 0.0012\n",
      "Epoch 5/10\n",
      "81/81 [==============================] - 7s 81ms/step - loss: 8.9439e-04 - val_loss: 5.7619e-04\n",
      "Epoch 6/10\n",
      "81/81 [==============================] - 6s 80ms/step - loss: 9.2501e-04 - val_loss: 5.4964e-04\n",
      "Epoch 7/10\n",
      "81/81 [==============================] - 7s 83ms/step - loss: 8.7313e-04 - val_loss: 6.0467e-04\n",
      "Epoch 8/10\n",
      "81/81 [==============================] - 6s 79ms/step - loss: 7.7913e-04 - val_loss: 5.1402e-04\n",
      "Epoch 9/10\n",
      "81/81 [==============================] - 7s 81ms/step - loss: 7.0645e-04 - val_loss: 5.2287e-04\n",
      "Epoch 10/10\n",
      "81/81 [==============================] - 6s 80ms/step - loss: 7.4744e-04 - val_loss: 4.8578e-04\n",
      "✅ Saved model to NEM_gru_model.h5\n",
      "\n",
      "📈 Downloading data for NWSA...\n"
     ]
    },
    {
     "name": "stderr",
     "output_type": "stream",
     "text": [
      "[*********************100%***********************]  1 of 1 completed\n"
     ]
    },
    {
     "name": "stdout",
     "output_type": "stream",
     "text": [
      "Training shape for NWSA - X_train: (1962, 100, 1), X_test: (841, 100, 1)\n",
      "Epoch 1/10\n",
      "62/62 [==============================] - 14s 94ms/step - loss: 0.0106 - val_loss: 0.0012\n",
      "Epoch 2/10\n",
      "62/62 [==============================] - 5s 79ms/step - loss: 0.0016 - val_loss: 6.5462e-04\n",
      "Epoch 3/10\n",
      "62/62 [==============================] - 5s 80ms/step - loss: 0.0013 - val_loss: 8.9783e-04\n",
      "Epoch 4/10\n",
      "62/62 [==============================] - 5s 80ms/step - loss: 0.0013 - val_loss: 6.7328e-04\n",
      "Epoch 5/10\n",
      "62/62 [==============================] - 5s 82ms/step - loss: 0.0013 - val_loss: 8.3039e-04\n",
      "Epoch 6/10\n",
      "62/62 [==============================] - 5s 81ms/step - loss: 0.0010 - val_loss: 5.4496e-04\n",
      "Epoch 7/10\n",
      "62/62 [==============================] - 5s 79ms/step - loss: 0.0011 - val_loss: 5.6206e-04\n",
      "Epoch 8/10\n",
      "62/62 [==============================] - 5s 79ms/step - loss: 9.6947e-04 - val_loss: 0.0018\n",
      "Epoch 9/10\n",
      "62/62 [==============================] - 5s 84ms/step - loss: 9.7472e-04 - val_loss: 5.0866e-04\n",
      "Epoch 10/10\n",
      "62/62 [==============================] - 5s 83ms/step - loss: 8.7096e-04 - val_loss: 5.3691e-04\n",
      "✅ Saved model to NWSA_gru_model.h5\n",
      "\n",
      "📈 Downloading data for NWS...\n"
     ]
    },
    {
     "name": "stderr",
     "output_type": "stream",
     "text": [
      "[*********************100%***********************]  1 of 1 completed\n"
     ]
    },
    {
     "name": "stdout",
     "output_type": "stream",
     "text": [
      "Training shape for NWS - X_train: (1962, 100, 1), X_test: (841, 100, 1)\n",
      "Epoch 1/10\n",
      "62/62 [==============================] - 10s 92ms/step - loss: 0.0072 - val_loss: 7.3585e-04\n",
      "Epoch 2/10\n",
      "62/62 [==============================] - 5s 80ms/step - loss: 0.0011 - val_loss: 5.4595e-04\n",
      "Epoch 3/10\n",
      "62/62 [==============================] - 5s 80ms/step - loss: 9.8948e-04 - val_loss: 8.3425e-04\n",
      "Epoch 4/10\n",
      "62/62 [==============================] - 5s 79ms/step - loss: 9.0992e-04 - val_loss: 5.0736e-04\n",
      "Epoch 5/10\n",
      "62/62 [==============================] - 5s 79ms/step - loss: 7.6042e-04 - val_loss: 0.0013\n",
      "Epoch 6/10\n",
      "62/62 [==============================] - 5s 79ms/step - loss: 6.8740e-04 - val_loss: 4.5727e-04\n",
      "Epoch 7/10\n",
      "62/62 [==============================] - 5s 80ms/step - loss: 6.4080e-04 - val_loss: 5.2054e-04\n",
      "Epoch 8/10\n",
      "62/62 [==============================] - 5s 82ms/step - loss: 6.8919e-04 - val_loss: 5.5522e-04\n",
      "Epoch 9/10\n",
      "62/62 [==============================] - 5s 78ms/step - loss: 6.8913e-04 - val_loss: 0.0011\n",
      "Epoch 10/10\n",
      "62/62 [==============================] - 5s 78ms/step - loss: 6.3117e-04 - val_loss: 6.9500e-04\n",
      "✅ Saved model to NWS_gru_model.h5\n",
      "\n",
      "📈 Downloading data for NEE...\n"
     ]
    },
    {
     "name": "stderr",
     "output_type": "stream",
     "text": [
      "[*********************100%***********************]  1 of 1 completed\n"
     ]
    },
    {
     "name": "stdout",
     "output_type": "stream",
     "text": [
      "Training shape for NEE - X_train: (2571, 100, 1), X_test: (1102, 100, 1)\n",
      "Epoch 1/10\n",
      "81/81 [==============================] - 11s 89ms/step - loss: 0.0049 - val_loss: 6.0221e-04\n",
      "Epoch 2/10\n",
      "81/81 [==============================] - 7s 81ms/step - loss: 8.4219e-04 - val_loss: 5.7849e-04\n",
      "Epoch 3/10\n",
      "81/81 [==============================] - 6s 79ms/step - loss: 7.6208e-04 - val_loss: 7.7490e-04\n",
      "Epoch 4/10\n",
      "81/81 [==============================] - 6s 78ms/step - loss: 7.4168e-04 - val_loss: 5.7725e-04\n",
      "Epoch 5/10\n",
      "81/81 [==============================] - 7s 82ms/step - loss: 6.6551e-04 - val_loss: 8.9758e-04\n",
      "Epoch 6/10\n",
      "81/81 [==============================] - 6s 79ms/step - loss: 6.6201e-04 - val_loss: 7.8661e-04\n",
      "Epoch 7/10\n",
      "81/81 [==============================] - 6s 78ms/step - loss: 5.3723e-04 - val_loss: 0.0015\n",
      "Epoch 8/10\n",
      "81/81 [==============================] - 6s 79ms/step - loss: 5.8577e-04 - val_loss: 7.1843e-04\n",
      "Epoch 9/10\n",
      "81/81 [==============================] - 6s 77ms/step - loss: 5.5209e-04 - val_loss: 9.6144e-04\n",
      "Epoch 10/10\n",
      "81/81 [==============================] - 6s 78ms/step - loss: 5.1191e-04 - val_loss: 0.0010\n",
      "✅ Saved model to NEE_gru_model.h5\n",
      "\n",
      "📈 Downloading data for NKE...\n"
     ]
    },
    {
     "name": "stderr",
     "output_type": "stream",
     "text": [
      "[*********************100%***********************]  1 of 1 completed\n"
     ]
    },
    {
     "name": "stdout",
     "output_type": "stream",
     "text": [
      "Training shape for NKE - X_train: (2571, 100, 1), X_test: (1102, 100, 1)\n",
      "Epoch 1/10\n",
      "81/81 [==============================] - 11s 91ms/step - loss: 0.0038 - val_loss: 5.6726e-04\n",
      "Epoch 2/10\n",
      "81/81 [==============================] - 6s 77ms/step - loss: 8.0416e-04 - val_loss: 5.2537e-04\n",
      "Epoch 3/10\n",
      "81/81 [==============================] - 6s 78ms/step - loss: 6.3147e-04 - val_loss: 5.1777e-04\n",
      "Epoch 4/10\n",
      "81/81 [==============================] - 6s 78ms/step - loss: 5.9322e-04 - val_loss: 6.5414e-04\n",
      "Epoch 5/10\n",
      "81/81 [==============================] - 6s 79ms/step - loss: 5.0572e-04 - val_loss: 5.5085e-04\n",
      "Epoch 6/10\n",
      "81/81 [==============================] - 6s 78ms/step - loss: 5.4074e-04 - val_loss: 0.0015\n",
      "Epoch 7/10\n",
      "81/81 [==============================] - 6s 79ms/step - loss: 4.7636e-04 - val_loss: 4.9036e-04\n",
      "Epoch 8/10\n",
      "81/81 [==============================] - 6s 77ms/step - loss: 4.3648e-04 - val_loss: 5.1157e-04\n",
      "Epoch 9/10\n",
      "81/81 [==============================] - 6s 79ms/step - loss: 4.1786e-04 - val_loss: 0.0013\n",
      "Epoch 10/10\n",
      "81/81 [==============================] - 6s 77ms/step - loss: 3.8220e-04 - val_loss: 4.6814e-04\n",
      "✅ Saved model to NKE_gru_model.h5\n",
      "\n",
      "📈 Downloading data for NI...\n"
     ]
    },
    {
     "name": "stderr",
     "output_type": "stream",
     "text": [
      "[*********************100%***********************]  1 of 1 completed\n"
     ]
    },
    {
     "name": "stdout",
     "output_type": "stream",
     "text": [
      "Training shape for NI - X_train: (2571, 100, 1), X_test: (1102, 100, 1)\n",
      "Epoch 1/10\n",
      "81/81 [==============================] - 11s 91ms/step - loss: 0.0099 - val_loss: 2.5090e-04\n",
      "Epoch 2/10\n",
      "81/81 [==============================] - 7s 86ms/step - loss: 0.0014 - val_loss: 4.1589e-04\n",
      "Epoch 3/10\n",
      "81/81 [==============================] - 7s 81ms/step - loss: 0.0012 - val_loss: 2.4452e-04\n",
      "Epoch 4/10\n",
      "81/81 [==============================] - 7s 81ms/step - loss: 0.0011 - val_loss: 2.2893e-04\n",
      "Epoch 5/10\n",
      "81/81 [==============================] - 7s 82ms/step - loss: 9.4467e-04 - val_loss: 4.7909e-04\n",
      "Epoch 6/10\n",
      "81/81 [==============================] - 7s 82ms/step - loss: 8.5892e-04 - val_loss: 2.9414e-04\n",
      "Epoch 7/10\n",
      "81/81 [==============================] - 7s 86ms/step - loss: 9.2636e-04 - val_loss: 4.5871e-04\n",
      "Epoch 8/10\n",
      "81/81 [==============================] - 7s 89ms/step - loss: 8.0643e-04 - val_loss: 4.0432e-04\n",
      "Epoch 9/10\n",
      "81/81 [==============================] - 6s 80ms/step - loss: 7.7342e-04 - val_loss: 2.8698e-04\n",
      "Epoch 10/10\n",
      "81/81 [==============================] - 6s 80ms/step - loss: 7.8864e-04 - val_loss: 3.2472e-04\n",
      "✅ Saved model to NI_gru_model.h5\n",
      "\n",
      "📈 Downloading data for NDSN...\n"
     ]
    },
    {
     "name": "stderr",
     "output_type": "stream",
     "text": [
      "[*********************100%***********************]  1 of 1 completed\n"
     ]
    },
    {
     "name": "stdout",
     "output_type": "stream",
     "text": [
      "Training shape for NDSN - X_train: (2571, 100, 1), X_test: (1102, 100, 1)\n",
      "Epoch 1/10\n",
      "81/81 [==============================] - 11s 92ms/step - loss: 0.0066 - val_loss: 5.1963e-04\n",
      "Epoch 2/10\n",
      "81/81 [==============================] - 6s 79ms/step - loss: 9.3057e-04 - val_loss: 4.4686e-04\n",
      "Epoch 3/10\n",
      "81/81 [==============================] - 8s 95ms/step - loss: 7.2864e-04 - val_loss: 4.3494e-04\n",
      "Epoch 4/10\n",
      "81/81 [==============================] - 7s 89ms/step - loss: 7.3017e-04 - val_loss: 4.2625e-04\n",
      "Epoch 5/10\n",
      "81/81 [==============================] - 6s 79ms/step - loss: 6.7700e-04 - val_loss: 4.7955e-04\n",
      "Epoch 6/10\n",
      "81/81 [==============================] - 6s 78ms/step - loss: 6.1273e-04 - val_loss: 0.0017\n",
      "Epoch 7/10\n",
      "81/81 [==============================] - 6s 78ms/step - loss: 5.8889e-04 - val_loss: 4.0597e-04\n",
      "Epoch 8/10\n",
      "81/81 [==============================] - 6s 78ms/step - loss: 6.2679e-04 - val_loss: 0.0015\n",
      "Epoch 9/10\n",
      "81/81 [==============================] - 6s 79ms/step - loss: 5.4333e-04 - val_loss: 3.7659e-04\n",
      "Epoch 10/10\n",
      "81/81 [==============================] - 7s 86ms/step - loss: 4.9359e-04 - val_loss: 8.6804e-04\n",
      "✅ Saved model to NDSN_gru_model.h5\n",
      "\n",
      "📈 Downloading data for NSC...\n"
     ]
    },
    {
     "name": "stderr",
     "output_type": "stream",
     "text": [
      "[*********************100%***********************]  1 of 1 completed\n"
     ]
    },
    {
     "name": "stdout",
     "output_type": "stream",
     "text": [
      "Training shape for NSC - X_train: (2571, 100, 1), X_test: (1102, 100, 1)\n",
      "Epoch 1/10\n",
      "81/81 [==============================] - 11s 91ms/step - loss: 0.0068 - val_loss: 0.0011\n",
      "Epoch 2/10\n",
      "81/81 [==============================] - 7s 89ms/step - loss: 0.0010 - val_loss: 7.4621e-04\n",
      "Epoch 3/10\n",
      "81/81 [==============================] - 7s 92ms/step - loss: 9.5930e-04 - val_loss: 5.3292e-04\n",
      "Epoch 4/10\n",
      "81/81 [==============================] - 6s 79ms/step - loss: 8.8341e-04 - val_loss: 0.0013\n",
      "Epoch 5/10\n",
      "81/81 [==============================] - 6s 78ms/step - loss: 8.1078e-04 - val_loss: 5.4849e-04\n",
      "Epoch 6/10\n",
      "81/81 [==============================] - 6s 78ms/step - loss: 6.6528e-04 - val_loss: 0.0013\n",
      "Epoch 7/10\n",
      "81/81 [==============================] - 6s 80ms/step - loss: 6.7869e-04 - val_loss: 9.3805e-04\n",
      "Epoch 8/10\n",
      "81/81 [==============================] - 6s 79ms/step - loss: 6.6272e-04 - val_loss: 0.0013\n",
      "Epoch 9/10\n",
      "81/81 [==============================] - 6s 78ms/step - loss: 5.9786e-04 - val_loss: 6.7012e-04\n",
      "Epoch 10/10\n",
      "81/81 [==============================] - 6s 79ms/step - loss: 5.8071e-04 - val_loss: 4.5993e-04\n",
      "✅ Saved model to NSC_gru_model.h5\n",
      "\n",
      "📈 Downloading data for NTRS...\n"
     ]
    },
    {
     "name": "stderr",
     "output_type": "stream",
     "text": [
      "[*********************100%***********************]  1 of 1 completed\n"
     ]
    },
    {
     "name": "stdout",
     "output_type": "stream",
     "text": [
      "Training shape for NTRS - X_train: (2571, 100, 1), X_test: (1102, 100, 1)\n",
      "Epoch 1/10\n",
      "81/81 [==============================] - 12s 92ms/step - loss: 0.0088 - val_loss: 8.0902e-04\n",
      "Epoch 2/10\n",
      "81/81 [==============================] - 7s 82ms/step - loss: 0.0018 - val_loss: 8.4028e-04\n",
      "Epoch 3/10\n",
      "81/81 [==============================] - 7s 82ms/step - loss: 0.0016 - val_loss: 6.4587e-04\n",
      "Epoch 4/10\n",
      "81/81 [==============================] - 7s 91ms/step - loss: 0.0015 - val_loss: 0.0010\n",
      "Epoch 5/10\n",
      "81/81 [==============================] - 6s 78ms/step - loss: 0.0012 - val_loss: 6.4573e-04\n",
      "Epoch 6/10\n",
      "81/81 [==============================] - 6s 77ms/step - loss: 0.0011 - val_loss: 5.9482e-04\n",
      "Epoch 7/10\n",
      "81/81 [==============================] - 6s 80ms/step - loss: 0.0011 - val_loss: 6.3579e-04\n",
      "Epoch 8/10\n",
      "81/81 [==============================] - 6s 77ms/step - loss: 0.0010 - val_loss: 0.0026\n",
      "Epoch 9/10\n",
      "81/81 [==============================] - 6s 80ms/step - loss: 0.0010 - val_loss: 8.4536e-04\n",
      "Epoch 10/10\n",
      "81/81 [==============================] - 6s 78ms/step - loss: 0.0011 - val_loss: 0.0011\n",
      "✅ Saved model to NTRS_gru_model.h5\n",
      "\n",
      "📈 Downloading data for NOC...\n"
     ]
    },
    {
     "name": "stderr",
     "output_type": "stream",
     "text": [
      "[*********************100%***********************]  1 of 1 completed\n"
     ]
    },
    {
     "name": "stdout",
     "output_type": "stream",
     "text": [
      "Training shape for NOC - X_train: (2571, 100, 1), X_test: (1102, 100, 1)\n",
      "Epoch 1/10\n",
      "81/81 [==============================] - 12s 88ms/step - loss: 0.0066 - val_loss: 9.7754e-04\n",
      "Epoch 2/10\n",
      "81/81 [==============================] - 6s 78ms/step - loss: 0.0011 - val_loss: 3.6671e-04\n",
      "Epoch 3/10\n",
      "81/81 [==============================] - 7s 88ms/step - loss: 8.8155e-04 - val_loss: 4.9656e-04\n",
      "Epoch 4/10\n",
      "81/81 [==============================] - 6s 77ms/step - loss: 9.3672e-04 - val_loss: 6.4962e-04\n",
      "Epoch 5/10\n",
      "81/81 [==============================] - 6s 77ms/step - loss: 7.7087e-04 - val_loss: 0.0012\n",
      "Epoch 6/10\n",
      "81/81 [==============================] - 6s 76ms/step - loss: 7.2857e-04 - val_loss: 3.3805e-04\n",
      "Epoch 7/10\n",
      "81/81 [==============================] - 6s 79ms/step - loss: 6.8818e-04 - val_loss: 3.6610e-04\n",
      "Epoch 8/10\n",
      "81/81 [==============================] - 6s 77ms/step - loss: 6.7799e-04 - val_loss: 8.5235e-04\n",
      "Epoch 9/10\n",
      "81/81 [==============================] - 6s 77ms/step - loss: 6.1178e-04 - val_loss: 3.6660e-04\n",
      "Epoch 10/10\n",
      "81/81 [==============================] - 6s 76ms/step - loss: 6.3249e-04 - val_loss: 3.3336e-04\n",
      "✅ Saved model to NOC_gru_model.h5\n",
      "\n",
      "📈 Downloading data for NCLH...\n"
     ]
    },
    {
     "name": "stderr",
     "output_type": "stream",
     "text": [
      "[*********************100%***********************]  1 of 1 completed\n"
     ]
    },
    {
     "name": "stdout",
     "output_type": "stream",
     "text": [
      "Training shape for NCLH - X_train: (2034, 100, 1), X_test: (873, 100, 1)\n",
      "Epoch 1/10\n",
      "64/64 [==============================] - 11s 92ms/step - loss: 0.0305 - val_loss: 0.0038\n",
      "Epoch 2/10\n",
      "64/64 [==============================] - 5s 77ms/step - loss: 0.0058 - val_loss: 3.7758e-04\n",
      "Epoch 3/10\n",
      "64/64 [==============================] - 5s 77ms/step - loss: 0.0050 - val_loss: 5.0414e-04\n",
      "Epoch 4/10\n",
      "64/64 [==============================] - 5s 79ms/step - loss: 0.0046 - val_loss: 4.1371e-04\n",
      "Epoch 5/10\n",
      "64/64 [==============================] - 5s 77ms/step - loss: 0.0045 - val_loss: 3.2337e-04\n",
      "Epoch 6/10\n",
      "64/64 [==============================] - 5s 77ms/step - loss: 0.0043 - val_loss: 3.5494e-04\n",
      "Epoch 7/10\n",
      "64/64 [==============================] - 5s 77ms/step - loss: 0.0037 - val_loss: 3.0980e-04\n",
      "Epoch 8/10\n",
      "64/64 [==============================] - 5s 79ms/step - loss: 0.0035 - val_loss: 3.0523e-04\n",
      "Epoch 9/10\n",
      "64/64 [==============================] - 5s 78ms/step - loss: 0.0035 - val_loss: 5.1835e-04\n",
      "Epoch 10/10\n",
      "64/64 [==============================] - 5s 77ms/step - loss: 0.0036 - val_loss: 2.8055e-04\n",
      "✅ Saved model to NCLH_gru_model.h5\n",
      "\n",
      "📈 Downloading data for NRG...\n"
     ]
    },
    {
     "name": "stderr",
     "output_type": "stream",
     "text": [
      "[*********************100%***********************]  1 of 1 completed\n"
     ]
    },
    {
     "name": "stdout",
     "output_type": "stream",
     "text": [
      "Training shape for NRG - X_train: (2571, 100, 1), X_test: (1102, 100, 1)\n",
      "Epoch 1/10\n",
      "81/81 [==============================] - 13s 103ms/step - loss: 0.0026 - val_loss: 4.7981e-04\n",
      "Epoch 2/10\n",
      "81/81 [==============================] - 6s 79ms/step - loss: 2.9113e-04 - val_loss: 3.1687e-04\n",
      "Epoch 3/10\n",
      "81/81 [==============================] - 6s 79ms/step - loss: 2.4237e-04 - val_loss: 2.7173e-04\n",
      "Epoch 4/10\n",
      "81/81 [==============================] - 6s 78ms/step - loss: 2.0576e-04 - val_loss: 3.5595e-04\n",
      "Epoch 5/10\n",
      "81/81 [==============================] - 6s 77ms/step - loss: 2.0082e-04 - val_loss: 2.5123e-04\n",
      "Epoch 6/10\n",
      "81/81 [==============================] - 6s 79ms/step - loss: 2.0383e-04 - val_loss: 2.9376e-04\n",
      "Epoch 7/10\n",
      "81/81 [==============================] - 6s 78ms/step - loss: 1.8621e-04 - val_loss: 4.4846e-04\n",
      "Epoch 8/10\n",
      "81/81 [==============================] - 6s 78ms/step - loss: 1.7562e-04 - val_loss: 4.9572e-04\n",
      "Epoch 9/10\n",
      "81/81 [==============================] - 6s 79ms/step - loss: 1.6610e-04 - val_loss: 3.0005e-04\n",
      "Epoch 10/10\n",
      "81/81 [==============================] - 6s 78ms/step - loss: 1.4903e-04 - val_loss: 2.1944e-04\n",
      "✅ Saved model to NRG_gru_model.h5\n",
      "\n",
      "📈 Downloading data for NUE...\n"
     ]
    },
    {
     "name": "stderr",
     "output_type": "stream",
     "text": [
      "[*********************100%***********************]  1 of 1 completed\n"
     ]
    },
    {
     "name": "stdout",
     "output_type": "stream",
     "text": [
      "Training shape for NUE - X_train: (2571, 100, 1), X_test: (1102, 100, 1)\n",
      "Epoch 1/10\n",
      "81/81 [==============================] - 12s 94ms/step - loss: 3.7772e-04 - val_loss: 9.5126e-04\n",
      "Epoch 2/10\n",
      "81/81 [==============================] - 7s 81ms/step - loss: 1.5088e-04 - val_loss: 0.0019\n",
      "Epoch 3/10\n",
      "81/81 [==============================] - 6s 77ms/step - loss: 1.2775e-04 - val_loss: 6.6896e-04\n",
      "Epoch 4/10\n",
      "81/81 [==============================] - 6s 80ms/step - loss: 1.1049e-04 - val_loss: 8.3183e-04\n",
      "Epoch 5/10\n",
      "81/81 [==============================] - 6s 79ms/step - loss: 9.4088e-05 - val_loss: 7.4843e-04\n",
      "Epoch 6/10\n",
      "81/81 [==============================] - 6s 80ms/step - loss: 9.2020e-05 - val_loss: 8.0820e-04\n",
      "Epoch 7/10\n",
      "81/81 [==============================] - 6s 76ms/step - loss: 8.5190e-05 - val_loss: 5.6300e-04\n",
      "Epoch 8/10\n",
      "81/81 [==============================] - 6s 78ms/step - loss: 9.0674e-05 - val_loss: 6.2398e-04\n",
      "Epoch 9/10\n",
      "81/81 [==============================] - 6s 78ms/step - loss: 7.5053e-05 - val_loss: 7.4287e-04\n",
      "Epoch 10/10\n",
      "81/81 [==============================] - 6s 79ms/step - loss: 7.8381e-05 - val_loss: 0.0015\n",
      "✅ Saved model to NUE_gru_model.h5\n",
      "\n",
      "📈 Downloading data for NVDA...\n"
     ]
    },
    {
     "name": "stderr",
     "output_type": "stream",
     "text": [
      "[*********************100%***********************]  1 of 1 completed\n"
     ]
    },
    {
     "name": "stdout",
     "output_type": "stream",
     "text": [
      "Training shape for NVDA - X_train: (2571, 100, 1), X_test: (1102, 100, 1)\n",
      "Epoch 1/10\n",
      "81/81 [==============================] - 12s 89ms/step - loss: 5.3185e-05 - val_loss: 4.9610e-04\n",
      "Epoch 2/10\n",
      "81/81 [==============================] - 6s 78ms/step - loss: 8.0030e-06 - val_loss: 4.0470e-04\n",
      "Epoch 3/10\n",
      "81/81 [==============================] - 6s 77ms/step - loss: 6.3124e-06 - val_loss: 4.1395e-04\n",
      "Epoch 4/10\n",
      "81/81 [==============================] - 6s 77ms/step - loss: 5.4440e-06 - val_loss: 3.3895e-04\n",
      "Epoch 5/10\n",
      "81/81 [==============================] - 6s 75ms/step - loss: 5.1136e-06 - val_loss: 5.3607e-04\n",
      "Epoch 6/10\n",
      "81/81 [==============================] - 6s 78ms/step - loss: 5.8265e-06 - val_loss: 3.0522e-04\n",
      "Epoch 7/10\n",
      "81/81 [==============================] - 6s 76ms/step - loss: 5.7467e-06 - val_loss: 3.0538e-04\n",
      "Epoch 8/10\n",
      "81/81 [==============================] - 6s 79ms/step - loss: 6.9019e-06 - val_loss: 3.5886e-04\n",
      "Epoch 9/10\n",
      "81/81 [==============================] - 6s 77ms/step - loss: 7.0368e-06 - val_loss: 3.2580e-04\n",
      "Epoch 10/10\n",
      "81/81 [==============================] - 6s 76ms/step - loss: 4.5591e-06 - val_loss: 0.0010\n",
      "✅ Saved model to NVDA_gru_model.h5\n",
      "\n",
      "📈 Downloading data for NVR...\n"
     ]
    },
    {
     "name": "stderr",
     "output_type": "stream",
     "text": [
      "[*********************100%***********************]  1 of 1 completed\n"
     ]
    },
    {
     "name": "stdout",
     "output_type": "stream",
     "text": [
      "Training shape for NVR - X_train: (2571, 100, 1), X_test: (1102, 100, 1)\n",
      "Epoch 1/10\n",
      "81/81 [==============================] - 12s 95ms/step - loss: 0.0022 - val_loss: 3.0357e-04\n",
      "Epoch 2/10\n",
      "81/81 [==============================] - 7s 80ms/step - loss: 4.1981e-04 - val_loss: 3.6318e-04\n",
      "Epoch 3/10\n",
      "81/81 [==============================] - 6s 76ms/step - loss: 3.1202e-04 - val_loss: 2.4065e-04\n",
      "Epoch 4/10\n",
      "81/81 [==============================] - 6s 79ms/step - loss: 2.9624e-04 - val_loss: 2.4058e-04\n",
      "Epoch 5/10\n",
      "81/81 [==============================] - 6s 76ms/step - loss: 2.6118e-04 - val_loss: 3.5071e-04\n",
      "Epoch 6/10\n",
      "81/81 [==============================] - 7s 82ms/step - loss: 2.4009e-04 - val_loss: 4.9067e-04\n",
      "Epoch 7/10\n",
      "81/81 [==============================] - 6s 76ms/step - loss: 2.3226e-04 - val_loss: 2.5053e-04\n",
      "Epoch 8/10\n",
      "81/81 [==============================] - 6s 77ms/step - loss: 2.1585e-04 - val_loss: 3.3819e-04\n",
      "Epoch 9/10\n",
      "81/81 [==============================] - 6s 78ms/step - loss: 2.0477e-04 - val_loss: 2.6573e-04\n",
      "Epoch 10/10\n",
      "81/81 [==============================] - 7s 86ms/step - loss: 1.8611e-04 - val_loss: 2.1803e-04\n",
      "✅ Saved model to NVR_gru_model.h5\n",
      "\n",
      "📈 Downloading data for NXPI...\n"
     ]
    },
    {
     "name": "stderr",
     "output_type": "stream",
     "text": [
      "[*********************100%***********************]  1 of 1 completed\n"
     ]
    },
    {
     "name": "stdout",
     "output_type": "stream",
     "text": [
      "Training shape for NXPI - X_train: (2466, 100, 1), X_test: (1058, 100, 1)\n",
      "Epoch 1/10\n",
      "78/78 [==============================] - 12s 88ms/step - loss: 0.0037 - val_loss: 5.3792e-04\n",
      "Epoch 2/10\n",
      "78/78 [==============================] - 6s 75ms/step - loss: 6.1363e-04 - val_loss: 5.7433e-04\n",
      "Epoch 3/10\n",
      "78/78 [==============================] - 6s 78ms/step - loss: 5.4786e-04 - val_loss: 8.8655e-04\n",
      "Epoch 4/10\n",
      "78/78 [==============================] - 6s 76ms/step - loss: 4.7691e-04 - val_loss: 5.5855e-04\n",
      "Epoch 5/10\n",
      "78/78 [==============================] - 6s 77ms/step - loss: 4.4965e-04 - val_loss: 5.5306e-04\n",
      "Epoch 6/10\n",
      "78/78 [==============================] - 6s 78ms/step - loss: 4.1660e-04 - val_loss: 5.1709e-04\n",
      "Epoch 7/10\n",
      "78/78 [==============================] - 6s 79ms/step - loss: 4.0468e-04 - val_loss: 4.7605e-04\n",
      "Epoch 8/10\n",
      "78/78 [==============================] - 6s 77ms/step - loss: 4.2956e-04 - val_loss: 4.6442e-04\n",
      "Epoch 9/10\n",
      "78/78 [==============================] - 6s 79ms/step - loss: 3.7931e-04 - val_loss: 0.0012\n",
      "Epoch 10/10\n",
      "78/78 [==============================] - 6s 81ms/step - loss: 3.4354e-04 - val_loss: 5.0047e-04\n",
      "✅ Saved model to NXPI_gru_model.h5\n",
      "\n",
      "📈 Downloading data for ORLY...\n"
     ]
    },
    {
     "name": "stderr",
     "output_type": "stream",
     "text": [
      "[*********************100%***********************]  1 of 1 completed\n"
     ]
    },
    {
     "name": "stdout",
     "output_type": "stream",
     "text": [
      "Training shape for ORLY - X_train: (2571, 100, 1), X_test: (1102, 100, 1)\n",
      "Epoch 1/10\n",
      "81/81 [==============================] - 120s 210ms/step - loss: 0.0023 - val_loss: 2.0458e-04\n",
      "Epoch 2/10\n",
      "81/81 [==============================] - 12s 152ms/step - loss: 2.9475e-04 - val_loss: 5.7158e-04\n",
      "Epoch 3/10\n",
      "81/81 [==============================] - 11s 140ms/step - loss: 2.5915e-04 - val_loss: 3.8215e-04\n",
      "Epoch 4/10\n",
      "81/81 [==============================] - 17s 209ms/step - loss: 2.2663e-04 - val_loss: 2.0509e-04\n",
      "Epoch 5/10\n",
      "81/81 [==============================] - 14s 175ms/step - loss: 2.0425e-04 - val_loss: 5.7567e-04\n",
      "Epoch 6/10\n",
      "81/81 [==============================] - 14s 167ms/step - loss: 1.9301e-04 - val_loss: 1.8908e-04\n",
      "Epoch 7/10\n",
      "81/81 [==============================] - 13s 158ms/step - loss: 1.7707e-04 - val_loss: 0.0016\n",
      "Epoch 8/10\n",
      "81/81 [==============================] - 13s 159ms/step - loss: 1.8665e-04 - val_loss: 2.8709e-04\n",
      "Epoch 9/10\n",
      "81/81 [==============================] - 13s 158ms/step - loss: 1.4708e-04 - val_loss: 3.8579e-04\n",
      "Epoch 10/10\n",
      "81/81 [==============================] - 13s 161ms/step - loss: 1.6487e-04 - val_loss: 9.6158e-04\n",
      "✅ Saved model to ORLY_gru_model.h5\n",
      "\n",
      "📈 Downloading data for OXY...\n"
     ]
    },
    {
     "name": "stderr",
     "output_type": "stream",
     "text": [
      "[*********************100%***********************]  1 of 1 completed\n"
     ]
    },
    {
     "name": "stdout",
     "output_type": "stream",
     "text": [
      "Training shape for OXY - X_train: (2571, 100, 1), X_test: (1102, 100, 1)\n",
      "Epoch 1/10\n",
      "81/81 [==============================] - 20s 169ms/step - loss: 0.0353 - val_loss: 0.0038\n",
      "Epoch 2/10\n",
      "81/81 [==============================] - 13s 164ms/step - loss: 0.0065 - val_loss: 0.0013\n",
      "Epoch 3/10\n",
      "81/81 [==============================] - 12s 154ms/step - loss: 0.0052 - val_loss: 8.7766e-04\n",
      "Epoch 4/10\n",
      "81/81 [==============================] - 12s 152ms/step - loss: 0.0049 - val_loss: 7.4349e-04\n",
      "Epoch 5/10\n",
      "81/81 [==============================] - 12s 154ms/step - loss: 0.0040 - val_loss: 9.0369e-04\n",
      "Epoch 6/10\n",
      "81/81 [==============================] - 12s 149ms/step - loss: 0.0041 - val_loss: 7.9019e-04\n",
      "Epoch 7/10\n",
      "81/81 [==============================] - 13s 156ms/step - loss: 0.0039 - val_loss: 7.2884e-04\n",
      "Epoch 8/10\n",
      "81/81 [==============================] - 12s 149ms/step - loss: 0.0038 - val_loss: 7.7580e-04\n",
      "Epoch 9/10\n",
      "81/81 [==============================] - 12s 149ms/step - loss: 0.0037 - val_loss: 0.0016\n",
      "Epoch 10/10\n",
      "81/81 [==============================] - 12s 148ms/step - loss: 0.0037 - val_loss: 0.0010\n",
      "✅ Saved model to OXY_gru_model.h5\n",
      "\n",
      "📈 Downloading data for ODFL...\n"
     ]
    },
    {
     "name": "stderr",
     "output_type": "stream",
     "text": [
      "[*********************100%***********************]  1 of 1 completed\n"
     ]
    },
    {
     "name": "stdout",
     "output_type": "stream",
     "text": [
      "Training shape for ODFL - X_train: (2571, 100, 1), X_test: (1102, 100, 1)\n",
      "Epoch 1/10\n",
      "81/81 [==============================] - 19s 164ms/step - loss: 0.0011 - val_loss: 6.2742e-04\n",
      "Epoch 2/10\n",
      "81/81 [==============================] - 12s 149ms/step - loss: 2.3088e-04 - val_loss: 6.7236e-04\n",
      "Epoch 3/10\n",
      "81/81 [==============================] - 12s 148ms/step - loss: 1.9900e-04 - val_loss: 0.0014\n",
      "Epoch 4/10\n",
      "81/81 [==============================] - 11s 140ms/step - loss: 1.4322e-04 - val_loss: 5.0451e-04\n",
      "Epoch 5/10\n",
      "81/81 [==============================] - 11s 139ms/step - loss: 1.4665e-04 - val_loss: 5.4762e-04\n",
      "Epoch 6/10\n",
      "81/81 [==============================] - 11s 138ms/step - loss: 1.2526e-04 - val_loss: 0.0016\n",
      "Epoch 7/10\n",
      "81/81 [==============================] - 11s 139ms/step - loss: 1.1425e-04 - val_loss: 6.9966e-04\n",
      "Epoch 8/10\n",
      "81/81 [==============================] - 11s 139ms/step - loss: 1.1665e-04 - val_loss: 7.6141e-04\n",
      "Epoch 9/10\n",
      "81/81 [==============================] - 11s 139ms/step - loss: 1.2125e-04 - val_loss: 7.5209e-04\n",
      "Epoch 10/10\n",
      "81/81 [==============================] - 11s 141ms/step - loss: 1.1804e-04 - val_loss: 9.5136e-04\n",
      "✅ Saved model to ODFL_gru_model.h5\n",
      "\n",
      "📈 Downloading data for OMC...\n"
     ]
    },
    {
     "name": "stderr",
     "output_type": "stream",
     "text": [
      "[*********************100%***********************]  1 of 1 completed\n"
     ]
    },
    {
     "name": "stdout",
     "output_type": "stream",
     "text": [
      "Training shape for OMC - X_train: (2571, 100, 1), X_test: (1102, 100, 1)\n",
      "Epoch 1/10\n",
      "81/81 [==============================] - 18s 149ms/step - loss: 0.0097 - val_loss: 5.8308e-04\n",
      "Epoch 2/10\n",
      "81/81 [==============================] - 11s 131ms/step - loss: 0.0014 - val_loss: 5.5031e-04\n",
      "Epoch 3/10\n",
      "81/81 [==============================] - 11s 131ms/step - loss: 0.0013 - val_loss: 7.3882e-04\n",
      "Epoch 4/10\n",
      "81/81 [==============================] - 11s 134ms/step - loss: 0.0012 - val_loss: 5.8496e-04\n",
      "Epoch 5/10\n",
      "81/81 [==============================] - 10s 128ms/step - loss: 0.0011 - val_loss: 5.4062e-04\n",
      "Epoch 6/10\n",
      "81/81 [==============================] - 11s 134ms/step - loss: 0.0010 - val_loss: 7.2252e-04\n",
      "Epoch 7/10\n",
      "81/81 [==============================] - 11s 132ms/step - loss: 8.9515e-04 - val_loss: 6.1955e-04\n",
      "Epoch 8/10\n",
      "81/81 [==============================] - 11s 133ms/step - loss: 9.0442e-04 - val_loss: 0.0011\n",
      "Epoch 9/10\n",
      "81/81 [==============================] - 19s 231ms/step - loss: 8.5455e-04 - val_loss: 7.7352e-04\n",
      "Epoch 10/10\n",
      "81/81 [==============================] - 12s 143ms/step - loss: 7.7858e-04 - val_loss: 6.2533e-04\n",
      "✅ Saved model to OMC_gru_model.h5\n",
      "\n",
      "📈 Downloading data for ON...\n"
     ]
    },
    {
     "name": "stderr",
     "output_type": "stream",
     "text": [
      "[*********************100%***********************]  1 of 1 completed\n"
     ]
    },
    {
     "name": "stdout",
     "output_type": "stream",
     "text": [
      "Training shape for ON - X_train: (2571, 100, 1), X_test: (1102, 100, 1)\n",
      "Epoch 1/10\n",
      "81/81 [==============================] - 18s 141ms/step - loss: 6.1516e-04 - val_loss: 9.6406e-04\n",
      "Epoch 2/10\n",
      "81/81 [==============================] - 10s 124ms/step - loss: 1.0851e-04 - val_loss: 0.0010\n",
      "Epoch 3/10\n",
      "81/81 [==============================] - 10s 126ms/step - loss: 1.0641e-04 - val_loss: 8.9366e-04\n",
      "Epoch 4/10\n",
      "81/81 [==============================] - 10s 125ms/step - loss: 8.9540e-05 - val_loss: 6.8249e-04\n",
      "Epoch 5/10\n",
      "81/81 [==============================] - 10s 125ms/step - loss: 9.2539e-05 - val_loss: 6.7427e-04\n",
      "Epoch 6/10\n",
      "81/81 [==============================] - 10s 128ms/step - loss: 8.0484e-05 - val_loss: 0.0010\n",
      "Epoch 7/10\n",
      "81/81 [==============================] - 10s 126ms/step - loss: 7.1120e-05 - val_loss: 9.5768e-04\n",
      "Epoch 8/10\n",
      "81/81 [==============================] - 10s 124ms/step - loss: 6.9991e-05 - val_loss: 5.9592e-04\n",
      "Epoch 9/10\n",
      "81/81 [==============================] - 10s 123ms/step - loss: 6.1107e-05 - val_loss: 6.2509e-04\n",
      "Epoch 10/10\n",
      "81/81 [==============================] - 10s 123ms/step - loss: 6.6813e-05 - val_loss: 6.5339e-04\n",
      "✅ Saved model to ON_gru_model.h5\n",
      "\n",
      "📈 Downloading data for OKE...\n"
     ]
    },
    {
     "name": "stderr",
     "output_type": "stream",
     "text": [
      "[*********************100%***********************]  1 of 1 completed\n"
     ]
    },
    {
     "name": "stdout",
     "output_type": "stream",
     "text": [
      "Training shape for OKE - X_train: (2571, 100, 1), X_test: (1102, 100, 1)\n",
      "Epoch 1/10\n",
      "81/81 [==============================] - 17s 135ms/step - loss: 0.0051 - val_loss: 7.9155e-04\n",
      "Epoch 2/10\n",
      "81/81 [==============================] - 10s 119ms/step - loss: 5.3747e-04 - val_loss: 2.5289e-04\n",
      "Epoch 3/10\n",
      "81/81 [==============================] - 9s 117ms/step - loss: 4.7842e-04 - val_loss: 3.0399e-04\n",
      "Epoch 4/10\n",
      "81/81 [==============================] - 9s 117ms/step - loss: 4.2889e-04 - val_loss: 2.3853e-04\n",
      "Epoch 5/10\n",
      "81/81 [==============================] - 10s 119ms/step - loss: 4.1954e-04 - val_loss: 8.5609e-04\n",
      "Epoch 6/10\n",
      "81/81 [==============================] - 10s 118ms/step - loss: 3.6064e-04 - val_loss: 2.6628e-04\n",
      "Epoch 7/10\n",
      "81/81 [==============================] - 9s 117ms/step - loss: 3.4429e-04 - val_loss: 2.3512e-04\n",
      "Epoch 8/10\n",
      "81/81 [==============================] - 9s 116ms/step - loss: 3.5014e-04 - val_loss: 7.6487e-04\n",
      "Epoch 9/10\n",
      "81/81 [==============================] - 10s 117ms/step - loss: 3.3935e-04 - val_loss: 1.8555e-04\n",
      "Epoch 10/10\n",
      "81/81 [==============================] - 10s 120ms/step - loss: 3.2689e-04 - val_loss: 3.3358e-04\n",
      "✅ Saved model to OKE_gru_model.h5\n",
      "\n",
      "📈 Downloading data for ORCL...\n"
     ]
    },
    {
     "name": "stderr",
     "output_type": "stream",
     "text": [
      "[*********************100%***********************]  1 of 1 completed\n"
     ]
    },
    {
     "name": "stdout",
     "output_type": "stream",
     "text": [
      "Training shape for ORCL - X_train: (2571, 100, 1), X_test: (1102, 100, 1)\n",
      "Epoch 1/10\n",
      "81/81 [==============================] - 16s 128ms/step - loss: 0.0012 - val_loss: 5.6778e-04\n",
      "Epoch 2/10\n",
      "81/81 [==============================] - 9s 111ms/step - loss: 1.5165e-04 - val_loss: 6.6579e-04\n",
      "Epoch 3/10\n",
      "81/81 [==============================] - 9s 110ms/step - loss: 1.1158e-04 - val_loss: 5.3456e-04\n",
      "Epoch 4/10\n",
      "81/81 [==============================] - 9s 111ms/step - loss: 1.0960e-04 - val_loss: 3.4830e-04\n",
      "Epoch 5/10\n",
      "81/81 [==============================] - 9s 111ms/step - loss: 1.0285e-04 - val_loss: 4.4659e-04\n",
      "Epoch 6/10\n",
      "81/81 [==============================] - 9s 110ms/step - loss: 9.1609e-05 - val_loss: 3.2575e-04\n",
      "Epoch 7/10\n",
      "81/81 [==============================] - 9s 112ms/step - loss: 8.3671e-05 - val_loss: 2.8778e-04\n",
      "Epoch 8/10\n",
      "81/81 [==============================] - 9s 112ms/step - loss: 8.2276e-05 - val_loss: 4.6931e-04\n",
      "Epoch 9/10\n",
      "81/81 [==============================] - 9s 111ms/step - loss: 8.2961e-05 - val_loss: 8.7657e-04\n",
      "Epoch 10/10\n",
      "81/81 [==============================] - 9s 114ms/step - loss: 6.6047e-05 - val_loss: 3.6490e-04\n",
      "✅ Saved model to ORCL_gru_model.h5\n",
      "\n",
      "📈 Downloading data for OTIS...\n"
     ]
    },
    {
     "name": "stderr",
     "output_type": "stream",
     "text": [
      "[*********************100%***********************]  1 of 1 completed\n"
     ]
    },
    {
     "name": "stdout",
     "output_type": "stream",
     "text": [
      "Training shape for OTIS - X_train: (772, 100, 1), X_test: (332, 100, 1)\n",
      "Epoch 1/10\n",
      "25/25 [==============================] - 10s 165ms/step - loss: 0.0617 - val_loss: 0.0320\n",
      "Epoch 2/10\n",
      "25/25 [==============================] - 3s 110ms/step - loss: 0.0081 - val_loss: 0.0103\n",
      "Epoch 3/10\n",
      "25/25 [==============================] - 3s 107ms/step - loss: 0.0052 - val_loss: 0.0072\n",
      "Epoch 4/10\n",
      "25/25 [==============================] - 3s 112ms/step - loss: 0.0044 - val_loss: 0.0078\n",
      "Epoch 5/10\n",
      "25/25 [==============================] - 3s 106ms/step - loss: 0.0040 - val_loss: 0.0033\n",
      "Epoch 6/10\n",
      "25/25 [==============================] - 3s 112ms/step - loss: 0.0036 - val_loss: 0.0017\n",
      "Epoch 7/10\n",
      "25/25 [==============================] - 3s 108ms/step - loss: 0.0035 - val_loss: 0.0019\n",
      "Epoch 8/10\n",
      "25/25 [==============================] - 3s 110ms/step - loss: 0.0035 - val_loss: 6.4646e-04\n",
      "Epoch 9/10\n",
      "25/25 [==============================] - 3s 108ms/step - loss: 0.0030 - val_loss: 0.0011\n",
      "Epoch 10/10\n",
      "25/25 [==============================] - 3s 109ms/step - loss: 0.0028 - val_loss: 6.0899e-04\n",
      "✅ Saved model to OTIS_gru_model.h5\n",
      "\n",
      "📈 Downloading data for PCAR...\n"
     ]
    },
    {
     "name": "stderr",
     "output_type": "stream",
     "text": [
      "[*********************100%***********************]  1 of 1 completed\n"
     ]
    },
    {
     "name": "stdout",
     "output_type": "stream",
     "text": [
      "Training shape for PCAR - X_train: (2571, 100, 1), X_test: (1102, 100, 1)\n",
      "Epoch 1/10\n",
      "81/81 [==============================] - 16s 118ms/step - loss: 9.6561e-04 - val_loss: 2.7415e-04\n",
      "Epoch 2/10\n",
      "81/81 [==============================] - 8s 101ms/step - loss: 2.5161e-04 - val_loss: 3.1199e-04\n",
      "Epoch 3/10\n",
      "81/81 [==============================] - 8s 100ms/step - loss: 2.1476e-04 - val_loss: 2.3615e-04\n",
      "Epoch 4/10\n",
      "81/81 [==============================] - 8s 100ms/step - loss: 1.9467e-04 - val_loss: 8.3167e-04\n",
      "Epoch 5/10\n",
      "81/81 [==============================] - 8s 101ms/step - loss: 1.6785e-04 - val_loss: 4.6152e-04\n",
      "Epoch 6/10\n",
      "81/81 [==============================] - 8s 103ms/step - loss: 1.6307e-04 - val_loss: 3.6247e-04\n",
      "Epoch 7/10\n",
      "81/81 [==============================] - 8s 99ms/step - loss: 1.5280e-04 - val_loss: 3.9795e-04\n",
      "Epoch 8/10\n",
      "81/81 [==============================] - 9s 113ms/step - loss: 1.4400e-04 - val_loss: 2.0513e-04\n",
      "Epoch 9/10\n",
      "81/81 [==============================] - 8s 105ms/step - loss: 1.3076e-04 - val_loss: 2.4619e-04\n",
      "Epoch 10/10\n",
      "81/81 [==============================] - 8s 99ms/step - loss: 1.2131e-04 - val_loss: 2.2510e-04\n",
      "✅ Saved model to PCAR_gru_model.h5\n",
      "\n",
      "📈 Downloading data for PKG...\n"
     ]
    },
    {
     "name": "stderr",
     "output_type": "stream",
     "text": [
      "[*********************100%***********************]  1 of 1 completed\n"
     ]
    },
    {
     "name": "stdout",
     "output_type": "stream",
     "text": [
      "Training shape for PKG - X_train: (2571, 100, 1), X_test: (1102, 100, 1)\n",
      "Epoch 1/10\n",
      "81/81 [==============================] - 16s 118ms/step - loss: 0.0022 - val_loss: 2.2292e-04\n",
      "Epoch 2/10\n",
      "81/81 [==============================] - 8s 99ms/step - loss: 4.6665e-04 - val_loss: 2.5581e-04\n",
      "Epoch 3/10\n",
      "81/81 [==============================] - 8s 99ms/step - loss: 4.0801e-04 - val_loss: 3.1576e-04\n",
      "Epoch 4/10\n",
      "81/81 [==============================] - 8s 96ms/step - loss: 3.7967e-04 - val_loss: 3.2191e-04\n",
      "Epoch 5/10\n",
      "81/81 [==============================] - 8s 96ms/step - loss: 3.5195e-04 - val_loss: 2.1104e-04\n",
      "Epoch 6/10\n",
      "81/81 [==============================] - 8s 97ms/step - loss: 3.3106e-04 - val_loss: 3.0020e-04\n",
      "Epoch 7/10\n",
      "81/81 [==============================] - 8s 95ms/step - loss: 2.9194e-04 - val_loss: 3.3302e-04\n",
      "Epoch 8/10\n",
      "81/81 [==============================] - 8s 98ms/step - loss: 2.5875e-04 - val_loss: 2.8561e-04\n",
      "Epoch 9/10\n",
      "81/81 [==============================] - 8s 96ms/step - loss: 2.8383e-04 - val_loss: 1.8187e-04\n",
      "Epoch 10/10\n",
      "81/81 [==============================] - 8s 97ms/step - loss: 2.7000e-04 - val_loss: 2.3773e-04\n",
      "✅ Saved model to PKG_gru_model.h5\n",
      "\n",
      "📈 Downloading data for PLTR...\n"
     ]
    },
    {
     "name": "stderr",
     "output_type": "stream",
     "text": [
      "[*********************100%***********************]  1 of 1 completed\n"
     ]
    },
    {
     "name": "stdout",
     "output_type": "stream",
     "text": [
      "Training shape for PLTR - X_train: (678, 100, 1), X_test: (291, 100, 1)\n",
      "Epoch 1/10\n",
      "22/22 [==============================] - 10s 164ms/step - loss: 0.0039 - val_loss: 0.0023\n",
      "Epoch 2/10\n",
      "22/22 [==============================] - 2s 99ms/step - loss: 7.4290e-04 - val_loss: 7.9708e-04\n",
      "Epoch 3/10\n",
      "22/22 [==============================] - 2s 98ms/step - loss: 4.0401e-04 - val_loss: 0.0020\n",
      "Epoch 4/10\n",
      "22/22 [==============================] - 2s 96ms/step - loss: 3.8540e-04 - val_loss: 9.5280e-04\n",
      "Epoch 5/10\n",
      "22/22 [==============================] - 2s 100ms/step - loss: 3.2559e-04 - val_loss: 9.0365e-04\n",
      "Epoch 6/10\n",
      "22/22 [==============================] - 2s 93ms/step - loss: 3.4611e-04 - val_loss: 7.1419e-04\n",
      "Epoch 7/10\n",
      "22/22 [==============================] - 2s 101ms/step - loss: 3.4831e-04 - val_loss: 0.0014\n",
      "Epoch 8/10\n",
      "22/22 [==============================] - 2s 94ms/step - loss: 3.0809e-04 - val_loss: 9.9275e-04\n",
      "Epoch 9/10\n",
      "22/22 [==============================] - 2s 100ms/step - loss: 3.4691e-04 - val_loss: 6.3884e-04\n",
      "Epoch 10/10\n",
      "22/22 [==============================] - 2s 94ms/step - loss: 3.3007e-04 - val_loss: 0.0010\n",
      "✅ Saved model to PLTR_gru_model.h5\n",
      "\n",
      "📈 Downloading data for PANW...\n"
     ]
    },
    {
     "name": "stderr",
     "output_type": "stream",
     "text": [
      "[*********************100%***********************]  1 of 1 completed\n"
     ]
    },
    {
     "name": "stdout",
     "output_type": "stream",
     "text": [
      "Training shape for PANW - X_train: (2121, 100, 1), X_test: (910, 100, 1)\n",
      "Epoch 1/10\n",
      "67/67 [==============================] - 14s 115ms/step - loss: 0.0016 - val_loss: 0.0026\n",
      "Epoch 2/10\n",
      "67/67 [==============================] - 6s 92ms/step - loss: 1.9449e-04 - val_loss: 7.8411e-04\n",
      "Epoch 3/10\n",
      "67/67 [==============================] - 6s 94ms/step - loss: 1.4561e-04 - val_loss: 5.8309e-04\n",
      "Epoch 4/10\n",
      "67/67 [==============================] - 6s 91ms/step - loss: 1.4720e-04 - val_loss: 0.0019\n",
      "Epoch 5/10\n",
      "67/67 [==============================] - 6s 92ms/step - loss: 1.2067e-04 - val_loss: 5.8049e-04\n",
      "Epoch 6/10\n",
      "67/67 [==============================] - 6s 90ms/step - loss: 1.3137e-04 - val_loss: 6.8847e-04\n",
      "Epoch 7/10\n",
      "67/67 [==============================] - 6s 94ms/step - loss: 1.1723e-04 - val_loss: 5.8382e-04\n",
      "Epoch 8/10\n",
      "67/67 [==============================] - 6s 90ms/step - loss: 1.1107e-04 - val_loss: 5.6426e-04\n",
      "Epoch 9/10\n",
      "67/67 [==============================] - 6s 90ms/step - loss: 9.2189e-05 - val_loss: 8.7297e-04\n",
      "Epoch 10/10\n",
      "67/67 [==============================] - 6s 91ms/step - loss: 1.0361e-04 - val_loss: 4.9165e-04\n",
      "✅ Saved model to PANW_gru_model.h5\n",
      "\n",
      "📈 Downloading data for PARA...\n"
     ]
    },
    {
     "name": "stderr",
     "output_type": "stream",
     "text": [
      "[*********************100%***********************]  1 of 1 completed\n"
     ]
    },
    {
     "name": "stdout",
     "output_type": "stream",
     "text": [
      "Training shape for PARA - X_train: (2571, 100, 1), X_test: (1102, 100, 1)\n",
      "Epoch 1/10\n",
      "81/81 [==============================] - 15s 112ms/step - loss: 0.0102 - val_loss: 9.0540e-04\n",
      "Epoch 2/10\n",
      "81/81 [==============================] - 7s 91ms/step - loss: 0.0016 - val_loss: 8.4151e-04\n",
      "Epoch 3/10\n",
      "81/81 [==============================] - 7s 89ms/step - loss: 0.0014 - val_loss: 8.2767e-04\n",
      "Epoch 4/10\n",
      "81/81 [==============================] - 7s 90ms/step - loss: 0.0011 - val_loss: 8.1468e-04\n",
      "Epoch 5/10\n",
      "81/81 [==============================] - 8s 98ms/step - loss: 0.0012 - val_loss: 8.0783e-04\n",
      "Epoch 6/10\n",
      "81/81 [==============================] - 8s 104ms/step - loss: 0.0011 - val_loss: 8.0621e-04\n",
      "Epoch 7/10\n",
      "81/81 [==============================] - 8s 105ms/step - loss: 9.9155e-04 - val_loss: 7.9792e-04\n",
      "Epoch 8/10\n",
      "81/81 [==============================] - 8s 104ms/step - loss: 9.5932e-04 - val_loss: 7.8424e-04\n",
      "Epoch 9/10\n",
      "81/81 [==============================] - 8s 105ms/step - loss: 0.0011 - val_loss: 9.2654e-04\n",
      "Epoch 10/10\n",
      "81/81 [==============================] - 8s 105ms/step - loss: 8.9242e-04 - val_loss: 7.8231e-04\n",
      "✅ Saved model to PARA_gru_model.h5\n",
      "\n",
      "📈 Downloading data for PH...\n"
     ]
    },
    {
     "name": "stderr",
     "output_type": "stream",
     "text": [
      "[*********************100%***********************]  1 of 1 completed\n"
     ]
    },
    {
     "name": "stdout",
     "output_type": "stream",
     "text": [
      "Training shape for PH - X_train: (2571, 100, 1), X_test: (1102, 100, 1)\n",
      "Epoch 1/10\n",
      "81/81 [==============================] - 16s 114ms/step - loss: 0.0010 - val_loss: 2.3692e-04\n",
      "Epoch 2/10\n",
      "81/81 [==============================] - 6s 79ms/step - loss: 1.6230e-04 - val_loss: 3.2020e-04\n",
      "Epoch 3/10\n",
      "81/81 [==============================] - 7s 81ms/step - loss: 1.3538e-04 - val_loss: 3.1638e-04\n",
      "Epoch 4/10\n",
      "81/81 [==============================] - 6s 77ms/step - loss: 1.2790e-04 - val_loss: 2.6659e-04\n",
      "Epoch 5/10\n",
      "81/81 [==============================] - 6s 79ms/step - loss: 1.0334e-04 - val_loss: 2.3487e-04\n",
      "Epoch 6/10\n",
      "81/81 [==============================] - 6s 78ms/step - loss: 1.0724e-04 - val_loss: 6.8279e-04\n",
      "Epoch 7/10\n",
      "81/81 [==============================] - 6s 78ms/step - loss: 9.9680e-05 - val_loss: 1.7145e-04\n",
      "Epoch 8/10\n",
      "81/81 [==============================] - 7s 83ms/step - loss: 8.9516e-05 - val_loss: 1.6316e-04\n",
      "Epoch 9/10\n",
      "81/81 [==============================] - 8s 101ms/step - loss: 8.3928e-05 - val_loss: 2.2411e-04\n",
      "Epoch 10/10\n",
      "81/81 [==============================] - 7s 80ms/step - loss: 7.3174e-05 - val_loss: 1.5199e-04\n",
      "✅ Saved model to PH_gru_model.h5\n",
      "\n",
      "📈 Downloading data for PAYX...\n"
     ]
    },
    {
     "name": "stderr",
     "output_type": "stream",
     "text": [
      "[*********************100%***********************]  1 of 1 completed\n"
     ]
    },
    {
     "name": "stdout",
     "output_type": "stream",
     "text": [
      "Training shape for PAYX - X_train: (2571, 100, 1), X_test: (1102, 100, 1)\n",
      "Epoch 1/10\n",
      "81/81 [==============================] - 15s 112ms/step - loss: 0.0025 - val_loss: 9.0167e-04\n",
      "Epoch 2/10\n",
      "81/81 [==============================] - 7s 84ms/step - loss: 5.5119e-04 - val_loss: 2.9846e-04\n",
      "Epoch 3/10\n",
      "81/81 [==============================] - 6s 78ms/step - loss: 4.8803e-04 - val_loss: 8.6349e-04\n",
      "Epoch 4/10\n",
      "81/81 [==============================] - 6s 78ms/step - loss: 4.5288e-04 - val_loss: 9.9988e-04\n",
      "Epoch 5/10\n",
      "81/81 [==============================] - 6s 79ms/step - loss: 4.1488e-04 - val_loss: 5.0695e-04\n",
      "Epoch 6/10\n",
      "81/81 [==============================] - 6s 79ms/step - loss: 3.4567e-04 - val_loss: 2.9820e-04\n",
      "Epoch 7/10\n",
      "81/81 [==============================] - 6s 79ms/step - loss: 3.4047e-04 - val_loss: 3.9347e-04\n",
      "Epoch 8/10\n",
      "81/81 [==============================] - 6s 79ms/step - loss: 3.1387e-04 - val_loss: 5.2394e-04\n",
      "Epoch 9/10\n",
      "81/81 [==============================] - 6s 78ms/step - loss: 3.1779e-04 - val_loss: 2.6399e-04\n",
      "Epoch 10/10\n",
      "81/81 [==============================] - 6s 80ms/step - loss: 2.8119e-04 - val_loss: 4.5368e-04\n",
      "✅ Saved model to PAYX_gru_model.h5\n",
      "\n",
      "📈 Downloading data for PAYC...\n"
     ]
    },
    {
     "name": "stderr",
     "output_type": "stream",
     "text": [
      "[*********************100%***********************]  1 of 1 completed\n"
     ]
    },
    {
     "name": "stdout",
     "output_type": "stream",
     "text": [
      "Training shape for PAYC - X_train: (1817, 100, 1), X_test: (779, 100, 1)\n",
      "Epoch 1/10\n",
      "57/57 [==============================] - 12s 100ms/step - loss: 0.0110 - val_loss: 6.1475e-04\n",
      "Epoch 2/10\n",
      "57/57 [==============================] - 5s 81ms/step - loss: 0.0020 - val_loss: 9.1003e-04\n",
      "Epoch 3/10\n",
      "57/57 [==============================] - 4s 79ms/step - loss: 0.0018 - val_loss: 8.1155e-04\n",
      "Epoch 4/10\n",
      "57/57 [==============================] - 5s 80ms/step - loss: 0.0017 - val_loss: 7.6914e-04\n",
      "Epoch 5/10\n",
      "57/57 [==============================] - 4s 77ms/step - loss: 0.0016 - val_loss: 5.4776e-04\n",
      "Epoch 6/10\n",
      "57/57 [==============================] - 5s 81ms/step - loss: 0.0014 - val_loss: 7.5160e-04\n",
      "Epoch 7/10\n",
      "57/57 [==============================] - 5s 80ms/step - loss: 0.0015 - val_loss: 8.5191e-04\n",
      "Epoch 8/10\n",
      "57/57 [==============================] - 4s 79ms/step - loss: 0.0013 - val_loss: 6.2318e-04\n",
      "Epoch 9/10\n",
      "57/57 [==============================] - 4s 78ms/step - loss: 0.0012 - val_loss: 9.0530e-04\n",
      "Epoch 10/10\n",
      "57/57 [==============================] - 4s 77ms/step - loss: 0.0013 - val_loss: 6.0430e-04\n",
      "✅ Saved model to PAYC_gru_model.h5\n",
      "\n",
      "📈 Downloading data for PYPL...\n"
     ]
    },
    {
     "name": "stderr",
     "output_type": "stream",
     "text": [
      "[*********************100%***********************]  1 of 1 completed\n"
     ]
    },
    {
     "name": "stdout",
     "output_type": "stream",
     "text": [
      "Training shape for PYPL - X_train: (1602, 100, 1), X_test: (687, 100, 1)\n",
      "Epoch 1/10\n",
      "51/51 [==============================] - 12s 103ms/step - loss: 0.0182 - val_loss: 6.1289e-04\n",
      "Epoch 2/10\n",
      "51/51 [==============================] - 4s 80ms/step - loss: 0.0024 - val_loss: 1.2935e-04\n",
      "Epoch 3/10\n",
      "51/51 [==============================] - 4s 76ms/step - loss: 0.0020 - val_loss: 1.1287e-04\n",
      "Epoch 4/10\n",
      "51/51 [==============================] - 4s 78ms/step - loss: 0.0020 - val_loss: 1.2328e-04\n",
      "Epoch 5/10\n",
      "51/51 [==============================] - 4s 77ms/step - loss: 0.0021 - val_loss: 5.1473e-04\n",
      "Epoch 6/10\n",
      "51/51 [==============================] - 4s 77ms/step - loss: 0.0018 - val_loss: 1.0908e-04\n",
      "Epoch 7/10\n",
      "51/51 [==============================] - 4s 77ms/step - loss: 0.0017 - val_loss: 1.0393e-04\n",
      "Epoch 8/10\n",
      "51/51 [==============================] - 4s 78ms/step - loss: 0.0017 - val_loss: 1.3460e-04\n",
      "Epoch 9/10\n",
      "51/51 [==============================] - 4s 80ms/step - loss: 0.0017 - val_loss: 2.5555e-04\n",
      "Epoch 10/10\n",
      "51/51 [==============================] - 4s 78ms/step - loss: 0.0014 - val_loss: 1.0773e-04\n",
      "✅ Saved model to PYPL_gru_model.h5\n",
      "\n",
      "📈 Downloading data for PNR...\n"
     ]
    },
    {
     "name": "stderr",
     "output_type": "stream",
     "text": [
      "[*********************100%***********************]  1 of 1 completed\n"
     ]
    },
    {
     "name": "stdout",
     "output_type": "stream",
     "text": [
      "Training shape for PNR - X_train: (2571, 100, 1), X_test: (1102, 100, 1)\n",
      "Epoch 1/10\n",
      "81/81 [==============================] - 13s 93ms/step - loss: 0.0021 - val_loss: 5.9974e-04\n",
      "Epoch 2/10\n",
      "81/81 [==============================] - 6s 79ms/step - loss: 4.0959e-04 - val_loss: 7.1410e-04\n",
      "Epoch 3/10\n",
      "81/81 [==============================] - 6s 76ms/step - loss: 3.8387e-04 - val_loss: 3.2206e-04\n",
      "Epoch 4/10\n",
      "81/81 [==============================] - 6s 78ms/step - loss: 3.3010e-04 - val_loss: 3.8650e-04\n",
      "Epoch 5/10\n",
      "81/81 [==============================] - 6s 77ms/step - loss: 3.1160e-04 - val_loss: 6.9490e-04\n",
      "Epoch 6/10\n",
      "81/81 [==============================] - 6s 77ms/step - loss: 2.8837e-04 - val_loss: 2.6912e-04\n",
      "Epoch 7/10\n",
      "81/81 [==============================] - 6s 76ms/step - loss: 2.7060e-04 - val_loss: 5.7661e-04\n",
      "Epoch 8/10\n",
      "81/81 [==============================] - 6s 78ms/step - loss: 2.6951e-04 - val_loss: 2.5399e-04\n",
      "Epoch 9/10\n",
      "81/81 [==============================] - 6s 75ms/step - loss: 2.4733e-04 - val_loss: 4.6556e-04\n",
      "Epoch 10/10\n",
      "81/81 [==============================] - 6s 76ms/step - loss: 2.3391e-04 - val_loss: 2.0968e-04\n",
      "✅ Saved model to PNR_gru_model.h5\n",
      "\n",
      "📈 Downloading data for PEP...\n"
     ]
    },
    {
     "name": "stderr",
     "output_type": "stream",
     "text": [
      "[*********************100%***********************]  1 of 1 completed\n"
     ]
    },
    {
     "name": "stdout",
     "output_type": "stream",
     "text": [
      "Training shape for PEP - X_train: (2571, 100, 1), X_test: (1102, 100, 1)\n",
      "Epoch 1/10\n",
      "81/81 [==============================] - 13s 92ms/step - loss: 0.0079 - val_loss: 5.5247e-04\n",
      "Epoch 2/10\n",
      "81/81 [==============================] - 6s 79ms/step - loss: 0.0011 - val_loss: 3.3953e-04\n",
      "Epoch 3/10\n",
      "81/81 [==============================] - 7s 90ms/step - loss: 8.5888e-04 - val_loss: 6.8211e-04\n",
      "Epoch 4/10\n",
      "81/81 [==============================] - 6s 77ms/step - loss: 7.7265e-04 - val_loss: 7.9519e-04\n",
      "Epoch 5/10\n",
      "81/81 [==============================] - 6s 79ms/step - loss: 6.9155e-04 - val_loss: 3.6364e-04\n",
      "Epoch 6/10\n",
      "81/81 [==============================] - 6s 77ms/step - loss: 6.9547e-04 - val_loss: 7.8396e-04\n",
      "Epoch 7/10\n",
      "81/81 [==============================] - 6s 77ms/step - loss: 5.9426e-04 - val_loss: 2.5074e-04\n",
      "Epoch 8/10\n",
      "81/81 [==============================] - 6s 77ms/step - loss: 5.6452e-04 - val_loss: 4.4463e-04\n",
      "Epoch 9/10\n",
      "81/81 [==============================] - 7s 87ms/step - loss: 5.3111e-04 - val_loss: 5.7222e-04\n",
      "Epoch 10/10\n",
      "81/81 [==============================] - 7s 82ms/step - loss: 5.1193e-04 - val_loss: 2.6576e-04\n",
      "✅ Saved model to PEP_gru_model.h5\n",
      "\n",
      "📈 Downloading data for PFE...\n"
     ]
    },
    {
     "name": "stderr",
     "output_type": "stream",
     "text": [
      "[*********************100%***********************]  1 of 1 completed\n"
     ]
    },
    {
     "name": "stdout",
     "output_type": "stream",
     "text": [
      "Training shape for PFE - X_train: (2571, 100, 1), X_test: (1102, 100, 1)\n",
      "Epoch 1/10\n",
      "81/81 [==============================] - 13s 94ms/step - loss: 0.0063 - val_loss: 7.2161e-04\n",
      "Epoch 2/10\n",
      "81/81 [==============================] - 6s 78ms/step - loss: 0.0012 - val_loss: 4.6136e-04\n",
      "Epoch 3/10\n",
      "81/81 [==============================] - 6s 77ms/step - loss: 9.0277e-04 - val_loss: 4.3030e-04\n",
      "Epoch 4/10\n",
      "81/81 [==============================] - 6s 79ms/step - loss: 8.2963e-04 - val_loss: 6.0864e-04\n",
      "Epoch 5/10\n",
      "81/81 [==============================] - 6s 76ms/step - loss: 8.2235e-04 - val_loss: 4.6598e-04\n",
      "Epoch 6/10\n",
      "81/81 [==============================] - 6s 77ms/step - loss: 7.3986e-04 - val_loss: 4.4606e-04\n",
      "Epoch 7/10\n",
      "81/81 [==============================] - 6s 76ms/step - loss: 7.1182e-04 - val_loss: 5.7737e-04\n",
      "Epoch 8/10\n",
      "81/81 [==============================] - 7s 86ms/step - loss: 7.0757e-04 - val_loss: 4.5083e-04\n",
      "Epoch 9/10\n",
      "81/81 [==============================] - 6s 76ms/step - loss: 6.3682e-04 - val_loss: 3.9665e-04\n",
      "Epoch 10/10\n",
      "81/81 [==============================] - 6s 77ms/step - loss: 6.1006e-04 - val_loss: 3.9667e-04\n",
      "✅ Saved model to PFE_gru_model.h5\n",
      "\n",
      "📈 Downloading data for PCG...\n"
     ]
    },
    {
     "name": "stderr",
     "output_type": "stream",
     "text": [
      "[*********************100%***********************]  1 of 1 completed\n"
     ]
    },
    {
     "name": "stdout",
     "output_type": "stream",
     "text": [
      "Training shape for PCG - X_train: (2571, 100, 1), X_test: (1102, 100, 1)\n",
      "Epoch 1/10\n",
      "81/81 [==============================] - 14s 93ms/step - loss: 0.0220 - val_loss: 2.2635e-04\n",
      "Epoch 2/10\n",
      "81/81 [==============================] - 6s 80ms/step - loss: 0.0042 - val_loss: 9.3655e-05\n",
      "Epoch 3/10\n",
      "81/81 [==============================] - 6s 77ms/step - loss: 0.0033 - val_loss: 8.8527e-05\n",
      "Epoch 4/10\n",
      "81/81 [==============================] - 6s 77ms/step - loss: 0.0029 - val_loss: 6.5352e-05\n",
      "Epoch 5/10\n",
      "81/81 [==============================] - 6s 76ms/step - loss: 0.0027 - val_loss: 4.8413e-05\n",
      "Epoch 6/10\n",
      "81/81 [==============================] - 6s 76ms/step - loss: 0.0028 - val_loss: 1.1092e-04\n",
      "Epoch 7/10\n",
      "81/81 [==============================] - 6s 75ms/step - loss: 0.0024 - val_loss: 4.3383e-05\n",
      "Epoch 8/10\n",
      "81/81 [==============================] - 6s 77ms/step - loss: 0.0023 - val_loss: 3.9749e-05\n",
      "Epoch 9/10\n",
      "81/81 [==============================] - 6s 76ms/step - loss: 0.0023 - val_loss: 1.4595e-04\n",
      "Epoch 10/10\n",
      "81/81 [==============================] - 6s 77ms/step - loss: 0.0021 - val_loss: 5.1154e-05\n",
      "✅ Saved model to PCG_gru_model.h5\n",
      "\n",
      "📈 Downloading data for PM...\n"
     ]
    },
    {
     "name": "stderr",
     "output_type": "stream",
     "text": [
      "[*********************100%***********************]  1 of 1 completed\n"
     ]
    },
    {
     "name": "stdout",
     "output_type": "stream",
     "text": [
      "Training shape for PM - X_train: (2571, 100, 1), X_test: (1102, 100, 1)\n",
      "Epoch 1/10\n",
      "81/81 [==============================] - 13s 91ms/step - loss: 0.0034 - val_loss: 4.5709e-04\n",
      "Epoch 2/10\n",
      "81/81 [==============================] - 6s 77ms/step - loss: 9.8843e-04 - val_loss: 5.7275e-04\n",
      "Epoch 3/10\n",
      "81/81 [==============================] - 6s 75ms/step - loss: 9.0523e-04 - val_loss: 4.4034e-04\n",
      "Epoch 4/10\n",
      "81/81 [==============================] - 6s 77ms/step - loss: 7.3926e-04 - val_loss: 6.6116e-04\n",
      "Epoch 5/10\n",
      "81/81 [==============================] - 6s 75ms/step - loss: 6.3084e-04 - val_loss: 4.5520e-04\n",
      "Epoch 6/10\n",
      "81/81 [==============================] - 6s 77ms/step - loss: 6.5314e-04 - val_loss: 2.4797e-04\n",
      "Epoch 7/10\n",
      "81/81 [==============================] - 6s 75ms/step - loss: 6.1171e-04 - val_loss: 4.1676e-04\n",
      "Epoch 8/10\n",
      "81/81 [==============================] - 6s 76ms/step - loss: 6.0785e-04 - val_loss: 2.3803e-04\n",
      "Epoch 9/10\n",
      "81/81 [==============================] - 6s 76ms/step - loss: 5.4941e-04 - val_loss: 2.2191e-04\n",
      "Epoch 10/10\n",
      "81/81 [==============================] - 6s 77ms/step - loss: 5.1080e-04 - val_loss: 4.0791e-04\n",
      "✅ Saved model to PM_gru_model.h5\n",
      "\n",
      "📈 Downloading data for PSX...\n"
     ]
    },
    {
     "name": "stderr",
     "output_type": "stream",
     "text": [
      "[*********************100%***********************]  1 of 1 completed\n"
     ]
    },
    {
     "name": "stdout",
     "output_type": "stream",
     "text": [
      "Training shape for PSX - X_train: (2170, 100, 1), X_test: (930, 100, 1)\n",
      "Epoch 1/10\n",
      "68/68 [==============================] - 12s 95ms/step - loss: 0.0053 - val_loss: 0.0018\n",
      "Epoch 2/10\n",
      "68/68 [==============================] - 5s 80ms/step - loss: 0.0010 - val_loss: 0.0011\n",
      "Epoch 3/10\n",
      "68/68 [==============================] - 5s 78ms/step - loss: 8.4257e-04 - val_loss: 7.5685e-04\n",
      "Epoch 4/10\n",
      "68/68 [==============================] - 5s 77ms/step - loss: 8.0695e-04 - val_loss: 4.5852e-04\n",
      "Epoch 5/10\n",
      "68/68 [==============================] - 5s 76ms/step - loss: 7.1518e-04 - val_loss: 0.0011\n",
      "Epoch 6/10\n",
      "68/68 [==============================] - 5s 75ms/step - loss: 7.3619e-04 - val_loss: 5.4746e-04\n",
      "Epoch 7/10\n",
      "68/68 [==============================] - 5s 76ms/step - loss: 5.9621e-04 - val_loss: 3.9535e-04\n",
      "Epoch 8/10\n",
      "68/68 [==============================] - 5s 78ms/step - loss: 6.1163e-04 - val_loss: 3.7838e-04\n",
      "Epoch 9/10\n",
      "68/68 [==============================] - 5s 77ms/step - loss: 5.6952e-04 - val_loss: 5.1349e-04\n",
      "Epoch 10/10\n",
      "68/68 [==============================] - 5s 75ms/step - loss: 5.1633e-04 - val_loss: 6.5691e-04\n",
      "✅ Saved model to PSX_gru_model.h5\n",
      "\n",
      "📈 Downloading data for PNW...\n"
     ]
    },
    {
     "name": "stderr",
     "output_type": "stream",
     "text": [
      "[*********************100%***********************]  1 of 1 completed\n"
     ]
    },
    {
     "name": "stdout",
     "output_type": "stream",
     "text": [
      "Training shape for PNW - X_train: (2571, 100, 1), X_test: (1102, 100, 1)\n",
      "Epoch 1/10\n",
      "81/81 [==============================] - 13s 93ms/step - loss: 0.0108 - val_loss: 7.0178e-04\n",
      "Epoch 2/10\n",
      "81/81 [==============================] - 6s 80ms/step - loss: 0.0021 - val_loss: 4.4350e-04\n",
      "Epoch 3/10\n",
      "81/81 [==============================] - 6s 78ms/step - loss: 0.0019 - val_loss: 5.4310e-04\n",
      "Epoch 4/10\n",
      "81/81 [==============================] - 6s 75ms/step - loss: 0.0018 - val_loss: 3.7943e-04\n",
      "Epoch 5/10\n",
      "81/81 [==============================] - 6s 75ms/step - loss: 0.0015 - val_loss: 4.3713e-04\n",
      "Epoch 6/10\n",
      "81/81 [==============================] - 6s 75ms/step - loss: 0.0015 - val_loss: 6.1652e-04\n",
      "Epoch 7/10\n",
      "81/81 [==============================] - 6s 75ms/step - loss: 0.0014 - val_loss: 5.1227e-04\n",
      "Epoch 8/10\n",
      "81/81 [==============================] - 6s 76ms/step - loss: 0.0013 - val_loss: 4.4500e-04\n",
      "Epoch 9/10\n",
      "81/81 [==============================] - 6s 75ms/step - loss: 0.0013 - val_loss: 5.6534e-04\n",
      "Epoch 10/10\n",
      "81/81 [==============================] - 6s 76ms/step - loss: 0.0012 - val_loss: 5.0579e-04\n",
      "✅ Saved model to PNW_gru_model.h5\n",
      "\n",
      "📈 Downloading data for PNC...\n"
     ]
    },
    {
     "name": "stderr",
     "output_type": "stream",
     "text": [
      "[*********************100%***********************]  1 of 1 completed\n"
     ]
    },
    {
     "name": "stdout",
     "output_type": "stream",
     "text": [
      "Training shape for PNC - X_train: (2571, 100, 1), X_test: (1102, 100, 1)\n",
      "Epoch 1/10\n",
      "81/81 [==============================] - 13s 92ms/step - loss: 0.0054 - val_loss: 8.4543e-04\n",
      "Epoch 2/10\n",
      "81/81 [==============================] - 6s 76ms/step - loss: 9.3975e-04 - val_loss: 4.6181e-04\n",
      "Epoch 3/10\n",
      "81/81 [==============================] - 6s 78ms/step - loss: 7.9594e-04 - val_loss: 4.7613e-04\n",
      "Epoch 4/10\n",
      "81/81 [==============================] - 6s 75ms/step - loss: 6.7014e-04 - val_loss: 4.9997e-04\n",
      "Epoch 5/10\n",
      "81/81 [==============================] - 6s 77ms/step - loss: 6.6565e-04 - val_loss: 4.3602e-04\n",
      "Epoch 6/10\n",
      "81/81 [==============================] - 6s 77ms/step - loss: 6.4321e-04 - val_loss: 9.6088e-04\n",
      "Epoch 7/10\n",
      "81/81 [==============================] - 7s 86ms/step - loss: 5.4288e-04 - val_loss: 6.2778e-04\n",
      "Epoch 8/10\n",
      "81/81 [==============================] - 7s 91ms/step - loss: 5.8667e-04 - val_loss: 8.7039e-04\n",
      "Epoch 9/10\n",
      "81/81 [==============================] - 7s 85ms/step - loss: 5.2148e-04 - val_loss: 3.9835e-04\n",
      "Epoch 10/10\n",
      "81/81 [==============================] - 7s 87ms/step - loss: 5.1162e-04 - val_loss: 5.5836e-04\n",
      "✅ Saved model to PNC_gru_model.h5\n",
      "\n",
      "📈 Downloading data for POOL...\n"
     ]
    },
    {
     "name": "stderr",
     "output_type": "stream",
     "text": [
      "[*********************100%***********************]  1 of 1 completed\n"
     ]
    },
    {
     "name": "stdout",
     "output_type": "stream",
     "text": [
      "Training shape for POOL - X_train: (2571, 100, 1), X_test: (1102, 100, 1)\n",
      "Epoch 1/10\n",
      "81/81 [==============================] - 17s 116ms/step - loss: 0.0018 - val_loss: 5.1690e-04\n",
      "Epoch 2/10\n",
      "81/81 [==============================] - 8s 93ms/step - loss: 2.8943e-04 - val_loss: 9.4551e-04\n",
      "Epoch 3/10\n",
      "81/81 [==============================] - 7s 87ms/step - loss: 2.9998e-04 - val_loss: 4.5869e-04\n",
      "Epoch 4/10\n",
      "81/81 [==============================] - 7s 87ms/step - loss: 2.4534e-04 - val_loss: 4.4594e-04\n",
      "Epoch 5/10\n",
      "81/81 [==============================] - 8s 94ms/step - loss: 2.7039e-04 - val_loss: 0.0012\n",
      "Epoch 6/10\n",
      "81/81 [==============================] - 7s 85ms/step - loss: 2.0299e-04 - val_loss: 4.8716e-04\n",
      "Epoch 7/10\n",
      "81/81 [==============================] - 7s 84ms/step - loss: 2.1046e-04 - val_loss: 4.6823e-04\n",
      "Epoch 8/10\n",
      "81/81 [==============================] - 7s 84ms/step - loss: 1.7318e-04 - val_loss: 4.3428e-04\n",
      "Epoch 9/10\n",
      "81/81 [==============================] - 7s 84ms/step - loss: 2.0015e-04 - val_loss: 0.0010\n",
      "Epoch 10/10\n",
      "81/81 [==============================] - 7s 85ms/step - loss: 1.9272e-04 - val_loss: 0.0019\n",
      "✅ Saved model to POOL_gru_model.h5\n",
      "\n",
      "📈 Downloading data for PPG...\n"
     ]
    },
    {
     "name": "stderr",
     "output_type": "stream",
     "text": [
      "[*********************100%***********************]  1 of 1 completed\n"
     ]
    },
    {
     "name": "stdout",
     "output_type": "stream",
     "text": [
      "Training shape for PPG - X_train: (2571, 100, 1), X_test: (1102, 100, 1)\n",
      "Epoch 1/10\n",
      "81/81 [==============================] - 16s 102ms/step - loss: 0.0126 - val_loss: 5.8438e-04\n",
      "Epoch 2/10\n",
      "81/81 [==============================] - 7s 88ms/step - loss: 0.0018 - val_loss: 8.8527e-04\n",
      "Epoch 3/10\n",
      "81/81 [==============================] - 7s 88ms/step - loss: 0.0014 - val_loss: 5.1858e-04\n",
      "Epoch 4/10\n",
      "81/81 [==============================] - 7s 86ms/step - loss: 0.0014 - val_loss: 0.0010\n",
      "Epoch 5/10\n",
      "81/81 [==============================] - 7s 86ms/step - loss: 0.0014 - val_loss: 6.0495e-04\n",
      "Epoch 6/10\n",
      "81/81 [==============================] - 7s 83ms/step - loss: 0.0012 - val_loss: 5.7469e-04\n",
      "Epoch 7/10\n",
      "81/81 [==============================] - 7s 84ms/step - loss: 0.0011 - val_loss: 0.0012\n",
      "Epoch 8/10\n",
      "81/81 [==============================] - 7s 86ms/step - loss: 0.0011 - val_loss: 8.1623e-04\n",
      "Epoch 9/10\n",
      "81/81 [==============================] - 7s 84ms/step - loss: 0.0011 - val_loss: 5.1025e-04\n",
      "Epoch 10/10\n",
      "81/81 [==============================] - 7s 88ms/step - loss: 0.0010 - val_loss: 0.0010\n",
      "✅ Saved model to PPG_gru_model.h5\n",
      "\n",
      "📈 Downloading data for PPL...\n"
     ]
    },
    {
     "name": "stderr",
     "output_type": "stream",
     "text": [
      "[*********************100%***********************]  1 of 1 completed\n"
     ]
    },
    {
     "name": "stdout",
     "output_type": "stream",
     "text": [
      "Training shape for PPL - X_train: (2571, 100, 1), X_test: (1102, 100, 1)\n",
      "Epoch 1/10\n",
      "81/81 [==============================] - 16s 105ms/step - loss: 0.0181 - val_loss: 7.5098e-04\n",
      "Epoch 2/10\n",
      "81/81 [==============================] - 7s 87ms/step - loss: 0.0022 - val_loss: 7.6096e-04\n",
      "Epoch 3/10\n",
      "81/81 [==============================] - 7s 86ms/step - loss: 0.0020 - val_loss: 0.0013\n",
      "Epoch 4/10\n",
      "81/81 [==============================] - 7s 90ms/step - loss: 0.0018 - val_loss: 4.7740e-04\n",
      "Epoch 5/10\n",
      "81/81 [==============================] - 7s 87ms/step - loss: 0.0017 - val_loss: 4.9337e-04\n",
      "Epoch 6/10\n",
      "81/81 [==============================] - 7s 87ms/step - loss: 0.0015 - val_loss: 4.1367e-04\n",
      "Epoch 7/10\n",
      "81/81 [==============================] - 7s 86ms/step - loss: 0.0014 - val_loss: 8.0968e-04\n",
      "Epoch 8/10\n",
      "81/81 [==============================] - 7s 87ms/step - loss: 0.0014 - val_loss: 3.9544e-04\n",
      "Epoch 9/10\n",
      "81/81 [==============================] - 7s 86ms/step - loss: 0.0013 - val_loss: 3.8528e-04\n",
      "Epoch 10/10\n",
      "81/81 [==============================] - 7s 85ms/step - loss: 0.0013 - val_loss: 3.9054e-04\n",
      "✅ Saved model to PPL_gru_model.h5\n",
      "\n",
      "📈 Downloading data for PFG...\n"
     ]
    },
    {
     "name": "stderr",
     "output_type": "stream",
     "text": [
      "[*********************100%***********************]  1 of 1 completed\n"
     ]
    },
    {
     "name": "stdout",
     "output_type": "stream",
     "text": [
      "Training shape for PFG - X_train: (2571, 100, 1), X_test: (1102, 100, 1)\n",
      "Epoch 1/10\n",
      "81/81 [==============================] - 16s 106ms/step - loss: 0.0070 - val_loss: 6.9977e-04\n",
      "Epoch 2/10\n",
      "81/81 [==============================] - 7s 87ms/step - loss: 0.0010 - val_loss: 6.5766e-04\n",
      "Epoch 3/10\n",
      "81/81 [==============================] - 7s 89ms/step - loss: 9.8164e-04 - val_loss: 6.6661e-04\n",
      "Epoch 4/10\n",
      "81/81 [==============================] - 8s 98ms/step - loss: 8.0414e-04 - val_loss: 5.7074e-04\n",
      "Epoch 5/10\n",
      "81/81 [==============================] - 8s 98ms/step - loss: 7.5028e-04 - val_loss: 6.0031e-04\n",
      "Epoch 6/10\n",
      "81/81 [==============================] - 9s 107ms/step - loss: 6.8346e-04 - val_loss: 8.7080e-04\n",
      "Epoch 7/10\n",
      "81/81 [==============================] - 8s 94ms/step - loss: 6.9627e-04 - val_loss: 4.9980e-04\n",
      "Epoch 8/10\n",
      "81/81 [==============================] - 6s 77ms/step - loss: 6.5564e-04 - val_loss: 7.5348e-04\n",
      "Epoch 9/10\n",
      "81/81 [==============================] - 6s 77ms/step - loss: 6.1892e-04 - val_loss: 0.0016\n",
      "Epoch 10/10\n",
      "81/81 [==============================] - 6s 77ms/step - loss: 5.6123e-04 - val_loss: 4.8681e-04\n",
      "✅ Saved model to PFG_gru_model.h5\n",
      "\n",
      "📈 Downloading data for PG...\n"
     ]
    },
    {
     "name": "stderr",
     "output_type": "stream",
     "text": [
      "[*********************100%***********************]  1 of 1 completed\n"
     ]
    },
    {
     "name": "stdout",
     "output_type": "stream",
     "text": [
      "Training shape for PG - X_train: (2571, 100, 1), X_test: (1102, 100, 1)\n",
      "Epoch 1/10\n",
      "81/81 [==============================] - 13s 93ms/step - loss: 0.0040 - val_loss: 6.1657e-04\n",
      "Epoch 2/10\n",
      "81/81 [==============================] - 6s 78ms/step - loss: 6.2438e-04 - val_loss: 2.7854e-04\n",
      "Epoch 3/10\n",
      "81/81 [==============================] - 6s 78ms/step - loss: 5.1021e-04 - val_loss: 3.6917e-04\n",
      "Epoch 4/10\n",
      "81/81 [==============================] - 6s 75ms/step - loss: 5.1022e-04 - val_loss: 5.2593e-04\n",
      "Epoch 5/10\n",
      "81/81 [==============================] - 7s 86ms/step - loss: 4.4359e-04 - val_loss: 0.0014\n",
      "Epoch 6/10\n",
      "81/81 [==============================] - 8s 99ms/step - loss: 4.6635e-04 - val_loss: 4.9779e-04\n",
      "Epoch 7/10\n",
      "81/81 [==============================] - 8s 103ms/step - loss: 4.3132e-04 - val_loss: 5.9080e-04\n",
      "Epoch 8/10\n",
      "81/81 [==============================] - 9s 112ms/step - loss: 3.6177e-04 - val_loss: 9.7767e-04\n",
      "Epoch 9/10\n",
      "81/81 [==============================] - 8s 96ms/step - loss: 3.3457e-04 - val_loss: 3.2431e-04\n",
      "Epoch 10/10\n",
      "81/81 [==============================] - 8s 98ms/step - loss: 3.1226e-04 - val_loss: 4.0428e-04\n",
      "✅ Saved model to PG_gru_model.h5\n",
      "\n",
      "📈 Downloading data for PGR...\n"
     ]
    },
    {
     "name": "stderr",
     "output_type": "stream",
     "text": [
      "[*********************100%***********************]  1 of 1 completed\n"
     ]
    },
    {
     "name": "stdout",
     "output_type": "stream",
     "text": [
      "Training shape for PGR - X_train: (2571, 100, 1), X_test: (1102, 100, 1)\n",
      "Epoch 1/10\n",
      "81/81 [==============================] - 13s 92ms/step - loss: 8.0032e-04 - val_loss: 5.0785e-04\n",
      "Epoch 2/10\n",
      "81/81 [==============================] - 6s 78ms/step - loss: 1.6300e-04 - val_loss: 4.0695e-04\n",
      "Epoch 3/10\n",
      "81/81 [==============================] - 6s 76ms/step - loss: 1.4335e-04 - val_loss: 2.9905e-04\n",
      "Epoch 4/10\n",
      "81/81 [==============================] - 6s 77ms/step - loss: 1.2680e-04 - val_loss: 1.7220e-04\n",
      "Epoch 5/10\n",
      "81/81 [==============================] - 6s 76ms/step - loss: 1.1287e-04 - val_loss: 2.4332e-04\n",
      "Epoch 6/10\n",
      "81/81 [==============================] - 6s 77ms/step - loss: 1.0962e-04 - val_loss: 1.6029e-04\n",
      "Epoch 7/10\n",
      "81/81 [==============================] - 6s 76ms/step - loss: 1.0171e-04 - val_loss: 2.2522e-04\n",
      "Epoch 8/10\n",
      "81/81 [==============================] - 7s 90ms/step - loss: 8.6980e-05 - val_loss: 1.4733e-04\n",
      "Epoch 9/10\n",
      "81/81 [==============================] - 8s 95ms/step - loss: 7.8307e-05 - val_loss: 1.6237e-04\n",
      "Epoch 10/10\n",
      "81/81 [==============================] - 8s 97ms/step - loss: 1.0024e-04 - val_loss: 3.2817e-04\n",
      "✅ Saved model to PGR_gru_model.h5\n",
      "\n",
      "📈 Downloading data for PLD...\n"
     ]
    },
    {
     "name": "stderr",
     "output_type": "stream",
     "text": [
      "[*********************100%***********************]  1 of 1 completed\n"
     ]
    },
    {
     "name": "stdout",
     "output_type": "stream",
     "text": [
      "Training shape for PLD - X_train: (2571, 100, 1), X_test: (1102, 100, 1)\n",
      "Epoch 1/10\n",
      "81/81 [==============================] - 13s 97ms/step - loss: 0.0033 - val_loss: 8.6545e-04\n",
      "Epoch 2/10\n",
      "81/81 [==============================] - 6s 80ms/step - loss: 5.5603e-04 - val_loss: 5.0574e-04\n",
      "Epoch 3/10\n",
      "81/81 [==============================] - 6s 80ms/step - loss: 4.6326e-04 - val_loss: 4.1748e-04\n",
      "Epoch 4/10\n",
      "81/81 [==============================] - 7s 81ms/step - loss: 4.2644e-04 - val_loss: 5.6167e-04\n",
      "Epoch 5/10\n",
      "81/81 [==============================] - 6s 79ms/step - loss: 3.9535e-04 - val_loss: 7.3669e-04\n",
      "Epoch 6/10\n",
      "81/81 [==============================] - 6s 80ms/step - loss: 3.5378e-04 - val_loss: 5.5556e-04\n",
      "Epoch 7/10\n",
      "81/81 [==============================] - 7s 85ms/step - loss: 3.5169e-04 - val_loss: 8.0171e-04\n",
      "Epoch 8/10\n",
      "81/81 [==============================] - 8s 97ms/step - loss: 3.0960e-04 - val_loss: 3.6720e-04\n",
      "Epoch 9/10\n",
      "81/81 [==============================] - 8s 104ms/step - loss: 3.1831e-04 - val_loss: 3.8955e-04\n",
      "Epoch 10/10\n",
      "20/81 [======>.......................] - ETA: 3s - loss: 3.2556e-04"
     ]
    }
   ],
   "source": [
    "import numpy as np\n",
    "import pandas as pd\n",
    "import yfinance as yf\n",
    "from sklearn.preprocessing import MinMaxScaler\n",
    "from tensorflow.keras.models import Sequential\n",
    "from tensorflow.keras.layers import Dense, GRU, Dropout\n",
    "from tensorflow.keras.callbacks import EarlyStopping\n",
    "import warnings\n",
    "warnings.filterwarnings(\"ignore\")\n",
    "\n",
    "\n",
    "start = '2010-01-01'\n",
    "end = '2024-12-31'\n",
    "window_size = 100\n",
    "split_ratio = 0.7\n",
    "url = 'https://en.wikipedia.org/wiki/List_of_S%26P_500_companies'\n",
    "table = pd.read_html(url)\n",
    "sp500_df = table[0]\n",
    "tickers = sp500_df['Symbol'].tolist()\n",
    "\n",
    "for ticker in tickers:\n",
    "    print(f\"\\n📈 Downloading data for {ticker}...\")\n",
    "    df = yf.download(ticker, start=start, end=end)\n",
    "\n",
    "    if df.empty or 'Close' not in df.columns or len(df) < window_size + 1:\n",
    "        print(f\"Skipping {ticker} due to insufficient data.\")\n",
    "        continue\n",
    "\n",
    "    df.sort_index(inplace=True)\n",
    "    close_prices = df['Close'].values.reshape(-1, 1)\n",
    "    scaler = MinMaxScaler(feature_range=(0, 1))\n",
    "    scaled_data = scaler.fit_transform(close_prices)\n",
    "\n",
    "    X, y = [], []\n",
    "    for i in range(window_size, len(scaled_data)):\n",
    "        X.append(scaled_data[i - window_size:i, 0])\n",
    "        y.append(scaled_data[i, 0])\n",
    "\n",
    "    X = np.array(X)\n",
    "    y = np.array(y)\n",
    "    X = np.reshape(X, (X.shape[0], X.shape[1], 1))\n",
    "\n",
    "    train_size = int(len(X) * split_ratio)\n",
    "    X_train, X_test = X[:train_size], X[train_size:]\n",
    "    y_train, y_test = y[:train_size], y[train_size:]\n",
    "\n",
    "    print(f\"Training shape for {ticker} - X_train: {X_train.shape}, X_test: {X_test.shape}\")\n",
    "\n",
    "    model = Sequential([\n",
    "        GRU(units=50, return_sequences=True, input_shape=(window_size, 1)),\n",
    "        Dropout(0.2),\n",
    "        GRU(units=50),\n",
    "        Dropout(0.2),\n",
    "        Dense(units=1)\n",
    "    ])\n",
    "\n",
    "    model.compile(optimizer='adam', loss='mean_squared_error')\n",
    "    early_stop = EarlyStopping(monitor='val_loss', patience=10, restore_best_weights=True)\n",
    "\n",
    "    model.fit(\n",
    "        X_train, y_train,\n",
    "        epochs=10,\n",
    "        batch_size=32,\n",
    "        validation_data=(X_test, y_test),\n",
    "        callbacks=[early_stop],\n",
    "        verbose=1\n",
    "    )\n",
    "\n",
    "    model_path = f\"{ticker}_gru_model.h5\"\n",
    "    model.save(model_path)\n",
    "    print(f\"✅ Saved model to {model_path}\")\n",
    "\n",
    "print(\"\\n✅ All models trained and saved.\")\n"
   ]
  }
 ],
 "metadata": {
  "kernelspec": {
   "display_name": "Python 3",
   "language": "python",
   "name": "python3"
  },
  "language_info": {
   "codemirror_mode": {
    "name": "ipython",
    "version": 3
   },
   "file_extension": ".py",
   "mimetype": "text/x-python",
   "name": "python",
   "nbconvert_exporter": "python",
   "pygments_lexer": "ipython3",
   "version": "3.10.5"
  }
 },
 "nbformat": 4,
 "nbformat_minor": 2
}
